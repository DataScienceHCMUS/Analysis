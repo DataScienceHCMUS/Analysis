{
 "cells": [
  {
   "cell_type": "markdown",
   "source": [
    "# House Prices Advanced Regression Techniques 2\n",
    "\n",
    "This is the next part of \"House Price.ipynb\" where  will try alternative methods to predict the house prices."
   ],
   "metadata": {
    "collapsed": false
   }
  },
  {
   "cell_type": "markdown",
   "source": [
    "## Rounding to 50\n",
    "\n",
    "If we look at the SalePrice of train set, we can see most of them are dividend to 50. So we will change the post-process a little bit."
   ],
   "metadata": {
    "collapsed": false
   }
  },
  {
   "cell_type": "code",
   "execution_count": 1,
   "outputs": [],
   "source": [
    "%matplotlib inline\n",
    "import warnings\n",
    "\n",
    "import numpy as np\n",
    "import pandas as pd\n",
    "import seaborn as sns\n",
    "\n",
    "warnings.filterwarnings('ignore')"
   ],
   "metadata": {
    "collapsed": false,
    "ExecuteTime": {
     "start_time": "2023-04-14T16:28:51.929068Z",
     "end_time": "2023-04-14T16:28:52.288585Z"
    }
   }
  },
  {
   "cell_type": "code",
   "execution_count": 2,
   "outputs": [
    {
     "name": "stdout",
     "output_type": "stream",
     "text": [
      "93.22% of the SalePrice are dividend to 50.\n"
     ]
    }
   ],
   "source": [
    "df_train = pd.read_csv('../input/house-prices-advanced-regression-techniques/train.csv')\n",
    "\n",
    "df_dividend_50 = df_train.loc[df_train['SalePrice'] % 50 == 0]\n",
    "percentage = len(df_dividend_50) / len(df_train)\n",
    "print(f'{percentage:.2%} of the SalePrice are dividend to 50.')"
   ],
   "metadata": {
    "collapsed": false,
    "ExecuteTime": {
     "start_time": "2023-04-14T16:28:52.029729Z",
     "end_time": "2023-04-14T16:28:52.289586Z"
    }
   }
  },
  {
   "cell_type": "markdown",
   "source": [
    "That's a lot. We expect test set would be like so."
   ],
   "metadata": {
    "collapsed": false
   }
  },
  {
   "cell_type": "code",
   "execution_count": 3,
   "outputs": [],
   "source": [
    "\n",
    "from sklearn.linear_model import Lasso\n",
    "from sklearn.ensemble import VotingRegressor\n",
    "from sklearn.kernel_ridge import KernelRidge\n",
    "from lightgbm import LGBMRegressor"
   ],
   "metadata": {
    "collapsed": false,
    "ExecuteTime": {
     "start_time": "2023-04-14T16:28:52.114281Z",
     "end_time": "2023-04-14T16:28:54.312359Z"
    }
   }
  },
  {
   "cell_type": "code",
   "execution_count": 4,
   "outputs": [],
   "source": [
    "df_train['SalePriceLog1p'] = np.log1p(df_train['SalePrice'])"
   ],
   "metadata": {
    "collapsed": false,
    "ExecuteTime": {
     "start_time": "2023-04-14T16:28:54.292512Z",
     "end_time": "2023-04-14T16:28:54.439557Z"
    }
   }
  },
  {
   "cell_type": "markdown",
   "source": [
    "The best params are taken from \"House Price.ipynb\"."
   ],
   "metadata": {
    "collapsed": false
   }
  },
  {
   "cell_type": "code",
   "execution_count": 5,
   "outputs": [],
   "source": [
    "kernel_ridge = KernelRidge(**{'alpha': 0.001, 'gamma': 0.001, 'kernel': 'rbf'})\n",
    "lasso = Lasso(random_state=0, **{'alpha': 0.0001})\n",
    "lightgbm = LGBMRegressor(random_state=0, **{'learning_rate': 0.1, 'max_depth': 5, 'n_estimators': 100})\n",
    "\n",
    "voting_regressor = VotingRegressor(\n",
    "    estimators=[\n",
    "        ('kernel_ridge', kernel_ridge),\n",
    "        ('lasso', lasso),\n",
    "        ('lightgbm', lightgbm),\n",
    "    ],\n",
    "    n_jobs=-1,\n",
    "    verbose=1\n",
    ")"
   ],
   "metadata": {
    "collapsed": false,
    "ExecuteTime": {
     "start_time": "2023-04-14T16:28:54.342357Z",
     "end_time": "2023-04-14T16:28:54.463632Z"
    }
   }
  },
  {
   "cell_type": "code",
   "execution_count": 6,
   "outputs": [],
   "source": [
    "from sklearn.pipeline import make_pipeline\n",
    "from sklearn.impute import SimpleImputer\n",
    "from sklearn.preprocessing import FunctionTransformer\n",
    "from scipy import stats"
   ],
   "metadata": {
    "collapsed": false,
    "ExecuteTime": {
     "start_time": "2023-04-14T16:28:54.358561Z",
     "end_time": "2023-04-14T16:28:54.464631Z"
    }
   }
  },
  {
   "cell_type": "code",
   "execution_count": 7,
   "outputs": [],
   "source": [
    "high_correlated_with_sale_price = ['OverallQual', 'GrLivArea', 'GarageCars', 'TotalBsmtSF', 'FullBath', 'TotRmsAbvGrd',\n",
    "                                   'AgeBuilt', 'AgeRemodAdd']\n",
    "\n",
    "tobe_normalized_cols = high_correlated_with_sale_price.copy()\n",
    "\n",
    "selected_columns = ['NormalizedOverallQual', 'NormalizedGrLivArea', 'NormalizedGarageCars', 'NormalizedTotalBsmtSF',\n",
    "                    'NormalizedFullBath', 'NormalizedTotRmsAbvGrd', 'NormalizedAgeBuilt', 'NormalizedAgeRemodAdd',\n",
    "                    'Neighborhood_Blmngtn', 'Neighborhood_Blueste', 'Neighborhood_BrDale', 'Neighborhood_BrkSide',\n",
    "                    'Neighborhood_ClearCr', 'Neighborhood_CollgCr', 'Neighborhood_Crawfor', 'Neighborhood_Edwards',\n",
    "                    'Neighborhood_Gilbert', 'Neighborhood_IDOTRR', 'Neighborhood_MeadowV', 'Neighborhood_Mitchel',\n",
    "                    'Neighborhood_NAmes', 'Neighborhood_NPkVill', 'Neighborhood_NWAmes', 'Neighborhood_NoRidge',\n",
    "                    'Neighborhood_NridgHt', 'Neighborhood_OldTown', 'Neighborhood_SWISU', 'Neighborhood_Sawyer',\n",
    "                    'Neighborhood_SawyerW', 'Neighborhood_Somerst', 'Neighborhood_StoneBr', 'Neighborhood_Timber',\n",
    "                    'Neighborhood_Veenker']"
   ],
   "metadata": {
    "collapsed": false,
    "ExecuteTime": {
     "start_time": "2023-04-14T16:28:54.407553Z",
     "end_time": "2023-04-14T16:28:54.464631Z"
    }
   }
  },
  {
   "cell_type": "markdown",
   "source": [
    "The whole process is similar to part 1 except the post-process."
   ],
   "metadata": {
    "collapsed": false
   }
  },
  {
   "cell_type": "code",
   "execution_count": 8,
   "outputs": [],
   "source": [
    "def fill_missing(df: pd.DataFrame):\n",
    "    continuous_imputer = SimpleImputer(strategy='median')\n",
    "    discrete_imputer = SimpleImputer(strategy='most_frequent')\n",
    "\n",
    "    continuous_columns_ = df.select_dtypes(include=['float64', 'int64']).columns\n",
    "    discrete_columns_ = df.select_dtypes(include=['object']).columns\n",
    "\n",
    "    df[continuous_columns_] = continuous_imputer.fit_transform(df[continuous_columns_])\n",
    "    df[discrete_columns_] = discrete_imputer.fit_transform(df[discrete_columns_])\n",
    "\n",
    "    return df\n",
    "\n",
    "def year_to_age(df: pd.DataFrame):\n",
    "    df['AgeBuilt'] = 2016 - df['YearBuilt']\n",
    "    df['AgeRemodAdd'] = 2016 - df['YearRemodAdd']\n",
    "    return df\n",
    "\n",
    "def normalize_continuous_data(df: pd.DataFrame):\n",
    "    for c in tobe_normalized_cols:\n",
    "        df[c] = pd.to_numeric(df[c], errors='coerce')\n",
    "        df[f'Normalized{c}'] = stats.boxcox(df[c], lmbda=0.2)\n",
    "\n",
    "    return df\n",
    "\n",
    "def encode_discrete_data(df: pd.DataFrame):\n",
    "    if 'Neighborhood' in df.columns:\n",
    "        df = pd.get_dummies(df, columns=['Neighborhood'])\n",
    "    else:\n",
    "        print('Neighborhood not found')\n",
    "    return df\n",
    "\n",
    "def select_features(df: pd.DataFrame):\n",
    "    for c in selected_columns:\n",
    "        df[c] = pd.to_numeric(df[c], errors='coerce')\n",
    "    return df[selected_columns]\n",
    "\n",
    "def inverse_log_transform(sale_price_log1p: pd.Series) ->  pd.Series:\n",
    "    return np.expm1(sale_price_log1p)\n",
    "\n",
    "def round_nearest_50(sale_price: pd.Series) ->  pd.Series:\n",
    "    return (sale_price / 50).round() * 50"
   ],
   "metadata": {
    "collapsed": false,
    "ExecuteTime": {
     "start_time": "2023-04-14T16:28:54.441554Z",
     "end_time": "2023-04-14T16:28:54.465639Z"
    }
   }
  },
  {
   "cell_type": "code",
   "execution_count": 9,
   "outputs": [
    {
     "data": {
      "text/plain": "Pipeline(steps=[('pipeline-1',\n                 Pipeline(steps=[('functiontransformer-1',\n                                  FunctionTransformer(func=<function fill_missing at 0x000001FC0003A830>)),\n                                 ('functiontransformer-2',\n                                  FunctionTransformer(func=<function year_to_age at 0x000001FC0003AA70>)),\n                                 ('functiontransformer-3',\n                                  FunctionTransformer(func=<function normalize_continuous_data at 0x000001FC0003AB00>)),\n                                 ('funct...\n                                              Lasso(alpha=0.0001,\n                                                    random_state=0)),\n                                             ('lightgbm',\n                                              LGBMRegressor(max_depth=5,\n                                                            random_state=0))],\n                                 n_jobs=-1, verbose=1)),\n                ('pipeline-2',\n                 Pipeline(steps=[('functiontransformer-1',\n                                  FunctionTransformer(func=<function inverse_log_transform at 0x000001FC0003AE60>)),\n                                 ('functiontransformer-2',\n                                  FunctionTransformer(func=<function round_nearest_50 at 0x000001FC0003AEF0>))]))])",
      "text/html": "<style>#sk-container-id-1 {color: black;background-color: white;}#sk-container-id-1 pre{padding: 0;}#sk-container-id-1 div.sk-toggleable {background-color: white;}#sk-container-id-1 label.sk-toggleable__label {cursor: pointer;display: block;width: 100%;margin-bottom: 0;padding: 0.3em;box-sizing: border-box;text-align: center;}#sk-container-id-1 label.sk-toggleable__label-arrow:before {content: \"▸\";float: left;margin-right: 0.25em;color: #696969;}#sk-container-id-1 label.sk-toggleable__label-arrow:hover:before {color: black;}#sk-container-id-1 div.sk-estimator:hover label.sk-toggleable__label-arrow:before {color: black;}#sk-container-id-1 div.sk-toggleable__content {max-height: 0;max-width: 0;overflow: hidden;text-align: left;background-color: #f0f8ff;}#sk-container-id-1 div.sk-toggleable__content pre {margin: 0.2em;color: black;border-radius: 0.25em;background-color: #f0f8ff;}#sk-container-id-1 input.sk-toggleable__control:checked~div.sk-toggleable__content {max-height: 200px;max-width: 100%;overflow: auto;}#sk-container-id-1 input.sk-toggleable__control:checked~label.sk-toggleable__label-arrow:before {content: \"▾\";}#sk-container-id-1 div.sk-estimator input.sk-toggleable__control:checked~label.sk-toggleable__label {background-color: #d4ebff;}#sk-container-id-1 div.sk-label input.sk-toggleable__control:checked~label.sk-toggleable__label {background-color: #d4ebff;}#sk-container-id-1 input.sk-hidden--visually {border: 0;clip: rect(1px 1px 1px 1px);clip: rect(1px, 1px, 1px, 1px);height: 1px;margin: -1px;overflow: hidden;padding: 0;position: absolute;width: 1px;}#sk-container-id-1 div.sk-estimator {font-family: monospace;background-color: #f0f8ff;border: 1px dotted black;border-radius: 0.25em;box-sizing: border-box;margin-bottom: 0.5em;}#sk-container-id-1 div.sk-estimator:hover {background-color: #d4ebff;}#sk-container-id-1 div.sk-parallel-item::after {content: \"\";width: 100%;border-bottom: 1px solid gray;flex-grow: 1;}#sk-container-id-1 div.sk-label:hover label.sk-toggleable__label {background-color: #d4ebff;}#sk-container-id-1 div.sk-serial::before {content: \"\";position: absolute;border-left: 1px solid gray;box-sizing: border-box;top: 0;bottom: 0;left: 50%;z-index: 0;}#sk-container-id-1 div.sk-serial {display: flex;flex-direction: column;align-items: center;background-color: white;padding-right: 0.2em;padding-left: 0.2em;position: relative;}#sk-container-id-1 div.sk-item {position: relative;z-index: 1;}#sk-container-id-1 div.sk-parallel {display: flex;align-items: stretch;justify-content: center;background-color: white;position: relative;}#sk-container-id-1 div.sk-item::before, #sk-container-id-1 div.sk-parallel-item::before {content: \"\";position: absolute;border-left: 1px solid gray;box-sizing: border-box;top: 0;bottom: 0;left: 50%;z-index: -1;}#sk-container-id-1 div.sk-parallel-item {display: flex;flex-direction: column;z-index: 1;position: relative;background-color: white;}#sk-container-id-1 div.sk-parallel-item:first-child::after {align-self: flex-end;width: 50%;}#sk-container-id-1 div.sk-parallel-item:last-child::after {align-self: flex-start;width: 50%;}#sk-container-id-1 div.sk-parallel-item:only-child::after {width: 0;}#sk-container-id-1 div.sk-dashed-wrapped {border: 1px dashed gray;margin: 0 0.4em 0.5em 0.4em;box-sizing: border-box;padding-bottom: 0.4em;background-color: white;}#sk-container-id-1 div.sk-label label {font-family: monospace;font-weight: bold;display: inline-block;line-height: 1.2em;}#sk-container-id-1 div.sk-label-container {text-align: center;}#sk-container-id-1 div.sk-container {/* jupyter's `normalize.less` sets `[hidden] { display: none; }` but bootstrap.min.css set `[hidden] { display: none !important; }` so we also need the `!important` here to be able to override the default hidden behavior on the sphinx rendered scikit-learn.org. See: https://github.com/scikit-learn/scikit-learn/issues/21755 */display: inline-block !important;position: relative;}#sk-container-id-1 div.sk-text-repr-fallback {display: none;}</style><div id=\"sk-container-id-1\" class=\"sk-top-container\"><div class=\"sk-text-repr-fallback\"><pre>Pipeline(steps=[(&#x27;pipeline-1&#x27;,\n                 Pipeline(steps=[(&#x27;functiontransformer-1&#x27;,\n                                  FunctionTransformer(func=&lt;function fill_missing at 0x000001FC0003A830&gt;)),\n                                 (&#x27;functiontransformer-2&#x27;,\n                                  FunctionTransformer(func=&lt;function year_to_age at 0x000001FC0003AA70&gt;)),\n                                 (&#x27;functiontransformer-3&#x27;,\n                                  FunctionTransformer(func=&lt;function normalize_continuous_data at 0x000001FC0003AB00&gt;)),\n                                 (&#x27;funct...\n                                              Lasso(alpha=0.0001,\n                                                    random_state=0)),\n                                             (&#x27;lightgbm&#x27;,\n                                              LGBMRegressor(max_depth=5,\n                                                            random_state=0))],\n                                 n_jobs=-1, verbose=1)),\n                (&#x27;pipeline-2&#x27;,\n                 Pipeline(steps=[(&#x27;functiontransformer-1&#x27;,\n                                  FunctionTransformer(func=&lt;function inverse_log_transform at 0x000001FC0003AE60&gt;)),\n                                 (&#x27;functiontransformer-2&#x27;,\n                                  FunctionTransformer(func=&lt;function round_nearest_50 at 0x000001FC0003AEF0&gt;))]))])</pre><b>In a Jupyter environment, please rerun this cell to show the HTML representation or trust the notebook. <br />On GitHub, the HTML representation is unable to render, please try loading this page with nbviewer.org.</b></div><div class=\"sk-container\" hidden><div class=\"sk-item sk-dashed-wrapped\"><div class=\"sk-label-container\"><div class=\"sk-label sk-toggleable\"><input class=\"sk-toggleable__control sk-hidden--visually\" id=\"sk-estimator-id-1\" type=\"checkbox\" ><label for=\"sk-estimator-id-1\" class=\"sk-toggleable__label sk-toggleable__label-arrow\">Pipeline</label><div class=\"sk-toggleable__content\"><pre>Pipeline(steps=[(&#x27;pipeline-1&#x27;,\n                 Pipeline(steps=[(&#x27;functiontransformer-1&#x27;,\n                                  FunctionTransformer(func=&lt;function fill_missing at 0x000001FC0003A830&gt;)),\n                                 (&#x27;functiontransformer-2&#x27;,\n                                  FunctionTransformer(func=&lt;function year_to_age at 0x000001FC0003AA70&gt;)),\n                                 (&#x27;functiontransformer-3&#x27;,\n                                  FunctionTransformer(func=&lt;function normalize_continuous_data at 0x000001FC0003AB00&gt;)),\n                                 (&#x27;funct...\n                                              Lasso(alpha=0.0001,\n                                                    random_state=0)),\n                                             (&#x27;lightgbm&#x27;,\n                                              LGBMRegressor(max_depth=5,\n                                                            random_state=0))],\n                                 n_jobs=-1, verbose=1)),\n                (&#x27;pipeline-2&#x27;,\n                 Pipeline(steps=[(&#x27;functiontransformer-1&#x27;,\n                                  FunctionTransformer(func=&lt;function inverse_log_transform at 0x000001FC0003AE60&gt;)),\n                                 (&#x27;functiontransformer-2&#x27;,\n                                  FunctionTransformer(func=&lt;function round_nearest_50 at 0x000001FC0003AEF0&gt;))]))])</pre></div></div></div><div class=\"sk-serial\"><div class=\"sk-item\"><div class=\"sk-label-container\"><div class=\"sk-label sk-toggleable\"><input class=\"sk-toggleable__control sk-hidden--visually\" id=\"sk-estimator-id-2\" type=\"checkbox\" ><label for=\"sk-estimator-id-2\" class=\"sk-toggleable__label sk-toggleable__label-arrow\">pipeline-1: Pipeline</label><div class=\"sk-toggleable__content\"><pre>Pipeline(steps=[(&#x27;functiontransformer-1&#x27;,\n                 FunctionTransformer(func=&lt;function fill_missing at 0x000001FC0003A830&gt;)),\n                (&#x27;functiontransformer-2&#x27;,\n                 FunctionTransformer(func=&lt;function year_to_age at 0x000001FC0003AA70&gt;)),\n                (&#x27;functiontransformer-3&#x27;,\n                 FunctionTransformer(func=&lt;function normalize_continuous_data at 0x000001FC0003AB00&gt;)),\n                (&#x27;functiontransformer-4&#x27;,\n                 FunctionTransformer(func=&lt;function encode_discrete_data at 0x000001FC0003AD40&gt;)),\n                (&#x27;functiontransformer-5&#x27;,\n                 FunctionTransformer(func=&lt;function select_features at 0x000001FC0003ADD0&gt;))])</pre></div></div></div><div class=\"sk-serial\"><div class=\"sk-item\"><div class=\"sk-estimator sk-toggleable\"><input class=\"sk-toggleable__control sk-hidden--visually\" id=\"sk-estimator-id-3\" type=\"checkbox\" ><label for=\"sk-estimator-id-3\" class=\"sk-toggleable__label sk-toggleable__label-arrow\">FunctionTransformer</label><div class=\"sk-toggleable__content\"><pre>FunctionTransformer(func=&lt;function fill_missing at 0x000001FC0003A830&gt;)</pre></div></div></div><div class=\"sk-item\"><div class=\"sk-estimator sk-toggleable\"><input class=\"sk-toggleable__control sk-hidden--visually\" id=\"sk-estimator-id-4\" type=\"checkbox\" ><label for=\"sk-estimator-id-4\" class=\"sk-toggleable__label sk-toggleable__label-arrow\">FunctionTransformer</label><div class=\"sk-toggleable__content\"><pre>FunctionTransformer(func=&lt;function year_to_age at 0x000001FC0003AA70&gt;)</pre></div></div></div><div class=\"sk-item\"><div class=\"sk-estimator sk-toggleable\"><input class=\"sk-toggleable__control sk-hidden--visually\" id=\"sk-estimator-id-5\" type=\"checkbox\" ><label for=\"sk-estimator-id-5\" class=\"sk-toggleable__label sk-toggleable__label-arrow\">FunctionTransformer</label><div class=\"sk-toggleable__content\"><pre>FunctionTransformer(func=&lt;function normalize_continuous_data at 0x000001FC0003AB00&gt;)</pre></div></div></div><div class=\"sk-item\"><div class=\"sk-estimator sk-toggleable\"><input class=\"sk-toggleable__control sk-hidden--visually\" id=\"sk-estimator-id-6\" type=\"checkbox\" ><label for=\"sk-estimator-id-6\" class=\"sk-toggleable__label sk-toggleable__label-arrow\">FunctionTransformer</label><div class=\"sk-toggleable__content\"><pre>FunctionTransformer(func=&lt;function encode_discrete_data at 0x000001FC0003AD40&gt;)</pre></div></div></div><div class=\"sk-item\"><div class=\"sk-estimator sk-toggleable\"><input class=\"sk-toggleable__control sk-hidden--visually\" id=\"sk-estimator-id-7\" type=\"checkbox\" ><label for=\"sk-estimator-id-7\" class=\"sk-toggleable__label sk-toggleable__label-arrow\">FunctionTransformer</label><div class=\"sk-toggleable__content\"><pre>FunctionTransformer(func=&lt;function select_features at 0x000001FC0003ADD0&gt;)</pre></div></div></div></div></div><div class=\"sk-item sk-dashed-wrapped\"><div class=\"sk-label-container\"><div class=\"sk-label sk-toggleable\"><input class=\"sk-toggleable__control sk-hidden--visually\" id=\"sk-estimator-id-8\" type=\"checkbox\" ><label for=\"sk-estimator-id-8\" class=\"sk-toggleable__label sk-toggleable__label-arrow\">votingregressor: VotingRegressor</label><div class=\"sk-toggleable__content\"><pre>VotingRegressor(estimators=[(&#x27;kernel_ridge&#x27;,\n                             KernelRidge(alpha=0.001, gamma=0.001,\n                                         kernel=&#x27;rbf&#x27;)),\n                            (&#x27;lasso&#x27;, Lasso(alpha=0.0001, random_state=0)),\n                            (&#x27;lightgbm&#x27;,\n                             LGBMRegressor(max_depth=5, random_state=0))],\n                n_jobs=-1, verbose=1)</pre></div></div></div><div class=\"sk-parallel\"><div class=\"sk-parallel-item\"><div class=\"sk-item\"><div class=\"sk-label-container\"><div class=\"sk-label sk-toggleable\"><label>kernel_ridge</label></div></div><div class=\"sk-serial\"><div class=\"sk-item\"><div class=\"sk-estimator sk-toggleable\"><input class=\"sk-toggleable__control sk-hidden--visually\" id=\"sk-estimator-id-9\" type=\"checkbox\" ><label for=\"sk-estimator-id-9\" class=\"sk-toggleable__label sk-toggleable__label-arrow\">KernelRidge</label><div class=\"sk-toggleable__content\"><pre>KernelRidge(alpha=0.001, gamma=0.001, kernel=&#x27;rbf&#x27;)</pre></div></div></div></div></div></div><div class=\"sk-parallel-item\"><div class=\"sk-item\"><div class=\"sk-label-container\"><div class=\"sk-label sk-toggleable\"><label>lasso</label></div></div><div class=\"sk-serial\"><div class=\"sk-item\"><div class=\"sk-estimator sk-toggleable\"><input class=\"sk-toggleable__control sk-hidden--visually\" id=\"sk-estimator-id-10\" type=\"checkbox\" ><label for=\"sk-estimator-id-10\" class=\"sk-toggleable__label sk-toggleable__label-arrow\">Lasso</label><div class=\"sk-toggleable__content\"><pre>Lasso(alpha=0.0001, random_state=0)</pre></div></div></div></div></div></div><div class=\"sk-parallel-item\"><div class=\"sk-item\"><div class=\"sk-label-container\"><div class=\"sk-label sk-toggleable\"><label>lightgbm</label></div></div><div class=\"sk-serial\"><div class=\"sk-item\"><div class=\"sk-estimator sk-toggleable\"><input class=\"sk-toggleable__control sk-hidden--visually\" id=\"sk-estimator-id-11\" type=\"checkbox\" ><label for=\"sk-estimator-id-11\" class=\"sk-toggleable__label sk-toggleable__label-arrow\">LGBMRegressor</label><div class=\"sk-toggleable__content\"><pre>LGBMRegressor(max_depth=5, random_state=0)</pre></div></div></div></div></div></div></div></div><div class=\"sk-item\"><div class=\"sk-label-container\"><div class=\"sk-label sk-toggleable\"><input class=\"sk-toggleable__control sk-hidden--visually\" id=\"sk-estimator-id-12\" type=\"checkbox\" ><label for=\"sk-estimator-id-12\" class=\"sk-toggleable__label sk-toggleable__label-arrow\">pipeline-2: Pipeline</label><div class=\"sk-toggleable__content\"><pre>Pipeline(steps=[(&#x27;functiontransformer-1&#x27;,\n                 FunctionTransformer(func=&lt;function inverse_log_transform at 0x000001FC0003AE60&gt;)),\n                (&#x27;functiontransformer-2&#x27;,\n                 FunctionTransformer(func=&lt;function round_nearest_50 at 0x000001FC0003AEF0&gt;))])</pre></div></div></div><div class=\"sk-serial\"><div class=\"sk-item\"><div class=\"sk-estimator sk-toggleable\"><input class=\"sk-toggleable__control sk-hidden--visually\" id=\"sk-estimator-id-13\" type=\"checkbox\" ><label for=\"sk-estimator-id-13\" class=\"sk-toggleable__label sk-toggleable__label-arrow\">FunctionTransformer</label><div class=\"sk-toggleable__content\"><pre>FunctionTransformer(func=&lt;function inverse_log_transform at 0x000001FC0003AE60&gt;)</pre></div></div></div><div class=\"sk-item\"><div class=\"sk-estimator sk-toggleable\"><input class=\"sk-toggleable__control sk-hidden--visually\" id=\"sk-estimator-id-14\" type=\"checkbox\" ><label for=\"sk-estimator-id-14\" class=\"sk-toggleable__label sk-toggleable__label-arrow\">FunctionTransformer</label><div class=\"sk-toggleable__content\"><pre>FunctionTransformer(func=&lt;function round_nearest_50 at 0x000001FC0003AEF0&gt;)</pre></div></div></div></div></div></div></div></div></div>"
     },
     "execution_count": 9,
     "metadata": {},
     "output_type": "execute_result"
    }
   ],
   "source": [
    "preprocess_pipeline = make_pipeline(\n",
    "    FunctionTransformer(fill_missing, validate=False),\n",
    "    FunctionTransformer(year_to_age, validate=False),\n",
    "    FunctionTransformer(normalize_continuous_data, validate=False),\n",
    "    FunctionTransformer(encode_discrete_data, validate=False),\n",
    "    FunctionTransformer(select_features, validate=False),\n",
    ")\n",
    "\n",
    "postprocess_pipeline = make_pipeline(\n",
    "    FunctionTransformer(inverse_log_transform, validate=False),\n",
    "    FunctionTransformer(round_nearest_50, validate=False),\n",
    ")\n",
    "\n",
    "complete_pipeline = make_pipeline(\n",
    "    preprocess_pipeline,\n",
    "    voting_regressor,\n",
    "    postprocess_pipeline\n",
    ")\n",
    "\n",
    "complete_pipeline.fit(df_train, df_train['SalePriceLog1p'])"
   ],
   "metadata": {
    "collapsed": false,
    "ExecuteTime": {
     "start_time": "2023-04-14T16:28:54.466631Z",
     "end_time": "2023-04-14T16:29:00.361371Z"
    }
   }
  },
  {
   "cell_type": "markdown",
   "source": [
    "Read test set and predict."
   ],
   "metadata": {
    "collapsed": false
   }
  },
  {
   "cell_type": "code",
   "execution_count": 10,
   "outputs": [],
   "source": [
    "df_test = pd.read_csv('../input/house-prices-advanced-regression-techniques/test.csv')\n",
    "\n",
    "preprocess_test = preprocess_pipeline.transform(df_test)\n",
    "predictions = voting_regressor.predict(preprocess_test)\n",
    "post_predictions = postprocess_pipeline.transform(predictions)\n",
    "\n",
    "df_test['SalePrice'] = post_predictions"
   ],
   "metadata": {
    "collapsed": false,
    "ExecuteTime": {
     "start_time": "2023-04-14T16:29:00.367334Z",
     "end_time": "2023-04-14T16:29:00.515874Z"
    }
   }
  },
  {
   "cell_type": "code",
   "execution_count": 11,
   "outputs": [],
   "source": [
    "df_test['Id'] = df_test['Id'].astype(int)\n",
    "df_test[['Id', 'SalePrice']].to_csv('../input/house-prices-advanced-regression-techniques/submission/voting-regression-v2.1.csv', index=False)"
   ],
   "metadata": {
    "collapsed": false,
    "ExecuteTime": {
     "start_time": "2023-04-14T16:29:00.518874Z",
     "end_time": "2023-04-14T16:29:00.587388Z"
    }
   }
  },
  {
   "cell_type": "markdown",
   "source": [
    "### Score: 0.14878"
   ],
   "metadata": {
    "collapsed": false
   }
  },
  {
   "cell_type": "markdown",
   "source": [
    "## Try with Top 3 models\n",
    "\n",
    "This time, let's try Voting Regressor and Stack Regressor with top 3 models."
   ],
   "metadata": {
    "collapsed": false
   }
  },
  {
   "cell_type": "code",
   "execution_count": 12,
   "outputs": [],
   "source": [
    "from sklearn.model_selection import cross_val_score\n",
    "from sklearn.linear_model import Lasso, Ridge\n",
    "from sklearn.svm import SVR\n",
    "from sklearn.kernel_ridge import KernelRidge\n",
    "from xgboost import XGBRegressor\n",
    "from sklearn.ensemble import VotingRegressor, StackingRegressor"
   ],
   "metadata": {
    "collapsed": false,
    "ExecuteTime": {
     "start_time": "2023-04-14T16:29:00.569389Z",
     "end_time": "2023-04-14T16:29:00.736863Z"
    }
   }
  },
  {
   "cell_type": "code",
   "execution_count": 13,
   "outputs": [
    {
     "name": "stderr",
     "output_type": "stream",
     "text": [
      "[Parallel(n_jobs=-1)]: Using backend LokyBackend with 16 concurrent workers.\n"
     ]
    },
    {
     "name": "stdout",
     "output_type": "stream",
     "text": [
      "Voting Regressor Score: -0.1455864782289374\n"
     ]
    },
    {
     "name": "stderr",
     "output_type": "stream",
     "text": [
      "[Parallel(n_jobs=-1)]: Done   5 out of   5 | elapsed:    2.9s finished\n"
     ]
    }
   ],
   "source": [
    "kernel_ridge = KernelRidge(**{'alpha': 0.001, 'gamma': 0.001, 'kernel': 'rbf'})\n",
    "svr = SVR(**{'C': 100, 'epsilon': 0.1, 'kernel': 'rbf'})\n",
    "xgboost = XGBRegressor(random_state=0, **{'learning_rate': 0.1, 'max_depth': 5, 'n_estimators': 100})\n",
    "\n",
    "voting_regressor_v2 = VotingRegressor(\n",
    "    estimators=[\n",
    "        ('kernel_ridge', kernel_ridge),\n",
    "        ('svr', svr),\n",
    "        ('xgboost', xgboost)\n",
    "    ],\n",
    "    n_jobs=-1,\n",
    "    verbose=1\n",
    ")\n",
    "\n",
    "voting_regressor_score = cross_val_score(\n",
    "    voting_regressor_v2,\n",
    "    preprocess_pipeline.fit_transform(df_train),\n",
    "    df_train['SalePriceLog1p'],\n",
    "    cv=5,\n",
    "    scoring='neg_root_mean_squared_error',\n",
    "    n_jobs=-1,\n",
    "    verbose=1\n",
    ")\n",
    "\n",
    "print(f'Voting Regressor Score: {voting_regressor_score.mean()}')"
   ],
   "metadata": {
    "collapsed": false,
    "ExecuteTime": {
     "start_time": "2023-04-14T16:29:00.739862Z",
     "end_time": "2023-04-14T16:29:03.785505Z"
    }
   }
  },
  {
   "cell_type": "code",
   "execution_count": 14,
   "outputs": [
    {
     "name": "stderr",
     "output_type": "stream",
     "text": [
      "[Parallel(n_jobs=-1)]: Using backend LokyBackend with 16 concurrent workers.\n"
     ]
    },
    {
     "name": "stdout",
     "output_type": "stream",
     "text": [
      "Stack Regressor Score: -0.14564681848766386\n"
     ]
    },
    {
     "name": "stderr",
     "output_type": "stream",
     "text": [
      "[Parallel(n_jobs=-1)]: Done   5 out of   5 | elapsed:    3.6s finished\n"
     ]
    }
   ],
   "source": [
    "stack_regressor = StackingRegressor(\n",
    "    estimators=[\n",
    "        ('kernel_ridge', kernel_ridge),\n",
    "        ('svr', svr),\n",
    "        ('xgboost', xgboost)\n",
    "    ],\n",
    "    final_estimator=Ridge(),\n",
    "    n_jobs=-1,\n",
    "    verbose=1\n",
    ")\n",
    "\n",
    "stack_regressor_score = cross_val_score(\n",
    "    stack_regressor,\n",
    "    preprocess_pipeline.fit_transform(df_train),\n",
    "    df_train['SalePriceLog1p'],\n",
    "    cv=5,\n",
    "    scoring='neg_root_mean_squared_error',\n",
    "    n_jobs=-1,\n",
    "    verbose=1\n",
    ")\n",
    "\n",
    "print(f'Stack Regressor Score: {stack_regressor_score.mean()}')"
   ],
   "metadata": {
    "collapsed": false,
    "ExecuteTime": {
     "start_time": "2023-04-14T16:29:03.814509Z",
     "end_time": "2023-04-14T16:29:07.566664Z"
    }
   }
  },
  {
   "cell_type": "markdown",
   "source": [
    "They give nearly the same result. Let's predict by both of them."
   ],
   "metadata": {
    "collapsed": false
   }
  },
  {
   "cell_type": "code",
   "execution_count": 15,
   "outputs": [
    {
     "data": {
      "text/plain": "Pipeline(steps=[('pipeline-1',\n                 Pipeline(steps=[('functiontransformer-1',\n                                  FunctionTransformer(func=<function fill_missing at 0x000001FC0003A830>)),\n                                 ('functiontransformer-2',\n                                  FunctionTransformer(func=<function year_to_age at 0x000001FC0003AA70>)),\n                                 ('functiontransformer-3',\n                                  FunctionTransformer(func=<function normalize_continuous_data at 0x000001FC0003AB00>)),\n                                 ('funct...\n                                                           monotone_constraints=None,\n                                                           n_estimators=100,\n                                                           n_jobs=None,\n                                                           num_parallel_tree=None,\n                                                           predictor=None,\n                                                           random_state=0, ...))],\n                                 n_jobs=-1, verbose=1)),\n                ('pipeline-2',\n                 Pipeline(steps=[('functiontransformer-1',\n                                  FunctionTransformer(func=<function inverse_log_transform at 0x000001FC0003AE60>)),\n                                 ('functiontransformer-2',\n                                  FunctionTransformer(func=<function round_nearest_50 at 0x000001FC0003AEF0>))]))])",
      "text/html": "<style>#sk-container-id-2 {color: black;background-color: white;}#sk-container-id-2 pre{padding: 0;}#sk-container-id-2 div.sk-toggleable {background-color: white;}#sk-container-id-2 label.sk-toggleable__label {cursor: pointer;display: block;width: 100%;margin-bottom: 0;padding: 0.3em;box-sizing: border-box;text-align: center;}#sk-container-id-2 label.sk-toggleable__label-arrow:before {content: \"▸\";float: left;margin-right: 0.25em;color: #696969;}#sk-container-id-2 label.sk-toggleable__label-arrow:hover:before {color: black;}#sk-container-id-2 div.sk-estimator:hover label.sk-toggleable__label-arrow:before {color: black;}#sk-container-id-2 div.sk-toggleable__content {max-height: 0;max-width: 0;overflow: hidden;text-align: left;background-color: #f0f8ff;}#sk-container-id-2 div.sk-toggleable__content pre {margin: 0.2em;color: black;border-radius: 0.25em;background-color: #f0f8ff;}#sk-container-id-2 input.sk-toggleable__control:checked~div.sk-toggleable__content {max-height: 200px;max-width: 100%;overflow: auto;}#sk-container-id-2 input.sk-toggleable__control:checked~label.sk-toggleable__label-arrow:before {content: \"▾\";}#sk-container-id-2 div.sk-estimator input.sk-toggleable__control:checked~label.sk-toggleable__label {background-color: #d4ebff;}#sk-container-id-2 div.sk-label input.sk-toggleable__control:checked~label.sk-toggleable__label {background-color: #d4ebff;}#sk-container-id-2 input.sk-hidden--visually {border: 0;clip: rect(1px 1px 1px 1px);clip: rect(1px, 1px, 1px, 1px);height: 1px;margin: -1px;overflow: hidden;padding: 0;position: absolute;width: 1px;}#sk-container-id-2 div.sk-estimator {font-family: monospace;background-color: #f0f8ff;border: 1px dotted black;border-radius: 0.25em;box-sizing: border-box;margin-bottom: 0.5em;}#sk-container-id-2 div.sk-estimator:hover {background-color: #d4ebff;}#sk-container-id-2 div.sk-parallel-item::after {content: \"\";width: 100%;border-bottom: 1px solid gray;flex-grow: 1;}#sk-container-id-2 div.sk-label:hover label.sk-toggleable__label {background-color: #d4ebff;}#sk-container-id-2 div.sk-serial::before {content: \"\";position: absolute;border-left: 1px solid gray;box-sizing: border-box;top: 0;bottom: 0;left: 50%;z-index: 0;}#sk-container-id-2 div.sk-serial {display: flex;flex-direction: column;align-items: center;background-color: white;padding-right: 0.2em;padding-left: 0.2em;position: relative;}#sk-container-id-2 div.sk-item {position: relative;z-index: 1;}#sk-container-id-2 div.sk-parallel {display: flex;align-items: stretch;justify-content: center;background-color: white;position: relative;}#sk-container-id-2 div.sk-item::before, #sk-container-id-2 div.sk-parallel-item::before {content: \"\";position: absolute;border-left: 1px solid gray;box-sizing: border-box;top: 0;bottom: 0;left: 50%;z-index: -1;}#sk-container-id-2 div.sk-parallel-item {display: flex;flex-direction: column;z-index: 1;position: relative;background-color: white;}#sk-container-id-2 div.sk-parallel-item:first-child::after {align-self: flex-end;width: 50%;}#sk-container-id-2 div.sk-parallel-item:last-child::after {align-self: flex-start;width: 50%;}#sk-container-id-2 div.sk-parallel-item:only-child::after {width: 0;}#sk-container-id-2 div.sk-dashed-wrapped {border: 1px dashed gray;margin: 0 0.4em 0.5em 0.4em;box-sizing: border-box;padding-bottom: 0.4em;background-color: white;}#sk-container-id-2 div.sk-label label {font-family: monospace;font-weight: bold;display: inline-block;line-height: 1.2em;}#sk-container-id-2 div.sk-label-container {text-align: center;}#sk-container-id-2 div.sk-container {/* jupyter's `normalize.less` sets `[hidden] { display: none; }` but bootstrap.min.css set `[hidden] { display: none !important; }` so we also need the `!important` here to be able to override the default hidden behavior on the sphinx rendered scikit-learn.org. See: https://github.com/scikit-learn/scikit-learn/issues/21755 */display: inline-block !important;position: relative;}#sk-container-id-2 div.sk-text-repr-fallback {display: none;}</style><div id=\"sk-container-id-2\" class=\"sk-top-container\"><div class=\"sk-text-repr-fallback\"><pre>Pipeline(steps=[(&#x27;pipeline-1&#x27;,\n                 Pipeline(steps=[(&#x27;functiontransformer-1&#x27;,\n                                  FunctionTransformer(func=&lt;function fill_missing at 0x000001FC0003A830&gt;)),\n                                 (&#x27;functiontransformer-2&#x27;,\n                                  FunctionTransformer(func=&lt;function year_to_age at 0x000001FC0003AA70&gt;)),\n                                 (&#x27;functiontransformer-3&#x27;,\n                                  FunctionTransformer(func=&lt;function normalize_continuous_data at 0x000001FC0003AB00&gt;)),\n                                 (&#x27;funct...\n                                                           monotone_constraints=None,\n                                                           n_estimators=100,\n                                                           n_jobs=None,\n                                                           num_parallel_tree=None,\n                                                           predictor=None,\n                                                           random_state=0, ...))],\n                                 n_jobs=-1, verbose=1)),\n                (&#x27;pipeline-2&#x27;,\n                 Pipeline(steps=[(&#x27;functiontransformer-1&#x27;,\n                                  FunctionTransformer(func=&lt;function inverse_log_transform at 0x000001FC0003AE60&gt;)),\n                                 (&#x27;functiontransformer-2&#x27;,\n                                  FunctionTransformer(func=&lt;function round_nearest_50 at 0x000001FC0003AEF0&gt;))]))])</pre><b>In a Jupyter environment, please rerun this cell to show the HTML representation or trust the notebook. <br />On GitHub, the HTML representation is unable to render, please try loading this page with nbviewer.org.</b></div><div class=\"sk-container\" hidden><div class=\"sk-item sk-dashed-wrapped\"><div class=\"sk-label-container\"><div class=\"sk-label sk-toggleable\"><input class=\"sk-toggleable__control sk-hidden--visually\" id=\"sk-estimator-id-15\" type=\"checkbox\" ><label for=\"sk-estimator-id-15\" class=\"sk-toggleable__label sk-toggleable__label-arrow\">Pipeline</label><div class=\"sk-toggleable__content\"><pre>Pipeline(steps=[(&#x27;pipeline-1&#x27;,\n                 Pipeline(steps=[(&#x27;functiontransformer-1&#x27;,\n                                  FunctionTransformer(func=&lt;function fill_missing at 0x000001FC0003A830&gt;)),\n                                 (&#x27;functiontransformer-2&#x27;,\n                                  FunctionTransformer(func=&lt;function year_to_age at 0x000001FC0003AA70&gt;)),\n                                 (&#x27;functiontransformer-3&#x27;,\n                                  FunctionTransformer(func=&lt;function normalize_continuous_data at 0x000001FC0003AB00&gt;)),\n                                 (&#x27;funct...\n                                                           monotone_constraints=None,\n                                                           n_estimators=100,\n                                                           n_jobs=None,\n                                                           num_parallel_tree=None,\n                                                           predictor=None,\n                                                           random_state=0, ...))],\n                                 n_jobs=-1, verbose=1)),\n                (&#x27;pipeline-2&#x27;,\n                 Pipeline(steps=[(&#x27;functiontransformer-1&#x27;,\n                                  FunctionTransformer(func=&lt;function inverse_log_transform at 0x000001FC0003AE60&gt;)),\n                                 (&#x27;functiontransformer-2&#x27;,\n                                  FunctionTransformer(func=&lt;function round_nearest_50 at 0x000001FC0003AEF0&gt;))]))])</pre></div></div></div><div class=\"sk-serial\"><div class=\"sk-item\"><div class=\"sk-label-container\"><div class=\"sk-label sk-toggleable\"><input class=\"sk-toggleable__control sk-hidden--visually\" id=\"sk-estimator-id-16\" type=\"checkbox\" ><label for=\"sk-estimator-id-16\" class=\"sk-toggleable__label sk-toggleable__label-arrow\">pipeline-1: Pipeline</label><div class=\"sk-toggleable__content\"><pre>Pipeline(steps=[(&#x27;functiontransformer-1&#x27;,\n                 FunctionTransformer(func=&lt;function fill_missing at 0x000001FC0003A830&gt;)),\n                (&#x27;functiontransformer-2&#x27;,\n                 FunctionTransformer(func=&lt;function year_to_age at 0x000001FC0003AA70&gt;)),\n                (&#x27;functiontransformer-3&#x27;,\n                 FunctionTransformer(func=&lt;function normalize_continuous_data at 0x000001FC0003AB00&gt;)),\n                (&#x27;functiontransformer-4&#x27;,\n                 FunctionTransformer(func=&lt;function encode_discrete_data at 0x000001FC0003AD40&gt;)),\n                (&#x27;functiontransformer-5&#x27;,\n                 FunctionTransformer(func=&lt;function select_features at 0x000001FC0003ADD0&gt;))])</pre></div></div></div><div class=\"sk-serial\"><div class=\"sk-item\"><div class=\"sk-estimator sk-toggleable\"><input class=\"sk-toggleable__control sk-hidden--visually\" id=\"sk-estimator-id-17\" type=\"checkbox\" ><label for=\"sk-estimator-id-17\" class=\"sk-toggleable__label sk-toggleable__label-arrow\">FunctionTransformer</label><div class=\"sk-toggleable__content\"><pre>FunctionTransformer(func=&lt;function fill_missing at 0x000001FC0003A830&gt;)</pre></div></div></div><div class=\"sk-item\"><div class=\"sk-estimator sk-toggleable\"><input class=\"sk-toggleable__control sk-hidden--visually\" id=\"sk-estimator-id-18\" type=\"checkbox\" ><label for=\"sk-estimator-id-18\" class=\"sk-toggleable__label sk-toggleable__label-arrow\">FunctionTransformer</label><div class=\"sk-toggleable__content\"><pre>FunctionTransformer(func=&lt;function year_to_age at 0x000001FC0003AA70&gt;)</pre></div></div></div><div class=\"sk-item\"><div class=\"sk-estimator sk-toggleable\"><input class=\"sk-toggleable__control sk-hidden--visually\" id=\"sk-estimator-id-19\" type=\"checkbox\" ><label for=\"sk-estimator-id-19\" class=\"sk-toggleable__label sk-toggleable__label-arrow\">FunctionTransformer</label><div class=\"sk-toggleable__content\"><pre>FunctionTransformer(func=&lt;function normalize_continuous_data at 0x000001FC0003AB00&gt;)</pre></div></div></div><div class=\"sk-item\"><div class=\"sk-estimator sk-toggleable\"><input class=\"sk-toggleable__control sk-hidden--visually\" id=\"sk-estimator-id-20\" type=\"checkbox\" ><label for=\"sk-estimator-id-20\" class=\"sk-toggleable__label sk-toggleable__label-arrow\">FunctionTransformer</label><div class=\"sk-toggleable__content\"><pre>FunctionTransformer(func=&lt;function encode_discrete_data at 0x000001FC0003AD40&gt;)</pre></div></div></div><div class=\"sk-item\"><div class=\"sk-estimator sk-toggleable\"><input class=\"sk-toggleable__control sk-hidden--visually\" id=\"sk-estimator-id-21\" type=\"checkbox\" ><label for=\"sk-estimator-id-21\" class=\"sk-toggleable__label sk-toggleable__label-arrow\">FunctionTransformer</label><div class=\"sk-toggleable__content\"><pre>FunctionTransformer(func=&lt;function select_features at 0x000001FC0003ADD0&gt;)</pre></div></div></div></div></div><div class=\"sk-item sk-dashed-wrapped\"><div class=\"sk-label-container\"><div class=\"sk-label sk-toggleable\"><input class=\"sk-toggleable__control sk-hidden--visually\" id=\"sk-estimator-id-22\" type=\"checkbox\" ><label for=\"sk-estimator-id-22\" class=\"sk-toggleable__label sk-toggleable__label-arrow\">votingregressor: VotingRegressor</label><div class=\"sk-toggleable__content\"><pre>VotingRegressor(estimators=[(&#x27;kernel_ridge&#x27;,\n                             KernelRidge(alpha=0.001, gamma=0.001,\n                                         kernel=&#x27;rbf&#x27;)),\n                            (&#x27;svr&#x27;, SVR(C=100)),\n                            (&#x27;xgboost&#x27;,\n                             XGBRegressor(base_score=None, booster=None,\n                                          callbacks=None,\n                                          colsample_bylevel=None,\n                                          colsample_bynode=None,\n                                          colsample_bytree=None,\n                                          early_stopping_rounds=None,\n                                          enable_categorical=False,\n                                          eval_metric=None, feature_types=None,\n                                          gamma=None, gp...\n                                          grow_policy=None,\n                                          importance_type=None,\n                                          interaction_constraints=None,\n                                          learning_rate=0.1, max_bin=None,\n                                          max_cat_threshold=None,\n                                          max_cat_to_onehot=None,\n                                          max_delta_step=None, max_depth=5,\n                                          max_leaves=None,\n                                          min_child_weight=None, missing=nan,\n                                          monotone_constraints=None,\n                                          n_estimators=100, n_jobs=None,\n                                          num_parallel_tree=None,\n                                          predictor=None, random_state=0, ...))],\n                n_jobs=-1, verbose=1)</pre></div></div></div><div class=\"sk-parallel\"><div class=\"sk-parallel-item\"><div class=\"sk-item\"><div class=\"sk-label-container\"><div class=\"sk-label sk-toggleable\"><label>kernel_ridge</label></div></div><div class=\"sk-serial\"><div class=\"sk-item\"><div class=\"sk-estimator sk-toggleable\"><input class=\"sk-toggleable__control sk-hidden--visually\" id=\"sk-estimator-id-23\" type=\"checkbox\" ><label for=\"sk-estimator-id-23\" class=\"sk-toggleable__label sk-toggleable__label-arrow\">KernelRidge</label><div class=\"sk-toggleable__content\"><pre>KernelRidge(alpha=0.001, gamma=0.001, kernel=&#x27;rbf&#x27;)</pre></div></div></div></div></div></div><div class=\"sk-parallel-item\"><div class=\"sk-item\"><div class=\"sk-label-container\"><div class=\"sk-label sk-toggleable\"><label>svr</label></div></div><div class=\"sk-serial\"><div class=\"sk-item\"><div class=\"sk-estimator sk-toggleable\"><input class=\"sk-toggleable__control sk-hidden--visually\" id=\"sk-estimator-id-24\" type=\"checkbox\" ><label for=\"sk-estimator-id-24\" class=\"sk-toggleable__label sk-toggleable__label-arrow\">SVR</label><div class=\"sk-toggleable__content\"><pre>SVR(C=100)</pre></div></div></div></div></div></div><div class=\"sk-parallel-item\"><div class=\"sk-item\"><div class=\"sk-label-container\"><div class=\"sk-label sk-toggleable\"><label>xgboost</label></div></div><div class=\"sk-serial\"><div class=\"sk-item\"><div class=\"sk-estimator sk-toggleable\"><input class=\"sk-toggleable__control sk-hidden--visually\" id=\"sk-estimator-id-25\" type=\"checkbox\" ><label for=\"sk-estimator-id-25\" class=\"sk-toggleable__label sk-toggleable__label-arrow\">XGBRegressor</label><div class=\"sk-toggleable__content\"><pre>XGBRegressor(base_score=None, booster=None, callbacks=None,\n             colsample_bylevel=None, colsample_bynode=None,\n             colsample_bytree=None, early_stopping_rounds=None,\n             enable_categorical=False, eval_metric=None, feature_types=None,\n             gamma=None, gpu_id=None, grow_policy=None, importance_type=None,\n             interaction_constraints=None, learning_rate=0.1, max_bin=None,\n             max_cat_threshold=None, max_cat_to_onehot=None,\n             max_delta_step=None, max_depth=5, max_leaves=None,\n             min_child_weight=None, missing=nan, monotone_constraints=None,\n             n_estimators=100, n_jobs=None, num_parallel_tree=None,\n             predictor=None, random_state=0, ...)</pre></div></div></div></div></div></div></div></div><div class=\"sk-item\"><div class=\"sk-label-container\"><div class=\"sk-label sk-toggleable\"><input class=\"sk-toggleable__control sk-hidden--visually\" id=\"sk-estimator-id-26\" type=\"checkbox\" ><label for=\"sk-estimator-id-26\" class=\"sk-toggleable__label sk-toggleable__label-arrow\">pipeline-2: Pipeline</label><div class=\"sk-toggleable__content\"><pre>Pipeline(steps=[(&#x27;functiontransformer-1&#x27;,\n                 FunctionTransformer(func=&lt;function inverse_log_transform at 0x000001FC0003AE60&gt;)),\n                (&#x27;functiontransformer-2&#x27;,\n                 FunctionTransformer(func=&lt;function round_nearest_50 at 0x000001FC0003AEF0&gt;))])</pre></div></div></div><div class=\"sk-serial\"><div class=\"sk-item\"><div class=\"sk-estimator sk-toggleable\"><input class=\"sk-toggleable__control sk-hidden--visually\" id=\"sk-estimator-id-27\" type=\"checkbox\" ><label for=\"sk-estimator-id-27\" class=\"sk-toggleable__label sk-toggleable__label-arrow\">FunctionTransformer</label><div class=\"sk-toggleable__content\"><pre>FunctionTransformer(func=&lt;function inverse_log_transform at 0x000001FC0003AE60&gt;)</pre></div></div></div><div class=\"sk-item\"><div class=\"sk-estimator sk-toggleable\"><input class=\"sk-toggleable__control sk-hidden--visually\" id=\"sk-estimator-id-28\" type=\"checkbox\" ><label for=\"sk-estimator-id-28\" class=\"sk-toggleable__label sk-toggleable__label-arrow\">FunctionTransformer</label><div class=\"sk-toggleable__content\"><pre>FunctionTransformer(func=&lt;function round_nearest_50 at 0x000001FC0003AEF0&gt;)</pre></div></div></div></div></div></div></div></div></div>"
     },
     "execution_count": 15,
     "metadata": {},
     "output_type": "execute_result"
    }
   ],
   "source": [
    "complete_voting_regressor_pipeline_v2 = make_pipeline(\n",
    "    preprocess_pipeline,\n",
    "    voting_regressor_v2,\n",
    "    postprocess_pipeline\n",
    ")\n",
    "\n",
    "complete_voting_regressor_pipeline_v2.fit(df_train, df_train['SalePriceLog1p'])"
   ],
   "metadata": {
    "collapsed": false,
    "ExecuteTime": {
     "start_time": "2023-04-14T16:29:07.572666Z",
     "end_time": "2023-04-14T16:29:09.839584Z"
    }
   }
  },
  {
   "cell_type": "code",
   "execution_count": 16,
   "outputs": [
    {
     "data": {
      "text/plain": "Pipeline(steps=[('pipeline-1',\n                 Pipeline(steps=[('functiontransformer-1',\n                                  FunctionTransformer(func=<function fill_missing at 0x000001FC0003A830>)),\n                                 ('functiontransformer-2',\n                                  FunctionTransformer(func=<function year_to_age at 0x000001FC0003AA70>)),\n                                 ('functiontransformer-3',\n                                  FunctionTransformer(func=<function normalize_continuous_data at 0x000001FC0003AB00>)),\n                                 ('funct...\n                                                             n_jobs=None,\n                                                             num_parallel_tree=None,\n                                                             predictor=None,\n                                                             random_state=0, ...))],\n                                   final_estimator=Ridge(), n_jobs=-1,\n                                   verbose=1)),\n                ('pipeline-2',\n                 Pipeline(steps=[('functiontransformer-1',\n                                  FunctionTransformer(func=<function inverse_log_transform at 0x000001FC0003AE60>)),\n                                 ('functiontransformer-2',\n                                  FunctionTransformer(func=<function round_nearest_50 at 0x000001FC0003AEF0>))]))])",
      "text/html": "<style>#sk-container-id-3 {color: black;background-color: white;}#sk-container-id-3 pre{padding: 0;}#sk-container-id-3 div.sk-toggleable {background-color: white;}#sk-container-id-3 label.sk-toggleable__label {cursor: pointer;display: block;width: 100%;margin-bottom: 0;padding: 0.3em;box-sizing: border-box;text-align: center;}#sk-container-id-3 label.sk-toggleable__label-arrow:before {content: \"▸\";float: left;margin-right: 0.25em;color: #696969;}#sk-container-id-3 label.sk-toggleable__label-arrow:hover:before {color: black;}#sk-container-id-3 div.sk-estimator:hover label.sk-toggleable__label-arrow:before {color: black;}#sk-container-id-3 div.sk-toggleable__content {max-height: 0;max-width: 0;overflow: hidden;text-align: left;background-color: #f0f8ff;}#sk-container-id-3 div.sk-toggleable__content pre {margin: 0.2em;color: black;border-radius: 0.25em;background-color: #f0f8ff;}#sk-container-id-3 input.sk-toggleable__control:checked~div.sk-toggleable__content {max-height: 200px;max-width: 100%;overflow: auto;}#sk-container-id-3 input.sk-toggleable__control:checked~label.sk-toggleable__label-arrow:before {content: \"▾\";}#sk-container-id-3 div.sk-estimator input.sk-toggleable__control:checked~label.sk-toggleable__label {background-color: #d4ebff;}#sk-container-id-3 div.sk-label input.sk-toggleable__control:checked~label.sk-toggleable__label {background-color: #d4ebff;}#sk-container-id-3 input.sk-hidden--visually {border: 0;clip: rect(1px 1px 1px 1px);clip: rect(1px, 1px, 1px, 1px);height: 1px;margin: -1px;overflow: hidden;padding: 0;position: absolute;width: 1px;}#sk-container-id-3 div.sk-estimator {font-family: monospace;background-color: #f0f8ff;border: 1px dotted black;border-radius: 0.25em;box-sizing: border-box;margin-bottom: 0.5em;}#sk-container-id-3 div.sk-estimator:hover {background-color: #d4ebff;}#sk-container-id-3 div.sk-parallel-item::after {content: \"\";width: 100%;border-bottom: 1px solid gray;flex-grow: 1;}#sk-container-id-3 div.sk-label:hover label.sk-toggleable__label {background-color: #d4ebff;}#sk-container-id-3 div.sk-serial::before {content: \"\";position: absolute;border-left: 1px solid gray;box-sizing: border-box;top: 0;bottom: 0;left: 50%;z-index: 0;}#sk-container-id-3 div.sk-serial {display: flex;flex-direction: column;align-items: center;background-color: white;padding-right: 0.2em;padding-left: 0.2em;position: relative;}#sk-container-id-3 div.sk-item {position: relative;z-index: 1;}#sk-container-id-3 div.sk-parallel {display: flex;align-items: stretch;justify-content: center;background-color: white;position: relative;}#sk-container-id-3 div.sk-item::before, #sk-container-id-3 div.sk-parallel-item::before {content: \"\";position: absolute;border-left: 1px solid gray;box-sizing: border-box;top: 0;bottom: 0;left: 50%;z-index: -1;}#sk-container-id-3 div.sk-parallel-item {display: flex;flex-direction: column;z-index: 1;position: relative;background-color: white;}#sk-container-id-3 div.sk-parallel-item:first-child::after {align-self: flex-end;width: 50%;}#sk-container-id-3 div.sk-parallel-item:last-child::after {align-self: flex-start;width: 50%;}#sk-container-id-3 div.sk-parallel-item:only-child::after {width: 0;}#sk-container-id-3 div.sk-dashed-wrapped {border: 1px dashed gray;margin: 0 0.4em 0.5em 0.4em;box-sizing: border-box;padding-bottom: 0.4em;background-color: white;}#sk-container-id-3 div.sk-label label {font-family: monospace;font-weight: bold;display: inline-block;line-height: 1.2em;}#sk-container-id-3 div.sk-label-container {text-align: center;}#sk-container-id-3 div.sk-container {/* jupyter's `normalize.less` sets `[hidden] { display: none; }` but bootstrap.min.css set `[hidden] { display: none !important; }` so we also need the `!important` here to be able to override the default hidden behavior on the sphinx rendered scikit-learn.org. See: https://github.com/scikit-learn/scikit-learn/issues/21755 */display: inline-block !important;position: relative;}#sk-container-id-3 div.sk-text-repr-fallback {display: none;}</style><div id=\"sk-container-id-3\" class=\"sk-top-container\"><div class=\"sk-text-repr-fallback\"><pre>Pipeline(steps=[(&#x27;pipeline-1&#x27;,\n                 Pipeline(steps=[(&#x27;functiontransformer-1&#x27;,\n                                  FunctionTransformer(func=&lt;function fill_missing at 0x000001FC0003A830&gt;)),\n                                 (&#x27;functiontransformer-2&#x27;,\n                                  FunctionTransformer(func=&lt;function year_to_age at 0x000001FC0003AA70&gt;)),\n                                 (&#x27;functiontransformer-3&#x27;,\n                                  FunctionTransformer(func=&lt;function normalize_continuous_data at 0x000001FC0003AB00&gt;)),\n                                 (&#x27;funct...\n                                                             n_jobs=None,\n                                                             num_parallel_tree=None,\n                                                             predictor=None,\n                                                             random_state=0, ...))],\n                                   final_estimator=Ridge(), n_jobs=-1,\n                                   verbose=1)),\n                (&#x27;pipeline-2&#x27;,\n                 Pipeline(steps=[(&#x27;functiontransformer-1&#x27;,\n                                  FunctionTransformer(func=&lt;function inverse_log_transform at 0x000001FC0003AE60&gt;)),\n                                 (&#x27;functiontransformer-2&#x27;,\n                                  FunctionTransformer(func=&lt;function round_nearest_50 at 0x000001FC0003AEF0&gt;))]))])</pre><b>In a Jupyter environment, please rerun this cell to show the HTML representation or trust the notebook. <br />On GitHub, the HTML representation is unable to render, please try loading this page with nbviewer.org.</b></div><div class=\"sk-container\" hidden><div class=\"sk-item sk-dashed-wrapped\"><div class=\"sk-label-container\"><div class=\"sk-label sk-toggleable\"><input class=\"sk-toggleable__control sk-hidden--visually\" id=\"sk-estimator-id-29\" type=\"checkbox\" ><label for=\"sk-estimator-id-29\" class=\"sk-toggleable__label sk-toggleable__label-arrow\">Pipeline</label><div class=\"sk-toggleable__content\"><pre>Pipeline(steps=[(&#x27;pipeline-1&#x27;,\n                 Pipeline(steps=[(&#x27;functiontransformer-1&#x27;,\n                                  FunctionTransformer(func=&lt;function fill_missing at 0x000001FC0003A830&gt;)),\n                                 (&#x27;functiontransformer-2&#x27;,\n                                  FunctionTransformer(func=&lt;function year_to_age at 0x000001FC0003AA70&gt;)),\n                                 (&#x27;functiontransformer-3&#x27;,\n                                  FunctionTransformer(func=&lt;function normalize_continuous_data at 0x000001FC0003AB00&gt;)),\n                                 (&#x27;funct...\n                                                             n_jobs=None,\n                                                             num_parallel_tree=None,\n                                                             predictor=None,\n                                                             random_state=0, ...))],\n                                   final_estimator=Ridge(), n_jobs=-1,\n                                   verbose=1)),\n                (&#x27;pipeline-2&#x27;,\n                 Pipeline(steps=[(&#x27;functiontransformer-1&#x27;,\n                                  FunctionTransformer(func=&lt;function inverse_log_transform at 0x000001FC0003AE60&gt;)),\n                                 (&#x27;functiontransformer-2&#x27;,\n                                  FunctionTransformer(func=&lt;function round_nearest_50 at 0x000001FC0003AEF0&gt;))]))])</pre></div></div></div><div class=\"sk-serial\"><div class=\"sk-item\"><div class=\"sk-label-container\"><div class=\"sk-label sk-toggleable\"><input class=\"sk-toggleable__control sk-hidden--visually\" id=\"sk-estimator-id-30\" type=\"checkbox\" ><label for=\"sk-estimator-id-30\" class=\"sk-toggleable__label sk-toggleable__label-arrow\">pipeline-1: Pipeline</label><div class=\"sk-toggleable__content\"><pre>Pipeline(steps=[(&#x27;functiontransformer-1&#x27;,\n                 FunctionTransformer(func=&lt;function fill_missing at 0x000001FC0003A830&gt;)),\n                (&#x27;functiontransformer-2&#x27;,\n                 FunctionTransformer(func=&lt;function year_to_age at 0x000001FC0003AA70&gt;)),\n                (&#x27;functiontransformer-3&#x27;,\n                 FunctionTransformer(func=&lt;function normalize_continuous_data at 0x000001FC0003AB00&gt;)),\n                (&#x27;functiontransformer-4&#x27;,\n                 FunctionTransformer(func=&lt;function encode_discrete_data at 0x000001FC0003AD40&gt;)),\n                (&#x27;functiontransformer-5&#x27;,\n                 FunctionTransformer(func=&lt;function select_features at 0x000001FC0003ADD0&gt;))])</pre></div></div></div><div class=\"sk-serial\"><div class=\"sk-item\"><div class=\"sk-estimator sk-toggleable\"><input class=\"sk-toggleable__control sk-hidden--visually\" id=\"sk-estimator-id-31\" type=\"checkbox\" ><label for=\"sk-estimator-id-31\" class=\"sk-toggleable__label sk-toggleable__label-arrow\">FunctionTransformer</label><div class=\"sk-toggleable__content\"><pre>FunctionTransformer(func=&lt;function fill_missing at 0x000001FC0003A830&gt;)</pre></div></div></div><div class=\"sk-item\"><div class=\"sk-estimator sk-toggleable\"><input class=\"sk-toggleable__control sk-hidden--visually\" id=\"sk-estimator-id-32\" type=\"checkbox\" ><label for=\"sk-estimator-id-32\" class=\"sk-toggleable__label sk-toggleable__label-arrow\">FunctionTransformer</label><div class=\"sk-toggleable__content\"><pre>FunctionTransformer(func=&lt;function year_to_age at 0x000001FC0003AA70&gt;)</pre></div></div></div><div class=\"sk-item\"><div class=\"sk-estimator sk-toggleable\"><input class=\"sk-toggleable__control sk-hidden--visually\" id=\"sk-estimator-id-33\" type=\"checkbox\" ><label for=\"sk-estimator-id-33\" class=\"sk-toggleable__label sk-toggleable__label-arrow\">FunctionTransformer</label><div class=\"sk-toggleable__content\"><pre>FunctionTransformer(func=&lt;function normalize_continuous_data at 0x000001FC0003AB00&gt;)</pre></div></div></div><div class=\"sk-item\"><div class=\"sk-estimator sk-toggleable\"><input class=\"sk-toggleable__control sk-hidden--visually\" id=\"sk-estimator-id-34\" type=\"checkbox\" ><label for=\"sk-estimator-id-34\" class=\"sk-toggleable__label sk-toggleable__label-arrow\">FunctionTransformer</label><div class=\"sk-toggleable__content\"><pre>FunctionTransformer(func=&lt;function encode_discrete_data at 0x000001FC0003AD40&gt;)</pre></div></div></div><div class=\"sk-item\"><div class=\"sk-estimator sk-toggleable\"><input class=\"sk-toggleable__control sk-hidden--visually\" id=\"sk-estimator-id-35\" type=\"checkbox\" ><label for=\"sk-estimator-id-35\" class=\"sk-toggleable__label sk-toggleable__label-arrow\">FunctionTransformer</label><div class=\"sk-toggleable__content\"><pre>FunctionTransformer(func=&lt;function select_features at 0x000001FC0003ADD0&gt;)</pre></div></div></div></div></div><div class=\"sk-item\"><div class=\"sk-label-container\"><div class=\"sk-label sk-toggleable\"><input class=\"sk-toggleable__control sk-hidden--visually\" id=\"sk-estimator-id-36\" type=\"checkbox\" ><label for=\"sk-estimator-id-36\" class=\"sk-toggleable__label sk-toggleable__label-arrow\">stackingregressor: StackingRegressor</label><div class=\"sk-toggleable__content\"><pre>StackingRegressor(estimators=[(&#x27;kernel_ridge&#x27;,\n                               KernelRidge(alpha=0.001, gamma=0.001,\n                                           kernel=&#x27;rbf&#x27;)),\n                              (&#x27;svr&#x27;, SVR(C=100)),\n                              (&#x27;xgboost&#x27;,\n                               XGBRegressor(base_score=None, booster=None,\n                                            callbacks=None,\n                                            colsample_bylevel=None,\n                                            colsample_bynode=None,\n                                            colsample_bytree=None,\n                                            early_stopping_rounds=None,\n                                            enable_categorical=False,\n                                            eval_metric=None,\n                                            feature_types=None, gamma=None,...\n                                            importance_type=None,\n                                            interaction_constraints=None,\n                                            learning_rate=0.1, max_bin=None,\n                                            max_cat_threshold=None,\n                                            max_cat_to_onehot=None,\n                                            max_delta_step=None, max_depth=5,\n                                            max_leaves=None,\n                                            min_child_weight=None, missing=nan,\n                                            monotone_constraints=None,\n                                            n_estimators=100, n_jobs=None,\n                                            num_parallel_tree=None,\n                                            predictor=None, random_state=0, ...))],\n                  final_estimator=Ridge(), n_jobs=-1, verbose=1)</pre></div></div></div><div class=\"sk-serial\"><div class=\"sk-item\"><div class=\"sk-parallel\"><div class=\"sk-parallel-item\"><div class=\"sk-item\"><div class=\"sk-label-container\"><div class=\"sk-label sk-toggleable\"><label>kernel_ridge</label></div></div><div class=\"sk-serial\"><div class=\"sk-item\"><div class=\"sk-estimator sk-toggleable\"><input class=\"sk-toggleable__control sk-hidden--visually\" id=\"sk-estimator-id-37\" type=\"checkbox\" ><label for=\"sk-estimator-id-37\" class=\"sk-toggleable__label sk-toggleable__label-arrow\">KernelRidge</label><div class=\"sk-toggleable__content\"><pre>KernelRidge(alpha=0.001, gamma=0.001, kernel=&#x27;rbf&#x27;)</pre></div></div></div></div></div></div><div class=\"sk-parallel-item\"><div class=\"sk-item\"><div class=\"sk-label-container\"><div class=\"sk-label sk-toggleable\"><label>svr</label></div></div><div class=\"sk-serial\"><div class=\"sk-item\"><div class=\"sk-estimator sk-toggleable\"><input class=\"sk-toggleable__control sk-hidden--visually\" id=\"sk-estimator-id-38\" type=\"checkbox\" ><label for=\"sk-estimator-id-38\" class=\"sk-toggleable__label sk-toggleable__label-arrow\">SVR</label><div class=\"sk-toggleable__content\"><pre>SVR(C=100)</pre></div></div></div></div></div></div><div class=\"sk-parallel-item\"><div class=\"sk-item\"><div class=\"sk-label-container\"><div class=\"sk-label sk-toggleable\"><label>xgboost</label></div></div><div class=\"sk-serial\"><div class=\"sk-item\"><div class=\"sk-estimator sk-toggleable\"><input class=\"sk-toggleable__control sk-hidden--visually\" id=\"sk-estimator-id-39\" type=\"checkbox\" ><label for=\"sk-estimator-id-39\" class=\"sk-toggleable__label sk-toggleable__label-arrow\">XGBRegressor</label><div class=\"sk-toggleable__content\"><pre>XGBRegressor(base_score=None, booster=None, callbacks=None,\n             colsample_bylevel=None, colsample_bynode=None,\n             colsample_bytree=None, early_stopping_rounds=None,\n             enable_categorical=False, eval_metric=None, feature_types=None,\n             gamma=None, gpu_id=None, grow_policy=None, importance_type=None,\n             interaction_constraints=None, learning_rate=0.1, max_bin=None,\n             max_cat_threshold=None, max_cat_to_onehot=None,\n             max_delta_step=None, max_depth=5, max_leaves=None,\n             min_child_weight=None, missing=nan, monotone_constraints=None,\n             n_estimators=100, n_jobs=None, num_parallel_tree=None,\n             predictor=None, random_state=0, ...)</pre></div></div></div></div></div></div></div></div><div class=\"sk-item\"><div class=\"sk-parallel\"><div class=\"sk-parallel-item\"><div class=\"sk-item\"><div class=\"sk-label-container\"><div class=\"sk-label sk-toggleable\"><label>final_estimator</label></div></div><div class=\"sk-serial\"><div class=\"sk-item\"><div class=\"sk-estimator sk-toggleable\"><input class=\"sk-toggleable__control sk-hidden--visually\" id=\"sk-estimator-id-40\" type=\"checkbox\" ><label for=\"sk-estimator-id-40\" class=\"sk-toggleable__label sk-toggleable__label-arrow\">Ridge</label><div class=\"sk-toggleable__content\"><pre>Ridge()</pre></div></div></div></div></div></div></div></div></div></div><div class=\"sk-item\"><div class=\"sk-label-container\"><div class=\"sk-label sk-toggleable\"><input class=\"sk-toggleable__control sk-hidden--visually\" id=\"sk-estimator-id-41\" type=\"checkbox\" ><label for=\"sk-estimator-id-41\" class=\"sk-toggleable__label sk-toggleable__label-arrow\">pipeline-2: Pipeline</label><div class=\"sk-toggleable__content\"><pre>Pipeline(steps=[(&#x27;functiontransformer-1&#x27;,\n                 FunctionTransformer(func=&lt;function inverse_log_transform at 0x000001FC0003AE60&gt;)),\n                (&#x27;functiontransformer-2&#x27;,\n                 FunctionTransformer(func=&lt;function round_nearest_50 at 0x000001FC0003AEF0&gt;))])</pre></div></div></div><div class=\"sk-serial\"><div class=\"sk-item\"><div class=\"sk-estimator sk-toggleable\"><input class=\"sk-toggleable__control sk-hidden--visually\" id=\"sk-estimator-id-42\" type=\"checkbox\" ><label for=\"sk-estimator-id-42\" class=\"sk-toggleable__label sk-toggleable__label-arrow\">FunctionTransformer</label><div class=\"sk-toggleable__content\"><pre>FunctionTransformer(func=&lt;function inverse_log_transform at 0x000001FC0003AE60&gt;)</pre></div></div></div><div class=\"sk-item\"><div class=\"sk-estimator sk-toggleable\"><input class=\"sk-toggleable__control sk-hidden--visually\" id=\"sk-estimator-id-43\" type=\"checkbox\" ><label for=\"sk-estimator-id-43\" class=\"sk-toggleable__label sk-toggleable__label-arrow\">FunctionTransformer</label><div class=\"sk-toggleable__content\"><pre>FunctionTransformer(func=&lt;function round_nearest_50 at 0x000001FC0003AEF0&gt;)</pre></div></div></div></div></div></div></div></div></div>"
     },
     "execution_count": 16,
     "metadata": {},
     "output_type": "execute_result"
    }
   ],
   "source": [
    "complete_stack_regressor_pipeline = make_pipeline(\n",
    "    preprocess_pipeline,\n",
    "    stack_regressor,\n",
    "    postprocess_pipeline\n",
    ")\n",
    "\n",
    "complete_stack_regressor_pipeline.fit(df_train, df_train['SalePriceLog1p'])"
   ],
   "metadata": {
    "collapsed": false,
    "ExecuteTime": {
     "start_time": "2023-04-14T16:29:09.841571Z",
     "end_time": "2023-04-14T16:29:10.766255Z"
    }
   }
  },
  {
   "cell_type": "code",
   "execution_count": 17,
   "outputs": [],
   "source": [
    "df_test = pd.read_csv('../input/house-prices-advanced-regression-techniques/test.csv')\n",
    "voting_regressor_v2_predictions = postprocess_pipeline.transform(\n",
    "    voting_regressor_v2.predict(preprocess_pipeline.transform(df_test))\n",
    ")\n",
    "\n",
    "df_test['Id'] = df_test['Id'].astype(int)\n",
    "df_test['SalePrice'] = voting_regressor_v2_predictions\n",
    "df_test[['Id', 'SalePrice']].to_csv('../input/house-prices-advanced-regression-techniques/submission/voting-regression-v3.csv', index=False)"
   ],
   "metadata": {
    "collapsed": false,
    "ExecuteTime": {
     "start_time": "2023-04-14T16:29:10.769766Z",
     "end_time": "2023-04-14T16:29:10.991068Z"
    }
   }
  },
  {
   "cell_type": "code",
   "execution_count": 18,
   "outputs": [],
   "source": [
    "df_test = pd.read_csv('../input/house-prices-advanced-regression-techniques/test.csv')\n",
    "\n",
    "stack_regressor_predictions = postprocess_pipeline.transform(\n",
    "    stack_regressor.predict(preprocess_pipeline.transform(df_test))\n",
    ")\n",
    "\n",
    "df_test['Id'] = df_test['Id'].astype(int)\n",
    "df_test['SalePrice'] = stack_regressor_predictions\n",
    "df_test[['Id', 'SalePrice']].to_csv('../input/house-prices-advanced-regression-techniques/submission/stack-regression-v1.csv', index=False)"
   ],
   "metadata": {
    "collapsed": false,
    "ExecuteTime": {
     "start_time": "2023-04-14T16:29:10.993069Z",
     "end_time": "2023-04-14T16:29:11.178661Z"
    }
   }
  },
  {
   "cell_type": "markdown",
   "source": [
    "### Score\n",
    "\n",
    "Voting Regressor v3: 0.14421\n",
    "Stack Regressor v1: 0.14412"
   ],
   "metadata": {
    "collapsed": false
   }
  },
  {
   "cell_type": "markdown",
   "source": [
    "## Try with Top 5 models"
   ],
   "metadata": {
    "collapsed": false
   }
  },
  {
   "cell_type": "code",
   "execution_count": 19,
   "outputs": [],
   "source": [
    "kernel_ridge = KernelRidge(**{'alpha': 0.001, 'gamma': 0.001, 'kernel': 'rbf'})\n",
    "svr = SVR(**{'C': 100, 'epsilon': 0.1, 'kernel': 'rbf'})\n",
    "xgboost = XGBRegressor(random_state=0, **{'learning_rate': 0.1, 'max_depth': 5, 'n_estimators': 100})\n",
    "lasso = Lasso(**{'alpha': 0.0001})\n",
    "ridge = Ridge(**{'alpha': 1})"
   ],
   "metadata": {
    "collapsed": false,
    "ExecuteTime": {
     "start_time": "2023-04-14T16:29:11.181663Z",
     "end_time": "2023-04-14T16:29:11.209977Z"
    }
   }
  },
  {
   "cell_type": "code",
   "execution_count": 20,
   "outputs": [
    {
     "name": "stderr",
     "output_type": "stream",
     "text": [
      "[Parallel(n_jobs=-1)]: Using backend LokyBackend with 16 concurrent workers.\n"
     ]
    },
    {
     "name": "stdout",
     "output_type": "stream",
     "text": [
      "Voting Regressor Score: -0.14665025559092487\n"
     ]
    },
    {
     "name": "stderr",
     "output_type": "stream",
     "text": [
      "[Parallel(n_jobs=-1)]: Done   5 out of   5 | elapsed:    0.3s finished\n"
     ]
    }
   ],
   "source": [
    "voting_regressor_v3 = VotingRegressor(\n",
    "    estimators=[\n",
    "        ('kernel_ridge', kernel_ridge),\n",
    "        ('svr', svr),\n",
    "        ('xgboost', xgboost),\n",
    "        ('lasso', lasso),\n",
    "        ('ridge', ridge)\n",
    "    ],\n",
    "    n_jobs=-1,\n",
    "    verbose=1\n",
    ")\n",
    "\n",
    "voting_regressor_score = cross_val_score(\n",
    "    voting_regressor_v3,\n",
    "    preprocess_pipeline.fit_transform(df_train),\n",
    "    df_train['SalePriceLog1p'],\n",
    "    cv=5,\n",
    "    scoring='neg_root_mean_squared_error',\n",
    "    n_jobs=-1,\n",
    "    verbose=1\n",
    ")\n",
    "\n",
    "print(f'Voting Regressor Score: {voting_regressor_score.mean()}')"
   ],
   "metadata": {
    "collapsed": false,
    "ExecuteTime": {
     "start_time": "2023-04-14T16:29:11.212978Z",
     "end_time": "2023-04-14T16:29:11.665728Z"
    }
   }
  },
  {
   "cell_type": "code",
   "execution_count": 21,
   "outputs": [
    {
     "name": "stderr",
     "output_type": "stream",
     "text": [
      "[Parallel(n_jobs=-1)]: Using backend LokyBackend with 16 concurrent workers.\n"
     ]
    },
    {
     "name": "stdout",
     "output_type": "stream",
     "text": [
      "Stack Regressor Score: -0.14550885721591\n"
     ]
    },
    {
     "name": "stderr",
     "output_type": "stream",
     "text": [
      "[Parallel(n_jobs=-1)]: Done   5 out of   5 | elapsed:    1.4s finished\n"
     ]
    }
   ],
   "source": [
    "stack_regressor_v2 = StackingRegressor(\n",
    "    estimators=[\n",
    "        ('kernel_ridge', kernel_ridge),\n",
    "        ('svr', svr),\n",
    "        ('xgboost', xgboost),\n",
    "        ('lasso', lasso),\n",
    "        ('ridge', ridge)\n",
    "    ],\n",
    "    final_estimator=Ridge(),\n",
    "    n_jobs=-1,\n",
    "    verbose=1\n",
    ")\n",
    "\n",
    "stack_regressor_score = cross_val_score(\n",
    "    stack_regressor_v2,\n",
    "    preprocess_pipeline.fit_transform(df_train),\n",
    "    df_train['SalePriceLog1p'],\n",
    "    cv=5,\n",
    "    scoring='neg_root_mean_squared_error',\n",
    "    n_jobs=-1,\n",
    "    verbose=1\n",
    ")\n",
    "\n",
    "print(f'Stack Regressor Score: {stack_regressor_score.mean()}')"
   ],
   "metadata": {
    "collapsed": false,
    "ExecuteTime": {
     "start_time": "2023-04-14T16:29:11.667728Z",
     "end_time": "2023-04-14T16:29:13.237851Z"
    }
   }
  },
  {
   "cell_type": "markdown",
   "source": [
    "And make predictions"
   ],
   "metadata": {
    "collapsed": false
   }
  },
  {
   "cell_type": "code",
   "execution_count": 22,
   "outputs": [
    {
     "data": {
      "text/plain": "Pipeline(steps=[('pipeline-1',\n                 Pipeline(steps=[('functiontransformer-1',\n                                  FunctionTransformer(func=<function fill_missing at 0x000001FC0003A830>)),\n                                 ('functiontransformer-2',\n                                  FunctionTransformer(func=<function year_to_age at 0x000001FC0003AA70>)),\n                                 ('functiontransformer-3',\n                                  FunctionTransformer(func=<function normalize_continuous_data at 0x000001FC0003AB00>)),\n                                 ('funct...\n                                                           predictor=None,\n                                                           random_state=0, ...)),\n                                             ('lasso', Lasso(alpha=0.0001)),\n                                             ('ridge', Ridge(alpha=1))],\n                                 n_jobs=-1, verbose=1)),\n                ('pipeline-2',\n                 Pipeline(steps=[('functiontransformer-1',\n                                  FunctionTransformer(func=<function inverse_log_transform at 0x000001FC0003AE60>)),\n                                 ('functiontransformer-2',\n                                  FunctionTransformer(func=<function round_nearest_50 at 0x000001FC0003AEF0>))]))])",
      "text/html": "<style>#sk-container-id-4 {color: black;background-color: white;}#sk-container-id-4 pre{padding: 0;}#sk-container-id-4 div.sk-toggleable {background-color: white;}#sk-container-id-4 label.sk-toggleable__label {cursor: pointer;display: block;width: 100%;margin-bottom: 0;padding: 0.3em;box-sizing: border-box;text-align: center;}#sk-container-id-4 label.sk-toggleable__label-arrow:before {content: \"▸\";float: left;margin-right: 0.25em;color: #696969;}#sk-container-id-4 label.sk-toggleable__label-arrow:hover:before {color: black;}#sk-container-id-4 div.sk-estimator:hover label.sk-toggleable__label-arrow:before {color: black;}#sk-container-id-4 div.sk-toggleable__content {max-height: 0;max-width: 0;overflow: hidden;text-align: left;background-color: #f0f8ff;}#sk-container-id-4 div.sk-toggleable__content pre {margin: 0.2em;color: black;border-radius: 0.25em;background-color: #f0f8ff;}#sk-container-id-4 input.sk-toggleable__control:checked~div.sk-toggleable__content {max-height: 200px;max-width: 100%;overflow: auto;}#sk-container-id-4 input.sk-toggleable__control:checked~label.sk-toggleable__label-arrow:before {content: \"▾\";}#sk-container-id-4 div.sk-estimator input.sk-toggleable__control:checked~label.sk-toggleable__label {background-color: #d4ebff;}#sk-container-id-4 div.sk-label input.sk-toggleable__control:checked~label.sk-toggleable__label {background-color: #d4ebff;}#sk-container-id-4 input.sk-hidden--visually {border: 0;clip: rect(1px 1px 1px 1px);clip: rect(1px, 1px, 1px, 1px);height: 1px;margin: -1px;overflow: hidden;padding: 0;position: absolute;width: 1px;}#sk-container-id-4 div.sk-estimator {font-family: monospace;background-color: #f0f8ff;border: 1px dotted black;border-radius: 0.25em;box-sizing: border-box;margin-bottom: 0.5em;}#sk-container-id-4 div.sk-estimator:hover {background-color: #d4ebff;}#sk-container-id-4 div.sk-parallel-item::after {content: \"\";width: 100%;border-bottom: 1px solid gray;flex-grow: 1;}#sk-container-id-4 div.sk-label:hover label.sk-toggleable__label {background-color: #d4ebff;}#sk-container-id-4 div.sk-serial::before {content: \"\";position: absolute;border-left: 1px solid gray;box-sizing: border-box;top: 0;bottom: 0;left: 50%;z-index: 0;}#sk-container-id-4 div.sk-serial {display: flex;flex-direction: column;align-items: center;background-color: white;padding-right: 0.2em;padding-left: 0.2em;position: relative;}#sk-container-id-4 div.sk-item {position: relative;z-index: 1;}#sk-container-id-4 div.sk-parallel {display: flex;align-items: stretch;justify-content: center;background-color: white;position: relative;}#sk-container-id-4 div.sk-item::before, #sk-container-id-4 div.sk-parallel-item::before {content: \"\";position: absolute;border-left: 1px solid gray;box-sizing: border-box;top: 0;bottom: 0;left: 50%;z-index: -1;}#sk-container-id-4 div.sk-parallel-item {display: flex;flex-direction: column;z-index: 1;position: relative;background-color: white;}#sk-container-id-4 div.sk-parallel-item:first-child::after {align-self: flex-end;width: 50%;}#sk-container-id-4 div.sk-parallel-item:last-child::after {align-self: flex-start;width: 50%;}#sk-container-id-4 div.sk-parallel-item:only-child::after {width: 0;}#sk-container-id-4 div.sk-dashed-wrapped {border: 1px dashed gray;margin: 0 0.4em 0.5em 0.4em;box-sizing: border-box;padding-bottom: 0.4em;background-color: white;}#sk-container-id-4 div.sk-label label {font-family: monospace;font-weight: bold;display: inline-block;line-height: 1.2em;}#sk-container-id-4 div.sk-label-container {text-align: center;}#sk-container-id-4 div.sk-container {/* jupyter's `normalize.less` sets `[hidden] { display: none; }` but bootstrap.min.css set `[hidden] { display: none !important; }` so we also need the `!important` here to be able to override the default hidden behavior on the sphinx rendered scikit-learn.org. See: https://github.com/scikit-learn/scikit-learn/issues/21755 */display: inline-block !important;position: relative;}#sk-container-id-4 div.sk-text-repr-fallback {display: none;}</style><div id=\"sk-container-id-4\" class=\"sk-top-container\"><div class=\"sk-text-repr-fallback\"><pre>Pipeline(steps=[(&#x27;pipeline-1&#x27;,\n                 Pipeline(steps=[(&#x27;functiontransformer-1&#x27;,\n                                  FunctionTransformer(func=&lt;function fill_missing at 0x000001FC0003A830&gt;)),\n                                 (&#x27;functiontransformer-2&#x27;,\n                                  FunctionTransformer(func=&lt;function year_to_age at 0x000001FC0003AA70&gt;)),\n                                 (&#x27;functiontransformer-3&#x27;,\n                                  FunctionTransformer(func=&lt;function normalize_continuous_data at 0x000001FC0003AB00&gt;)),\n                                 (&#x27;funct...\n                                                           predictor=None,\n                                                           random_state=0, ...)),\n                                             (&#x27;lasso&#x27;, Lasso(alpha=0.0001)),\n                                             (&#x27;ridge&#x27;, Ridge(alpha=1))],\n                                 n_jobs=-1, verbose=1)),\n                (&#x27;pipeline-2&#x27;,\n                 Pipeline(steps=[(&#x27;functiontransformer-1&#x27;,\n                                  FunctionTransformer(func=&lt;function inverse_log_transform at 0x000001FC0003AE60&gt;)),\n                                 (&#x27;functiontransformer-2&#x27;,\n                                  FunctionTransformer(func=&lt;function round_nearest_50 at 0x000001FC0003AEF0&gt;))]))])</pre><b>In a Jupyter environment, please rerun this cell to show the HTML representation or trust the notebook. <br />On GitHub, the HTML representation is unable to render, please try loading this page with nbviewer.org.</b></div><div class=\"sk-container\" hidden><div class=\"sk-item sk-dashed-wrapped\"><div class=\"sk-label-container\"><div class=\"sk-label sk-toggleable\"><input class=\"sk-toggleable__control sk-hidden--visually\" id=\"sk-estimator-id-44\" type=\"checkbox\" ><label for=\"sk-estimator-id-44\" class=\"sk-toggleable__label sk-toggleable__label-arrow\">Pipeline</label><div class=\"sk-toggleable__content\"><pre>Pipeline(steps=[(&#x27;pipeline-1&#x27;,\n                 Pipeline(steps=[(&#x27;functiontransformer-1&#x27;,\n                                  FunctionTransformer(func=&lt;function fill_missing at 0x000001FC0003A830&gt;)),\n                                 (&#x27;functiontransformer-2&#x27;,\n                                  FunctionTransformer(func=&lt;function year_to_age at 0x000001FC0003AA70&gt;)),\n                                 (&#x27;functiontransformer-3&#x27;,\n                                  FunctionTransformer(func=&lt;function normalize_continuous_data at 0x000001FC0003AB00&gt;)),\n                                 (&#x27;funct...\n                                                           predictor=None,\n                                                           random_state=0, ...)),\n                                             (&#x27;lasso&#x27;, Lasso(alpha=0.0001)),\n                                             (&#x27;ridge&#x27;, Ridge(alpha=1))],\n                                 n_jobs=-1, verbose=1)),\n                (&#x27;pipeline-2&#x27;,\n                 Pipeline(steps=[(&#x27;functiontransformer-1&#x27;,\n                                  FunctionTransformer(func=&lt;function inverse_log_transform at 0x000001FC0003AE60&gt;)),\n                                 (&#x27;functiontransformer-2&#x27;,\n                                  FunctionTransformer(func=&lt;function round_nearest_50 at 0x000001FC0003AEF0&gt;))]))])</pre></div></div></div><div class=\"sk-serial\"><div class=\"sk-item\"><div class=\"sk-label-container\"><div class=\"sk-label sk-toggleable\"><input class=\"sk-toggleable__control sk-hidden--visually\" id=\"sk-estimator-id-45\" type=\"checkbox\" ><label for=\"sk-estimator-id-45\" class=\"sk-toggleable__label sk-toggleable__label-arrow\">pipeline-1: Pipeline</label><div class=\"sk-toggleable__content\"><pre>Pipeline(steps=[(&#x27;functiontransformer-1&#x27;,\n                 FunctionTransformer(func=&lt;function fill_missing at 0x000001FC0003A830&gt;)),\n                (&#x27;functiontransformer-2&#x27;,\n                 FunctionTransformer(func=&lt;function year_to_age at 0x000001FC0003AA70&gt;)),\n                (&#x27;functiontransformer-3&#x27;,\n                 FunctionTransformer(func=&lt;function normalize_continuous_data at 0x000001FC0003AB00&gt;)),\n                (&#x27;functiontransformer-4&#x27;,\n                 FunctionTransformer(func=&lt;function encode_discrete_data at 0x000001FC0003AD40&gt;)),\n                (&#x27;functiontransformer-5&#x27;,\n                 FunctionTransformer(func=&lt;function select_features at 0x000001FC0003ADD0&gt;))])</pre></div></div></div><div class=\"sk-serial\"><div class=\"sk-item\"><div class=\"sk-estimator sk-toggleable\"><input class=\"sk-toggleable__control sk-hidden--visually\" id=\"sk-estimator-id-46\" type=\"checkbox\" ><label for=\"sk-estimator-id-46\" class=\"sk-toggleable__label sk-toggleable__label-arrow\">FunctionTransformer</label><div class=\"sk-toggleable__content\"><pre>FunctionTransformer(func=&lt;function fill_missing at 0x000001FC0003A830&gt;)</pre></div></div></div><div class=\"sk-item\"><div class=\"sk-estimator sk-toggleable\"><input class=\"sk-toggleable__control sk-hidden--visually\" id=\"sk-estimator-id-47\" type=\"checkbox\" ><label for=\"sk-estimator-id-47\" class=\"sk-toggleable__label sk-toggleable__label-arrow\">FunctionTransformer</label><div class=\"sk-toggleable__content\"><pre>FunctionTransformer(func=&lt;function year_to_age at 0x000001FC0003AA70&gt;)</pre></div></div></div><div class=\"sk-item\"><div class=\"sk-estimator sk-toggleable\"><input class=\"sk-toggleable__control sk-hidden--visually\" id=\"sk-estimator-id-48\" type=\"checkbox\" ><label for=\"sk-estimator-id-48\" class=\"sk-toggleable__label sk-toggleable__label-arrow\">FunctionTransformer</label><div class=\"sk-toggleable__content\"><pre>FunctionTransformer(func=&lt;function normalize_continuous_data at 0x000001FC0003AB00&gt;)</pre></div></div></div><div class=\"sk-item\"><div class=\"sk-estimator sk-toggleable\"><input class=\"sk-toggleable__control sk-hidden--visually\" id=\"sk-estimator-id-49\" type=\"checkbox\" ><label for=\"sk-estimator-id-49\" class=\"sk-toggleable__label sk-toggleable__label-arrow\">FunctionTransformer</label><div class=\"sk-toggleable__content\"><pre>FunctionTransformer(func=&lt;function encode_discrete_data at 0x000001FC0003AD40&gt;)</pre></div></div></div><div class=\"sk-item\"><div class=\"sk-estimator sk-toggleable\"><input class=\"sk-toggleable__control sk-hidden--visually\" id=\"sk-estimator-id-50\" type=\"checkbox\" ><label for=\"sk-estimator-id-50\" class=\"sk-toggleable__label sk-toggleable__label-arrow\">FunctionTransformer</label><div class=\"sk-toggleable__content\"><pre>FunctionTransformer(func=&lt;function select_features at 0x000001FC0003ADD0&gt;)</pre></div></div></div></div></div><div class=\"sk-item sk-dashed-wrapped\"><div class=\"sk-label-container\"><div class=\"sk-label sk-toggleable\"><input class=\"sk-toggleable__control sk-hidden--visually\" id=\"sk-estimator-id-51\" type=\"checkbox\" ><label for=\"sk-estimator-id-51\" class=\"sk-toggleable__label sk-toggleable__label-arrow\">votingregressor: VotingRegressor</label><div class=\"sk-toggleable__content\"><pre>VotingRegressor(estimators=[(&#x27;kernel_ridge&#x27;,\n                             KernelRidge(alpha=0.001, gamma=0.001,\n                                         kernel=&#x27;rbf&#x27;)),\n                            (&#x27;svr&#x27;, SVR(C=100)),\n                            (&#x27;xgboost&#x27;,\n                             XGBRegressor(base_score=None, booster=None,\n                                          callbacks=None,\n                                          colsample_bylevel=None,\n                                          colsample_bynode=None,\n                                          colsample_bytree=None,\n                                          early_stopping_rounds=None,\n                                          enable_categorical=False,\n                                          eval_metric=None, feature_types=None,\n                                          gamma=None, gp...\n                                          interaction_constraints=None,\n                                          learning_rate=0.1, max_bin=None,\n                                          max_cat_threshold=None,\n                                          max_cat_to_onehot=None,\n                                          max_delta_step=None, max_depth=5,\n                                          max_leaves=None,\n                                          min_child_weight=None, missing=nan,\n                                          monotone_constraints=None,\n                                          n_estimators=100, n_jobs=None,\n                                          num_parallel_tree=None,\n                                          predictor=None, random_state=0, ...)),\n                            (&#x27;lasso&#x27;, Lasso(alpha=0.0001)),\n                            (&#x27;ridge&#x27;, Ridge(alpha=1))],\n                n_jobs=-1, verbose=1)</pre></div></div></div><div class=\"sk-parallel\"><div class=\"sk-parallel-item\"><div class=\"sk-item\"><div class=\"sk-label-container\"><div class=\"sk-label sk-toggleable\"><label>kernel_ridge</label></div></div><div class=\"sk-serial\"><div class=\"sk-item\"><div class=\"sk-estimator sk-toggleable\"><input class=\"sk-toggleable__control sk-hidden--visually\" id=\"sk-estimator-id-52\" type=\"checkbox\" ><label for=\"sk-estimator-id-52\" class=\"sk-toggleable__label sk-toggleable__label-arrow\">KernelRidge</label><div class=\"sk-toggleable__content\"><pre>KernelRidge(alpha=0.001, gamma=0.001, kernel=&#x27;rbf&#x27;)</pre></div></div></div></div></div></div><div class=\"sk-parallel-item\"><div class=\"sk-item\"><div class=\"sk-label-container\"><div class=\"sk-label sk-toggleable\"><label>svr</label></div></div><div class=\"sk-serial\"><div class=\"sk-item\"><div class=\"sk-estimator sk-toggleable\"><input class=\"sk-toggleable__control sk-hidden--visually\" id=\"sk-estimator-id-53\" type=\"checkbox\" ><label for=\"sk-estimator-id-53\" class=\"sk-toggleable__label sk-toggleable__label-arrow\">SVR</label><div class=\"sk-toggleable__content\"><pre>SVR(C=100)</pre></div></div></div></div></div></div><div class=\"sk-parallel-item\"><div class=\"sk-item\"><div class=\"sk-label-container\"><div class=\"sk-label sk-toggleable\"><label>xgboost</label></div></div><div class=\"sk-serial\"><div class=\"sk-item\"><div class=\"sk-estimator sk-toggleable\"><input class=\"sk-toggleable__control sk-hidden--visually\" id=\"sk-estimator-id-54\" type=\"checkbox\" ><label for=\"sk-estimator-id-54\" class=\"sk-toggleable__label sk-toggleable__label-arrow\">XGBRegressor</label><div class=\"sk-toggleable__content\"><pre>XGBRegressor(base_score=None, booster=None, callbacks=None,\n             colsample_bylevel=None, colsample_bynode=None,\n             colsample_bytree=None, early_stopping_rounds=None,\n             enable_categorical=False, eval_metric=None, feature_types=None,\n             gamma=None, gpu_id=None, grow_policy=None, importance_type=None,\n             interaction_constraints=None, learning_rate=0.1, max_bin=None,\n             max_cat_threshold=None, max_cat_to_onehot=None,\n             max_delta_step=None, max_depth=5, max_leaves=None,\n             min_child_weight=None, missing=nan, monotone_constraints=None,\n             n_estimators=100, n_jobs=None, num_parallel_tree=None,\n             predictor=None, random_state=0, ...)</pre></div></div></div></div></div></div><div class=\"sk-parallel-item\"><div class=\"sk-item\"><div class=\"sk-label-container\"><div class=\"sk-label sk-toggleable\"><label>lasso</label></div></div><div class=\"sk-serial\"><div class=\"sk-item\"><div class=\"sk-estimator sk-toggleable\"><input class=\"sk-toggleable__control sk-hidden--visually\" id=\"sk-estimator-id-55\" type=\"checkbox\" ><label for=\"sk-estimator-id-55\" class=\"sk-toggleable__label sk-toggleable__label-arrow\">Lasso</label><div class=\"sk-toggleable__content\"><pre>Lasso(alpha=0.0001)</pre></div></div></div></div></div></div><div class=\"sk-parallel-item\"><div class=\"sk-item\"><div class=\"sk-label-container\"><div class=\"sk-label sk-toggleable\"><label>ridge</label></div></div><div class=\"sk-serial\"><div class=\"sk-item\"><div class=\"sk-estimator sk-toggleable\"><input class=\"sk-toggleable__control sk-hidden--visually\" id=\"sk-estimator-id-56\" type=\"checkbox\" ><label for=\"sk-estimator-id-56\" class=\"sk-toggleable__label sk-toggleable__label-arrow\">Ridge</label><div class=\"sk-toggleable__content\"><pre>Ridge(alpha=1)</pre></div></div></div></div></div></div></div></div><div class=\"sk-item\"><div class=\"sk-label-container\"><div class=\"sk-label sk-toggleable\"><input class=\"sk-toggleable__control sk-hidden--visually\" id=\"sk-estimator-id-57\" type=\"checkbox\" ><label for=\"sk-estimator-id-57\" class=\"sk-toggleable__label sk-toggleable__label-arrow\">pipeline-2: Pipeline</label><div class=\"sk-toggleable__content\"><pre>Pipeline(steps=[(&#x27;functiontransformer-1&#x27;,\n                 FunctionTransformer(func=&lt;function inverse_log_transform at 0x000001FC0003AE60&gt;)),\n                (&#x27;functiontransformer-2&#x27;,\n                 FunctionTransformer(func=&lt;function round_nearest_50 at 0x000001FC0003AEF0&gt;))])</pre></div></div></div><div class=\"sk-serial\"><div class=\"sk-item\"><div class=\"sk-estimator sk-toggleable\"><input class=\"sk-toggleable__control sk-hidden--visually\" id=\"sk-estimator-id-58\" type=\"checkbox\" ><label for=\"sk-estimator-id-58\" class=\"sk-toggleable__label sk-toggleable__label-arrow\">FunctionTransformer</label><div class=\"sk-toggleable__content\"><pre>FunctionTransformer(func=&lt;function inverse_log_transform at 0x000001FC0003AE60&gt;)</pre></div></div></div><div class=\"sk-item\"><div class=\"sk-estimator sk-toggleable\"><input class=\"sk-toggleable__control sk-hidden--visually\" id=\"sk-estimator-id-59\" type=\"checkbox\" ><label for=\"sk-estimator-id-59\" class=\"sk-toggleable__label sk-toggleable__label-arrow\">FunctionTransformer</label><div class=\"sk-toggleable__content\"><pre>FunctionTransformer(func=&lt;function round_nearest_50 at 0x000001FC0003AEF0&gt;)</pre></div></div></div></div></div></div></div></div></div>"
     },
     "execution_count": 22,
     "metadata": {},
     "output_type": "execute_result"
    }
   ],
   "source": [
    "complete_voting_regressor_pipeline_v3 = make_pipeline(\n",
    "    preprocess_pipeline,\n",
    "    voting_regressor_v3,\n",
    "    postprocess_pipeline\n",
    ")\n",
    "\n",
    "complete_voting_regressor_pipeline_v3.fit(df_train, df_train['SalePriceLog1p'])"
   ],
   "metadata": {
    "collapsed": false,
    "ExecuteTime": {
     "start_time": "2023-04-14T16:29:13.240851Z",
     "end_time": "2023-04-14T16:29:13.727223Z"
    }
   }
  },
  {
   "cell_type": "code",
   "execution_count": 23,
   "outputs": [],
   "source": [
    "df_test = pd.read_csv('../input/house-prices-advanced-regression-techniques/test.csv')\n",
    "voting_regressor_v3_predictions = postprocess_pipeline.transform(\n",
    "    voting_regressor_v3.predict(preprocess_pipeline.transform(df_test))\n",
    ")\n",
    "\n",
    "df_test['Id'] = df_test['Id'].astype(int)\n",
    "df_test['SalePrice'] = voting_regressor_v3_predictions\n",
    "df_test[['Id', 'SalePrice']].to_csv('../input/house-prices-advanced-regression-techniques/submission/voting-regression-v4.csv', index=False)"
   ],
   "metadata": {
    "collapsed": false,
    "ExecuteTime": {
     "start_time": "2023-04-14T16:29:13.732749Z",
     "end_time": "2023-04-14T16:29:13.932121Z"
    }
   }
  },
  {
   "cell_type": "code",
   "execution_count": 24,
   "outputs": [
    {
     "data": {
      "text/plain": "Pipeline(steps=[('pipeline-1',\n                 Pipeline(steps=[('functiontransformer-1',\n                                  FunctionTransformer(func=<function fill_missing at 0x000001FC0003A830>)),\n                                 ('functiontransformer-2',\n                                  FunctionTransformer(func=<function year_to_age at 0x000001FC0003AA70>)),\n                                 ('functiontransformer-3',\n                                  FunctionTransformer(func=<function normalize_continuous_data at 0x000001FC0003AB00>)),\n                                 ('funct...\n                                                             random_state=0, ...)),\n                                               ('lasso', Lasso(alpha=0.0001)),\n                                               ('ridge', Ridge(alpha=1))],\n                                   final_estimator=Ridge(), n_jobs=-1,\n                                   verbose=1)),\n                ('pipeline-2',\n                 Pipeline(steps=[('functiontransformer-1',\n                                  FunctionTransformer(func=<function inverse_log_transform at 0x000001FC0003AE60>)),\n                                 ('functiontransformer-2',\n                                  FunctionTransformer(func=<function round_nearest_50 at 0x000001FC0003AEF0>))]))])",
      "text/html": "<style>#sk-container-id-5 {color: black;background-color: white;}#sk-container-id-5 pre{padding: 0;}#sk-container-id-5 div.sk-toggleable {background-color: white;}#sk-container-id-5 label.sk-toggleable__label {cursor: pointer;display: block;width: 100%;margin-bottom: 0;padding: 0.3em;box-sizing: border-box;text-align: center;}#sk-container-id-5 label.sk-toggleable__label-arrow:before {content: \"▸\";float: left;margin-right: 0.25em;color: #696969;}#sk-container-id-5 label.sk-toggleable__label-arrow:hover:before {color: black;}#sk-container-id-5 div.sk-estimator:hover label.sk-toggleable__label-arrow:before {color: black;}#sk-container-id-5 div.sk-toggleable__content {max-height: 0;max-width: 0;overflow: hidden;text-align: left;background-color: #f0f8ff;}#sk-container-id-5 div.sk-toggleable__content pre {margin: 0.2em;color: black;border-radius: 0.25em;background-color: #f0f8ff;}#sk-container-id-5 input.sk-toggleable__control:checked~div.sk-toggleable__content {max-height: 200px;max-width: 100%;overflow: auto;}#sk-container-id-5 input.sk-toggleable__control:checked~label.sk-toggleable__label-arrow:before {content: \"▾\";}#sk-container-id-5 div.sk-estimator input.sk-toggleable__control:checked~label.sk-toggleable__label {background-color: #d4ebff;}#sk-container-id-5 div.sk-label input.sk-toggleable__control:checked~label.sk-toggleable__label {background-color: #d4ebff;}#sk-container-id-5 input.sk-hidden--visually {border: 0;clip: rect(1px 1px 1px 1px);clip: rect(1px, 1px, 1px, 1px);height: 1px;margin: -1px;overflow: hidden;padding: 0;position: absolute;width: 1px;}#sk-container-id-5 div.sk-estimator {font-family: monospace;background-color: #f0f8ff;border: 1px dotted black;border-radius: 0.25em;box-sizing: border-box;margin-bottom: 0.5em;}#sk-container-id-5 div.sk-estimator:hover {background-color: #d4ebff;}#sk-container-id-5 div.sk-parallel-item::after {content: \"\";width: 100%;border-bottom: 1px solid gray;flex-grow: 1;}#sk-container-id-5 div.sk-label:hover label.sk-toggleable__label {background-color: #d4ebff;}#sk-container-id-5 div.sk-serial::before {content: \"\";position: absolute;border-left: 1px solid gray;box-sizing: border-box;top: 0;bottom: 0;left: 50%;z-index: 0;}#sk-container-id-5 div.sk-serial {display: flex;flex-direction: column;align-items: center;background-color: white;padding-right: 0.2em;padding-left: 0.2em;position: relative;}#sk-container-id-5 div.sk-item {position: relative;z-index: 1;}#sk-container-id-5 div.sk-parallel {display: flex;align-items: stretch;justify-content: center;background-color: white;position: relative;}#sk-container-id-5 div.sk-item::before, #sk-container-id-5 div.sk-parallel-item::before {content: \"\";position: absolute;border-left: 1px solid gray;box-sizing: border-box;top: 0;bottom: 0;left: 50%;z-index: -1;}#sk-container-id-5 div.sk-parallel-item {display: flex;flex-direction: column;z-index: 1;position: relative;background-color: white;}#sk-container-id-5 div.sk-parallel-item:first-child::after {align-self: flex-end;width: 50%;}#sk-container-id-5 div.sk-parallel-item:last-child::after {align-self: flex-start;width: 50%;}#sk-container-id-5 div.sk-parallel-item:only-child::after {width: 0;}#sk-container-id-5 div.sk-dashed-wrapped {border: 1px dashed gray;margin: 0 0.4em 0.5em 0.4em;box-sizing: border-box;padding-bottom: 0.4em;background-color: white;}#sk-container-id-5 div.sk-label label {font-family: monospace;font-weight: bold;display: inline-block;line-height: 1.2em;}#sk-container-id-5 div.sk-label-container {text-align: center;}#sk-container-id-5 div.sk-container {/* jupyter's `normalize.less` sets `[hidden] { display: none; }` but bootstrap.min.css set `[hidden] { display: none !important; }` so we also need the `!important` here to be able to override the default hidden behavior on the sphinx rendered scikit-learn.org. See: https://github.com/scikit-learn/scikit-learn/issues/21755 */display: inline-block !important;position: relative;}#sk-container-id-5 div.sk-text-repr-fallback {display: none;}</style><div id=\"sk-container-id-5\" class=\"sk-top-container\"><div class=\"sk-text-repr-fallback\"><pre>Pipeline(steps=[(&#x27;pipeline-1&#x27;,\n                 Pipeline(steps=[(&#x27;functiontransformer-1&#x27;,\n                                  FunctionTransformer(func=&lt;function fill_missing at 0x000001FC0003A830&gt;)),\n                                 (&#x27;functiontransformer-2&#x27;,\n                                  FunctionTransformer(func=&lt;function year_to_age at 0x000001FC0003AA70&gt;)),\n                                 (&#x27;functiontransformer-3&#x27;,\n                                  FunctionTransformer(func=&lt;function normalize_continuous_data at 0x000001FC0003AB00&gt;)),\n                                 (&#x27;funct...\n                                                             random_state=0, ...)),\n                                               (&#x27;lasso&#x27;, Lasso(alpha=0.0001)),\n                                               (&#x27;ridge&#x27;, Ridge(alpha=1))],\n                                   final_estimator=Ridge(), n_jobs=-1,\n                                   verbose=1)),\n                (&#x27;pipeline-2&#x27;,\n                 Pipeline(steps=[(&#x27;functiontransformer-1&#x27;,\n                                  FunctionTransformer(func=&lt;function inverse_log_transform at 0x000001FC0003AE60&gt;)),\n                                 (&#x27;functiontransformer-2&#x27;,\n                                  FunctionTransformer(func=&lt;function round_nearest_50 at 0x000001FC0003AEF0&gt;))]))])</pre><b>In a Jupyter environment, please rerun this cell to show the HTML representation or trust the notebook. <br />On GitHub, the HTML representation is unable to render, please try loading this page with nbviewer.org.</b></div><div class=\"sk-container\" hidden><div class=\"sk-item sk-dashed-wrapped\"><div class=\"sk-label-container\"><div class=\"sk-label sk-toggleable\"><input class=\"sk-toggleable__control sk-hidden--visually\" id=\"sk-estimator-id-60\" type=\"checkbox\" ><label for=\"sk-estimator-id-60\" class=\"sk-toggleable__label sk-toggleable__label-arrow\">Pipeline</label><div class=\"sk-toggleable__content\"><pre>Pipeline(steps=[(&#x27;pipeline-1&#x27;,\n                 Pipeline(steps=[(&#x27;functiontransformer-1&#x27;,\n                                  FunctionTransformer(func=&lt;function fill_missing at 0x000001FC0003A830&gt;)),\n                                 (&#x27;functiontransformer-2&#x27;,\n                                  FunctionTransformer(func=&lt;function year_to_age at 0x000001FC0003AA70&gt;)),\n                                 (&#x27;functiontransformer-3&#x27;,\n                                  FunctionTransformer(func=&lt;function normalize_continuous_data at 0x000001FC0003AB00&gt;)),\n                                 (&#x27;funct...\n                                                             random_state=0, ...)),\n                                               (&#x27;lasso&#x27;, Lasso(alpha=0.0001)),\n                                               (&#x27;ridge&#x27;, Ridge(alpha=1))],\n                                   final_estimator=Ridge(), n_jobs=-1,\n                                   verbose=1)),\n                (&#x27;pipeline-2&#x27;,\n                 Pipeline(steps=[(&#x27;functiontransformer-1&#x27;,\n                                  FunctionTransformer(func=&lt;function inverse_log_transform at 0x000001FC0003AE60&gt;)),\n                                 (&#x27;functiontransformer-2&#x27;,\n                                  FunctionTransformer(func=&lt;function round_nearest_50 at 0x000001FC0003AEF0&gt;))]))])</pre></div></div></div><div class=\"sk-serial\"><div class=\"sk-item\"><div class=\"sk-label-container\"><div class=\"sk-label sk-toggleable\"><input class=\"sk-toggleable__control sk-hidden--visually\" id=\"sk-estimator-id-61\" type=\"checkbox\" ><label for=\"sk-estimator-id-61\" class=\"sk-toggleable__label sk-toggleable__label-arrow\">pipeline-1: Pipeline</label><div class=\"sk-toggleable__content\"><pre>Pipeline(steps=[(&#x27;functiontransformer-1&#x27;,\n                 FunctionTransformer(func=&lt;function fill_missing at 0x000001FC0003A830&gt;)),\n                (&#x27;functiontransformer-2&#x27;,\n                 FunctionTransformer(func=&lt;function year_to_age at 0x000001FC0003AA70&gt;)),\n                (&#x27;functiontransformer-3&#x27;,\n                 FunctionTransformer(func=&lt;function normalize_continuous_data at 0x000001FC0003AB00&gt;)),\n                (&#x27;functiontransformer-4&#x27;,\n                 FunctionTransformer(func=&lt;function encode_discrete_data at 0x000001FC0003AD40&gt;)),\n                (&#x27;functiontransformer-5&#x27;,\n                 FunctionTransformer(func=&lt;function select_features at 0x000001FC0003ADD0&gt;))])</pre></div></div></div><div class=\"sk-serial\"><div class=\"sk-item\"><div class=\"sk-estimator sk-toggleable\"><input class=\"sk-toggleable__control sk-hidden--visually\" id=\"sk-estimator-id-62\" type=\"checkbox\" ><label for=\"sk-estimator-id-62\" class=\"sk-toggleable__label sk-toggleable__label-arrow\">FunctionTransformer</label><div class=\"sk-toggleable__content\"><pre>FunctionTransformer(func=&lt;function fill_missing at 0x000001FC0003A830&gt;)</pre></div></div></div><div class=\"sk-item\"><div class=\"sk-estimator sk-toggleable\"><input class=\"sk-toggleable__control sk-hidden--visually\" id=\"sk-estimator-id-63\" type=\"checkbox\" ><label for=\"sk-estimator-id-63\" class=\"sk-toggleable__label sk-toggleable__label-arrow\">FunctionTransformer</label><div class=\"sk-toggleable__content\"><pre>FunctionTransformer(func=&lt;function year_to_age at 0x000001FC0003AA70&gt;)</pre></div></div></div><div class=\"sk-item\"><div class=\"sk-estimator sk-toggleable\"><input class=\"sk-toggleable__control sk-hidden--visually\" id=\"sk-estimator-id-64\" type=\"checkbox\" ><label for=\"sk-estimator-id-64\" class=\"sk-toggleable__label sk-toggleable__label-arrow\">FunctionTransformer</label><div class=\"sk-toggleable__content\"><pre>FunctionTransformer(func=&lt;function normalize_continuous_data at 0x000001FC0003AB00&gt;)</pre></div></div></div><div class=\"sk-item\"><div class=\"sk-estimator sk-toggleable\"><input class=\"sk-toggleable__control sk-hidden--visually\" id=\"sk-estimator-id-65\" type=\"checkbox\" ><label for=\"sk-estimator-id-65\" class=\"sk-toggleable__label sk-toggleable__label-arrow\">FunctionTransformer</label><div class=\"sk-toggleable__content\"><pre>FunctionTransformer(func=&lt;function encode_discrete_data at 0x000001FC0003AD40&gt;)</pre></div></div></div><div class=\"sk-item\"><div class=\"sk-estimator sk-toggleable\"><input class=\"sk-toggleable__control sk-hidden--visually\" id=\"sk-estimator-id-66\" type=\"checkbox\" ><label for=\"sk-estimator-id-66\" class=\"sk-toggleable__label sk-toggleable__label-arrow\">FunctionTransformer</label><div class=\"sk-toggleable__content\"><pre>FunctionTransformer(func=&lt;function select_features at 0x000001FC0003ADD0&gt;)</pre></div></div></div></div></div><div class=\"sk-item\"><div class=\"sk-label-container\"><div class=\"sk-label sk-toggleable\"><input class=\"sk-toggleable__control sk-hidden--visually\" id=\"sk-estimator-id-67\" type=\"checkbox\" ><label for=\"sk-estimator-id-67\" class=\"sk-toggleable__label sk-toggleable__label-arrow\">stackingregressor: StackingRegressor</label><div class=\"sk-toggleable__content\"><pre>StackingRegressor(estimators=[(&#x27;kernel_ridge&#x27;,\n                               KernelRidge(alpha=0.001, gamma=0.001,\n                                           kernel=&#x27;rbf&#x27;)),\n                              (&#x27;svr&#x27;, SVR(C=100)),\n                              (&#x27;xgboost&#x27;,\n                               XGBRegressor(base_score=None, booster=None,\n                                            callbacks=None,\n                                            colsample_bylevel=None,\n                                            colsample_bynode=None,\n                                            colsample_bytree=None,\n                                            early_stopping_rounds=None,\n                                            enable_categorical=False,\n                                            eval_metric=None,\n                                            feature_types=None, gamma=None,...\n                                            learning_rate=0.1, max_bin=None,\n                                            max_cat_threshold=None,\n                                            max_cat_to_onehot=None,\n                                            max_delta_step=None, max_depth=5,\n                                            max_leaves=None,\n                                            min_child_weight=None, missing=nan,\n                                            monotone_constraints=None,\n                                            n_estimators=100, n_jobs=None,\n                                            num_parallel_tree=None,\n                                            predictor=None, random_state=0, ...)),\n                              (&#x27;lasso&#x27;, Lasso(alpha=0.0001)),\n                              (&#x27;ridge&#x27;, Ridge(alpha=1))],\n                  final_estimator=Ridge(), n_jobs=-1, verbose=1)</pre></div></div></div><div class=\"sk-serial\"><div class=\"sk-item\"><div class=\"sk-parallel\"><div class=\"sk-parallel-item\"><div class=\"sk-item\"><div class=\"sk-label-container\"><div class=\"sk-label sk-toggleable\"><label>kernel_ridge</label></div></div><div class=\"sk-serial\"><div class=\"sk-item\"><div class=\"sk-estimator sk-toggleable\"><input class=\"sk-toggleable__control sk-hidden--visually\" id=\"sk-estimator-id-68\" type=\"checkbox\" ><label for=\"sk-estimator-id-68\" class=\"sk-toggleable__label sk-toggleable__label-arrow\">KernelRidge</label><div class=\"sk-toggleable__content\"><pre>KernelRidge(alpha=0.001, gamma=0.001, kernel=&#x27;rbf&#x27;)</pre></div></div></div></div></div></div><div class=\"sk-parallel-item\"><div class=\"sk-item\"><div class=\"sk-label-container\"><div class=\"sk-label sk-toggleable\"><label>svr</label></div></div><div class=\"sk-serial\"><div class=\"sk-item\"><div class=\"sk-estimator sk-toggleable\"><input class=\"sk-toggleable__control sk-hidden--visually\" id=\"sk-estimator-id-69\" type=\"checkbox\" ><label for=\"sk-estimator-id-69\" class=\"sk-toggleable__label sk-toggleable__label-arrow\">SVR</label><div class=\"sk-toggleable__content\"><pre>SVR(C=100)</pre></div></div></div></div></div></div><div class=\"sk-parallel-item\"><div class=\"sk-item\"><div class=\"sk-label-container\"><div class=\"sk-label sk-toggleable\"><label>xgboost</label></div></div><div class=\"sk-serial\"><div class=\"sk-item\"><div class=\"sk-estimator sk-toggleable\"><input class=\"sk-toggleable__control sk-hidden--visually\" id=\"sk-estimator-id-70\" type=\"checkbox\" ><label for=\"sk-estimator-id-70\" class=\"sk-toggleable__label sk-toggleable__label-arrow\">XGBRegressor</label><div class=\"sk-toggleable__content\"><pre>XGBRegressor(base_score=None, booster=None, callbacks=None,\n             colsample_bylevel=None, colsample_bynode=None,\n             colsample_bytree=None, early_stopping_rounds=None,\n             enable_categorical=False, eval_metric=None, feature_types=None,\n             gamma=None, gpu_id=None, grow_policy=None, importance_type=None,\n             interaction_constraints=None, learning_rate=0.1, max_bin=None,\n             max_cat_threshold=None, max_cat_to_onehot=None,\n             max_delta_step=None, max_depth=5, max_leaves=None,\n             min_child_weight=None, missing=nan, monotone_constraints=None,\n             n_estimators=100, n_jobs=None, num_parallel_tree=None,\n             predictor=None, random_state=0, ...)</pre></div></div></div></div></div></div><div class=\"sk-parallel-item\"><div class=\"sk-item\"><div class=\"sk-label-container\"><div class=\"sk-label sk-toggleable\"><label>lasso</label></div></div><div class=\"sk-serial\"><div class=\"sk-item\"><div class=\"sk-estimator sk-toggleable\"><input class=\"sk-toggleable__control sk-hidden--visually\" id=\"sk-estimator-id-71\" type=\"checkbox\" ><label for=\"sk-estimator-id-71\" class=\"sk-toggleable__label sk-toggleable__label-arrow\">Lasso</label><div class=\"sk-toggleable__content\"><pre>Lasso(alpha=0.0001)</pre></div></div></div></div></div></div><div class=\"sk-parallel-item\"><div class=\"sk-item\"><div class=\"sk-label-container\"><div class=\"sk-label sk-toggleable\"><label>ridge</label></div></div><div class=\"sk-serial\"><div class=\"sk-item\"><div class=\"sk-estimator sk-toggleable\"><input class=\"sk-toggleable__control sk-hidden--visually\" id=\"sk-estimator-id-72\" type=\"checkbox\" ><label for=\"sk-estimator-id-72\" class=\"sk-toggleable__label sk-toggleable__label-arrow\">Ridge</label><div class=\"sk-toggleable__content\"><pre>Ridge(alpha=1)</pre></div></div></div></div></div></div></div></div><div class=\"sk-item\"><div class=\"sk-parallel\"><div class=\"sk-parallel-item\"><div class=\"sk-item\"><div class=\"sk-label-container\"><div class=\"sk-label sk-toggleable\"><label>final_estimator</label></div></div><div class=\"sk-serial\"><div class=\"sk-item\"><div class=\"sk-estimator sk-toggleable\"><input class=\"sk-toggleable__control sk-hidden--visually\" id=\"sk-estimator-id-73\" type=\"checkbox\" ><label for=\"sk-estimator-id-73\" class=\"sk-toggleable__label sk-toggleable__label-arrow\">Ridge</label><div class=\"sk-toggleable__content\"><pre>Ridge()</pre></div></div></div></div></div></div></div></div></div></div><div class=\"sk-item\"><div class=\"sk-label-container\"><div class=\"sk-label sk-toggleable\"><input class=\"sk-toggleable__control sk-hidden--visually\" id=\"sk-estimator-id-74\" type=\"checkbox\" ><label for=\"sk-estimator-id-74\" class=\"sk-toggleable__label sk-toggleable__label-arrow\">pipeline-2: Pipeline</label><div class=\"sk-toggleable__content\"><pre>Pipeline(steps=[(&#x27;functiontransformer-1&#x27;,\n                 FunctionTransformer(func=&lt;function inverse_log_transform at 0x000001FC0003AE60&gt;)),\n                (&#x27;functiontransformer-2&#x27;,\n                 FunctionTransformer(func=&lt;function round_nearest_50 at 0x000001FC0003AEF0&gt;))])</pre></div></div></div><div class=\"sk-serial\"><div class=\"sk-item\"><div class=\"sk-estimator sk-toggleable\"><input class=\"sk-toggleable__control sk-hidden--visually\" id=\"sk-estimator-id-75\" type=\"checkbox\" ><label for=\"sk-estimator-id-75\" class=\"sk-toggleable__label sk-toggleable__label-arrow\">FunctionTransformer</label><div class=\"sk-toggleable__content\"><pre>FunctionTransformer(func=&lt;function inverse_log_transform at 0x000001FC0003AE60&gt;)</pre></div></div></div><div class=\"sk-item\"><div class=\"sk-estimator sk-toggleable\"><input class=\"sk-toggleable__control sk-hidden--visually\" id=\"sk-estimator-id-76\" type=\"checkbox\" ><label for=\"sk-estimator-id-76\" class=\"sk-toggleable__label sk-toggleable__label-arrow\">FunctionTransformer</label><div class=\"sk-toggleable__content\"><pre>FunctionTransformer(func=&lt;function round_nearest_50 at 0x000001FC0003AEF0&gt;)</pre></div></div></div></div></div></div></div></div></div>"
     },
     "execution_count": 24,
     "metadata": {},
     "output_type": "execute_result"
    }
   ],
   "source": [
    "complete_stack_regressor_pipeline_v2 = make_pipeline(\n",
    "    preprocess_pipeline,\n",
    "    stack_regressor_v2,\n",
    "    postprocess_pipeline\n",
    ")\n",
    "\n",
    "complete_stack_regressor_pipeline_v2.fit(df_train, df_train['SalePriceLog1p'])"
   ],
   "metadata": {
    "collapsed": false,
    "ExecuteTime": {
     "start_time": "2023-04-14T16:29:13.935122Z",
     "end_time": "2023-04-14T16:29:14.848140Z"
    }
   }
  },
  {
   "cell_type": "code",
   "execution_count": 25,
   "outputs": [],
   "source": [
    "df_test = pd.read_csv('../input/house-prices-advanced-regression-techniques/test.csv')\n",
    "\n",
    "stack_regressor_v2_predictions = postprocess_pipeline.transform(\n",
    "    stack_regressor_v2.predict(preprocess_pipeline.transform(df_test))\n",
    ")\n",
    "\n",
    "df_test['Id'] = df_test['Id'].astype(int)\n",
    "df_test['SalePrice'] = stack_regressor_v2_predictions\n",
    "df_test[['Id', 'SalePrice']].to_csv('../input/house-prices-advanced-regression-techniques/submission/stack-regression-v2.csv', index=False)"
   ],
   "metadata": {
    "collapsed": false,
    "ExecuteTime": {
     "start_time": "2023-04-14T16:29:14.850141Z",
     "end_time": "2023-04-14T16:29:15.057310Z"
    }
   }
  },
  {
   "cell_type": "markdown",
   "source": [
    "### Score\n",
    "\n",
    "Voting Regressor v4: 0.14577\n",
    "Stack Regressor v2: 0.14395"
   ],
   "metadata": {
    "collapsed": false
   }
  },
  {
   "cell_type": "markdown",
   "source": [
    "## Try VotingRegressor with weights\n",
    "\n",
    "Above experiments show that VotingRegressor with top 3 models is better than top 5 models.\n",
    "\n",
    "We will pick it and try a few set of weights."
   ],
   "metadata": {
    "collapsed": false
   }
  },
  {
   "cell_type": "code",
   "execution_count": 26,
   "outputs": [],
   "source": [
    "from sklearn.model_selection import GridSearchCV"
   ],
   "metadata": {
    "collapsed": false,
    "ExecuteTime": {
     "start_time": "2023-04-14T16:29:15.060311Z",
     "end_time": "2023-04-14T16:29:15.086065Z"
    }
   }
  },
  {
   "cell_type": "code",
   "execution_count": 28,
   "outputs": [
    {
     "name": "stdout",
     "output_type": "stream",
     "text": [
      "Fitting 5 folds for each of 4 candidates, totalling 20 fits\n",
      "Best Score: -0.145565209088873\n",
      "Best Params: {'weights': [0.4, 0.3, 0.3]}\n"
     ]
    }
   ],
   "source": [
    "voting_regressor_v4 = VotingRegressor(\n",
    "    estimators=[\n",
    "        ('kernel_ridge', kernel_ridge),\n",
    "        ('svr', svr),\n",
    "        ('xgboost', xgboost)\n",
    "    ],\n",
    "    n_jobs=-1,\n",
    "    verbose=1\n",
    ")\n",
    "\n",
    "voting_v4_params = {\n",
    "    'weights': [\n",
    "        [0.4, 0.3, 0.3],\n",
    "        [0.5, 0.25, 0.25],\n",
    "        [0.6, 0.2, 0.2],\n",
    "        [0.7, 0.15, 0.15],\n",
    "    ]\n",
    "}\n",
    "\n",
    "voting_regressor_v4_cv = GridSearchCV(\n",
    "    voting_regressor_v4,\n",
    "    voting_v4_params,\n",
    "    cv=5,\n",
    "    scoring='neg_root_mean_squared_error',\n",
    "    n_jobs=-1,\n",
    "    verbose=1\n",
    ")\n",
    "\n",
    "df_preprocessed = preprocess_pipeline.fit_transform(df_train)\n",
    "\n",
    "voting_regressor_v4_cv.fit(df_preprocessed, df_train['SalePriceLog1p'])\n",
    "\n",
    "print(f'Best Score: {voting_regressor_v4_cv.best_score_}')\n",
    "print(f'Best Params: {voting_regressor_v4_cv.best_params_}')"
   ],
   "metadata": {
    "collapsed": false,
    "ExecuteTime": {
     "start_time": "2023-04-14T16:32:02.672211Z",
     "end_time": "2023-04-14T16:32:11.758418Z"
    }
   }
  },
  {
   "cell_type": "code",
   "execution_count": 30,
   "outputs": [
    {
     "data": {
      "text/plain": "Pipeline(steps=[('pipeline-1',\n                 Pipeline(steps=[('functiontransformer-1',\n                                  FunctionTransformer(func=<function fill_missing at 0x000001FC0003A830>)),\n                                 ('functiontransformer-2',\n                                  FunctionTransformer(func=<function year_to_age at 0x000001FC0003AA70>)),\n                                 ('functiontransformer-3',\n                                  FunctionTransformer(func=<function normalize_continuous_data at 0x000001FC0003AB00>)),\n                                 ('funct...\n                                                           n_jobs=None,\n                                                           num_parallel_tree=None,\n                                                           predictor=None,\n                                                           random_state=0, ...))],\n                                 n_jobs=-1, verbose=1,\n                                 weights=[0.4, 0.3, 0.3])),\n                ('pipeline-2',\n                 Pipeline(steps=[('functiontransformer-1',\n                                  FunctionTransformer(func=<function inverse_log_transform at 0x000001FC0003AE60>)),\n                                 ('functiontransformer-2',\n                                  FunctionTransformer(func=<function round_nearest_50 at 0x000001FC0003AEF0>))]))])",
      "text/html": "<style>#sk-container-id-6 {color: black;background-color: white;}#sk-container-id-6 pre{padding: 0;}#sk-container-id-6 div.sk-toggleable {background-color: white;}#sk-container-id-6 label.sk-toggleable__label {cursor: pointer;display: block;width: 100%;margin-bottom: 0;padding: 0.3em;box-sizing: border-box;text-align: center;}#sk-container-id-6 label.sk-toggleable__label-arrow:before {content: \"▸\";float: left;margin-right: 0.25em;color: #696969;}#sk-container-id-6 label.sk-toggleable__label-arrow:hover:before {color: black;}#sk-container-id-6 div.sk-estimator:hover label.sk-toggleable__label-arrow:before {color: black;}#sk-container-id-6 div.sk-toggleable__content {max-height: 0;max-width: 0;overflow: hidden;text-align: left;background-color: #f0f8ff;}#sk-container-id-6 div.sk-toggleable__content pre {margin: 0.2em;color: black;border-radius: 0.25em;background-color: #f0f8ff;}#sk-container-id-6 input.sk-toggleable__control:checked~div.sk-toggleable__content {max-height: 200px;max-width: 100%;overflow: auto;}#sk-container-id-6 input.sk-toggleable__control:checked~label.sk-toggleable__label-arrow:before {content: \"▾\";}#sk-container-id-6 div.sk-estimator input.sk-toggleable__control:checked~label.sk-toggleable__label {background-color: #d4ebff;}#sk-container-id-6 div.sk-label input.sk-toggleable__control:checked~label.sk-toggleable__label {background-color: #d4ebff;}#sk-container-id-6 input.sk-hidden--visually {border: 0;clip: rect(1px 1px 1px 1px);clip: rect(1px, 1px, 1px, 1px);height: 1px;margin: -1px;overflow: hidden;padding: 0;position: absolute;width: 1px;}#sk-container-id-6 div.sk-estimator {font-family: monospace;background-color: #f0f8ff;border: 1px dotted black;border-radius: 0.25em;box-sizing: border-box;margin-bottom: 0.5em;}#sk-container-id-6 div.sk-estimator:hover {background-color: #d4ebff;}#sk-container-id-6 div.sk-parallel-item::after {content: \"\";width: 100%;border-bottom: 1px solid gray;flex-grow: 1;}#sk-container-id-6 div.sk-label:hover label.sk-toggleable__label {background-color: #d4ebff;}#sk-container-id-6 div.sk-serial::before {content: \"\";position: absolute;border-left: 1px solid gray;box-sizing: border-box;top: 0;bottom: 0;left: 50%;z-index: 0;}#sk-container-id-6 div.sk-serial {display: flex;flex-direction: column;align-items: center;background-color: white;padding-right: 0.2em;padding-left: 0.2em;position: relative;}#sk-container-id-6 div.sk-item {position: relative;z-index: 1;}#sk-container-id-6 div.sk-parallel {display: flex;align-items: stretch;justify-content: center;background-color: white;position: relative;}#sk-container-id-6 div.sk-item::before, #sk-container-id-6 div.sk-parallel-item::before {content: \"\";position: absolute;border-left: 1px solid gray;box-sizing: border-box;top: 0;bottom: 0;left: 50%;z-index: -1;}#sk-container-id-6 div.sk-parallel-item {display: flex;flex-direction: column;z-index: 1;position: relative;background-color: white;}#sk-container-id-6 div.sk-parallel-item:first-child::after {align-self: flex-end;width: 50%;}#sk-container-id-6 div.sk-parallel-item:last-child::after {align-self: flex-start;width: 50%;}#sk-container-id-6 div.sk-parallel-item:only-child::after {width: 0;}#sk-container-id-6 div.sk-dashed-wrapped {border: 1px dashed gray;margin: 0 0.4em 0.5em 0.4em;box-sizing: border-box;padding-bottom: 0.4em;background-color: white;}#sk-container-id-6 div.sk-label label {font-family: monospace;font-weight: bold;display: inline-block;line-height: 1.2em;}#sk-container-id-6 div.sk-label-container {text-align: center;}#sk-container-id-6 div.sk-container {/* jupyter's `normalize.less` sets `[hidden] { display: none; }` but bootstrap.min.css set `[hidden] { display: none !important; }` so we also need the `!important` here to be able to override the default hidden behavior on the sphinx rendered scikit-learn.org. See: https://github.com/scikit-learn/scikit-learn/issues/21755 */display: inline-block !important;position: relative;}#sk-container-id-6 div.sk-text-repr-fallback {display: none;}</style><div id=\"sk-container-id-6\" class=\"sk-top-container\"><div class=\"sk-text-repr-fallback\"><pre>Pipeline(steps=[(&#x27;pipeline-1&#x27;,\n                 Pipeline(steps=[(&#x27;functiontransformer-1&#x27;,\n                                  FunctionTransformer(func=&lt;function fill_missing at 0x000001FC0003A830&gt;)),\n                                 (&#x27;functiontransformer-2&#x27;,\n                                  FunctionTransformer(func=&lt;function year_to_age at 0x000001FC0003AA70&gt;)),\n                                 (&#x27;functiontransformer-3&#x27;,\n                                  FunctionTransformer(func=&lt;function normalize_continuous_data at 0x000001FC0003AB00&gt;)),\n                                 (&#x27;funct...\n                                                           n_jobs=None,\n                                                           num_parallel_tree=None,\n                                                           predictor=None,\n                                                           random_state=0, ...))],\n                                 n_jobs=-1, verbose=1,\n                                 weights=[0.4, 0.3, 0.3])),\n                (&#x27;pipeline-2&#x27;,\n                 Pipeline(steps=[(&#x27;functiontransformer-1&#x27;,\n                                  FunctionTransformer(func=&lt;function inverse_log_transform at 0x000001FC0003AE60&gt;)),\n                                 (&#x27;functiontransformer-2&#x27;,\n                                  FunctionTransformer(func=&lt;function round_nearest_50 at 0x000001FC0003AEF0&gt;))]))])</pre><b>In a Jupyter environment, please rerun this cell to show the HTML representation or trust the notebook. <br />On GitHub, the HTML representation is unable to render, please try loading this page with nbviewer.org.</b></div><div class=\"sk-container\" hidden><div class=\"sk-item sk-dashed-wrapped\"><div class=\"sk-label-container\"><div class=\"sk-label sk-toggleable\"><input class=\"sk-toggleable__control sk-hidden--visually\" id=\"sk-estimator-id-77\" type=\"checkbox\" ><label for=\"sk-estimator-id-77\" class=\"sk-toggleable__label sk-toggleable__label-arrow\">Pipeline</label><div class=\"sk-toggleable__content\"><pre>Pipeline(steps=[(&#x27;pipeline-1&#x27;,\n                 Pipeline(steps=[(&#x27;functiontransformer-1&#x27;,\n                                  FunctionTransformer(func=&lt;function fill_missing at 0x000001FC0003A830&gt;)),\n                                 (&#x27;functiontransformer-2&#x27;,\n                                  FunctionTransformer(func=&lt;function year_to_age at 0x000001FC0003AA70&gt;)),\n                                 (&#x27;functiontransformer-3&#x27;,\n                                  FunctionTransformer(func=&lt;function normalize_continuous_data at 0x000001FC0003AB00&gt;)),\n                                 (&#x27;funct...\n                                                           n_jobs=None,\n                                                           num_parallel_tree=None,\n                                                           predictor=None,\n                                                           random_state=0, ...))],\n                                 n_jobs=-1, verbose=1,\n                                 weights=[0.4, 0.3, 0.3])),\n                (&#x27;pipeline-2&#x27;,\n                 Pipeline(steps=[(&#x27;functiontransformer-1&#x27;,\n                                  FunctionTransformer(func=&lt;function inverse_log_transform at 0x000001FC0003AE60&gt;)),\n                                 (&#x27;functiontransformer-2&#x27;,\n                                  FunctionTransformer(func=&lt;function round_nearest_50 at 0x000001FC0003AEF0&gt;))]))])</pre></div></div></div><div class=\"sk-serial\"><div class=\"sk-item\"><div class=\"sk-label-container\"><div class=\"sk-label sk-toggleable\"><input class=\"sk-toggleable__control sk-hidden--visually\" id=\"sk-estimator-id-78\" type=\"checkbox\" ><label for=\"sk-estimator-id-78\" class=\"sk-toggleable__label sk-toggleable__label-arrow\">pipeline-1: Pipeline</label><div class=\"sk-toggleable__content\"><pre>Pipeline(steps=[(&#x27;functiontransformer-1&#x27;,\n                 FunctionTransformer(func=&lt;function fill_missing at 0x000001FC0003A830&gt;)),\n                (&#x27;functiontransformer-2&#x27;,\n                 FunctionTransformer(func=&lt;function year_to_age at 0x000001FC0003AA70&gt;)),\n                (&#x27;functiontransformer-3&#x27;,\n                 FunctionTransformer(func=&lt;function normalize_continuous_data at 0x000001FC0003AB00&gt;)),\n                (&#x27;functiontransformer-4&#x27;,\n                 FunctionTransformer(func=&lt;function encode_discrete_data at 0x000001FC0003AD40&gt;)),\n                (&#x27;functiontransformer-5&#x27;,\n                 FunctionTransformer(func=&lt;function select_features at 0x000001FC0003ADD0&gt;))])</pre></div></div></div><div class=\"sk-serial\"><div class=\"sk-item\"><div class=\"sk-estimator sk-toggleable\"><input class=\"sk-toggleable__control sk-hidden--visually\" id=\"sk-estimator-id-79\" type=\"checkbox\" ><label for=\"sk-estimator-id-79\" class=\"sk-toggleable__label sk-toggleable__label-arrow\">FunctionTransformer</label><div class=\"sk-toggleable__content\"><pre>FunctionTransformer(func=&lt;function fill_missing at 0x000001FC0003A830&gt;)</pre></div></div></div><div class=\"sk-item\"><div class=\"sk-estimator sk-toggleable\"><input class=\"sk-toggleable__control sk-hidden--visually\" id=\"sk-estimator-id-80\" type=\"checkbox\" ><label for=\"sk-estimator-id-80\" class=\"sk-toggleable__label sk-toggleable__label-arrow\">FunctionTransformer</label><div class=\"sk-toggleable__content\"><pre>FunctionTransformer(func=&lt;function year_to_age at 0x000001FC0003AA70&gt;)</pre></div></div></div><div class=\"sk-item\"><div class=\"sk-estimator sk-toggleable\"><input class=\"sk-toggleable__control sk-hidden--visually\" id=\"sk-estimator-id-81\" type=\"checkbox\" ><label for=\"sk-estimator-id-81\" class=\"sk-toggleable__label sk-toggleable__label-arrow\">FunctionTransformer</label><div class=\"sk-toggleable__content\"><pre>FunctionTransformer(func=&lt;function normalize_continuous_data at 0x000001FC0003AB00&gt;)</pre></div></div></div><div class=\"sk-item\"><div class=\"sk-estimator sk-toggleable\"><input class=\"sk-toggleable__control sk-hidden--visually\" id=\"sk-estimator-id-82\" type=\"checkbox\" ><label for=\"sk-estimator-id-82\" class=\"sk-toggleable__label sk-toggleable__label-arrow\">FunctionTransformer</label><div class=\"sk-toggleable__content\"><pre>FunctionTransformer(func=&lt;function encode_discrete_data at 0x000001FC0003AD40&gt;)</pre></div></div></div><div class=\"sk-item\"><div class=\"sk-estimator sk-toggleable\"><input class=\"sk-toggleable__control sk-hidden--visually\" id=\"sk-estimator-id-83\" type=\"checkbox\" ><label for=\"sk-estimator-id-83\" class=\"sk-toggleable__label sk-toggleable__label-arrow\">FunctionTransformer</label><div class=\"sk-toggleable__content\"><pre>FunctionTransformer(func=&lt;function select_features at 0x000001FC0003ADD0&gt;)</pre></div></div></div></div></div><div class=\"sk-item sk-dashed-wrapped\"><div class=\"sk-label-container\"><div class=\"sk-label sk-toggleable\"><input class=\"sk-toggleable__control sk-hidden--visually\" id=\"sk-estimator-id-84\" type=\"checkbox\" ><label for=\"sk-estimator-id-84\" class=\"sk-toggleable__label sk-toggleable__label-arrow\">votingregressor: VotingRegressor</label><div class=\"sk-toggleable__content\"><pre>VotingRegressor(estimators=[(&#x27;kernel_ridge&#x27;,\n                             KernelRidge(alpha=0.001, gamma=0.001,\n                                         kernel=&#x27;rbf&#x27;)),\n                            (&#x27;svr&#x27;, SVR(C=100)),\n                            (&#x27;xgboost&#x27;,\n                             XGBRegressor(base_score=None, booster=None,\n                                          callbacks=None,\n                                          colsample_bylevel=None,\n                                          colsample_bynode=None,\n                                          colsample_bytree=None,\n                                          early_stopping_rounds=None,\n                                          enable_categorical=False,\n                                          eval_metric=None, feature_types=None,\n                                          gamma=None, gp...\n                                          importance_type=None,\n                                          interaction_constraints=None,\n                                          learning_rate=0.1, max_bin=None,\n                                          max_cat_threshold=None,\n                                          max_cat_to_onehot=None,\n                                          max_delta_step=None, max_depth=5,\n                                          max_leaves=None,\n                                          min_child_weight=None, missing=nan,\n                                          monotone_constraints=None,\n                                          n_estimators=100, n_jobs=None,\n                                          num_parallel_tree=None,\n                                          predictor=None, random_state=0, ...))],\n                n_jobs=-1, verbose=1, weights=[0.4, 0.3, 0.3])</pre></div></div></div><div class=\"sk-parallel\"><div class=\"sk-parallel-item\"><div class=\"sk-item\"><div class=\"sk-label-container\"><div class=\"sk-label sk-toggleable\"><label>kernel_ridge</label></div></div><div class=\"sk-serial\"><div class=\"sk-item\"><div class=\"sk-estimator sk-toggleable\"><input class=\"sk-toggleable__control sk-hidden--visually\" id=\"sk-estimator-id-85\" type=\"checkbox\" ><label for=\"sk-estimator-id-85\" class=\"sk-toggleable__label sk-toggleable__label-arrow\">KernelRidge</label><div class=\"sk-toggleable__content\"><pre>KernelRidge(alpha=0.001, gamma=0.001, kernel=&#x27;rbf&#x27;)</pre></div></div></div></div></div></div><div class=\"sk-parallel-item\"><div class=\"sk-item\"><div class=\"sk-label-container\"><div class=\"sk-label sk-toggleable\"><label>svr</label></div></div><div class=\"sk-serial\"><div class=\"sk-item\"><div class=\"sk-estimator sk-toggleable\"><input class=\"sk-toggleable__control sk-hidden--visually\" id=\"sk-estimator-id-86\" type=\"checkbox\" ><label for=\"sk-estimator-id-86\" class=\"sk-toggleable__label sk-toggleable__label-arrow\">SVR</label><div class=\"sk-toggleable__content\"><pre>SVR(C=100)</pre></div></div></div></div></div></div><div class=\"sk-parallel-item\"><div class=\"sk-item\"><div class=\"sk-label-container\"><div class=\"sk-label sk-toggleable\"><label>xgboost</label></div></div><div class=\"sk-serial\"><div class=\"sk-item\"><div class=\"sk-estimator sk-toggleable\"><input class=\"sk-toggleable__control sk-hidden--visually\" id=\"sk-estimator-id-87\" type=\"checkbox\" ><label for=\"sk-estimator-id-87\" class=\"sk-toggleable__label sk-toggleable__label-arrow\">XGBRegressor</label><div class=\"sk-toggleable__content\"><pre>XGBRegressor(base_score=None, booster=None, callbacks=None,\n             colsample_bylevel=None, colsample_bynode=None,\n             colsample_bytree=None, early_stopping_rounds=None,\n             enable_categorical=False, eval_metric=None, feature_types=None,\n             gamma=None, gpu_id=None, grow_policy=None, importance_type=None,\n             interaction_constraints=None, learning_rate=0.1, max_bin=None,\n             max_cat_threshold=None, max_cat_to_onehot=None,\n             max_delta_step=None, max_depth=5, max_leaves=None,\n             min_child_weight=None, missing=nan, monotone_constraints=None,\n             n_estimators=100, n_jobs=None, num_parallel_tree=None,\n             predictor=None, random_state=0, ...)</pre></div></div></div></div></div></div></div></div><div class=\"sk-item\"><div class=\"sk-label-container\"><div class=\"sk-label sk-toggleable\"><input class=\"sk-toggleable__control sk-hidden--visually\" id=\"sk-estimator-id-88\" type=\"checkbox\" ><label for=\"sk-estimator-id-88\" class=\"sk-toggleable__label sk-toggleable__label-arrow\">pipeline-2: Pipeline</label><div class=\"sk-toggleable__content\"><pre>Pipeline(steps=[(&#x27;functiontransformer-1&#x27;,\n                 FunctionTransformer(func=&lt;function inverse_log_transform at 0x000001FC0003AE60&gt;)),\n                (&#x27;functiontransformer-2&#x27;,\n                 FunctionTransformer(func=&lt;function round_nearest_50 at 0x000001FC0003AEF0&gt;))])</pre></div></div></div><div class=\"sk-serial\"><div class=\"sk-item\"><div class=\"sk-estimator sk-toggleable\"><input class=\"sk-toggleable__control sk-hidden--visually\" id=\"sk-estimator-id-89\" type=\"checkbox\" ><label for=\"sk-estimator-id-89\" class=\"sk-toggleable__label sk-toggleable__label-arrow\">FunctionTransformer</label><div class=\"sk-toggleable__content\"><pre>FunctionTransformer(func=&lt;function inverse_log_transform at 0x000001FC0003AE60&gt;)</pre></div></div></div><div class=\"sk-item\"><div class=\"sk-estimator sk-toggleable\"><input class=\"sk-toggleable__control sk-hidden--visually\" id=\"sk-estimator-id-90\" type=\"checkbox\" ><label for=\"sk-estimator-id-90\" class=\"sk-toggleable__label sk-toggleable__label-arrow\">FunctionTransformer</label><div class=\"sk-toggleable__content\"><pre>FunctionTransformer(func=&lt;function round_nearest_50 at 0x000001FC0003AEF0&gt;)</pre></div></div></div></div></div></div></div></div></div>"
     },
     "execution_count": 30,
     "metadata": {},
     "output_type": "execute_result"
    }
   ],
   "source": [
    "voting_regressor_v4_pipeline = make_pipeline(\n",
    "    preprocess_pipeline,\n",
    "    voting_regressor_v4_cv.best_estimator_,\n",
    "    postprocess_pipeline\n",
    ")\n",
    "\n",
    "voting_regressor_v4_pipeline.fit(df_train, df_train['SalePriceLog1p'])"
   ],
   "metadata": {
    "collapsed": false,
    "ExecuteTime": {
     "start_time": "2023-04-14T16:35:37.174975Z",
     "end_time": "2023-04-14T16:35:37.633486Z"
    }
   }
  },
  {
   "cell_type": "code",
   "execution_count": 31,
   "outputs": [],
   "source": [
    "df_test = pd.read_csv('../input/house-prices-advanced-regression-techniques/test.csv')\n",
    "\n",
    "voting_regressor_v4_predictions = postprocess_pipeline.transform(\n",
    "    voting_regressor_v4_cv.best_estimator_.predict(preprocess_pipeline.transform(df_test))\n",
    ")\n",
    "\n",
    "df_test['Id'] = df_test['Id'].astype(int)\n",
    "df_test['SalePrice'] = voting_regressor_v4_predictions\n",
    "df_test[['Id', 'SalePrice']].to_csv('../input/house-prices-advanced-regression-techniques/submission/voting-regression-v5.csv', index=False)"
   ],
   "metadata": {
    "collapsed": false,
    "ExecuteTime": {
     "start_time": "2023-04-14T16:36:13.135387Z",
     "end_time": "2023-04-14T16:36:13.301738Z"
    }
   }
  },
  {
   "cell_type": "markdown",
   "source": [
    "Score: 0.14428"
   ],
   "metadata": {
    "collapsed": false
   }
  }
 ],
 "metadata": {
  "kernelspec": {
   "display_name": "Python 3",
   "language": "python",
   "name": "python3"
  },
  "language_info": {
   "codemirror_mode": {
    "name": "ipython",
    "version": 2
   },
   "file_extension": ".py",
   "mimetype": "text/x-python",
   "name": "python",
   "nbconvert_exporter": "python",
   "pygments_lexer": "ipython2",
   "version": "2.7.6"
  }
 },
 "nbformat": 4,
 "nbformat_minor": 0
}
