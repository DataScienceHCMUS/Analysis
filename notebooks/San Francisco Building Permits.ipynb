{
 "cells": [
  {
   "cell_type": "markdown",
   "source": [
    "# San Francisco Building Permits\n",
    "\n",
    "## Dataset Context\n",
    "\n",
    "Source: https://www.kaggle.com/datasets/aparnashastry/building-permit-applications-data\n",
    "\n",
    "A building permit is an official approval document issued by a governmental agency that allows you or your contractor to proceed with a construction or remodeling project on one's property. For more details go to https://www.thespruce.com/what-is-a-building-permit-1398344. Each city or county has its own office related to buildings, that can do multiple functions like issuing permits, inspecting buildings to enforce safety measures, modifying rules to accommodate needs of the growing population etc. For the city of San Francisco, permit issuing is taken care by www.sfdbi.org/\n",
    "\n",
    "Why is this important: In the recent past, several posts and blogs highlighted that main discrepancy in demand and supply in real estate industry is due to delays in issuing building permits. Refer:\n",
    "https://www.trulia.com/blog/trends/elasticity-2016/ - Introduces concept of elasticity, and nice scatterplot of various cities. A good data story!\n",
    "https://biv.com/article/2014/11/city-building-permit-delays-costing-developers-tim"
   ],
   "metadata": {
    "collapsed": false
   }
  },
  {
   "cell_type": "markdown",
   "source": [
    "### Take a first look at the data"
   ],
   "metadata": {
    "collapsed": false
   }
  },
  {
   "cell_type": "markdown",
   "source": [],
   "metadata": {
    "collapsed": false
   }
  },
  {
   "cell_type": "code",
   "execution_count": null,
   "outputs": [],
   "source": [
    "import pandas as pd\n",
    "import matplotlib.pyplot as plt\n",
    "import numpy as np\n",
    "import seaborn as sns\n",
    "import warnings\n",
    "\n",
    "\n",
    "sns.set(color_codes=True)\n",
    "warnings.filterwarnings('ignore')"
   ],
   "metadata": {
    "collapsed": false,
    "pycharm": {
     "is_executing": true
    }
   }
  },
  {
   "cell_type": "code",
   "execution_count": null,
   "outputs": [
    {
     "data": {
      "text/plain": "  Permit Number  Permit Type            Permit Type Definition  \\\n0  201505065519            4                      sign - erect   \n1  201604195146            4                      sign - erect   \n2  201605278609            3  additions alterations or repairs   \n3  201611072166            8            otc alterations permit   \n4  201611283529            6                       demolitions   \n\n  Permit Creation Date Block  Lot  Street Number Street Number Suffix  \\\n0           05/06/2015  0326  023            140                  NaN   \n1           04/19/2016  0306  007            440                  NaN   \n2           05/27/2016  0595  203           1647                  NaN   \n3           11/07/2016  0156  011           1230                  NaN   \n4           11/28/2016  0342  001            950                  NaN   \n\n  Street Name Street Suffix  ...  Existing Construction Type  \\\n0       Ellis            St  ...                         3.0   \n1       Geary            St  ...                         3.0   \n2     Pacific            Av  ...                         1.0   \n3     Pacific            Av  ...                         5.0   \n4      Market            St  ...                         3.0   \n\n  Existing Construction Type Description Proposed Construction Type  \\\n0                          constr type 3                        NaN   \n1                          constr type 3                        NaN   \n2                          constr type 1                        1.0   \n3                         wood frame (5)                        5.0   \n4                          constr type 3                        NaN   \n\n  Proposed Construction Type Description Site Permit Supervisor District  \\\n0                                    NaN         NaN                 3.0   \n1                                    NaN         NaN                 3.0   \n2                          constr type 1         NaN                 3.0   \n3                         wood frame (5)         NaN                 3.0   \n4                                    NaN         NaN                 6.0   \n\n  Neighborhoods - Analysis Boundaries  Zipcode  \\\n0                          Tenderloin  94102.0   \n1                          Tenderloin  94102.0   \n2                        Russian Hill  94109.0   \n3                            Nob Hill  94109.0   \n4                          Tenderloin  94102.0   \n\n                                    Location      Record ID  \n0  (37.785719256680785, -122.40852313194863)  1380611233945  \n1   (37.78733980600732, -122.41063199757738)  1420164406718  \n2    (37.7946573324287, -122.42232562979227)  1424856504716  \n3   (37.79595867909168, -122.41557405519474)  1443574295566  \n4   (37.78315261897309, -122.40950883997789)   144548169992  \n\n[5 rows x 43 columns]",
      "text/html": "<div>\n<style scoped>\n    .dataframe tbody tr th:only-of-type {\n        vertical-align: middle;\n    }\n\n    .dataframe tbody tr th {\n        vertical-align: top;\n    }\n\n    .dataframe thead th {\n        text-align: right;\n    }\n</style>\n<table border=\"1\" class=\"dataframe\">\n  <thead>\n    <tr style=\"text-align: right;\">\n      <th></th>\n      <th>Permit Number</th>\n      <th>Permit Type</th>\n      <th>Permit Type Definition</th>\n      <th>Permit Creation Date</th>\n      <th>Block</th>\n      <th>Lot</th>\n      <th>Street Number</th>\n      <th>Street Number Suffix</th>\n      <th>Street Name</th>\n      <th>Street Suffix</th>\n      <th>...</th>\n      <th>Existing Construction Type</th>\n      <th>Existing Construction Type Description</th>\n      <th>Proposed Construction Type</th>\n      <th>Proposed Construction Type Description</th>\n      <th>Site Permit</th>\n      <th>Supervisor District</th>\n      <th>Neighborhoods - Analysis Boundaries</th>\n      <th>Zipcode</th>\n      <th>Location</th>\n      <th>Record ID</th>\n    </tr>\n  </thead>\n  <tbody>\n    <tr>\n      <th>0</th>\n      <td>201505065519</td>\n      <td>4</td>\n      <td>sign - erect</td>\n      <td>05/06/2015</td>\n      <td>0326</td>\n      <td>023</td>\n      <td>140</td>\n      <td>NaN</td>\n      <td>Ellis</td>\n      <td>St</td>\n      <td>...</td>\n      <td>3.0</td>\n      <td>constr type 3</td>\n      <td>NaN</td>\n      <td>NaN</td>\n      <td>NaN</td>\n      <td>3.0</td>\n      <td>Tenderloin</td>\n      <td>94102.0</td>\n      <td>(37.785719256680785, -122.40852313194863)</td>\n      <td>1380611233945</td>\n    </tr>\n    <tr>\n      <th>1</th>\n      <td>201604195146</td>\n      <td>4</td>\n      <td>sign - erect</td>\n      <td>04/19/2016</td>\n      <td>0306</td>\n      <td>007</td>\n      <td>440</td>\n      <td>NaN</td>\n      <td>Geary</td>\n      <td>St</td>\n      <td>...</td>\n      <td>3.0</td>\n      <td>constr type 3</td>\n      <td>NaN</td>\n      <td>NaN</td>\n      <td>NaN</td>\n      <td>3.0</td>\n      <td>Tenderloin</td>\n      <td>94102.0</td>\n      <td>(37.78733980600732, -122.41063199757738)</td>\n      <td>1420164406718</td>\n    </tr>\n    <tr>\n      <th>2</th>\n      <td>201605278609</td>\n      <td>3</td>\n      <td>additions alterations or repairs</td>\n      <td>05/27/2016</td>\n      <td>0595</td>\n      <td>203</td>\n      <td>1647</td>\n      <td>NaN</td>\n      <td>Pacific</td>\n      <td>Av</td>\n      <td>...</td>\n      <td>1.0</td>\n      <td>constr type 1</td>\n      <td>1.0</td>\n      <td>constr type 1</td>\n      <td>NaN</td>\n      <td>3.0</td>\n      <td>Russian Hill</td>\n      <td>94109.0</td>\n      <td>(37.7946573324287, -122.42232562979227)</td>\n      <td>1424856504716</td>\n    </tr>\n    <tr>\n      <th>3</th>\n      <td>201611072166</td>\n      <td>8</td>\n      <td>otc alterations permit</td>\n      <td>11/07/2016</td>\n      <td>0156</td>\n      <td>011</td>\n      <td>1230</td>\n      <td>NaN</td>\n      <td>Pacific</td>\n      <td>Av</td>\n      <td>...</td>\n      <td>5.0</td>\n      <td>wood frame (5)</td>\n      <td>5.0</td>\n      <td>wood frame (5)</td>\n      <td>NaN</td>\n      <td>3.0</td>\n      <td>Nob Hill</td>\n      <td>94109.0</td>\n      <td>(37.79595867909168, -122.41557405519474)</td>\n      <td>1443574295566</td>\n    </tr>\n    <tr>\n      <th>4</th>\n      <td>201611283529</td>\n      <td>6</td>\n      <td>demolitions</td>\n      <td>11/28/2016</td>\n      <td>0342</td>\n      <td>001</td>\n      <td>950</td>\n      <td>NaN</td>\n      <td>Market</td>\n      <td>St</td>\n      <td>...</td>\n      <td>3.0</td>\n      <td>constr type 3</td>\n      <td>NaN</td>\n      <td>NaN</td>\n      <td>NaN</td>\n      <td>6.0</td>\n      <td>Tenderloin</td>\n      <td>94102.0</td>\n      <td>(37.78315261897309, -122.40950883997789)</td>\n      <td>144548169992</td>\n    </tr>\n  </tbody>\n</table>\n<p>5 rows × 43 columns</p>\n</div>"
     },
     "execution_count": 2,
     "metadata": {},
     "output_type": "execute_result"
    }
   ],
   "source": [
    "df = pd.read_csv('../input/building-permit-applications-data/Building_Permits.csv')\n",
    "df.head(5)"
   ],
   "metadata": {
    "collapsed": false,
    "pycharm": {
     "is_executing": true
    }
   }
  },
  {
   "cell_type": "code",
   "execution_count": null,
   "outputs": [
    {
     "name": "stdout",
     "output_type": "stream",
     "text": [
      "<class 'pandas.core.frame.DataFrame'>\n",
      "RangeIndex: 198900 entries, 0 to 198899\n",
      "Data columns (total 43 columns):\n",
      " #   Column                                  Non-Null Count   Dtype  \n",
      "---  ------                                  --------------   -----  \n",
      " 0   Permit Number                           198900 non-null  object \n",
      " 1   Permit Type                             198900 non-null  int64  \n",
      " 2   Permit Type Definition                  198900 non-null  object \n",
      " 3   Permit Creation Date                    198900 non-null  object \n",
      " 4   Block                                   198900 non-null  object \n",
      " 5   Lot                                     198900 non-null  object \n",
      " 6   Street Number                           198900 non-null  int64  \n",
      " 7   Street Number Suffix                    2216 non-null    object \n",
      " 8   Street Name                             198900 non-null  object \n",
      " 9   Street Suffix                           196132 non-null  object \n",
      " 10  Unit                                    29479 non-null   float64\n",
      " 11  Unit Suffix                             1961 non-null    object \n",
      " 12  Description                             198610 non-null  object \n",
      " 13  Current Status                          198900 non-null  object \n",
      " 14  Current Status Date                     198900 non-null  object \n",
      " 15  Filed Date                              198900 non-null  object \n",
      " 16  Issued Date                             183960 non-null  object \n",
      " 17  Completed Date                          97191 non-null   object \n",
      " 18  First Construction Document Date        183954 non-null  object \n",
      " 19  Structural Notification                 6922 non-null    object \n",
      " 20  Number of Existing Stories              156116 non-null  float64\n",
      " 21  Number of Proposed Stories              156032 non-null  float64\n",
      " 22  Voluntary Soft-Story Retrofit           35 non-null      object \n",
      " 23  Fire Only Permit                        18827 non-null   object \n",
      " 24  Permit Expiration Date                  147020 non-null  object \n",
      " 25  Estimated Cost                          160834 non-null  float64\n",
      " 26  Revised Cost                            192834 non-null  float64\n",
      " 27  Existing Use                            157786 non-null  object \n",
      " 28  Existing Units                          147362 non-null  float64\n",
      " 29  Proposed Use                            156461 non-null  object \n",
      " 30  Proposed Units                          147989 non-null  float64\n",
      " 31  Plansets                                161591 non-null  float64\n",
      " 32  TIDF Compliance                         2 non-null       object \n",
      " 33  Existing Construction Type              155534 non-null  float64\n",
      " 34  Existing Construction Type Description  155534 non-null  object \n",
      " 35  Proposed Construction Type              155738 non-null  float64\n",
      " 36  Proposed Construction Type Description  155738 non-null  object \n",
      " 37  Site Permit                             5359 non-null    object \n",
      " 38  Supervisor District                     197183 non-null  float64\n",
      " 39  Neighborhoods - Analysis Boundaries     197175 non-null  object \n",
      " 40  Zipcode                                 197184 non-null  float64\n",
      " 41  Location                                197200 non-null  object \n",
      " 42  Record ID                               198900 non-null  int64  \n",
      "dtypes: float64(12), int64(3), object(28)\n",
      "memory usage: 65.3+ MB\n"
     ]
    }
   ],
   "source": [
    "df.info()"
   ],
   "metadata": {
    "collapsed": false,
    "pycharm": {
     "is_executing": true
    }
   }
  },
  {
   "cell_type": "code",
   "execution_count": null,
   "outputs": [
    {
     "data": {
      "text/plain": "         Permit Type  Street Number          Unit  Number of Existing Stories  \\\ncount  198900.000000  198900.000000  29479.000000               156116.000000   \nmean        7.522323    1121.728944     78.517182                    5.705773   \nstd         1.457451    1135.768948    326.981324                    8.613455   \nmin         1.000000       0.000000      0.000000                    0.000000   \n25%         8.000000     235.000000      0.000000                    2.000000   \n50%         8.000000     710.000000      0.000000                    3.000000   \n75%         8.000000    1700.000000      1.000000                    4.000000   \nmax         8.000000    8400.000000   6004.000000                   78.000000   \n\n       Number of Proposed Stories  Estimated Cost  Revised Cost  \\\ncount               156032.000000    1.608340e+05  1.928340e+05   \nmean                     5.745043    1.689554e+05  1.328562e+05   \nstd                      8.613284    3.630386e+06  3.584903e+06   \nmin                      0.000000    1.000000e+00  0.000000e+00   \n25%                      2.000000    3.300000e+03  1.000000e+00   \n50%                      3.000000    1.100000e+04  7.000000e+03   \n75%                      4.000000    3.500000e+04  2.870750e+04   \nmax                     78.000000    5.379586e+08  7.805000e+08   \n\n       Existing Units  Proposed Units       Plansets  \\\ncount   147362.000000   147989.000000  161591.000000   \nmean        15.666164       16.510950       1.274650   \nstd         74.476321       75.220444      22.407345   \nmin          0.000000        0.000000       0.000000   \n25%          1.000000        1.000000       0.000000   \n50%          1.000000        2.000000       2.000000   \n75%          4.000000        4.000000       2.000000   \nmax       1907.000000     1911.000000    9000.000000   \n\n       Existing Construction Type  Proposed Construction Type  \\\ncount               155534.000000               155738.000000   \nmean                     4.072878                    4.089529   \nstd                      1.585756                    1.578766   \nmin                      1.000000                    1.000000   \n25%                      3.000000                    3.000000   \n50%                      5.000000                    5.000000   \n75%                      5.000000                    5.000000   \nmax                      5.000000                    5.000000   \n\n       Supervisor District        Zipcode     Record ID  \ncount        197183.000000  197184.000000  1.989000e+05  \nmean              5.538403   94115.500558  1.162048e+12  \nstd               2.887041       9.270131  4.918215e+11  \nmin               1.000000   94102.000000  1.293532e+10  \n25%               3.000000   94109.000000  1.308567e+12  \n50%               6.000000   94114.000000  1.371840e+12  \n75%               8.000000   94122.000000  1.435000e+12  \nmax              11.000000   94158.000000  1.498342e+12  ",
      "text/html": "<div>\n<style scoped>\n    .dataframe tbody tr th:only-of-type {\n        vertical-align: middle;\n    }\n\n    .dataframe tbody tr th {\n        vertical-align: top;\n    }\n\n    .dataframe thead th {\n        text-align: right;\n    }\n</style>\n<table border=\"1\" class=\"dataframe\">\n  <thead>\n    <tr style=\"text-align: right;\">\n      <th></th>\n      <th>Permit Type</th>\n      <th>Street Number</th>\n      <th>Unit</th>\n      <th>Number of Existing Stories</th>\n      <th>Number of Proposed Stories</th>\n      <th>Estimated Cost</th>\n      <th>Revised Cost</th>\n      <th>Existing Units</th>\n      <th>Proposed Units</th>\n      <th>Plansets</th>\n      <th>Existing Construction Type</th>\n      <th>Proposed Construction Type</th>\n      <th>Supervisor District</th>\n      <th>Zipcode</th>\n      <th>Record ID</th>\n    </tr>\n  </thead>\n  <tbody>\n    <tr>\n      <th>count</th>\n      <td>198900.000000</td>\n      <td>198900.000000</td>\n      <td>29479.000000</td>\n      <td>156116.000000</td>\n      <td>156032.000000</td>\n      <td>1.608340e+05</td>\n      <td>1.928340e+05</td>\n      <td>147362.000000</td>\n      <td>147989.000000</td>\n      <td>161591.000000</td>\n      <td>155534.000000</td>\n      <td>155738.000000</td>\n      <td>197183.000000</td>\n      <td>197184.000000</td>\n      <td>1.989000e+05</td>\n    </tr>\n    <tr>\n      <th>mean</th>\n      <td>7.522323</td>\n      <td>1121.728944</td>\n      <td>78.517182</td>\n      <td>5.705773</td>\n      <td>5.745043</td>\n      <td>1.689554e+05</td>\n      <td>1.328562e+05</td>\n      <td>15.666164</td>\n      <td>16.510950</td>\n      <td>1.274650</td>\n      <td>4.072878</td>\n      <td>4.089529</td>\n      <td>5.538403</td>\n      <td>94115.500558</td>\n      <td>1.162048e+12</td>\n    </tr>\n    <tr>\n      <th>std</th>\n      <td>1.457451</td>\n      <td>1135.768948</td>\n      <td>326.981324</td>\n      <td>8.613455</td>\n      <td>8.613284</td>\n      <td>3.630386e+06</td>\n      <td>3.584903e+06</td>\n      <td>74.476321</td>\n      <td>75.220444</td>\n      <td>22.407345</td>\n      <td>1.585756</td>\n      <td>1.578766</td>\n      <td>2.887041</td>\n      <td>9.270131</td>\n      <td>4.918215e+11</td>\n    </tr>\n    <tr>\n      <th>min</th>\n      <td>1.000000</td>\n      <td>0.000000</td>\n      <td>0.000000</td>\n      <td>0.000000</td>\n      <td>0.000000</td>\n      <td>1.000000e+00</td>\n      <td>0.000000e+00</td>\n      <td>0.000000</td>\n      <td>0.000000</td>\n      <td>0.000000</td>\n      <td>1.000000</td>\n      <td>1.000000</td>\n      <td>1.000000</td>\n      <td>94102.000000</td>\n      <td>1.293532e+10</td>\n    </tr>\n    <tr>\n      <th>25%</th>\n      <td>8.000000</td>\n      <td>235.000000</td>\n      <td>0.000000</td>\n      <td>2.000000</td>\n      <td>2.000000</td>\n      <td>3.300000e+03</td>\n      <td>1.000000e+00</td>\n      <td>1.000000</td>\n      <td>1.000000</td>\n      <td>0.000000</td>\n      <td>3.000000</td>\n      <td>3.000000</td>\n      <td>3.000000</td>\n      <td>94109.000000</td>\n      <td>1.308567e+12</td>\n    </tr>\n    <tr>\n      <th>50%</th>\n      <td>8.000000</td>\n      <td>710.000000</td>\n      <td>0.000000</td>\n      <td>3.000000</td>\n      <td>3.000000</td>\n      <td>1.100000e+04</td>\n      <td>7.000000e+03</td>\n      <td>1.000000</td>\n      <td>2.000000</td>\n      <td>2.000000</td>\n      <td>5.000000</td>\n      <td>5.000000</td>\n      <td>6.000000</td>\n      <td>94114.000000</td>\n      <td>1.371840e+12</td>\n    </tr>\n    <tr>\n      <th>75%</th>\n      <td>8.000000</td>\n      <td>1700.000000</td>\n      <td>1.000000</td>\n      <td>4.000000</td>\n      <td>4.000000</td>\n      <td>3.500000e+04</td>\n      <td>2.870750e+04</td>\n      <td>4.000000</td>\n      <td>4.000000</td>\n      <td>2.000000</td>\n      <td>5.000000</td>\n      <td>5.000000</td>\n      <td>8.000000</td>\n      <td>94122.000000</td>\n      <td>1.435000e+12</td>\n    </tr>\n    <tr>\n      <th>max</th>\n      <td>8.000000</td>\n      <td>8400.000000</td>\n      <td>6004.000000</td>\n      <td>78.000000</td>\n      <td>78.000000</td>\n      <td>5.379586e+08</td>\n      <td>7.805000e+08</td>\n      <td>1907.000000</td>\n      <td>1911.000000</td>\n      <td>9000.000000</td>\n      <td>5.000000</td>\n      <td>5.000000</td>\n      <td>11.000000</td>\n      <td>94158.000000</td>\n      <td>1.498342e+12</td>\n    </tr>\n  </tbody>\n</table>\n</div>"
     },
     "execution_count": 4,
     "metadata": {},
     "output_type": "execute_result"
    }
   ],
   "source": [
    "df.describe()"
   ],
   "metadata": {
    "collapsed": false,
    "pycharm": {
     "is_executing": true
    }
   }
  },
  {
   "cell_type": "markdown",
   "source": [
    "## Handling Missing Values\n",
    "\n",
    "This table has many empty values. We need to handle them."
   ],
   "metadata": {
    "collapsed": false
   }
  },
  {
   "cell_type": "code",
   "execution_count": null,
   "outputs": [
    {
     "data": {
      "text/plain": "Permit Number                                  0\nPermit Type                                    0\nPermit Type Definition                         0\nPermit Creation Date                           0\nBlock                                          0\nLot                                            0\nStreet Number                                  0\nStreet Number Suffix                      196684\nStreet Name                                    0\nStreet Suffix                               2768\nUnit                                      169421\nUnit Suffix                               196939\nDescription                                  290\nCurrent Status                                 0\nCurrent Status Date                            0\nFiled Date                                     0\nIssued Date                                14940\nCompleted Date                            101709\nFirst Construction Document Date           14946\nStructural Notification                   191978\nNumber of Existing Stories                 42784\nNumber of Proposed Stories                 42868\nVoluntary Soft-Story Retrofit             198865\nFire Only Permit                          180073\nPermit Expiration Date                     51880\nEstimated Cost                             38066\nRevised Cost                                6066\nExisting Use                               41114\nExisting Units                             51538\nProposed Use                               42439\nProposed Units                             50911\nPlansets                                   37309\nTIDF Compliance                           198898\nExisting Construction Type                 43366\nExisting Construction Type Description     43366\nProposed Construction Type                 43162\nProposed Construction Type Description     43162\nSite Permit                               193541\nSupervisor District                         1717\nNeighborhoods - Analysis Boundaries         1725\nZipcode                                     1716\nLocation                                    1700\nRecord ID                                      0\ndtype: int64"
     },
     "execution_count": 6,
     "metadata": {},
     "output_type": "execute_result"
    }
   ],
   "source": [
    "missing_values_count = df.isnull().sum()\n",
    "\n",
    "missing_values_count"
   ],
   "metadata": {
    "collapsed": false,
    "pycharm": {
     "is_executing": true
    }
   }
  },
  {
   "cell_type": "code",
   "execution_count": null,
   "outputs": [
    {
     "name": "stdout",
     "output_type": "stream",
     "text": [
      "Missing percentage:  26.26002315058403\n"
     ]
    }
   ],
   "source": [
    "total_cell = np.product(df.shape)\n",
    "total_missing = missing_values_count.sum()\n",
    "percent_missing = (total_missing / total_cell) * 100\n",
    "print(\"Missing percentage: \", percent_missing)"
   ],
   "metadata": {
    "collapsed": false,
    "pycharm": {
     "is_executing": true
    }
   }
  },
  {
   "cell_type": "markdown",
   "source": [
    "More than a quarter of the data is missing. Now, we need to look into each column and find out that they are not recorded or not existed.\n",
    "- Not Existed: Street Number Suffix, Street Suffix, Unit, Unit Suffix, Description, Issued Date, Complete Date, First Construction Document Date, Structural Notification, Number of Existing Stories, Number of Proposed Stories, Voluntary Soft-Story Retrofit, Fire Only Permit, Plansets, TIDF Compliance, Existing Construction Type, Existing Construction Type , Proposed Construction Type, Proposed Construction Type Description, Supervisor District, Neighborhoods - Analysis Boundaries, Zipcode, Location\n",
    "- Not Recorded: Estimated Cost, Revised Cost, Existing Use, Existing Units, Proposed Use, Proposed Units, Site Permit\n",
    "\n",
    "All building must have a Location but I put it in the Not Existed because the number of empty Zipcode is the same so I suspect people may leave them empty for good reasons. Similar idea might apply to other columns."
   ],
   "metadata": {
    "collapsed": false
   }
  },
  {
   "cell_type": "markdown",
   "source": [
    "### Try Drop Missing Values: Rows"
   ],
   "metadata": {
    "collapsed": false
   }
  },
  {
   "cell_type": "code",
   "execution_count": null,
   "outputs": [
    {
     "data": {
      "text/plain": "Empty DataFrame\nColumns: [Permit Number, Permit Type, Permit Type Definition, Permit Creation Date, Block, Lot, Street Number, Street Number Suffix, Street Name, Street Suffix, Unit, Unit Suffix, Description, Current Status, Current Status Date, Filed Date, Issued Date, Completed Date, First Construction Document Date, Structural Notification, Number of Existing Stories, Number of Proposed Stories, Voluntary Soft-Story Retrofit, Fire Only Permit, Permit Expiration Date, Estimated Cost, Revised Cost, Existing Use, Existing Units, Proposed Use, Proposed Units, Plansets, TIDF Compliance, Existing Construction Type, Existing Construction Type Description, Proposed Construction Type, Proposed Construction Type Description, Site Permit, Supervisor District, Neighborhoods - Analysis Boundaries, Zipcode, Location, Record ID]\nIndex: []\n\n[0 rows x 43 columns]",
      "text/html": "<div>\n<style scoped>\n    .dataframe tbody tr th:only-of-type {\n        vertical-align: middle;\n    }\n\n    .dataframe tbody tr th {\n        vertical-align: top;\n    }\n\n    .dataframe thead th {\n        text-align: right;\n    }\n</style>\n<table border=\"1\" class=\"dataframe\">\n  <thead>\n    <tr style=\"text-align: right;\">\n      <th></th>\n      <th>Permit Number</th>\n      <th>Permit Type</th>\n      <th>Permit Type Definition</th>\n      <th>Permit Creation Date</th>\n      <th>Block</th>\n      <th>Lot</th>\n      <th>Street Number</th>\n      <th>Street Number Suffix</th>\n      <th>Street Name</th>\n      <th>Street Suffix</th>\n      <th>...</th>\n      <th>Existing Construction Type</th>\n      <th>Existing Construction Type Description</th>\n      <th>Proposed Construction Type</th>\n      <th>Proposed Construction Type Description</th>\n      <th>Site Permit</th>\n      <th>Supervisor District</th>\n      <th>Neighborhoods - Analysis Boundaries</th>\n      <th>Zipcode</th>\n      <th>Location</th>\n      <th>Record ID</th>\n    </tr>\n  </thead>\n  <tbody>\n  </tbody>\n</table>\n<p>0 rows × 43 columns</p>\n</div>"
     },
     "execution_count": 10,
     "metadata": {},
     "output_type": "execute_result"
    }
   ],
   "source": [
    "df.dropna()"
   ],
   "metadata": {
    "collapsed": false,
    "pycharm": {
     "is_executing": true
    }
   }
  },
  {
   "cell_type": "markdown",
   "source": [
    "It seems that we cannot drop all the rows because there are too many empty values. We will try to drop the columns."
   ],
   "metadata": {
    "collapsed": false
   }
  },
  {
   "cell_type": "markdown",
   "source": [
    "### Try Drop Missing Values: Columns"
   ],
   "metadata": {
    "collapsed": false
   }
  },
  {
   "cell_type": "code",
   "execution_count": 5,
   "outputs": [
    {
     "data": {
      "text/plain": "  Permit Number  Permit Type            Permit Type Definition  \\\n0  201505065519            4                      sign - erect   \n1  201604195146            4                      sign - erect   \n2  201605278609            3  additions alterations or repairs   \n3  201611072166            8            otc alterations permit   \n4  201611283529            6                       demolitions   \n\n  Permit Creation Date Block  Lot  Street Number Street Name Current Status  \\\n0           05/06/2015  0326  023            140       Ellis        expired   \n1           04/19/2016  0306  007            440       Geary         issued   \n2           05/27/2016  0595  203           1647     Pacific      withdrawn   \n3           11/07/2016  0156  011           1230     Pacific       complete   \n4           11/28/2016  0342  001            950      Market         issued   \n\n  Current Status Date  Filed Date      Record ID  \n0          12/21/2017  05/06/2015  1380611233945  \n1          08/03/2017  04/19/2016  1420164406718  \n2          09/26/2017  05/27/2016  1424856504716  \n3          07/24/2017  11/07/2016  1443574295566  \n4          12/01/2017  11/28/2016   144548169992  ",
      "text/html": "<div>\n<style scoped>\n    .dataframe tbody tr th:only-of-type {\n        vertical-align: middle;\n    }\n\n    .dataframe tbody tr th {\n        vertical-align: top;\n    }\n\n    .dataframe thead th {\n        text-align: right;\n    }\n</style>\n<table border=\"1\" class=\"dataframe\">\n  <thead>\n    <tr style=\"text-align: right;\">\n      <th></th>\n      <th>Permit Number</th>\n      <th>Permit Type</th>\n      <th>Permit Type Definition</th>\n      <th>Permit Creation Date</th>\n      <th>Block</th>\n      <th>Lot</th>\n      <th>Street Number</th>\n      <th>Street Name</th>\n      <th>Current Status</th>\n      <th>Current Status Date</th>\n      <th>Filed Date</th>\n      <th>Record ID</th>\n    </tr>\n  </thead>\n  <tbody>\n    <tr>\n      <th>0</th>\n      <td>201505065519</td>\n      <td>4</td>\n      <td>sign - erect</td>\n      <td>05/06/2015</td>\n      <td>0326</td>\n      <td>023</td>\n      <td>140</td>\n      <td>Ellis</td>\n      <td>expired</td>\n      <td>12/21/2017</td>\n      <td>05/06/2015</td>\n      <td>1380611233945</td>\n    </tr>\n    <tr>\n      <th>1</th>\n      <td>201604195146</td>\n      <td>4</td>\n      <td>sign - erect</td>\n      <td>04/19/2016</td>\n      <td>0306</td>\n      <td>007</td>\n      <td>440</td>\n      <td>Geary</td>\n      <td>issued</td>\n      <td>08/03/2017</td>\n      <td>04/19/2016</td>\n      <td>1420164406718</td>\n    </tr>\n    <tr>\n      <th>2</th>\n      <td>201605278609</td>\n      <td>3</td>\n      <td>additions alterations or repairs</td>\n      <td>05/27/2016</td>\n      <td>0595</td>\n      <td>203</td>\n      <td>1647</td>\n      <td>Pacific</td>\n      <td>withdrawn</td>\n      <td>09/26/2017</td>\n      <td>05/27/2016</td>\n      <td>1424856504716</td>\n    </tr>\n    <tr>\n      <th>3</th>\n      <td>201611072166</td>\n      <td>8</td>\n      <td>otc alterations permit</td>\n      <td>11/07/2016</td>\n      <td>0156</td>\n      <td>011</td>\n      <td>1230</td>\n      <td>Pacific</td>\n      <td>complete</td>\n      <td>07/24/2017</td>\n      <td>11/07/2016</td>\n      <td>1443574295566</td>\n    </tr>\n    <tr>\n      <th>4</th>\n      <td>201611283529</td>\n      <td>6</td>\n      <td>demolitions</td>\n      <td>11/28/2016</td>\n      <td>0342</td>\n      <td>001</td>\n      <td>950</td>\n      <td>Market</td>\n      <td>issued</td>\n      <td>12/01/2017</td>\n      <td>11/28/2016</td>\n      <td>144548169992</td>\n    </tr>\n  </tbody>\n</table>\n</div>"
     },
     "execution_count": 5,
     "metadata": {},
     "output_type": "execute_result"
    }
   ],
   "source": [
    "df_no_empty = df.dropna(axis=1)\n",
    "df_no_empty.head(5)"
   ],
   "metadata": {
    "collapsed": false
   }
  },
  {
   "cell_type": "code",
   "execution_count": 7,
   "outputs": [
    {
     "name": "stdout",
     "output_type": "stream",
     "text": [
      "Drop 31 columns\n"
     ]
    }
   ],
   "source": [
    "drop_columns = df.shape[1] - df_no_empty.shape[1]\n",
    "print(\"Drop {} columns\".format(drop_columns))"
   ],
   "metadata": {
    "collapsed": false
   }
  },
  {
   "cell_type": "markdown",
   "source": [
    "### Try Fill Missing Values\n",
    "\n",
    "For \"Not Existed\" values, it makes no sense filling them. We will work on \"Not Recorded\" values.\n",
    "For \"Not Recorded\" values, we will fill them with the most frequent value."
   ],
   "metadata": {
    "collapsed": false
   }
  },
  {
   "cell_type": "code",
   "execution_count": 9,
   "outputs": [],
   "source": [
    "not_recorded_columns = ['Estimated Cost', 'Revised Cost', 'Existing Use', 'Existing Units', 'Proposed Use', 'Proposed Units', 'Site Permit']\n",
    "for column in not_recorded_columns:\n",
    "    df_no_empty[column] = df[column].fillna(df[column].value_counts().idxmax())"
   ],
   "metadata": {
    "collapsed": false
   }
  },
  {
   "cell_type": "code",
   "execution_count": 11,
   "outputs": [
    {
     "data": {
      "text/plain": "  Permit Number  Permit Type            Permit Type Definition  \\\n0  201505065519            4                      sign - erect   \n1  201604195146            4                      sign - erect   \n2  201605278609            3  additions alterations or repairs   \n3  201611072166            8            otc alterations permit   \n4  201611283529            6                       demolitions   \n5  201706149344            8            otc alterations permit   \n6  201706300814            8            otc alterations permit   \n7       M803667            8            otc alterations permit   \n8       M804227            8            otc alterations permit   \n9       M804767            8            otc alterations permit   \n\n  Permit Creation Date Block  Lot  Street Number Street Name Current Status  \\\n0           05/06/2015  0326  023            140       Ellis        expired   \n1           04/19/2016  0306  007            440       Geary         issued   \n2           05/27/2016  0595  203           1647     Pacific      withdrawn   \n3           11/07/2016  0156  011           1230     Pacific       complete   \n4           11/28/2016  0342  001            950      Market         issued   \n5           06/14/2017  4105  009            800     Indiana         issued   \n6           06/30/2017  1739  020           1291        11th       complete   \n7           06/30/2017  4789  014           1465      Revere         issued   \n8           07/05/2017  1212  054           2094        Fell         issued   \n9           07/06/2017  1259  016             89      Alpine         issued   \n\n  Current Status Date  Filed Date      Record ID  Estimated Cost  \\\n0          12/21/2017  05/06/2015  1380611233945          4000.0   \n1          08/03/2017  04/19/2016  1420164406718             1.0   \n2          09/26/2017  05/27/2016  1424856504716         20000.0   \n3          07/24/2017  11/07/2016  1443574295566          2000.0   \n4          12/01/2017  11/28/2016   144548169992        100000.0   \n5          07/06/2017  06/14/2017  1466911170855          4000.0   \n6          07/12/2017  06/30/2017  1468970403692         12000.0   \n7          06/30/2017  06/30/2017  1469035175050             1.0   \n8          07/05/2017  07/05/2017  1469198253772             1.0   \n9          07/06/2017  07/06/2017   146932394171             1.0   \n\n   Revised Cost         Existing Use  Existing Units       Proposed Use  \\\n0        4000.0  tourist hotel/motel           143.0  1 family dwelling   \n1         500.0  tourist hotel/motel             1.0  1 family dwelling   \n2           1.0         retail sales            39.0       retail sales   \n3        2000.0    1 family dwelling             1.0  1 family dwelling   \n4      100000.0         retail sales             1.0  1 family dwelling   \n5        4000.0           apartments           326.0         apartments   \n6       12000.0           apartments             5.0         apartments   \n7           0.0    1 family dwelling             1.0  1 family dwelling   \n8           1.0    1 family dwelling             1.0  1 family dwelling   \n9           0.0    1 family dwelling             1.0  1 family dwelling   \n\n   Proposed Units Site Permit  \n0             1.0           Y  \n1             1.0           Y  \n2            39.0           Y  \n3             1.0           Y  \n4             1.0           Y  \n5           326.0           Y  \n6             5.0           Y  \n7             1.0           Y  \n8             1.0           Y  \n9             1.0           Y  ",
      "text/html": "<div>\n<style scoped>\n    .dataframe tbody tr th:only-of-type {\n        vertical-align: middle;\n    }\n\n    .dataframe tbody tr th {\n        vertical-align: top;\n    }\n\n    .dataframe thead th {\n        text-align: right;\n    }\n</style>\n<table border=\"1\" class=\"dataframe\">\n  <thead>\n    <tr style=\"text-align: right;\">\n      <th></th>\n      <th>Permit Number</th>\n      <th>Permit Type</th>\n      <th>Permit Type Definition</th>\n      <th>Permit Creation Date</th>\n      <th>Block</th>\n      <th>Lot</th>\n      <th>Street Number</th>\n      <th>Street Name</th>\n      <th>Current Status</th>\n      <th>Current Status Date</th>\n      <th>Filed Date</th>\n      <th>Record ID</th>\n      <th>Estimated Cost</th>\n      <th>Revised Cost</th>\n      <th>Existing Use</th>\n      <th>Existing Units</th>\n      <th>Proposed Use</th>\n      <th>Proposed Units</th>\n      <th>Site Permit</th>\n    </tr>\n  </thead>\n  <tbody>\n    <tr>\n      <th>0</th>\n      <td>201505065519</td>\n      <td>4</td>\n      <td>sign - erect</td>\n      <td>05/06/2015</td>\n      <td>0326</td>\n      <td>023</td>\n      <td>140</td>\n      <td>Ellis</td>\n      <td>expired</td>\n      <td>12/21/2017</td>\n      <td>05/06/2015</td>\n      <td>1380611233945</td>\n      <td>4000.0</td>\n      <td>4000.0</td>\n      <td>tourist hotel/motel</td>\n      <td>143.0</td>\n      <td>1 family dwelling</td>\n      <td>1.0</td>\n      <td>Y</td>\n    </tr>\n    <tr>\n      <th>1</th>\n      <td>201604195146</td>\n      <td>4</td>\n      <td>sign - erect</td>\n      <td>04/19/2016</td>\n      <td>0306</td>\n      <td>007</td>\n      <td>440</td>\n      <td>Geary</td>\n      <td>issued</td>\n      <td>08/03/2017</td>\n      <td>04/19/2016</td>\n      <td>1420164406718</td>\n      <td>1.0</td>\n      <td>500.0</td>\n      <td>tourist hotel/motel</td>\n      <td>1.0</td>\n      <td>1 family dwelling</td>\n      <td>1.0</td>\n      <td>Y</td>\n    </tr>\n    <tr>\n      <th>2</th>\n      <td>201605278609</td>\n      <td>3</td>\n      <td>additions alterations or repairs</td>\n      <td>05/27/2016</td>\n      <td>0595</td>\n      <td>203</td>\n      <td>1647</td>\n      <td>Pacific</td>\n      <td>withdrawn</td>\n      <td>09/26/2017</td>\n      <td>05/27/2016</td>\n      <td>1424856504716</td>\n      <td>20000.0</td>\n      <td>1.0</td>\n      <td>retail sales</td>\n      <td>39.0</td>\n      <td>retail sales</td>\n      <td>39.0</td>\n      <td>Y</td>\n    </tr>\n    <tr>\n      <th>3</th>\n      <td>201611072166</td>\n      <td>8</td>\n      <td>otc alterations permit</td>\n      <td>11/07/2016</td>\n      <td>0156</td>\n      <td>011</td>\n      <td>1230</td>\n      <td>Pacific</td>\n      <td>complete</td>\n      <td>07/24/2017</td>\n      <td>11/07/2016</td>\n      <td>1443574295566</td>\n      <td>2000.0</td>\n      <td>2000.0</td>\n      <td>1 family dwelling</td>\n      <td>1.0</td>\n      <td>1 family dwelling</td>\n      <td>1.0</td>\n      <td>Y</td>\n    </tr>\n    <tr>\n      <th>4</th>\n      <td>201611283529</td>\n      <td>6</td>\n      <td>demolitions</td>\n      <td>11/28/2016</td>\n      <td>0342</td>\n      <td>001</td>\n      <td>950</td>\n      <td>Market</td>\n      <td>issued</td>\n      <td>12/01/2017</td>\n      <td>11/28/2016</td>\n      <td>144548169992</td>\n      <td>100000.0</td>\n      <td>100000.0</td>\n      <td>retail sales</td>\n      <td>1.0</td>\n      <td>1 family dwelling</td>\n      <td>1.0</td>\n      <td>Y</td>\n    </tr>\n    <tr>\n      <th>5</th>\n      <td>201706149344</td>\n      <td>8</td>\n      <td>otc alterations permit</td>\n      <td>06/14/2017</td>\n      <td>4105</td>\n      <td>009</td>\n      <td>800</td>\n      <td>Indiana</td>\n      <td>issued</td>\n      <td>07/06/2017</td>\n      <td>06/14/2017</td>\n      <td>1466911170855</td>\n      <td>4000.0</td>\n      <td>4000.0</td>\n      <td>apartments</td>\n      <td>326.0</td>\n      <td>apartments</td>\n      <td>326.0</td>\n      <td>Y</td>\n    </tr>\n    <tr>\n      <th>6</th>\n      <td>201706300814</td>\n      <td>8</td>\n      <td>otc alterations permit</td>\n      <td>06/30/2017</td>\n      <td>1739</td>\n      <td>020</td>\n      <td>1291</td>\n      <td>11th</td>\n      <td>complete</td>\n      <td>07/12/2017</td>\n      <td>06/30/2017</td>\n      <td>1468970403692</td>\n      <td>12000.0</td>\n      <td>12000.0</td>\n      <td>apartments</td>\n      <td>5.0</td>\n      <td>apartments</td>\n      <td>5.0</td>\n      <td>Y</td>\n    </tr>\n    <tr>\n      <th>7</th>\n      <td>M803667</td>\n      <td>8</td>\n      <td>otc alterations permit</td>\n      <td>06/30/2017</td>\n      <td>4789</td>\n      <td>014</td>\n      <td>1465</td>\n      <td>Revere</td>\n      <td>issued</td>\n      <td>06/30/2017</td>\n      <td>06/30/2017</td>\n      <td>1469035175050</td>\n      <td>1.0</td>\n      <td>0.0</td>\n      <td>1 family dwelling</td>\n      <td>1.0</td>\n      <td>1 family dwelling</td>\n      <td>1.0</td>\n      <td>Y</td>\n    </tr>\n    <tr>\n      <th>8</th>\n      <td>M804227</td>\n      <td>8</td>\n      <td>otc alterations permit</td>\n      <td>07/05/2017</td>\n      <td>1212</td>\n      <td>054</td>\n      <td>2094</td>\n      <td>Fell</td>\n      <td>issued</td>\n      <td>07/05/2017</td>\n      <td>07/05/2017</td>\n      <td>1469198253772</td>\n      <td>1.0</td>\n      <td>1.0</td>\n      <td>1 family dwelling</td>\n      <td>1.0</td>\n      <td>1 family dwelling</td>\n      <td>1.0</td>\n      <td>Y</td>\n    </tr>\n    <tr>\n      <th>9</th>\n      <td>M804767</td>\n      <td>8</td>\n      <td>otc alterations permit</td>\n      <td>07/06/2017</td>\n      <td>1259</td>\n      <td>016</td>\n      <td>89</td>\n      <td>Alpine</td>\n      <td>issued</td>\n      <td>07/06/2017</td>\n      <td>07/06/2017</td>\n      <td>146932394171</td>\n      <td>1.0</td>\n      <td>0.0</td>\n      <td>1 family dwelling</td>\n      <td>1.0</td>\n      <td>1 family dwelling</td>\n      <td>1.0</td>\n      <td>Y</td>\n    </tr>\n  </tbody>\n</table>\n</div>"
     },
     "execution_count": 11,
     "metadata": {},
     "output_type": "execute_result"
    }
   ],
   "source": [
    "df_no_empty.head(10)"
   ],
   "metadata": {
    "collapsed": false
   }
  },
  {
   "cell_type": "code",
   "execution_count": 12,
   "outputs": [
    {
     "name": "stdout",
     "output_type": "stream",
     "text": [
      "<class 'pandas.core.frame.DataFrame'>\n",
      "RangeIndex: 198900 entries, 0 to 198899\n",
      "Data columns (total 19 columns):\n",
      " #   Column                  Non-Null Count   Dtype  \n",
      "---  ------                  --------------   -----  \n",
      " 0   Permit Number           198900 non-null  object \n",
      " 1   Permit Type             198900 non-null  int64  \n",
      " 2   Permit Type Definition  198900 non-null  object \n",
      " 3   Permit Creation Date    198900 non-null  object \n",
      " 4   Block                   198900 non-null  object \n",
      " 5   Lot                     198900 non-null  object \n",
      " 6   Street Number           198900 non-null  int64  \n",
      " 7   Street Name             198900 non-null  object \n",
      " 8   Current Status          198900 non-null  object \n",
      " 9   Current Status Date     198900 non-null  object \n",
      " 10  Filed Date              198900 non-null  object \n",
      " 11  Record ID               198900 non-null  int64  \n",
      " 12  Estimated Cost          198900 non-null  float64\n",
      " 13  Revised Cost            198900 non-null  float64\n",
      " 14  Existing Use            198900 non-null  object \n",
      " 15  Existing Units          198900 non-null  float64\n",
      " 16  Proposed Use            198900 non-null  object \n",
      " 17  Proposed Units          198900 non-null  float64\n",
      " 18  Site Permit             198900 non-null  object \n",
      "dtypes: float64(4), int64(3), object(12)\n",
      "memory usage: 28.8+ MB\n"
     ]
    }
   ],
   "source": [
    "df_no_empty.info()"
   ],
   "metadata": {
    "collapsed": false
   }
  },
  {
   "cell_type": "markdown",
   "source": [
    "## Parsing Date\n",
    "\n",
    "Date columns are not the date type. This might cause some problems when we do calculations on them. We need to parse them."
   ],
   "metadata": {
    "collapsed": false
   }
  },
  {
   "cell_type": "markdown",
   "source": [
    "First, let's look at the date columns to see if they have a consistent pattern."
   ],
   "metadata": {
    "collapsed": false
   }
  },
  {
   "cell_type": "code",
   "execution_count": 13,
   "outputs": [
    {
     "name": "stdout",
     "output_type": "stream",
     "text": [
      "10    198900\n",
      "Name: Permit Creation Date, dtype: int64\n",
      "10    198900\n",
      "Name: Current Status Date, dtype: int64\n",
      "10    198900\n",
      "Name: Filed Date, dtype: int64\n"
     ]
    }
   ],
   "source": [
    "date_columns = ['Permit Creation Date', 'Current Status Date', 'Filed Date']\n",
    "for column in date_columns:\n",
    "    print(df_no_empty[column].str.len().value_counts())"
   ],
   "metadata": {
    "collapsed": false
   }
  },
  {
   "cell_type": "markdown",
   "source": [
    "The date columns seem to have a consistent pattern. We can parse them."
   ],
   "metadata": {
    "collapsed": false
   }
  },
  {
   "cell_type": "code",
   "execution_count": 14,
   "outputs": [],
   "source": [
    "for column in date_columns:\n",
    "    df_no_empty[column] = pd.to_datetime(df_no_empty[column], format='%m/%d/%Y')"
   ],
   "metadata": {
    "collapsed": false
   }
  },
  {
   "cell_type": "code",
   "execution_count": 15,
   "outputs": [
    {
     "data": {
      "text/plain": "  Permit Creation Date Current Status Date Filed Date\n0           2015-05-06          2017-12-21 2015-05-06\n1           2016-04-19          2017-08-03 2016-04-19\n2           2016-05-27          2017-09-26 2016-05-27\n3           2016-11-07          2017-07-24 2016-11-07\n4           2016-11-28          2017-12-01 2016-11-28",
      "text/html": "<div>\n<style scoped>\n    .dataframe tbody tr th:only-of-type {\n        vertical-align: middle;\n    }\n\n    .dataframe tbody tr th {\n        vertical-align: top;\n    }\n\n    .dataframe thead th {\n        text-align: right;\n    }\n</style>\n<table border=\"1\" class=\"dataframe\">\n  <thead>\n    <tr style=\"text-align: right;\">\n      <th></th>\n      <th>Permit Creation Date</th>\n      <th>Current Status Date</th>\n      <th>Filed Date</th>\n    </tr>\n  </thead>\n  <tbody>\n    <tr>\n      <th>0</th>\n      <td>2015-05-06</td>\n      <td>2017-12-21</td>\n      <td>2015-05-06</td>\n    </tr>\n    <tr>\n      <th>1</th>\n      <td>2016-04-19</td>\n      <td>2017-08-03</td>\n      <td>2016-04-19</td>\n    </tr>\n    <tr>\n      <th>2</th>\n      <td>2016-05-27</td>\n      <td>2017-09-26</td>\n      <td>2016-05-27</td>\n    </tr>\n    <tr>\n      <th>3</th>\n      <td>2016-11-07</td>\n      <td>2017-07-24</td>\n      <td>2016-11-07</td>\n    </tr>\n    <tr>\n      <th>4</th>\n      <td>2016-11-28</td>\n      <td>2017-12-01</td>\n      <td>2016-11-28</td>\n    </tr>\n  </tbody>\n</table>\n</div>"
     },
     "metadata": {},
     "output_type": "display_data"
    },
    {
     "name": "stdout",
     "output_type": "stream",
     "text": [
      "<class 'pandas.core.frame.DataFrame'>\n",
      "RangeIndex: 198900 entries, 0 to 198899\n",
      "Data columns (total 19 columns):\n",
      " #   Column                  Non-Null Count   Dtype         \n",
      "---  ------                  --------------   -----         \n",
      " 0   Permit Number           198900 non-null  object        \n",
      " 1   Permit Type             198900 non-null  int64         \n",
      " 2   Permit Type Definition  198900 non-null  object        \n",
      " 3   Permit Creation Date    198900 non-null  datetime64[ns]\n",
      " 4   Block                   198900 non-null  object        \n",
      " 5   Lot                     198900 non-null  object        \n",
      " 6   Street Number           198900 non-null  int64         \n",
      " 7   Street Name             198900 non-null  object        \n",
      " 8   Current Status          198900 non-null  object        \n",
      " 9   Current Status Date     198900 non-null  datetime64[ns]\n",
      " 10  Filed Date              198900 non-null  datetime64[ns]\n",
      " 11  Record ID               198900 non-null  int64         \n",
      " 12  Estimated Cost          198900 non-null  float64       \n",
      " 13  Revised Cost            198900 non-null  float64       \n",
      " 14  Existing Use            198900 non-null  object        \n",
      " 15  Existing Units          198900 non-null  float64       \n",
      " 16  Proposed Use            198900 non-null  object        \n",
      " 17  Proposed Units          198900 non-null  float64       \n",
      " 18  Site Permit             198900 non-null  object        \n",
      "dtypes: datetime64[ns](3), float64(4), int64(3), object(9)\n",
      "memory usage: 28.8+ MB\n"
     ]
    },
    {
     "data": {
      "text/plain": "None"
     },
     "metadata": {},
     "output_type": "display_data"
    }
   ],
   "source": [
    "display(df_no_empty[date_columns].head(5))\n",
    "display(df_no_empty.info())"
   ],
   "metadata": {
    "collapsed": false
   }
  },
  {
   "cell_type": "markdown",
   "source": [
    "## Parsing Object\n",
    "\n",
    "Some columns have object type but they are actually numbers or strings. Let's take a look on their values again."
   ],
   "metadata": {
    "collapsed": false
   }
  },
  {
   "cell_type": "code",
   "execution_count": 16,
   "outputs": [
    {
     "data": {
      "text/plain": "  Permit Number            Permit Type Definition Block  Lot Street Name  \\\n0  201505065519                      sign - erect  0326  023       Ellis   \n1  201604195146                      sign - erect  0306  007       Geary   \n2  201605278609  additions alterations or repairs  0595  203     Pacific   \n3  201611072166            otc alterations permit  0156  011     Pacific   \n4  201611283529                       demolitions  0342  001      Market   \n\n  Current Status         Existing Use       Proposed Use Site Permit  \n0        expired  tourist hotel/motel  1 family dwelling           Y  \n1         issued  tourist hotel/motel  1 family dwelling           Y  \n2      withdrawn         retail sales       retail sales           Y  \n3       complete    1 family dwelling  1 family dwelling           Y  \n4         issued         retail sales  1 family dwelling           Y  ",
      "text/html": "<div>\n<style scoped>\n    .dataframe tbody tr th:only-of-type {\n        vertical-align: middle;\n    }\n\n    .dataframe tbody tr th {\n        vertical-align: top;\n    }\n\n    .dataframe thead th {\n        text-align: right;\n    }\n</style>\n<table border=\"1\" class=\"dataframe\">\n  <thead>\n    <tr style=\"text-align: right;\">\n      <th></th>\n      <th>Permit Number</th>\n      <th>Permit Type Definition</th>\n      <th>Block</th>\n      <th>Lot</th>\n      <th>Street Name</th>\n      <th>Current Status</th>\n      <th>Existing Use</th>\n      <th>Proposed Use</th>\n      <th>Site Permit</th>\n    </tr>\n  </thead>\n  <tbody>\n    <tr>\n      <th>0</th>\n      <td>201505065519</td>\n      <td>sign - erect</td>\n      <td>0326</td>\n      <td>023</td>\n      <td>Ellis</td>\n      <td>expired</td>\n      <td>tourist hotel/motel</td>\n      <td>1 family dwelling</td>\n      <td>Y</td>\n    </tr>\n    <tr>\n      <th>1</th>\n      <td>201604195146</td>\n      <td>sign - erect</td>\n      <td>0306</td>\n      <td>007</td>\n      <td>Geary</td>\n      <td>issued</td>\n      <td>tourist hotel/motel</td>\n      <td>1 family dwelling</td>\n      <td>Y</td>\n    </tr>\n    <tr>\n      <th>2</th>\n      <td>201605278609</td>\n      <td>additions alterations or repairs</td>\n      <td>0595</td>\n      <td>203</td>\n      <td>Pacific</td>\n      <td>withdrawn</td>\n      <td>retail sales</td>\n      <td>retail sales</td>\n      <td>Y</td>\n    </tr>\n    <tr>\n      <th>3</th>\n      <td>201611072166</td>\n      <td>otc alterations permit</td>\n      <td>0156</td>\n      <td>011</td>\n      <td>Pacific</td>\n      <td>complete</td>\n      <td>1 family dwelling</td>\n      <td>1 family dwelling</td>\n      <td>Y</td>\n    </tr>\n    <tr>\n      <th>4</th>\n      <td>201611283529</td>\n      <td>demolitions</td>\n      <td>0342</td>\n      <td>001</td>\n      <td>Market</td>\n      <td>issued</td>\n      <td>retail sales</td>\n      <td>1 family dwelling</td>\n      <td>Y</td>\n    </tr>\n  </tbody>\n</table>\n</div>"
     },
     "execution_count": 16,
     "metadata": {},
     "output_type": "execute_result"
    }
   ],
   "source": [
    "df_no_empty.loc[:, df_no_empty.dtypes == object].head(5)"
   ],
   "metadata": {
    "collapsed": false
   }
  },
  {
   "cell_type": "markdown",
   "source": [
    "Now, parsing them to the proper dtype."
   ],
   "metadata": {
    "collapsed": false
   }
  },
  {
   "cell_type": "code",
   "execution_count": 17,
   "outputs": [
    {
     "data": {
      "text/plain": "        Estimated Cost  Revised Cost  Existing Units  Proposed Units\n0                 4000          4000             143               1\n1                    1           500               1               1\n2                20000             1              39              39\n3                 2000          2000               1               1\n4               100000        100000               1               1\n...                ...           ...             ...             ...\n198895               1             1               1               1\n198896            5000          5000               4               4\n198897               1             1               1               1\n198898               1             1               1               1\n198899               1             1               1               1\n\n[198900 rows x 4 columns]",
      "text/html": "<div>\n<style scoped>\n    .dataframe tbody tr th:only-of-type {\n        vertical-align: middle;\n    }\n\n    .dataframe tbody tr th {\n        vertical-align: top;\n    }\n\n    .dataframe thead th {\n        text-align: right;\n    }\n</style>\n<table border=\"1\" class=\"dataframe\">\n  <thead>\n    <tr style=\"text-align: right;\">\n      <th></th>\n      <th>Estimated Cost</th>\n      <th>Revised Cost</th>\n      <th>Existing Units</th>\n      <th>Proposed Units</th>\n    </tr>\n  </thead>\n  <tbody>\n    <tr>\n      <th>0</th>\n      <td>4000</td>\n      <td>4000</td>\n      <td>143</td>\n      <td>1</td>\n    </tr>\n    <tr>\n      <th>1</th>\n      <td>1</td>\n      <td>500</td>\n      <td>1</td>\n      <td>1</td>\n    </tr>\n    <tr>\n      <th>2</th>\n      <td>20000</td>\n      <td>1</td>\n      <td>39</td>\n      <td>39</td>\n    </tr>\n    <tr>\n      <th>3</th>\n      <td>2000</td>\n      <td>2000</td>\n      <td>1</td>\n      <td>1</td>\n    </tr>\n    <tr>\n      <th>4</th>\n      <td>100000</td>\n      <td>100000</td>\n      <td>1</td>\n      <td>1</td>\n    </tr>\n    <tr>\n      <th>...</th>\n      <td>...</td>\n      <td>...</td>\n      <td>...</td>\n      <td>...</td>\n    </tr>\n    <tr>\n      <th>198895</th>\n      <td>1</td>\n      <td>1</td>\n      <td>1</td>\n      <td>1</td>\n    </tr>\n    <tr>\n      <th>198896</th>\n      <td>5000</td>\n      <td>5000</td>\n      <td>4</td>\n      <td>4</td>\n    </tr>\n    <tr>\n      <th>198897</th>\n      <td>1</td>\n      <td>1</td>\n      <td>1</td>\n      <td>1</td>\n    </tr>\n    <tr>\n      <th>198898</th>\n      <td>1</td>\n      <td>1</td>\n      <td>1</td>\n      <td>1</td>\n    </tr>\n    <tr>\n      <th>198899</th>\n      <td>1</td>\n      <td>1</td>\n      <td>1</td>\n      <td>1</td>\n    </tr>\n  </tbody>\n</table>\n<p>198900 rows × 4 columns</p>\n</div>"
     },
     "execution_count": 17,
     "metadata": {},
     "output_type": "execute_result"
    }
   ],
   "source": [
    "number_columns = ['Estimated Cost', 'Revised Cost', 'Existing Units', 'Proposed Units']\n",
    "for column in number_columns:\n",
    "    df_no_empty[column] = df_no_empty[column].astype(np.int64)\n",
    "\n",
    "df_no_empty[number_columns]"
   ],
   "metadata": {
    "collapsed": false
   }
  },
  {
   "cell_type": "code",
   "execution_count": 18,
   "outputs": [
    {
     "data": {
      "text/plain": "       Permit Number            Permit Type Definition Street Name  \\\n0       201505065519                      sign - erect       Ellis   \n1       201604195146                      sign - erect       Geary   \n2       201605278609  additions alterations or repairs     Pacific   \n3       201611072166            otc alterations permit     Pacific   \n4       201611283529                       demolitions      Market   \n...              ...                               ...         ...   \n198895       M862628            otc alterations permit  Montgomery   \n198896  201712055595            otc alterations permit        Bush   \n198897       M863507            otc alterations permit     Indiana   \n198898       M863747            otc alterations permit      Sutter   \n198899       M864287            otc alterations permit     Pacific   \n\n       Current Status         Existing Use       Proposed Use Site Permit  \\\n0             expired  tourist hotel/motel  1 family dwelling           Y   \n1              issued  tourist hotel/motel  1 family dwelling           Y   \n2           withdrawn         retail sales       retail sales           Y   \n3            complete    1 family dwelling  1 family dwelling           Y   \n4              issued         retail sales  1 family dwelling           Y   \n...               ...                  ...                ...         ...   \n198895         issued    1 family dwelling  1 family dwelling           Y   \n198896         issued           apartments         apartments           Y   \n198897         issued    1 family dwelling  1 family dwelling           Y   \n198898         issued    1 family dwelling  1 family dwelling           Y   \n198899         issued    1 family dwelling  1 family dwelling           Y   \n\n       Block   Lot  \n0       0326   023  \n1       0306   007  \n2       0595   203  \n3       0156   011  \n4       0342   001  \n...      ...   ...  \n198895  0113  017A  \n198896  0271   014  \n198897  4318   019  \n198898  0298   029  \n198899  0160   006  \n\n[198900 rows x 9 columns]",
      "text/html": "<div>\n<style scoped>\n    .dataframe tbody tr th:only-of-type {\n        vertical-align: middle;\n    }\n\n    .dataframe tbody tr th {\n        vertical-align: top;\n    }\n\n    .dataframe thead th {\n        text-align: right;\n    }\n</style>\n<table border=\"1\" class=\"dataframe\">\n  <thead>\n    <tr style=\"text-align: right;\">\n      <th></th>\n      <th>Permit Number</th>\n      <th>Permit Type Definition</th>\n      <th>Street Name</th>\n      <th>Current Status</th>\n      <th>Existing Use</th>\n      <th>Proposed Use</th>\n      <th>Site Permit</th>\n      <th>Block</th>\n      <th>Lot</th>\n    </tr>\n  </thead>\n  <tbody>\n    <tr>\n      <th>0</th>\n      <td>201505065519</td>\n      <td>sign - erect</td>\n      <td>Ellis</td>\n      <td>expired</td>\n      <td>tourist hotel/motel</td>\n      <td>1 family dwelling</td>\n      <td>Y</td>\n      <td>0326</td>\n      <td>023</td>\n    </tr>\n    <tr>\n      <th>1</th>\n      <td>201604195146</td>\n      <td>sign - erect</td>\n      <td>Geary</td>\n      <td>issued</td>\n      <td>tourist hotel/motel</td>\n      <td>1 family dwelling</td>\n      <td>Y</td>\n      <td>0306</td>\n      <td>007</td>\n    </tr>\n    <tr>\n      <th>2</th>\n      <td>201605278609</td>\n      <td>additions alterations or repairs</td>\n      <td>Pacific</td>\n      <td>withdrawn</td>\n      <td>retail sales</td>\n      <td>retail sales</td>\n      <td>Y</td>\n      <td>0595</td>\n      <td>203</td>\n    </tr>\n    <tr>\n      <th>3</th>\n      <td>201611072166</td>\n      <td>otc alterations permit</td>\n      <td>Pacific</td>\n      <td>complete</td>\n      <td>1 family dwelling</td>\n      <td>1 family dwelling</td>\n      <td>Y</td>\n      <td>0156</td>\n      <td>011</td>\n    </tr>\n    <tr>\n      <th>4</th>\n      <td>201611283529</td>\n      <td>demolitions</td>\n      <td>Market</td>\n      <td>issued</td>\n      <td>retail sales</td>\n      <td>1 family dwelling</td>\n      <td>Y</td>\n      <td>0342</td>\n      <td>001</td>\n    </tr>\n    <tr>\n      <th>...</th>\n      <td>...</td>\n      <td>...</td>\n      <td>...</td>\n      <td>...</td>\n      <td>...</td>\n      <td>...</td>\n      <td>...</td>\n      <td>...</td>\n      <td>...</td>\n    </tr>\n    <tr>\n      <th>198895</th>\n      <td>M862628</td>\n      <td>otc alterations permit</td>\n      <td>Montgomery</td>\n      <td>issued</td>\n      <td>1 family dwelling</td>\n      <td>1 family dwelling</td>\n      <td>Y</td>\n      <td>0113</td>\n      <td>017A</td>\n    </tr>\n    <tr>\n      <th>198896</th>\n      <td>201712055595</td>\n      <td>otc alterations permit</td>\n      <td>Bush</td>\n      <td>issued</td>\n      <td>apartments</td>\n      <td>apartments</td>\n      <td>Y</td>\n      <td>0271</td>\n      <td>014</td>\n    </tr>\n    <tr>\n      <th>198897</th>\n      <td>M863507</td>\n      <td>otc alterations permit</td>\n      <td>Indiana</td>\n      <td>issued</td>\n      <td>1 family dwelling</td>\n      <td>1 family dwelling</td>\n      <td>Y</td>\n      <td>4318</td>\n      <td>019</td>\n    </tr>\n    <tr>\n      <th>198898</th>\n      <td>M863747</td>\n      <td>otc alterations permit</td>\n      <td>Sutter</td>\n      <td>issued</td>\n      <td>1 family dwelling</td>\n      <td>1 family dwelling</td>\n      <td>Y</td>\n      <td>0298</td>\n      <td>029</td>\n    </tr>\n    <tr>\n      <th>198899</th>\n      <td>M864287</td>\n      <td>otc alterations permit</td>\n      <td>Pacific</td>\n      <td>issued</td>\n      <td>1 family dwelling</td>\n      <td>1 family dwelling</td>\n      <td>Y</td>\n      <td>0160</td>\n      <td>006</td>\n    </tr>\n  </tbody>\n</table>\n<p>198900 rows × 9 columns</p>\n</div>"
     },
     "execution_count": 18,
     "metadata": {},
     "output_type": "execute_result"
    }
   ],
   "source": [
    "string_columns = ['Permit Number', 'Permit Type Definition', 'Street Name', 'Current Status', 'Existing Use', 'Proposed Use', 'Site Permit', 'Block', 'Lot']\n",
    "for column in string_columns:\n",
    "    df_no_empty[column] = df_no_empty[column].astype('string')\n",
    "\n",
    "df_no_empty[string_columns]"
   ],
   "metadata": {
    "collapsed": false
   }
  },
  {
   "cell_type": "markdown",
   "source": [
    "Now, all the columns are in the proper dtype. Let's check them."
   ],
   "metadata": {
    "collapsed": false
   }
  },
  {
   "cell_type": "code",
   "execution_count": 19,
   "outputs": [
    {
     "name": "stdout",
     "output_type": "stream",
     "text": [
      "<class 'pandas.core.frame.DataFrame'>\n",
      "RangeIndex: 198900 entries, 0 to 198899\n",
      "Data columns (total 19 columns):\n",
      " #   Column                  Non-Null Count   Dtype         \n",
      "---  ------                  --------------   -----         \n",
      " 0   Permit Number           198900 non-null  string        \n",
      " 1   Permit Type             198900 non-null  int64         \n",
      " 2   Permit Type Definition  198900 non-null  string        \n",
      " 3   Permit Creation Date    198900 non-null  datetime64[ns]\n",
      " 4   Block                   198900 non-null  string        \n",
      " 5   Lot                     198900 non-null  string        \n",
      " 6   Street Number           198900 non-null  int64         \n",
      " 7   Street Name             198900 non-null  string        \n",
      " 8   Current Status          198900 non-null  string        \n",
      " 9   Current Status Date     198900 non-null  datetime64[ns]\n",
      " 10  Filed Date              198900 non-null  datetime64[ns]\n",
      " 11  Record ID               198900 non-null  int64         \n",
      " 12  Estimated Cost          198900 non-null  int64         \n",
      " 13  Revised Cost            198900 non-null  int64         \n",
      " 14  Existing Use            198900 non-null  string        \n",
      " 15  Existing Units          198900 non-null  int64         \n",
      " 16  Proposed Use            198900 non-null  string        \n",
      " 17  Proposed Units          198900 non-null  int64         \n",
      " 18  Site Permit             198900 non-null  string        \n",
      "dtypes: datetime64[ns](3), int64(7), string(9)\n",
      "memory usage: 28.8 MB\n"
     ]
    }
   ],
   "source": [
    "df_no_empty.info()"
   ],
   "metadata": {
    "collapsed": false
   }
  },
  {
   "cell_type": "markdown",
   "source": [
    "## Scaling and Normalization\n",
    "\n",
    "At the \"Handle Empty Values\" section, we filled the empty values with the most frequent value. This might break the distribution of the data.\n",
    "\n",
    "First, we need to check the distribution of the data."
   ],
   "metadata": {
    "collapsed": false
   }
  },
  {
   "cell_type": "code",
   "execution_count": 20,
   "outputs": [],
   "source": [
    "from scipy import stats\n",
    "from mlxtend.preprocessing import minmax_scaling\n",
    "from sklearn import preprocessing"
   ],
   "metadata": {
    "collapsed": false
   }
  },
  {
   "cell_type": "code",
   "execution_count": 21,
   "outputs": [
    {
     "data": {
      "text/plain": "<Figure size 800x800 with 4 Axes>",
      "image/png": "[encoded data removed]"
     },
     "metadata": {},
     "output_type": "display_data"
    }
   ],
   "source": [
    "auto_filled_continuous_columns = ['Estimated Cost', 'Revised Cost', 'Existing Units', 'Proposed Units']\n",
    "fig, axes = plt.subplots(2, 2, figsize=(8, 8))\n",
    "sns.set_palette('prism')\n",
    "axes = axes.flatten()\n",
    "\n",
    "for i, column in enumerate(auto_filled_continuous_columns):\n",
    "    sns.histplot(data=df_no_empty[column], ax=axes[i], bins=25, kde=True)\n",
    "\n",
    "plt.show()"
   ],
   "metadata": {
    "collapsed": false
   }
  },
  {
   "cell_type": "markdown",
   "source": [
    "Look like our data is very imbalance. All data points go to zero. But based on context of the columns, they shouldn't be like that. How come \"Estimate Cost\" of a building is so cheap!\n",
    "Let inspect the value count"
   ],
   "metadata": {
    "collapsed": false
   }
  },
  {
   "cell_type": "code",
   "execution_count": 24,
   "outputs": [
    {
     "data": {
      "text/plain": "Estimated Cost  Revised Cost  Existing Units  Proposed Units\n1               1             1               1                 37205\n                0             1               1                  3891\n                1             0               0                  2733\n                              2               2                  2229\n5000            5000          1               1                  1761\n                                                                ...  \n12500           23938         23              23                    1\n                24000         1               18                    1\n                              2               2                     1\n                25000         1               1                     1\n537958646       780500000     1               1                     1\nLength: 47183, dtype: int64"
     },
     "execution_count": 24,
     "metadata": {},
     "output_type": "execute_result"
    }
   ],
   "source": [
    "df_no_empty[auto_filled_continuous_columns].value_counts()"
   ],
   "metadata": {
    "collapsed": false
   }
  }
 ],
 "metadata": {
  "kernelspec": {
   "display_name": "Python 3",
   "language": "python",
   "name": "python3"
  },
  "language_info": {
   "codemirror_mode": {
    "name": "ipython",
    "version": 2
   },
   "file_extension": ".py",
   "mimetype": "text/x-python",
   "name": "python",
   "nbconvert_exporter": "python",
   "pygments_lexer": "ipython2",
   "version": "2.7.6"
  }
 },
 "nbformat": 4,
 "nbformat_minor": 0
}
