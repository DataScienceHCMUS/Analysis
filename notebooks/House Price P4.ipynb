{
 "cells": [
  {
   "cell_type": "markdown",
   "source": [
    "# House Prices Advanced Regression Techniques 4\n",
    "\n",
    "From part 3, we saw that CatBoostRegressor perform worse when we selected top 20 important features. We guess that using all feature might be the good idea.\n",
    "\n",
    "So in this part, we will re-train all models from part 1 but using all features."
   ],
   "metadata": {
    "collapsed": false
   }
  },
  {
   "cell_type": "markdown",
   "source": [
    "## Baseline\n",
    "\n",
    "We use model from P3 as baseline. Taking all columns, default parameters, and no feature engineering."
   ],
   "metadata": {
    "collapsed": false
   }
  },
  {
   "cell_type": "code",
   "execution_count": 1,
   "outputs": [],
   "source": [
    "import numpy as np\n",
    "import pandas as pd\n",
    "import seaborn as sns\n",
    "\n",
    "from sklearn.pipeline import make_pipeline\n",
    "from sklearn.impute import SimpleImputer\n",
    "from sklearn.preprocessing import StandardScaler, OrdinalEncoder, FunctionTransformer\n",
    "from sklearn.model_selection import cross_val_score, GridSearchCV\n",
    "from sklearn.compose import make_column_selector, make_column_transformer, TransformedTargetRegressor\n",
    "\n",
    "from catboost import CatBoostRegressor"
   ],
   "metadata": {
    "collapsed": false,
    "ExecuteTime": {
     "start_time": "2023-04-16T13:29:05.869060Z",
     "end_time": "2023-04-16T13:29:07.613135Z"
    }
   }
  },
  {
   "cell_type": "code",
   "execution_count": 2,
   "outputs": [],
   "source": [
    "continuous_pip = make_pipeline(\n",
    "    SimpleImputer(strategy=\"median\"),\n",
    "    StandardScaler()\n",
    ")\n",
    "\n",
    "discrete_pipe = make_pipeline(\n",
    "    SimpleImputer(strategy=\"most_frequent\"),\n",
    "    OrdinalEncoder()\n",
    ")\n",
    "\n",
    "preprocess_pipe = make_column_transformer(\n",
    "    (continuous_pip, make_column_selector(dtype_include=np.number)),\n",
    "    (discrete_pipe, make_column_selector(dtype_include=object))\n",
    ")\n",
    "\n",
    "cat_boost_regressor = CatBoostRegressor(random_state=42, silent=True, allow_writing_files=False)\n",
    "log_level_regressor = TransformedTargetRegressor(\n",
    "    cat_boost_regressor,\n",
    "    func=np.log1p,\n",
    "    inverse_func=np.expm1,\n",
    ")\n",
    "\n",
    "cat_boost_pipe_base_line = make_pipeline(\n",
    "    preprocess_pipe,\n",
    "    log_level_regressor\n",
    ")"
   ],
   "metadata": {
    "collapsed": false,
    "ExecuteTime": {
     "start_time": "2023-04-16T13:29:07.605126Z",
     "end_time": "2023-04-16T13:29:07.632133Z"
    }
   }
  },
  {
   "cell_type": "code",
   "execution_count": 3,
   "outputs": [
    {
     "name": "stdout",
     "output_type": "stream",
     "text": [
      "Baseline score: -0.121 +/- 0.012\n"
     ]
    }
   ],
   "source": [
    "df_train = pd.read_csv(\"../input/house-prices-advanced-regression-techniques/train.csv\")\n",
    "\n",
    "df_preprocess = preprocess_pipe.fit_transform(df_train.drop(columns=[\"Id\", \"SalePrice\"]))\n",
    "df_target = np.log1p(df_train[\"SalePrice\"])\n",
    "\n",
    "baseline_score = cross_val_score(cat_boost_regressor, df_preprocess, df_target, cv=5, scoring=\"neg_root_mean_squared_error\")\n",
    "print(f\"Baseline score: {baseline_score.mean():.3f} +/- {baseline_score.std():.3f}\")"
   ],
   "metadata": {
    "collapsed": false,
    "ExecuteTime": {
     "start_time": "2023-04-16T13:29:07.640130Z",
     "end_time": "2023-04-16T13:29:15.326909Z"
    }
   }
  },
  {
   "cell_type": "markdown",
   "source": [
    "## Try with models from part 1\n",
    "\n",
    "We are not sure if the old params might be the best params in this case. So we will try to find the best params for each model again."
   ],
   "metadata": {
    "collapsed": false
   }
  },
  {
   "cell_type": "code",
   "execution_count": 4,
   "outputs": [],
   "source": [
    "from sklearn.model_selection import GridSearchCV, cross_val_score\n",
    "from sklearn.linear_model import Lasso, Ridge, HuberRegressor\n",
    "from sklearn.ensemble import AdaBoostRegressor, RandomForestRegressor, ExtraTreesRegressor, GradientBoostingRegressor, \\\n",
    "    VotingRegressor, StackingRegressor\n",
    "from sklearn.svm import SVR\n",
    "from sklearn.tree import DecisionTreeRegressor\n",
    "from sklearn.neighbors import KNeighborsRegressor\n",
    "from sklearn.kernel_ridge import KernelRidge\n",
    "from xgboost import XGBRegressor\n",
    "from lightgbm import LGBMRegressor\n",
    "\n",
    "import warnings\n",
    "\n",
    "warnings.filterwarnings(\"ignore\")"
   ],
   "metadata": {
    "collapsed": false,
    "ExecuteTime": {
     "start_time": "2023-04-16T13:29:15.330909Z",
     "end_time": "2023-04-16T13:29:15.813125Z"
    }
   }
  },
  {
   "cell_type": "code",
   "execution_count": 5,
   "outputs": [
    {
     "name": "stdout",
     "output_type": "stream",
     "text": [
      "Fitting 5 folds for each of 4 candidates, totalling 20 fits\n",
      "Best score: -0.14973831225052195\n",
      "Best params: {'alpha': 0.001}\n"
     ]
    }
   ],
   "source": [
    "lasso = Lasso(random_state=0)\n",
    "lasso_param_grid = {\n",
    "    'alpha': [0.0001, 0.001, 0.01, 1],\n",
    "}\n",
    "\n",
    "lasso_cv = GridSearchCV(\n",
    "    lasso,\n",
    "    param_grid=lasso_param_grid,\n",
    "    cv=5,\n",
    "    scoring='neg_root_mean_squared_error',\n",
    "    n_jobs=-1,\n",
    "    verbose=1\n",
    ")\n",
    "\n",
    "lasso_cv.fit(df_preprocess, df_target)\n",
    "\n",
    "print(f'Best score: {lasso_cv.best_score_}')\n",
    "print(f'Best params: {lasso_cv.best_params_}')"
   ],
   "metadata": {
    "collapsed": false,
    "ExecuteTime": {
     "start_time": "2023-04-16T13:29:15.817125Z",
     "end_time": "2023-04-16T13:29:24.111248Z"
    }
   }
  },
  {
   "cell_type": "code",
   "execution_count": 6,
   "outputs": [
    {
     "name": "stdout",
     "output_type": "stream",
     "text": [
      "Fitting 5 folds for each of 4 candidates, totalling 20 fits\n",
      "Best score: -0.15138814469791143\n",
      "Best params: {'alpha': 1}\n"
     ]
    }
   ],
   "source": [
    "ridge = Ridge(random_state=0)\n",
    "ridge_param_grid = {\n",
    "    'alpha': [0.0001, 0.001, 0.01, 1],\n",
    "}\n",
    "\n",
    "ridge_cv = GridSearchCV(\n",
    "    ridge,\n",
    "    param_grid=ridge_param_grid,\n",
    "    cv=5,\n",
    "    scoring='neg_root_mean_squared_error',\n",
    "    n_jobs=-1,\n",
    "    verbose=1\n",
    ")\n",
    "\n",
    "ridge_cv.fit(df_preprocess, df_target)\n",
    "\n",
    "print(f'Best score: {ridge_cv.best_score_}')\n",
    "print(f'Best params: {ridge_cv.best_params_}')"
   ],
   "metadata": {
    "collapsed": false,
    "ExecuteTime": {
     "start_time": "2023-04-16T13:29:24.101256Z",
     "end_time": "2023-04-16T13:29:38.947624Z"
    }
   }
  },
  {
   "cell_type": "code",
   "execution_count": 7,
   "outputs": [
    {
     "name": "stdout",
     "output_type": "stream",
     "text": [
      "Fitting 5 folds for each of 36 candidates, totalling 180 fits\n",
      "Best score: -0.2564849589080319\n",
      "Best params: {'alpha': 1, 'epsilon': 1.75, 'max_iter': 1000}\n"
     ]
    }
   ],
   "source": [
    "huber = HuberRegressor()\n",
    "huber_param_grid = {\n",
    "    'alpha': [0.0001, 0.001, 0.01, 1],\n",
    "    'epsilon': [1.35, 1.5, 1.75],\n",
    "    'max_iter': [300, 500, 1000],\n",
    "}\n",
    "\n",
    "huber_cv = GridSearchCV(\n",
    "    huber,\n",
    "    param_grid=huber_param_grid,\n",
    "    cv=5,\n",
    "    scoring='neg_root_mean_squared_error',\n",
    "    n_jobs=-1,\n",
    "    verbose=1\n",
    ")\n",
    "\n",
    "huber_cv.fit(df_preprocess, df_target)\n",
    "\n",
    "print(f'Best score: {huber_cv.best_score_}')\n",
    "print(f'Best params: {huber_cv.best_params_}')"
   ],
   "metadata": {
    "collapsed": false,
    "ExecuteTime": {
     "start_time": "2023-04-16T13:29:24.245074Z",
     "end_time": "2023-04-16T13:29:42.027545Z"
    }
   }
  },
  {
   "cell_type": "code",
   "execution_count": 8,
   "outputs": [
    {
     "name": "stdout",
     "output_type": "stream",
     "text": [
      "Fitting 5 folds for each of 12 candidates, totalling 60 fits\n",
      "Best score: -0.17166928836861067\n",
      "Best params: {'learning_rate': 1, 'n_estimators': 100}\n"
     ]
    }
   ],
   "source": [
    "ada = AdaBoostRegressor(random_state=0)\n",
    "ada_param_grid = {\n",
    "    'n_estimators': [50, 100, 200],\n",
    "    'learning_rate': [0.001, 0.01, 0.1, 1],\n",
    "}\n",
    "\n",
    "ada_cv = GridSearchCV(\n",
    "    ada,\n",
    "    param_grid=ada_param_grid,\n",
    "    cv=5,\n",
    "    scoring='neg_root_mean_squared_error',\n",
    "    n_jobs=-1,\n",
    "    verbose=1\n",
    ")\n",
    "\n",
    "ada_cv.fit(df_preprocess, df_target)\n",
    "\n",
    "print(f'Best score: {ada_cv.best_score_}')\n",
    "print(f'Best params: {ada_cv.best_params_}')"
   ],
   "metadata": {
    "collapsed": false,
    "ExecuteTime": {
     "start_time": "2023-04-16T13:29:41.982188Z",
     "end_time": "2023-04-16T13:29:48.276156Z"
    }
   }
  },
  {
   "cell_type": "code",
   "execution_count": 9,
   "outputs": [
    {
     "name": "stdout",
     "output_type": "stream",
     "text": [
      "Fitting 5 folds for each of 9 candidates, totalling 45 fits\n",
      "Best score: -0.1423629250558255\n",
      "Best params: {'max_depth': 13, 'n_estimators': 120}\n"
     ]
    }
   ],
   "source": [
    "random_forest = RandomForestRegressor(random_state=0)\n",
    "random_forest_param_grid = {\n",
    "    'n_estimators': [100, 120, 150],\n",
    "    'max_depth': [10, 13, 15],\n",
    "}\n",
    "\n",
    "random_forest_cv = GridSearchCV(\n",
    "    random_forest,\n",
    "    param_grid=random_forest_param_grid,\n",
    "    cv=5,\n",
    "    scoring='neg_root_mean_squared_error',\n",
    "    n_jobs=-1,\n",
    "    verbose=1\n",
    ")\n",
    "\n",
    "random_forest_cv.fit(df_preprocess, df_target)\n",
    "\n",
    "print(f'Best score: {random_forest_cv.best_score_}')\n",
    "print(f'Best params: {random_forest_cv.best_params_}')"
   ],
   "metadata": {
    "collapsed": false,
    "ExecuteTime": {
     "start_time": "2023-04-16T13:29:48.281158Z",
     "end_time": "2023-04-16T13:30:04.278177Z"
    }
   }
  },
  {
   "cell_type": "code",
   "execution_count": 10,
   "outputs": [
    {
     "name": "stdout",
     "output_type": "stream",
     "text": [
      "Fitting 5 folds for each of 9 candidates, totalling 45 fits\n",
      "Best score: -0.13568872292054307\n",
      "Best params: {'max_depth': 15, 'n_estimators': 200}\n"
     ]
    }
   ],
   "source": [
    "extra_tree = ExtraTreesRegressor(random_state=0)\n",
    "\n",
    "extra_tree_param_grid = {\n",
    "    'n_estimators': [100, 150, 200],\n",
    "    'max_depth': [5, 13, 15],\n",
    "}\n",
    "\n",
    "extra_tree_cv = GridSearchCV(\n",
    "    extra_tree,\n",
    "    param_grid=extra_tree_param_grid,\n",
    "    cv=5,\n",
    "    scoring='neg_root_mean_squared_error',\n",
    "    n_jobs=-1,\n",
    "    verbose=1\n",
    ")\n",
    "\n",
    "extra_tree_cv.fit(df_preprocess, df_target)\n",
    "\n",
    "print(f'Best score: {extra_tree_cv.best_score_}')\n",
    "print(f'Best params: {extra_tree_cv.best_params_}')"
   ],
   "metadata": {
    "collapsed": false,
    "ExecuteTime": {
     "start_time": "2023-04-16T13:30:04.283630Z",
     "end_time": "2023-04-16T13:30:13.181659Z"
    }
   }
  },
  {
   "cell_type": "code",
   "execution_count": 11,
   "outputs": [
    {
     "name": "stdout",
     "output_type": "stream",
     "text": [
      "Fitting 5 folds for each of 36 candidates, totalling 180 fits\n",
      "Best score: -0.12740450188983787\n",
      "Best params: {'learning_rate': 0.1, 'max_depth': 5, 'n_estimators': 200}\n"
     ]
    }
   ],
   "source": [
    "gradient_boosting = GradientBoostingRegressor(random_state=0)\n",
    "\n",
    "gradient_boosting_param_grid = {\n",
    "    'n_estimators': [100, 150, 200],\n",
    "    'max_depth': [5, 10, 15],\n",
    "    'learning_rate': [0.001, 0.01, 0.1, 1],\n",
    "}\n",
    "\n",
    "gradient_boosting_cv = GridSearchCV(\n",
    "    gradient_boosting,\n",
    "    param_grid=gradient_boosting_param_grid,\n",
    "    cv=5,\n",
    "    scoring='neg_root_mean_squared_error',\n",
    "    n_jobs=-1,\n",
    "    verbose=1\n",
    ")\n",
    "\n",
    "gradient_boosting_cv.fit(df_preprocess, df_target)\n",
    "\n",
    "print(f'Best score: {gradient_boosting_cv.best_score_}')\n",
    "print(f'Best params: {gradient_boosting_cv.best_params_}')"
   ],
   "metadata": {
    "collapsed": false,
    "ExecuteTime": {
     "start_time": "2023-04-16T13:30:13.181659Z",
     "end_time": "2023-04-16T13:31:10.026104Z"
    }
   }
  },
  {
   "cell_type": "code",
   "execution_count": 12,
   "outputs": [
    {
     "name": "stdout",
     "output_type": "stream",
     "text": [
      "Fitting 5 folds for each of 12 candidates, totalling 60 fits\n",
      "Best score: -0.12602725164245793\n",
      "Best params: {'C': 1, 'epsilon': 0.001}\n"
     ]
    }
   ],
   "source": [
    "svr = SVR()\n",
    "\n",
    "svr_param_grid = {\n",
    "    'C': [0.1, 1, 10, 100],\n",
    "    'epsilon': [0.001, 0.1, 1],\n",
    "}\n",
    "\n",
    "svr_cv = GridSearchCV(\n",
    "    svr,\n",
    "    param_grid=svr_param_grid,\n",
    "    cv=5,\n",
    "    scoring='neg_root_mean_squared_error',\n",
    "    n_jobs=-1,\n",
    "    verbose=1\n",
    ")\n",
    "\n",
    "svr_cv.fit(df_preprocess, df_target)\n",
    "\n",
    "print(f'Best score: {svr_cv.best_score_}')\n",
    "print(f'Best params: {svr_cv.best_params_}')"
   ],
   "metadata": {
    "collapsed": false,
    "ExecuteTime": {
     "start_time": "2023-04-16T13:31:10.052104Z",
     "end_time": "2023-04-16T13:31:12.022681Z"
    }
   }
  },
  {
   "cell_type": "code",
   "execution_count": 13,
   "outputs": [
    {
     "name": "stdout",
     "output_type": "stream",
     "text": [
      "Fitting 5 folds for each of 9 candidates, totalling 45 fits\n",
      "Best score: -0.1999469732998809\n",
      "Best params: {'max_depth': 20}\n"
     ]
    }
   ],
   "source": [
    "decision_tree = DecisionTreeRegressor(random_state=0)\n",
    "\n",
    "decision_tree_param_grid = {\n",
    "    'max_depth': [5, 10, 15, 20, 25, 30, 35, 40, 45],\n",
    "}\n",
    "\n",
    "decision_tree_cv = GridSearchCV(\n",
    "    decision_tree,\n",
    "    param_grid=decision_tree_param_grid,\n",
    "    cv=5,\n",
    "    scoring='neg_root_mean_squared_error',\n",
    "    n_jobs=-1,\n",
    "    verbose=1\n",
    ")\n",
    "\n",
    "decision_tree_cv.fit(df_preprocess, df_target)\n",
    "\n",
    "print(f'Best score: {decision_tree_cv.best_score_}')\n",
    "print(f'Best params: {decision_tree_cv.best_params_}')\n"
   ],
   "metadata": {
    "collapsed": false,
    "ExecuteTime": {
     "start_time": "2023-04-16T13:31:12.026683Z",
     "end_time": "2023-04-16T13:31:12.264037Z"
    }
   }
  },
  {
   "cell_type": "code",
   "execution_count": 14,
   "outputs": [
    {
     "name": "stdout",
     "output_type": "stream",
     "text": [
      "Fitting 5 folds for each of 6 candidates, totalling 30 fits\n",
      "Best score: -0.19456383085078313\n",
      "Best params: {'n_neighbors': 9}\n"
     ]
    }
   ],
   "source": [
    "k_neighbors = KNeighborsRegressor()\n",
    "\n",
    "k_neighbors_param_grid = {\n",
    "    'n_neighbors': [5, 7, 9, 11, 13, 15],\n",
    "}\n",
    "\n",
    "k_neighbors_cv = GridSearchCV(\n",
    "    k_neighbors,\n",
    "    param_grid=k_neighbors_param_grid,\n",
    "    cv=5,\n",
    "    scoring='neg_root_mean_squared_error',\n",
    "    n_jobs=-1,\n",
    "    verbose=1\n",
    ")\n",
    "\n",
    "k_neighbors_cv.fit(df_preprocess, df_target)\n",
    "\n",
    "print(f'Best score: {k_neighbors_cv.best_score_}')\n",
    "print(f'Best params: {k_neighbors_cv.best_params_}')"
   ],
   "metadata": {
    "collapsed": false,
    "ExecuteTime": {
     "start_time": "2023-04-16T13:31:12.244490Z",
     "end_time": "2023-04-16T13:31:13.090671Z"
    }
   }
  },
  {
   "cell_type": "code",
   "execution_count": 15,
   "outputs": [
    {
     "name": "stdout",
     "output_type": "stream",
     "text": [
      "Fitting 5 folds for each of 16 candidates, totalling 80 fits\n",
      "Best score: -0.3145973361599249\n",
      "Best params: {'alpha': 1, 'gamma': 0.0001}\n"
     ]
    }
   ],
   "source": [
    "kernel_ridge = KernelRidge()\n",
    "\n",
    "kernel_ridge_param_grid = {\n",
    "    'alpha': [0.0001, 0.001, 0.1, 1],\n",
    "    'gamma': [0.0001, 0.001, 0.1, 1],\n",
    "}\n",
    "\n",
    "kernel_ridge_cv = GridSearchCV(\n",
    "    kernel_ridge,\n",
    "    param_grid=kernel_ridge_param_grid,\n",
    "    cv=5,\n",
    "    scoring='neg_root_mean_squared_error',\n",
    "    n_jobs=-1,\n",
    "    verbose=1\n",
    ")\n",
    "\n",
    "kernel_ridge_cv.fit(df_preprocess, df_target)\n",
    "\n",
    "print(f'Best score: {kernel_ridge_cv.best_score_}')\n",
    "print(f'Best params: {kernel_ridge_cv.best_params_}')"
   ],
   "metadata": {
    "collapsed": false,
    "ExecuteTime": {
     "start_time": "2023-04-16T13:31:13.095660Z",
     "end_time": "2023-04-16T13:31:15.435613Z"
    }
   }
  },
  {
   "cell_type": "code",
   "execution_count": 16,
   "outputs": [
    {
     "name": "stdout",
     "output_type": "stream",
     "text": [
      "Fitting 5 folds for each of 36 candidates, totalling 180 fits\n",
      "Best score: -0.1307707939832206\n",
      "Best params: {'learning_rate': 0.1, 'max_depth': 5, 'n_estimators': 200}\n"
     ]
    }
   ],
   "source": [
    "xgboost = XGBRegressor(random_state=0)\n",
    "\n",
    "xgboost_param_grid = {\n",
    "    'n_estimators': [100, 150, 200],\n",
    "    'max_depth': [5, 10, 15],\n",
    "    'learning_rate': [0.001, 0.01, 0.1, 1],\n",
    "}\n",
    "\n",
    "xgboost_cv = GridSearchCV(\n",
    "    xgboost,\n",
    "    param_grid=xgboost_param_grid,\n",
    "    cv=5,\n",
    "    scoring='neg_root_mean_squared_error',\n",
    "    n_jobs=-1,\n",
    "    verbose=1\n",
    ")\n",
    "\n",
    "xgboost_cv.fit(df_preprocess, df_target)\n",
    "\n",
    "print(f'Best score: {xgboost_cv.best_score_}')\n",
    "print(f'Best params: {xgboost_cv.best_params_}')"
   ],
   "metadata": {
    "collapsed": false,
    "ExecuteTime": {
     "start_time": "2023-04-16T13:31:15.435613Z",
     "end_time": "2023-04-16T13:31:26.962104Z"
    }
   }
  },
  {
   "cell_type": "code",
   "execution_count": 17,
   "outputs": [
    {
     "name": "stdout",
     "output_type": "stream",
     "text": [
      "Fitting 5 folds for each of 36 candidates, totalling 180 fits\n",
      "Best score: -0.13197748682935997\n",
      "Best params: {'learning_rate': 0.1, 'max_depth': 10, 'n_estimators': 150}\n"
     ]
    }
   ],
   "source": [
    "lightgbm = LGBMRegressor(random_state=0)\n",
    "\n",
    "lightgbm_param_grid = {\n",
    "    'n_estimators': [100, 150, 200],\n",
    "    'max_depth': [5, 10, 15],\n",
    "    'learning_rate': [0.001, 0.01, 0.1, 1],\n",
    "}\n",
    "\n",
    "lightgbm_cv = GridSearchCV(\n",
    "    lightgbm,\n",
    "    param_grid=lightgbm_param_grid,\n",
    "    cv=5,\n",
    "    scoring='neg_root_mean_squared_error',\n",
    "    n_jobs=-1,\n",
    "    verbose=1\n",
    ")\n",
    "\n",
    "lightgbm_cv.fit(df_preprocess, df_target)\n",
    "\n",
    "print(f'Best score: {lightgbm_cv.best_score_}')\n",
    "print(f'Best params: {lightgbm_cv.best_params_}')"
   ],
   "metadata": {
    "collapsed": false,
    "ExecuteTime": {
     "start_time": "2023-04-16T13:31:26.967100Z",
     "end_time": "2023-04-16T13:31:32.615358Z"
    }
   }
  },
  {
   "cell_type": "markdown",
   "source": [
    "Plotting the results"
   ],
   "metadata": {
    "collapsed": false
   }
  },
  {
   "cell_type": "code",
   "execution_count": 18,
   "outputs": [
    {
     "data": {
      "text/plain": "<Axes: xlabel='Score', ylabel='Model'>"
     },
     "execution_count": 18,
     "metadata": {},
     "output_type": "execute_result"
    },
    {
     "data": {
      "text/plain": "<Figure size 640x480 with 1 Axes>",
      "image/png": "[encoded data removed]"
     },
     "metadata": {},
     "output_type": "display_data"
    }
   ],
   "source": [
    "df_score = pd.DataFrame({\n",
    "    'Model': [\n",
    "        'Ridge Regression',\n",
    "        'Lasso Regression',\n",
    "        'Huber Regression',\n",
    "        'AdaBoost',\n",
    "        'Random Forest',\n",
    "        'Extra Trees',\n",
    "        'Gradient Boosting',\n",
    "        'SVR',\n",
    "        'Decision Tree',\n",
    "        'K-Neighbors',\n",
    "        'Kernel Ridge',\n",
    "        'XGBoost',\n",
    "        'LightGBM',\n",
    "        'CatBoost'\n",
    "    ],\n",
    "    'Score': [\n",
    "        ridge_cv.best_score_,\n",
    "        lasso_cv.best_score_,\n",
    "        huber_cv.best_score_,\n",
    "        ada_cv.best_score_,\n",
    "        random_forest_cv.best_score_,\n",
    "        extra_tree_cv.best_score_,\n",
    "        gradient_boosting_cv.best_score_,\n",
    "        svr_cv.best_score_,\n",
    "        decision_tree_cv.best_score_,\n",
    "        k_neighbors_cv.best_score_,\n",
    "        kernel_ridge_cv.best_score_,\n",
    "        xgboost_cv.best_score_,\n",
    "        lightgbm_cv.best_score_,\n",
    "        baseline_score.mean()\n",
    "    ]\n",
    "})\n",
    "\n",
    "sns.barplot(x='Score', y='Model', data=df_score.sort_values(by='Score', ascending=False))"
   ],
   "metadata": {
    "collapsed": false,
    "ExecuteTime": {
     "start_time": "2023-04-16T13:31:32.621358Z",
     "end_time": "2023-04-16T13:31:33.066594Z"
    }
   }
  },
  {
   "cell_type": "markdown",
   "source": [
    "The ranking change a lot. We will pick top 5 to put them into VotingRegressor and StackingRegressor."
   ],
   "metadata": {
    "collapsed": false
   }
  },
  {
   "cell_type": "code",
   "execution_count": 27,
   "outputs": [
    {
     "name": "stderr",
     "output_type": "stream",
     "text": [
      "[Parallel(n_jobs=-1)]: Using backend LokyBackend with 16 concurrent workers.\n"
     ]
    },
    {
     "name": "stdout",
     "output_type": "stream",
     "text": [
      "Voting Regressor score: -0.11971840215663292\n"
     ]
    },
    {
     "name": "stderr",
     "output_type": "stream",
     "text": [
      "[Parallel(n_jobs=-1)]: Done   5 out of   5 | elapsed:    6.7s finished\n"
     ]
    }
   ],
   "source": [
    "voting_regressor = VotingRegressor(\n",
    "    estimators=[\n",
    "        ('cat_boost', cat_boost_regressor),\n",
    "        ('svr', svr_cv.best_estimator_),\n",
    "        ('gradient_boosting', gradient_boosting_cv.best_estimator_),\n",
    "        ('xgboost', xgboost_cv.best_estimator_),\n",
    "        ('lightgbm', lightgbm_cv.best_estimator_),\n",
    "    ],\n",
    "    n_jobs=-1,\n",
    "    verbose=1\n",
    ")\n",
    "\n",
    "voting_regressor.fit(df_preprocess, df_target)\n",
    "\n",
    "voting_regressor_score = cross_val_score(\n",
    "    voting_regressor,\n",
    "    df_preprocess,\n",
    "    df_target,\n",
    "    cv=5,\n",
    "    scoring='neg_root_mean_squared_error',\n",
    "    n_jobs=-1,\n",
    "    verbose=1\n",
    ")\n",
    "\n",
    "print(f'Voting Regressor score: {voting_regressor_score.mean()}')"
   ],
   "metadata": {
    "collapsed": false,
    "ExecuteTime": {
     "start_time": "2023-04-16T13:32:48.507516Z",
     "end_time": "2023-04-16T13:32:58.523006Z"
    }
   }
  },
  {
   "cell_type": "code",
   "execution_count": 28,
   "outputs": [
    {
     "name": "stderr",
     "output_type": "stream",
     "text": [
      "[Parallel(n_jobs=-1)]: Using backend LokyBackend with 16 concurrent workers.\n"
     ]
    },
    {
     "name": "stdout",
     "output_type": "stream",
     "text": [
      "Stacking Regressor score: -0.11804825390443521\n"
     ]
    },
    {
     "name": "stderr",
     "output_type": "stream",
     "text": [
      "[Parallel(n_jobs=-1)]: Done   5 out of   5 | elapsed:   45.3s finished\n"
     ]
    }
   ],
   "source": [
    "stacking_regressor = StackingRegressor(\n",
    "    estimators=[\n",
    "        ('cat_boost', cat_boost_regressor),\n",
    "        ('svr', svr_cv.best_estimator_),\n",
    "        ('gradient_boosting', gradient_boosting_cv.best_estimator_),\n",
    "        ('xgboost', xgboost_cv.best_estimator_),\n",
    "        ('lightgbm', lightgbm_cv.best_estimator_),\n",
    "    ],\n",
    "    final_estimator=Ridge(),\n",
    "    n_jobs=-1,\n",
    "    verbose=1\n",
    ")\n",
    "\n",
    "stacking_regressor.fit(df_preprocess, df_target)\n",
    "\n",
    "stacking_regressor_score = cross_val_score(\n",
    "    stacking_regressor,\n",
    "    df_preprocess,\n",
    "    df_target,\n",
    "    cv=5,\n",
    "    scoring='neg_root_mean_squared_error',\n",
    "    n_jobs=-1,\n",
    "    verbose=1\n",
    ")\n",
    "\n",
    "print(f'Stacking Regressor score: {stacking_regressor_score.mean()}')"
   ],
   "metadata": {
    "collapsed": false,
    "ExecuteTime": {
     "start_time": "2023-04-16T13:33:05.500122Z",
     "end_time": "2023-04-16T13:34:00.921443Z"
    }
   }
  },
  {
   "cell_type": "code",
   "execution_count": 29,
   "outputs": [
    {
     "data": {
      "text/plain": "<Axes: xlabel='Score', ylabel='Model'>"
     },
     "execution_count": 29,
     "metadata": {},
     "output_type": "execute_result"
    },
    {
     "data": {
      "text/plain": "<Figure size 640x480 with 1 Axes>",
      "image/png": "[encoded data removed]"
     },
     "metadata": {},
     "output_type": "display_data"
    }
   ],
   "source": [
    "df_score2 = pd.DataFrame({\n",
    "    'Model': [\n",
    "        'Voting Regressor',\n",
    "        'Stacking Regressor',\n",
    "    ],\n",
    "    'Score': [\n",
    "        voting_regressor_score.mean(),\n",
    "        stacking_regressor_score.mean(),\n",
    "    ]\n",
    "})\n",
    "\n",
    "sns.barplot(\n",
    "    x='Score',\n",
    "    y='Model',\n",
    "    data=pd.concat([df_score, df_score2], axis=0).sort_values(by='Score', ascending=False)\n",
    ")"
   ],
   "metadata": {
    "collapsed": false,
    "ExecuteTime": {
     "start_time": "2023-04-16T13:36:19.040762Z",
     "end_time": "2023-04-16T13:36:19.255724Z"
    }
   }
  },
  {
   "cell_type": "markdown",
   "source": [
    "Let's make predictions with the new VotingRegressor and StackingRegressor."
   ],
   "metadata": {
    "collapsed": false
   }
  },
  {
   "cell_type": "code",
   "execution_count": 22,
   "outputs": [],
   "source": [
    "def round_nearest_50(sale_price: pd.Series) ->  pd.Series:\n",
    "    return (sale_price / 50).round() * 50"
   ],
   "metadata": {
    "collapsed": false,
    "ExecuteTime": {
     "start_time": "2023-04-16T13:32:05.994867Z",
     "end_time": "2023-04-16T13:32:06.071665Z"
    }
   }
  },
  {
   "cell_type": "code",
   "execution_count": 30,
   "outputs": [],
   "source": [
    "voting_pipe = make_pipeline(\n",
    "    preprocess_pipe,\n",
    "    TransformedTargetRegressor(\n",
    "        regressor=voting_regressor,\n",
    "        func=np.log1p,\n",
    "        inverse_func=np.expm1\n",
    "    )\n",
    ")\n",
    "\n",
    "df_train = pd.read_csv('../input/house-prices-advanced-regression-techniques/train.csv')\n",
    "voting_pipe.fit(df_train.drop(columns=[\"Id\", \"SalePrice\"]), df_train['SalePrice'])\n",
    "\n",
    "df_test = pd.read_csv('../input/house-prices-advanced-regression-techniques/test.csv')\n",
    "df_test['SalePrice'] = voting_pipe.predict(df_test.drop(columns=[\"Id\"]))\n",
    "\n",
    "df_test['Id'] = df_test['Id'].astype(int)\n",
    "df_test[['Id', 'SalePrice']].to_csv('../input/house-prices-advanced-regression-techniques/submission/voting-regression-v6.2.csv', index=False)"
   ],
   "metadata": {
    "collapsed": false,
    "ExecuteTime": {
     "start_time": "2023-04-16T13:36:39.251263Z",
     "end_time": "2023-04-16T13:36:42.258105Z"
    }
   }
  },
  {
   "cell_type": "code",
   "execution_count": 31,
   "outputs": [],
   "source": [
    "df_test['SalePrice'] = round_nearest_50(df_test['SalePrice'])\n",
    "df_test[['Id', 'SalePrice']].to_csv('../input/house-prices-advanced-regression-techniques/submission/voting-regression-v6.3.csv', index=False)"
   ],
   "metadata": {
    "collapsed": false,
    "ExecuteTime": {
     "start_time": "2023-04-16T13:36:44.295195Z",
     "end_time": "2023-04-16T13:36:44.329718Z"
    }
   }
  },
  {
   "cell_type": "markdown",
   "source": [
    "Score: 0.12293"
   ],
   "metadata": {
    "collapsed": false
   }
  },
  {
   "cell_type": "code",
   "execution_count": 34,
   "outputs": [],
   "source": [
    "stacking_pipe = make_pipeline(\n",
    "    preprocess_pipe,\n",
    "    TransformedTargetRegressor(\n",
    "        regressor=stacking_regressor,\n",
    "        func=np.log1p,\n",
    "        inverse_func=np.expm1\n",
    "    )\n",
    ")\n",
    "\n",
    "df_train = pd.read_csv('../input/house-prices-advanced-regression-techniques/train.csv')\n",
    "stacking_pipe.fit(df_train.drop(columns=[\"Id\", \"SalePrice\"]), df_train['SalePrice'])\n",
    "\n",
    "df_test = pd.read_csv('../input/house-prices-advanced-regression-techniques/test.csv')\n",
    "df_test['SalePrice'] = stacking_pipe.predict(df_test.drop(columns=[\"Id\"]))\n",
    "\n",
    "df_test['Id'] = df_test['Id'].astype(int)\n",
    "df_test[['Id', 'SalePrice']].to_csv('../input/house-prices-advanced-regression-techniques/submission/stack-regression-v3.2.csv', index=False)"
   ],
   "metadata": {
    "collapsed": false,
    "ExecuteTime": {
     "start_time": "2023-04-16T13:37:56.361181Z",
     "end_time": "2023-04-16T13:38:07.011908Z"
    }
   }
  },
  {
   "cell_type": "code",
   "execution_count": 35,
   "outputs": [],
   "source": [
    "df_test['SalePrice'] = round_nearest_50(df_test['SalePrice'])\n",
    "df_test[['Id', 'SalePrice']].to_csv('../input/house-prices-advanced-regression-techniques/submission/stack-regression-v3.3.csv', index=False)"
   ],
   "metadata": {
    "collapsed": false,
    "ExecuteTime": {
     "start_time": "2023-04-16T13:38:38.970629Z",
     "end_time": "2023-04-16T13:38:39.020172Z"
    }
   }
  },
  {
   "cell_type": "markdown",
   "source": [
    "Score: 0.12226"
   ],
   "metadata": {
    "collapsed": false
   }
  }
 ],
 "metadata": {
  "kernelspec": {
   "display_name": "Python 3",
   "language": "python",
   "name": "python3"
  },
  "language_info": {
   "codemirror_mode": {
    "name": "ipython",
    "version": 2
   },
   "file_extension": ".py",
   "mimetype": "text/x-python",
   "name": "python",
   "nbconvert_exporter": "python",
   "pygments_lexer": "ipython2",
   "version": "2.7.6"
  }
 },
 "nbformat": 4,
 "nbformat_minor": 0
}
