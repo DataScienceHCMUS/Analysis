{
 "cells": [
  {
   "cell_type": "markdown",
   "source": [
    "# House Prices Advanced Regression Techniques 4\n",
    "\n",
    "In this part, we will try to find the best setting for CatBoostRegressor"
   ],
   "metadata": {
    "collapsed": false
   }
  },
  {
   "cell_type": "markdown",
   "source": [
    "## Baseline\n",
    "\n",
    "We use model from P3 as baseline. Taking all columns, default parameters, and no feature engineering."
   ],
   "metadata": {
    "collapsed": false
   }
  },
  {
   "cell_type": "code",
   "execution_count": 17,
   "outputs": [],
   "source": [
    "import numpy as np\n",
    "import pandas as pd\n",
    "import seaborn as sns\n",
    "\n",
    "from sklearn.pipeline import make_pipeline\n",
    "from sklearn.impute import SimpleImputer\n",
    "from sklearn.preprocessing import StandardScaler, OrdinalEncoder, FunctionTransformer\n",
    "from sklearn.model_selection import cross_val_score, GridSearchCV\n",
    "from sklearn.compose import make_column_selector, make_column_transformer, TransformedTargetRegressor\n",
    "\n",
    "from catboost import CatBoostRegressor"
   ],
   "metadata": {
    "collapsed": false,
    "ExecuteTime": {
     "start_time": "2023-04-14T15:31:39.310035Z",
     "end_time": "2023-04-14T15:31:39.371053Z"
    }
   }
  },
  {
   "cell_type": "code",
   "execution_count": 18,
   "outputs": [],
   "source": [
    "continuous_pip = make_pipeline(\n",
    "    SimpleImputer(strategy=\"median\"),\n",
    "    StandardScaler()\n",
    ")\n",
    "\n",
    "discrete_pipe = make_pipeline(\n",
    "    SimpleImputer(strategy=\"most_frequent\"),\n",
    "    OrdinalEncoder()\n",
    ")\n",
    "\n",
    "preprocess_pipe = make_column_transformer(\n",
    "    (continuous_pip, make_column_selector(dtype_include=np.number)),\n",
    "    (discrete_pipe, make_column_selector(dtype_include=object))\n",
    ")\n",
    "\n",
    "cat_boost_regressor = CatBoostRegressor(random_state=42, silent=True, allow_writing_files=False)\n",
    "log_level_regressor = TransformedTargetRegressor(\n",
    "    cat_boost_regressor,\n",
    "    func=np.log1p,\n",
    "    inverse_func=np.expm1,\n",
    ")\n",
    "\n",
    "cat_boost_pipe_v1 = make_pipeline(\n",
    "    preprocess_pipe,\n",
    "    log_level_regressor\n",
    ")"
   ],
   "metadata": {
    "collapsed": false,
    "ExecuteTime": {
     "start_time": "2023-04-14T15:31:39.343044Z",
     "end_time": "2023-04-14T15:31:39.372038Z"
    }
   }
  },
  {
   "cell_type": "code",
   "execution_count": 19,
   "outputs": [
    {
     "name": "stdout",
     "output_type": "stream",
     "text": [
      "Baseline score: -0.121 +/- 0.012\n"
     ]
    }
   ],
   "source": [
    "df_train = pd.read_csv(\"../input/house-prices-advanced-regression-techniques/train.csv\")\n",
    "\n",
    "df_preprocess = preprocess_pipe.fit_transform(df_train.drop(columns=[\"Id\", \"SalePrice\"]))\n",
    "df_target = df_train[\"SalePrice\"]\n",
    "\n",
    "baseline_score = cross_val_score(cat_boost_regressor, df_preprocess, np.log1p(df_target), cv=5, scoring=\"neg_root_mean_squared_error\")\n",
    "print(f\"Baseline score: {baseline_score.mean():.3f} +/- {baseline_score.std():.3f}\")"
   ],
   "metadata": {
    "collapsed": false,
    "ExecuteTime": {
     "start_time": "2023-04-14T15:31:39.370044Z",
     "end_time": "2023-04-14T15:31:47.556578Z"
    }
   }
  },
  {
   "cell_type": "markdown",
   "source": [
    "## Try with selected features from P1"
   ],
   "metadata": {
    "collapsed": false
   }
  },
  {
   "cell_type": "code",
   "execution_count": 29,
   "outputs": [
    {
     "name": "stderr",
     "output_type": "stream",
     "text": [
      "C:\\Users\\duongdinh\\AppData\\Local\\Temp\\ipykernel_6580\\2045314949.py:28: SettingWithCopyWarning: \n",
      "A value is trying to be set on a copy of a slice from a DataFrame.\n",
      "Try using .loc[row_indexer,col_indexer] = value instead\n",
      "\n",
      "See the caveats in the documentation: https://pandas.pydata.org/pandas-docs/stable/user_guide/indexing.html#returning-a-view-versus-a-copy\n",
      "  df[continuous_columns_] = scaler.fit_transform(df[continuous_columns_])\n"
     ]
    },
    {
     "name": "stdout",
     "output_type": "stream",
     "text": [
      "CatBoost score: -0.156 +/- 0.008\n"
     ]
    }
   ],
   "source": [
    "high_correlated_with_sale_price = ['OverallQual', 'GrLivArea', 'GarageCars', 'TotalBsmtSF', 'FullBath', 'TotRmsAbvGrd',\n",
    "                                   'AgeBuilt', 'AgeRemodAdd']\n",
    "\n",
    "def fill_missing(df: pd.DataFrame):\n",
    "    continuous_imputer = SimpleImputer(strategy='median')\n",
    "    discrete_imputer = SimpleImputer(strategy='most_frequent')\n",
    "\n",
    "    continuous_columns_ = df.select_dtypes(include=['float64', 'int64']).columns\n",
    "    discrete_columns_ = df.select_dtypes(include=['object']).columns\n",
    "\n",
    "    df[continuous_columns_] = continuous_imputer.fit_transform(df[continuous_columns_])\n",
    "    df[discrete_columns_] = discrete_imputer.fit_transform(df[discrete_columns_])\n",
    "\n",
    "    df[continuous_columns_] = df[continuous_columns_].astype('float64')\n",
    "    df[discrete_columns_] = df[discrete_columns_].astype('category')\n",
    "\n",
    "    return df\n",
    "\n",
    "def year_to_age(df: pd.DataFrame):\n",
    "    df['AgeBuilt'] = 2016 - df['YearBuilt']\n",
    "    df['AgeRemodAdd'] = 2016 - df['YearRemodAdd']\n",
    "    return df\n",
    "\n",
    "def normalize(df: pd.DataFrame):\n",
    "    continuous_columns_ = df.select_dtypes(include=['float64', 'int64']).columns\n",
    "\n",
    "    scaler = StandardScaler()\n",
    "    df[continuous_columns_] = scaler.fit_transform(df[continuous_columns_])\n",
    "\n",
    "    return df\n",
    "\n",
    "def encode(df: pd.DataFrame):\n",
    "    discrete_columns_ = df.select_dtypes(include=['object']).columns\n",
    "\n",
    "    encoder = OrdinalEncoder()\n",
    "    df[discrete_columns_] = encoder.fit_transform(df[discrete_columns_])\n",
    "\n",
    "    return df\n",
    "\n",
    "def select_features(df: pd.DataFrame):\n",
    "    return df[high_correlated_with_sale_price]\n",
    "\n",
    "preprocess_pipe_v2 = make_pipeline(\n",
    "    FunctionTransformer(fill_missing),\n",
    "    FunctionTransformer(year_to_age),\n",
    "    FunctionTransformer(select_features),\n",
    "    FunctionTransformer(normalize),\n",
    "    FunctionTransformer(encode),\n",
    ")\n",
    "\n",
    "df_train = pd.read_csv(\"../input/house-prices-advanced-regression-techniques/train.csv\")\n",
    "df_preprocess_v2 = preprocess_pipe_v2.fit_transform(df_train)\n",
    "cat_boost_v2_score = cross_val_score(\n",
    "    cat_boost_regressor,\n",
    "    df_preprocess_v2,\n",
    "    np.log1p(df_target),\n",
    "    cv=5,\n",
    "    scoring=\"neg_root_mean_squared_error\"\n",
    ")\n",
    "\n",
    "print(f\"CatBoost score: {cat_boost_v2_score.mean():.3f} +/- {cat_boost_v2_score.std():.3f}\")"
   ],
   "metadata": {
    "collapsed": false,
    "ExecuteTime": {
     "start_time": "2023-04-14T15:44:06.567180Z",
     "end_time": "2023-04-14T15:44:11.182987Z"
    }
   }
  },
  {
   "cell_type": "markdown",
   "source": [
    "Worse than baseline. We will make prediction anyway."
   ],
   "metadata": {
    "collapsed": false
   }
  },
  {
   "cell_type": "code",
   "execution_count": 31,
   "outputs": [
    {
     "name": "stderr",
     "output_type": "stream",
     "text": [
      "C:\\Users\\duongdinh\\AppData\\Local\\Temp\\ipykernel_6580\\2045314949.py:28: SettingWithCopyWarning: \n",
      "A value is trying to be set on a copy of a slice from a DataFrame.\n",
      "Try using .loc[row_indexer,col_indexer] = value instead\n",
      "\n",
      "See the caveats in the documentation: https://pandas.pydata.org/pandas-docs/stable/user_guide/indexing.html#returning-a-view-versus-a-copy\n",
      "  df[continuous_columns_] = scaler.fit_transform(df[continuous_columns_])\n"
     ]
    },
    {
     "data": {
      "text/plain": "Pipeline(steps=[('pipeline',\n                 Pipeline(steps=[('functiontransformer-1',\n                                  FunctionTransformer(func=<function fill_missing at 0x000002112B17F760>)),\n                                 ('functiontransformer-2',\n                                  FunctionTransformer(func=<function year_to_age at 0x000002112B17FBE0>)),\n                                 ('functiontransformer-3',\n                                  FunctionTransformer(func=<function select_features at 0x000002112B2F7490>)),\n                                 ('functiontransformer-4',\n                                  FunctionTransformer(func=<function normalize at 0x0000021127BE5480>)),\n                                 ('functiontransformer-5',\n                                  FunctionTransformer(func=<function encode at 0x000002112B2F7D00>))])),\n                ('transformedtargetregressor',\n                 TransformedTargetRegressor(func=<ufunc 'log1p'>,\n                                            inverse_func=<ufunc 'expm1'>,\n                                            regressor=<catboost.core.CatBoostRegressor object at 0x0000021127AF7370>))])",
      "text/html": "<style>#sk-container-id-1 {color: black;background-color: white;}#sk-container-id-1 pre{padding: 0;}#sk-container-id-1 div.sk-toggleable {background-color: white;}#sk-container-id-1 label.sk-toggleable__label {cursor: pointer;display: block;width: 100%;margin-bottom: 0;padding: 0.3em;box-sizing: border-box;text-align: center;}#sk-container-id-1 label.sk-toggleable__label-arrow:before {content: \"▸\";float: left;margin-right: 0.25em;color: #696969;}#sk-container-id-1 label.sk-toggleable__label-arrow:hover:before {color: black;}#sk-container-id-1 div.sk-estimator:hover label.sk-toggleable__label-arrow:before {color: black;}#sk-container-id-1 div.sk-toggleable__content {max-height: 0;max-width: 0;overflow: hidden;text-align: left;background-color: #f0f8ff;}#sk-container-id-1 div.sk-toggleable__content pre {margin: 0.2em;color: black;border-radius: 0.25em;background-color: #f0f8ff;}#sk-container-id-1 input.sk-toggleable__control:checked~div.sk-toggleable__content {max-height: 200px;max-width: 100%;overflow: auto;}#sk-container-id-1 input.sk-toggleable__control:checked~label.sk-toggleable__label-arrow:before {content: \"▾\";}#sk-container-id-1 div.sk-estimator input.sk-toggleable__control:checked~label.sk-toggleable__label {background-color: #d4ebff;}#sk-container-id-1 div.sk-label input.sk-toggleable__control:checked~label.sk-toggleable__label {background-color: #d4ebff;}#sk-container-id-1 input.sk-hidden--visually {border: 0;clip: rect(1px 1px 1px 1px);clip: rect(1px, 1px, 1px, 1px);height: 1px;margin: -1px;overflow: hidden;padding: 0;position: absolute;width: 1px;}#sk-container-id-1 div.sk-estimator {font-family: monospace;background-color: #f0f8ff;border: 1px dotted black;border-radius: 0.25em;box-sizing: border-box;margin-bottom: 0.5em;}#sk-container-id-1 div.sk-estimator:hover {background-color: #d4ebff;}#sk-container-id-1 div.sk-parallel-item::after {content: \"\";width: 100%;border-bottom: 1px solid gray;flex-grow: 1;}#sk-container-id-1 div.sk-label:hover label.sk-toggleable__label {background-color: #d4ebff;}#sk-container-id-1 div.sk-serial::before {content: \"\";position: absolute;border-left: 1px solid gray;box-sizing: border-box;top: 0;bottom: 0;left: 50%;z-index: 0;}#sk-container-id-1 div.sk-serial {display: flex;flex-direction: column;align-items: center;background-color: white;padding-right: 0.2em;padding-left: 0.2em;position: relative;}#sk-container-id-1 div.sk-item {position: relative;z-index: 1;}#sk-container-id-1 div.sk-parallel {display: flex;align-items: stretch;justify-content: center;background-color: white;position: relative;}#sk-container-id-1 div.sk-item::before, #sk-container-id-1 div.sk-parallel-item::before {content: \"\";position: absolute;border-left: 1px solid gray;box-sizing: border-box;top: 0;bottom: 0;left: 50%;z-index: -1;}#sk-container-id-1 div.sk-parallel-item {display: flex;flex-direction: column;z-index: 1;position: relative;background-color: white;}#sk-container-id-1 div.sk-parallel-item:first-child::after {align-self: flex-end;width: 50%;}#sk-container-id-1 div.sk-parallel-item:last-child::after {align-self: flex-start;width: 50%;}#sk-container-id-1 div.sk-parallel-item:only-child::after {width: 0;}#sk-container-id-1 div.sk-dashed-wrapped {border: 1px dashed gray;margin: 0 0.4em 0.5em 0.4em;box-sizing: border-box;padding-bottom: 0.4em;background-color: white;}#sk-container-id-1 div.sk-label label {font-family: monospace;font-weight: bold;display: inline-block;line-height: 1.2em;}#sk-container-id-1 div.sk-label-container {text-align: center;}#sk-container-id-1 div.sk-container {/* jupyter's `normalize.less` sets `[hidden] { display: none; }` but bootstrap.min.css set `[hidden] { display: none !important; }` so we also need the `!important` here to be able to override the default hidden behavior on the sphinx rendered scikit-learn.org. See: https://github.com/scikit-learn/scikit-learn/issues/21755 */display: inline-block !important;position: relative;}#sk-container-id-1 div.sk-text-repr-fallback {display: none;}</style><div id=\"sk-container-id-1\" class=\"sk-top-container\"><div class=\"sk-text-repr-fallback\"><pre>Pipeline(steps=[(&#x27;pipeline&#x27;,\n                 Pipeline(steps=[(&#x27;functiontransformer-1&#x27;,\n                                  FunctionTransformer(func=&lt;function fill_missing at 0x000002112B17F760&gt;)),\n                                 (&#x27;functiontransformer-2&#x27;,\n                                  FunctionTransformer(func=&lt;function year_to_age at 0x000002112B17FBE0&gt;)),\n                                 (&#x27;functiontransformer-3&#x27;,\n                                  FunctionTransformer(func=&lt;function select_features at 0x000002112B2F7490&gt;)),\n                                 (&#x27;functiontransformer-4&#x27;,\n                                  FunctionTransformer(func=&lt;function normalize at 0x0000021127BE5480&gt;)),\n                                 (&#x27;functiontransformer-5&#x27;,\n                                  FunctionTransformer(func=&lt;function encode at 0x000002112B2F7D00&gt;))])),\n                (&#x27;transformedtargetregressor&#x27;,\n                 TransformedTargetRegressor(func=&lt;ufunc &#x27;log1p&#x27;&gt;,\n                                            inverse_func=&lt;ufunc &#x27;expm1&#x27;&gt;,\n                                            regressor=&lt;catboost.core.CatBoostRegressor object at 0x0000021127AF7370&gt;))])</pre><b>In a Jupyter environment, please rerun this cell to show the HTML representation or trust the notebook. <br />On GitHub, the HTML representation is unable to render, please try loading this page with nbviewer.org.</b></div><div class=\"sk-container\" hidden><div class=\"sk-item sk-dashed-wrapped\"><div class=\"sk-label-container\"><div class=\"sk-label sk-toggleable\"><input class=\"sk-toggleable__control sk-hidden--visually\" id=\"sk-estimator-id-1\" type=\"checkbox\" ><label for=\"sk-estimator-id-1\" class=\"sk-toggleable__label sk-toggleable__label-arrow\">Pipeline</label><div class=\"sk-toggleable__content\"><pre>Pipeline(steps=[(&#x27;pipeline&#x27;,\n                 Pipeline(steps=[(&#x27;functiontransformer-1&#x27;,\n                                  FunctionTransformer(func=&lt;function fill_missing at 0x000002112B17F760&gt;)),\n                                 (&#x27;functiontransformer-2&#x27;,\n                                  FunctionTransformer(func=&lt;function year_to_age at 0x000002112B17FBE0&gt;)),\n                                 (&#x27;functiontransformer-3&#x27;,\n                                  FunctionTransformer(func=&lt;function select_features at 0x000002112B2F7490&gt;)),\n                                 (&#x27;functiontransformer-4&#x27;,\n                                  FunctionTransformer(func=&lt;function normalize at 0x0000021127BE5480&gt;)),\n                                 (&#x27;functiontransformer-5&#x27;,\n                                  FunctionTransformer(func=&lt;function encode at 0x000002112B2F7D00&gt;))])),\n                (&#x27;transformedtargetregressor&#x27;,\n                 TransformedTargetRegressor(func=&lt;ufunc &#x27;log1p&#x27;&gt;,\n                                            inverse_func=&lt;ufunc &#x27;expm1&#x27;&gt;,\n                                            regressor=&lt;catboost.core.CatBoostRegressor object at 0x0000021127AF7370&gt;))])</pre></div></div></div><div class=\"sk-serial\"><div class=\"sk-item\"><div class=\"sk-label-container\"><div class=\"sk-label sk-toggleable\"><input class=\"sk-toggleable__control sk-hidden--visually\" id=\"sk-estimator-id-2\" type=\"checkbox\" ><label for=\"sk-estimator-id-2\" class=\"sk-toggleable__label sk-toggleable__label-arrow\">pipeline: Pipeline</label><div class=\"sk-toggleable__content\"><pre>Pipeline(steps=[(&#x27;functiontransformer-1&#x27;,\n                 FunctionTransformer(func=&lt;function fill_missing at 0x000002112B17F760&gt;)),\n                (&#x27;functiontransformer-2&#x27;,\n                 FunctionTransformer(func=&lt;function year_to_age at 0x000002112B17FBE0&gt;)),\n                (&#x27;functiontransformer-3&#x27;,\n                 FunctionTransformer(func=&lt;function select_features at 0x000002112B2F7490&gt;)),\n                (&#x27;functiontransformer-4&#x27;,\n                 FunctionTransformer(func=&lt;function normalize at 0x0000021127BE5480&gt;)),\n                (&#x27;functiontransformer-5&#x27;,\n                 FunctionTransformer(func=&lt;function encode at 0x000002112B2F7D00&gt;))])</pre></div></div></div><div class=\"sk-serial\"><div class=\"sk-item\"><div class=\"sk-estimator sk-toggleable\"><input class=\"sk-toggleable__control sk-hidden--visually\" id=\"sk-estimator-id-3\" type=\"checkbox\" ><label for=\"sk-estimator-id-3\" class=\"sk-toggleable__label sk-toggleable__label-arrow\">FunctionTransformer</label><div class=\"sk-toggleable__content\"><pre>FunctionTransformer(func=&lt;function fill_missing at 0x000002112B17F760&gt;)</pre></div></div></div><div class=\"sk-item\"><div class=\"sk-estimator sk-toggleable\"><input class=\"sk-toggleable__control sk-hidden--visually\" id=\"sk-estimator-id-4\" type=\"checkbox\" ><label for=\"sk-estimator-id-4\" class=\"sk-toggleable__label sk-toggleable__label-arrow\">FunctionTransformer</label><div class=\"sk-toggleable__content\"><pre>FunctionTransformer(func=&lt;function year_to_age at 0x000002112B17FBE0&gt;)</pre></div></div></div><div class=\"sk-item\"><div class=\"sk-estimator sk-toggleable\"><input class=\"sk-toggleable__control sk-hidden--visually\" id=\"sk-estimator-id-5\" type=\"checkbox\" ><label for=\"sk-estimator-id-5\" class=\"sk-toggleable__label sk-toggleable__label-arrow\">FunctionTransformer</label><div class=\"sk-toggleable__content\"><pre>FunctionTransformer(func=&lt;function select_features at 0x000002112B2F7490&gt;)</pre></div></div></div><div class=\"sk-item\"><div class=\"sk-estimator sk-toggleable\"><input class=\"sk-toggleable__control sk-hidden--visually\" id=\"sk-estimator-id-6\" type=\"checkbox\" ><label for=\"sk-estimator-id-6\" class=\"sk-toggleable__label sk-toggleable__label-arrow\">FunctionTransformer</label><div class=\"sk-toggleable__content\"><pre>FunctionTransformer(func=&lt;function normalize at 0x0000021127BE5480&gt;)</pre></div></div></div><div class=\"sk-item\"><div class=\"sk-estimator sk-toggleable\"><input class=\"sk-toggleable__control sk-hidden--visually\" id=\"sk-estimator-id-7\" type=\"checkbox\" ><label for=\"sk-estimator-id-7\" class=\"sk-toggleable__label sk-toggleable__label-arrow\">FunctionTransformer</label><div class=\"sk-toggleable__content\"><pre>FunctionTransformer(func=&lt;function encode at 0x000002112B2F7D00&gt;)</pre></div></div></div></div></div><div class=\"sk-item sk-dashed-wrapped\"><div class=\"sk-label-container\"><div class=\"sk-label sk-toggleable\"><input class=\"sk-toggleable__control sk-hidden--visually\" id=\"sk-estimator-id-8\" type=\"checkbox\" ><label for=\"sk-estimator-id-8\" class=\"sk-toggleable__label sk-toggleable__label-arrow\">transformedtargetregressor: TransformedTargetRegressor</label><div class=\"sk-toggleable__content\"><pre>TransformedTargetRegressor(func=&lt;ufunc &#x27;log1p&#x27;&gt;, inverse_func=&lt;ufunc &#x27;expm1&#x27;&gt;,\n                           regressor=&lt;catboost.core.CatBoostRegressor object at 0x0000021127AF7370&gt;)</pre></div></div></div><div class=\"sk-parallel\"><div class=\"sk-parallel-item\"><div class=\"sk-item\"><div class=\"sk-label-container\"><div class=\"sk-label sk-toggleable\"><input class=\"sk-toggleable__control sk-hidden--visually\" id=\"sk-estimator-id-9\" type=\"checkbox\" ><label for=\"sk-estimator-id-9\" class=\"sk-toggleable__label sk-toggleable__label-arrow\">regressor: CatBoostRegressor</label><div class=\"sk-toggleable__content\"><pre>&lt;catboost.core.CatBoostRegressor object at 0x0000021127AF7370&gt;</pre></div></div></div><div class=\"sk-serial\"><div class=\"sk-item\"><div class=\"sk-estimator sk-toggleable\"><input class=\"sk-toggleable__control sk-hidden--visually\" id=\"sk-estimator-id-10\" type=\"checkbox\" ><label for=\"sk-estimator-id-10\" class=\"sk-toggleable__label sk-toggleable__label-arrow\">CatBoostRegressor</label><div class=\"sk-toggleable__content\"><pre>&lt;catboost.core.CatBoostRegressor object at 0x0000021127AF7370&gt;</pre></div></div></div></div></div></div></div></div></div></div></div></div>"
     },
     "execution_count": 31,
     "metadata": {},
     "output_type": "execute_result"
    }
   ],
   "source": [
    "cat_boost_pipe_v2 = make_pipeline(\n",
    "    preprocess_pipe_v2,\n",
    "    log_level_regressor\n",
    ")\n",
    "\n",
    "df_train = pd.read_csv(\"../input/house-prices-advanced-regression-techniques/train.csv\")\n",
    "cat_boost_pipe_v2.fit(df_train, df_train[\"SalePrice\"])"
   ],
   "metadata": {
    "collapsed": false,
    "ExecuteTime": {
     "start_time": "2023-04-14T15:48:43.117341Z",
     "end_time": "2023-04-14T15:48:44.278318Z"
    }
   }
  },
  {
   "cell_type": "code",
   "execution_count": 33,
   "outputs": [
    {
     "name": "stderr",
     "output_type": "stream",
     "text": [
      "C:\\Users\\duongdinh\\AppData\\Local\\Temp\\ipykernel_6580\\2045314949.py:28: SettingWithCopyWarning: \n",
      "A value is trying to be set on a copy of a slice from a DataFrame.\n",
      "Try using .loc[row_indexer,col_indexer] = value instead\n",
      "\n",
      "See the caveats in the documentation: https://pandas.pydata.org/pandas-docs/stable/user_guide/indexing.html#returning-a-view-versus-a-copy\n",
      "  df[continuous_columns_] = scaler.fit_transform(df[continuous_columns_])\n"
     ]
    },
    {
     "data": {
      "text/plain": "<seaborn.axisgrid.FacetGrid at 0x21127c194b0>"
     },
     "execution_count": 33,
     "metadata": {},
     "output_type": "execute_result"
    },
    {
     "data": {
      "text/plain": "<Figure size 500x500 with 1 Axes>",
      "image/png": "[encoded data removed]"
     },
     "metadata": {},
     "output_type": "display_data"
    }
   ],
   "source": [
    "df_test = pd.read_csv(\"../input/house-prices-advanced-regression-techniques/test.csv\")\n",
    "df_test[\"SalePrice\"] = cat_boost_pipe_v2.predict(df_test)\n",
    "\n",
    "sns.displot(df_test[\"SalePrice\"])"
   ],
   "metadata": {
    "collapsed": false,
    "ExecuteTime": {
     "start_time": "2023-04-14T15:50:15.701285Z",
     "end_time": "2023-04-14T15:50:16.115003Z"
    }
   }
  },
  {
   "cell_type": "code",
   "execution_count": 35,
   "outputs": [],
   "source": [
    "df_test[\"Id\"] = df_test[\"Id\"].astype(int)\n",
    "df_test[[\"Id\", \"SalePrice\"]].to_csv(\"../input/house-prices-advanced-regression-techniques/submission/cat-boost-v4.csv\", index=False)"
   ],
   "metadata": {
    "collapsed": false,
    "ExecuteTime": {
     "start_time": "2023-04-14T15:51:19.759852Z",
     "end_time": "2023-04-14T15:51:19.794378Z"
    }
   }
  },
  {
   "cell_type": "markdown",
   "source": [
    "Score: 0.15207\n",
    "\n",
    "It did worse"
   ],
   "metadata": {
    "collapsed": false
   }
  },
  {
   "cell_type": "markdown",
   "source": [
    "## Find best parameters\n",
    "\n",
    "This would take very very long time."
   ],
   "metadata": {
    "collapsed": false
   }
  },
  {
   "cell_type": "code",
   "execution_count": 20,
   "outputs": [],
   "source": [
    "# cat_boost_params = {\n",
    "#     'iterations': [500, 1000, 1500],\n",
    "#     'learning_rate': [0.01, 0.03, 0.1],\n",
    "#     'depth': [3, 6, 9],\n",
    "#     'l2_leaf_reg': [1, 3, 5],\n",
    "#     'bagging_temperature': [0.5, 1, 2],\n",
    "# }\n",
    "#\n",
    "# cat_boost_grid_search = GridSearchCV(\n",
    "#     cat_boost_regressor,\n",
    "#     cat_boost_params,\n",
    "#     cv=5,\n",
    "#     scoring=\"neg_root_mean_squared_error\",\n",
    "#     n_jobs=-1,\n",
    "#     verbose=1,\n",
    "# )\n",
    "\n",
    "# This will take very long long time\n",
    "# cat_boost_grid_search.fit(df_preprocess, np.log1p(df_target))\n",
    "\n",
    "# print(f\"Best score: {cat_boost_grid_search.best_score_:.3f}\")\n",
    "# print(f\"Best params: {cat_boost_grid_search.best_params_}\")"
   ],
   "metadata": {
    "collapsed": false
   }
  }
 ],
 "metadata": {
  "kernelspec": {
   "display_name": "Python 3",
   "language": "python",
   "name": "python3"
  },
  "language_info": {
   "codemirror_mode": {
    "name": "ipython",
    "version": 2
   },
   "file_extension": ".py",
   "mimetype": "text/x-python",
   "name": "python",
   "nbconvert_exporter": "python",
   "pygments_lexer": "ipython2",
   "version": "2.7.6"
  }
 },
 "nbformat": 4,
 "nbformat_minor": 0
}
