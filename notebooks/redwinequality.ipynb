{
  "cells": [
    {
      "cell_type": "code",
      "execution_count": null,
      "metadata": {
        "colab": {
          "base_uri": "https://localhost:8080/",
          "height": 305
        },
        "id": "gZ_NhsbgI8hz",
        "outputId": "ebdc48ba-7467-4606-94ec-9a3295a772d2"
      },
      "outputs": [
        {
          "output_type": "execute_result",
          "data": {
            "text/plain": [
              "   fixed acidity  volatile acidity  citric acid  residual sugar  chlorides  \\\n",
              "0            7.4              0.70         0.00             1.9      0.076   \n",
              "1            7.8              0.88         0.00             2.6      0.098   \n",
              "2            7.8              0.76         0.04             2.3      0.092   \n",
              "3           11.2              0.28         0.56             1.9      0.075   \n",
              "4            7.4              0.70         0.00             1.9      0.076   \n",
              "\n",
              "   free sulfur dioxide  total sulfur dioxide  density    pH  sulphates  \\\n",
              "0                 11.0                  34.0   0.9978  3.51       0.56   \n",
              "1                 25.0                  67.0   0.9968  3.20       0.68   \n",
              "2                 15.0                  54.0   0.9970  3.26       0.65   \n",
              "3                 17.0                  60.0   0.9980  3.16       0.58   \n",
              "4                 11.0                  34.0   0.9978  3.51       0.56   \n",
              "\n",
              "   alcohol  quality  \n",
              "0      9.4        5  \n",
              "1      9.8        5  \n",
              "2      9.8        5  \n",
              "3      9.8        6  \n",
              "4      9.4        5  "
            ],
            "text/html": [
              "\n",
              "  <div id=\"df-9a2d9578-5f02-42c4-95b3-0d4c7490797d\">\n",
              "    <div class=\"colab-df-container\">\n",
              "      <div>\n",
              "<style scoped>\n",
              "    .dataframe tbody tr th:only-of-type {\n",
              "        vertical-align: middle;\n",
              "    }\n",
              "\n",
              "    .dataframe tbody tr th {\n",
              "        vertical-align: top;\n",
              "    }\n",
              "\n",
              "    .dataframe thead th {\n",
              "        text-align: right;\n",
              "    }\n",
              "</style>\n",
              "<table border=\"1\" class=\"dataframe\">\n",
              "  <thead>\n",
              "    <tr style=\"text-align: right;\">\n",
              "      <th></th>\n",
              "      <th>fixed acidity</th>\n",
              "      <th>volatile acidity</th>\n",
              "      <th>citric acid</th>\n",
              "      <th>residual sugar</th>\n",
              "      <th>chlorides</th>\n",
              "      <th>free sulfur dioxide</th>\n",
              "      <th>total sulfur dioxide</th>\n",
              "      <th>density</th>\n",
              "      <th>pH</th>\n",
              "      <th>sulphates</th>\n",
              "      <th>alcohol</th>\n",
              "      <th>quality</th>\n",
              "    </tr>\n",
              "  </thead>\n",
              "  <tbody>\n",
              "    <tr>\n",
              "      <th>0</th>\n",
              "      <td>7.4</td>\n",
              "      <td>0.70</td>\n",
              "      <td>0.00</td>\n",
              "      <td>1.9</td>\n",
              "      <td>0.076</td>\n",
              "      <td>11.0</td>\n",
              "      <td>34.0</td>\n",
              "      <td>0.9978</td>\n",
              "      <td>3.51</td>\n",
              "      <td>0.56</td>\n",
              "      <td>9.4</td>\n",
              "      <td>5</td>\n",
              "    </tr>\n",
              "    <tr>\n",
              "      <th>1</th>\n",
              "      <td>7.8</td>\n",
              "      <td>0.88</td>\n",
              "      <td>0.00</td>\n",
              "      <td>2.6</td>\n",
              "      <td>0.098</td>\n",
              "      <td>25.0</td>\n",
              "      <td>67.0</td>\n",
              "      <td>0.9968</td>\n",
              "      <td>3.20</td>\n",
              "      <td>0.68</td>\n",
              "      <td>9.8</td>\n",
              "      <td>5</td>\n",
              "    </tr>\n",
              "    <tr>\n",
              "      <th>2</th>\n",
              "      <td>7.8</td>\n",
              "      <td>0.76</td>\n",
              "      <td>0.04</td>\n",
              "      <td>2.3</td>\n",
              "      <td>0.092</td>\n",
              "      <td>15.0</td>\n",
              "      <td>54.0</td>\n",
              "      <td>0.9970</td>\n",
              "      <td>3.26</td>\n",
              "      <td>0.65</td>\n",
              "      <td>9.8</td>\n",
              "      <td>5</td>\n",
              "    </tr>\n",
              "    <tr>\n",
              "      <th>3</th>\n",
              "      <td>11.2</td>\n",
              "      <td>0.28</td>\n",
              "      <td>0.56</td>\n",
              "      <td>1.9</td>\n",
              "      <td>0.075</td>\n",
              "      <td>17.0</td>\n",
              "      <td>60.0</td>\n",
              "      <td>0.9980</td>\n",
              "      <td>3.16</td>\n",
              "      <td>0.58</td>\n",
              "      <td>9.8</td>\n",
              "      <td>6</td>\n",
              "    </tr>\n",
              "    <tr>\n",
              "      <th>4</th>\n",
              "      <td>7.4</td>\n",
              "      <td>0.70</td>\n",
              "      <td>0.00</td>\n",
              "      <td>1.9</td>\n",
              "      <td>0.076</td>\n",
              "      <td>11.0</td>\n",
              "      <td>34.0</td>\n",
              "      <td>0.9978</td>\n",
              "      <td>3.51</td>\n",
              "      <td>0.56</td>\n",
              "      <td>9.4</td>\n",
              "      <td>5</td>\n",
              "    </tr>\n",
              "  </tbody>\n",
              "</table>\n",
              "</div>\n",
              "      <button class=\"colab-df-convert\" onclick=\"convertToInteractive('df-9a2d9578-5f02-42c4-95b3-0d4c7490797d')\"\n",
              "              title=\"Convert this dataframe to an interactive table.\"\n",
              "              style=\"display:none;\">\n",
              "        \n",
              "  <svg xmlns=\"http://www.w3.org/2000/svg\" height=\"24px\"viewBox=\"0 0 24 24\"\n",
              "       width=\"24px\">\n",
              "    <path d=\"M0 0h24v24H0V0z\" fill=\"none\"/>\n",
              "    <path d=\"M18.56 5.44l.94 2.06.94-2.06 2.06-.94-2.06-.94-.94-2.06-.94 2.06-2.06.94zm-11 1L8.5 8.5l.94-2.06 2.06-.94-2.06-.94L8.5 2.5l-.94 2.06-2.06.94zm10 10l.94 2.06.94-2.06 2.06-.94-2.06-.94-.94-2.06-.94 2.06-2.06.94z\"/><path d=\"M17.41 7.96l-1.37-1.37c-.4-.4-.92-.59-1.43-.59-.52 0-1.04.2-1.43.59L10.3 9.45l-7.72 7.72c-.78.78-.78 2.05 0 2.83L4 21.41c.39.39.9.59 1.41.59.51 0 1.02-.2 1.41-.59l7.78-7.78 2.81-2.81c.8-.78.8-2.07 0-2.86zM5.41 20L4 18.59l7.72-7.72 1.47 1.35L5.41 20z\"/>\n",
              "  </svg>\n",
              "      </button>\n",
              "      \n",
              "  <style>\n",
              "    .colab-df-container {\n",
              "      display:flex;\n",
              "      flex-wrap:wrap;\n",
              "      gap: 12px;\n",
              "    }\n",
              "\n",
              "    .colab-df-convert {\n",
              "      background-color: #E8F0FE;\n",
              "      border: none;\n",
              "      border-radius: 50%;\n",
              "      cursor: pointer;\n",
              "      display: none;\n",
              "      fill: #1967D2;\n",
              "      height: 32px;\n",
              "      padding: 0 0 0 0;\n",
              "      width: 32px;\n",
              "    }\n",
              "\n",
              "    .colab-df-convert:hover {\n",
              "      background-color: #E2EBFA;\n",
              "      box-shadow: 0px 1px 2px rgba(60, 64, 67, 0.3), 0px 1px 3px 1px rgba(60, 64, 67, 0.15);\n",
              "      fill: #174EA6;\n",
              "    }\n",
              "\n",
              "    [theme=dark] .colab-df-convert {\n",
              "      background-color: #3B4455;\n",
              "      fill: #D2E3FC;\n",
              "    }\n",
              "\n",
              "    [theme=dark] .colab-df-convert:hover {\n",
              "      background-color: #434B5C;\n",
              "      box-shadow: 0px 1px 3px 1px rgba(0, 0, 0, 0.15);\n",
              "      filter: drop-shadow(0px 1px 2px rgba(0, 0, 0, 0.3));\n",
              "      fill: #FFFFFF;\n",
              "    }\n",
              "  </style>\n",
              "\n",
              "      <script>\n",
              "        const buttonEl =\n",
              "          document.querySelector('#df-9a2d9578-5f02-42c4-95b3-0d4c7490797d button.colab-df-convert');\n",
              "        buttonEl.style.display =\n",
              "          google.colab.kernel.accessAllowed ? 'block' : 'none';\n",
              "\n",
              "        async function convertToInteractive(key) {\n",
              "          const element = document.querySelector('#df-9a2d9578-5f02-42c4-95b3-0d4c7490797d');\n",
              "          const dataTable =\n",
              "            await google.colab.kernel.invokeFunction('convertToInteractive',\n",
              "                                                     [key], {});\n",
              "          if (!dataTable) return;\n",
              "\n",
              "          const docLinkHtml = 'Like what you see? Visit the ' +\n",
              "            '<a target=\"_blank\" href=https://colab.research.google.com/notebooks/data_table.ipynb>data table notebook</a>'\n",
              "            + ' to learn more about interactive tables.';\n",
              "          element.innerHTML = '';\n",
              "          dataTable['output_type'] = 'display_data';\n",
              "          await google.colab.output.renderOutput(dataTable, element);\n",
              "          const docLink = document.createElement('div');\n",
              "          docLink.innerHTML = docLinkHtml;\n",
              "          element.appendChild(docLink);\n",
              "        }\n",
              "      </script>\n",
              "    </div>\n",
              "  </div>\n",
              "  "
            ]
          },
          "metadata": {},
          "execution_count": 28
        }
      ],
      "source": [
        "import pandas as pd\n",
        "import matplotlib.pyplot as plt\n",
        "import seaborn as sns\n",
        " \n",
        "dataset = pd.read_csv(\"winequality-red.csv\")\n",
        " \n",
        "# Printing first 5 records of the dataset\n",
        "dataset.head(5)"
      ]
    },
    {
      "cell_type": "markdown",
      "metadata": {
        "id": "9Mz6R7kvI8h6"
      },
      "source": [
        "# Số dòng, số cột"
      ]
    },
    {
      "cell_type": "code",
      "execution_count": null,
      "metadata": {
        "colab": {
          "base_uri": "https://localhost:8080/"
        },
        "id": "YtSmohgzI8h9",
        "outputId": "be968a08-8dde-4cd5-80ad-bc272dbdf09a"
      },
      "outputs": [
        {
          "output_type": "execute_result",
          "data": {
            "text/plain": [
              "(1599, 12)"
            ]
          },
          "metadata": {},
          "execution_count": 29
        }
      ],
      "source": [
        "dataset.shape"
      ]
    },
    {
      "cell_type": "markdown",
      "metadata": {
        "id": "CeQpHdkgI8h-"
      },
      "source": [
        "# Các cột và ý nghĩa của chúng"
      ]
    },
    {
      "cell_type": "code",
      "execution_count": null,
      "metadata": {
        "colab": {
          "base_uri": "https://localhost:8080/"
        },
        "id": "I80jbwcAI8iA",
        "outputId": "2b52b853-0186-49dd-ea1e-1025592d14c2"
      },
      "outputs": [
        {
          "output_type": "execute_result",
          "data": {
            "text/plain": [
              "Index(['fixed acidity', 'volatile acidity', 'citric acid', 'residual sugar',\n",
              "       'chlorides', 'free sulfur dioxide', 'total sulfur dioxide', 'density',\n",
              "       'pH', 'sulphates', 'alcohol', 'quality'],\n",
              "      dtype='object')"
            ]
          },
          "metadata": {},
          "execution_count": 30
        }
      ],
      "source": [
        "dataset.columns"
      ]
    },
    {
      "cell_type": "markdown",
      "metadata": {
        "id": "LeUoqpvLI8iB"
      },
      "source": [
        "- **fixed acidity**: most acids involved with wine or fixed or nonvolatile (do not evaporate readily).\n",
        "\n",
        "- **volatile acidity**: the amount of acetic acid in wine, which at too high of levels can lead to an unpleasant, vinegar taste.\n",
        "\n",
        "- **citric acid**: found in small quantities, citric acid can add 'freshness' and flavor to wines.\n",
        "\n",
        "- **residual sugar**: the amount of sugar remaining after fermentation stops, it's rare to find wines with less than 1 gram/liter and wines with greater than 45 grams/liter are considered sweet.\n",
        "\n",
        "- **chlorides**: the amount of salt in the wine.\n",
        "\n",
        "- **free sulfur dioxide**: the free form of SO2 exists in equilibrium between molecular SO2 (as a dissolved gas) and bisulfite ion; it prevents microbial growth and the oxidation of wine.\n",
        "\n",
        "- **total sulfur dioxide**: amount of free and bound forms of S02; in low concentrations, SO2 is mostly undetectable in wine, but at free SO2 concentrations over 50 ppm, SO2 becomes evident in the nose and taste of wine.\n",
        "\n",
        "- **density**: the density of water is close to that of water depending on the percent alcohol and sugar content.\n",
        "\n",
        "- **pH**: describes how acidic or basic a wine is on a scale from 0 (very acidic) to 14 (very basic); most wines are between 3-4 on the pH scale.\n",
        "\n",
        "- **sulphates**: a wine additive which can contribute to sulfur dioxide gas (S02) levels, wich acts as an antimicrobial and antioxidant.\n",
        "\n",
        "- **alcohol**: the percent alcohol content of the wine.\n",
        "\n",
        "- **quality**: output variable (based on sensory data, score between 0 and 10)."
      ]
    },
    {
      "cell_type": "markdown",
      "metadata": {
        "id": "JVv6bQUbI8iD"
      },
      "source": [
        "- **Độ axit cố định**: hầu hết các axit tham gia với rượu hoặc cố định hoặc không bay hơi (không dễ bay hơi).\n",
        "\n",
        "-  **axit dễ bay hơi**: lượng axit axetic trong rượu vang, ở mức quá cao có thể dẫn đến mùi giấm khó chịu.\n",
        "\n",
        "-  **axit xitric**: được tìm thấy với số lượng nhỏ, axit xitric có thể thêm 'độ tươi' và hương vị cho rượu vang.\n",
        "\n",
        "-  **đường dư**: lượng đường còn lại sau khi ngừng lên men, hiếm khi tìm được loại rượu nào dưới 1 gam/lít và loại rượu có trên 45 gam/lít được coi là ngọt.\n",
        "\n",
        "- **clorua**: lượng muối trong rượu.\n",
        "\n",
        "- **sulfur dioxide tự do**: dạng SO2 tự do tồn tại ở trạng thái cân bằng giữa phân tử SO2 (ở dạng khí hòa tan) và ion bisulfite; nó ngăn chặn sự phát triển của vi sinh vật và quá trình oxy hóa rượu vang.\n",
        "\n",
        "- **tổng lưu huỳnh dioxit**: lượng S02 ở dạng tự do và liên kết; ở nồng độ thấp, SO2 hầu như không phát hiện được trong rượu, nhưng ở nồng độ SO2 tự do trên 50 ppm, SO2 hiện rõ trong mũi và vị rượu.\n",
        "\n",
        "- **tỷ trọng**: tỷ trọng của nước gần bằng tỷ trọng của nước tùy thuộc vào phần trăm cồn và hàm lượng đường.\n",
        "\n",
        "- **Độ pH**: mô tả mức độ axit hoặc bazơ của rượu vang trên thang điểm từ 0 (rất axit) đến 14 (rất cơ bản); hầu hết các loại rượu vang nằm trong khoảng từ 3-4 trên thang độ pH.\n",
        "\n",
        "- **sulphate**: một chất phụ gia rượu vang có thể góp phần làm tăng nồng độ khí sulfur dioxide (S02), hoạt động như một chất chống vi trùng và chống oxy hóa.\n",
        "\n",
        "- **rượu**: phần trăm nồng độ cồn của rượu.\n",
        "\n",
        "- **chất lượng**: biến đầu ra (dựa trên dữ liệu cảm quan, cho điểm từ 0 đến 10)."
      ]
    },
    {
      "cell_type": "markdown",
      "metadata": {
        "id": "xVNLC05zI8iF"
      },
      "source": [
        "# Kiểu dữ liệu các cột"
      ]
    },
    {
      "cell_type": "code",
      "execution_count": null,
      "metadata": {
        "colab": {
          "base_uri": "https://localhost:8080/"
        },
        "id": "YyDPJa7TI8iH",
        "outputId": "1a8f636b-31bf-461f-dd80-984aa27cc7ee"
      },
      "outputs": [
        {
          "output_type": "execute_result",
          "data": {
            "text/plain": [
              "fixed acidity           float64\n",
              "volatile acidity        float64\n",
              "citric acid             float64\n",
              "residual sugar          float64\n",
              "chlorides               float64\n",
              "free sulfur dioxide     float64\n",
              "total sulfur dioxide    float64\n",
              "density                 float64\n",
              "pH                      float64\n",
              "sulphates               float64\n",
              "alcohol                 float64\n",
              "quality                   int64\n",
              "dtype: object"
            ]
          },
          "metadata": {},
          "execution_count": 31
        }
      ],
      "source": [
        "dataset.dtypes"
      ]
    },
    {
      "cell_type": "markdown",
      "metadata": {
        "id": "ybJmcUOJI8iJ"
      },
      "source": [
        "# Mô tả thống kê các cột"
      ]
    },
    {
      "cell_type": "code",
      "execution_count": null,
      "metadata": {
        "colab": {
          "base_uri": "https://localhost:8080/",
          "height": 399
        },
        "id": "OouoKcdVI8iK",
        "outputId": "4c4c3176-3fea-486e-c1b8-70c94cb85ce5"
      },
      "outputs": [
        {
          "output_type": "execute_result",
          "data": {
            "text/plain": [
              "       fixed acidity  volatile acidity  citric acid  residual sugar  \\\n",
              "count    1599.000000       1599.000000  1599.000000     1599.000000   \n",
              "mean        8.319637          0.527821     0.270976        2.538806   \n",
              "std         1.741096          0.179060     0.194801        1.409928   \n",
              "min         4.600000          0.120000     0.000000        0.900000   \n",
              "25%         7.100000          0.390000     0.090000        1.900000   \n",
              "50%         7.900000          0.520000     0.260000        2.200000   \n",
              "75%         9.200000          0.640000     0.420000        2.600000   \n",
              "max        15.900000          1.580000     1.000000       15.500000   \n",
              "\n",
              "         chlorides  free sulfur dioxide  total sulfur dioxide      density  \\\n",
              "count  1599.000000          1599.000000           1599.000000  1599.000000   \n",
              "mean      0.087467            15.874922             46.467792     0.996747   \n",
              "std       0.047065            10.460157             32.895324     0.001887   \n",
              "min       0.012000             1.000000              6.000000     0.990070   \n",
              "25%       0.070000             7.000000             22.000000     0.995600   \n",
              "50%       0.079000            14.000000             38.000000     0.996750   \n",
              "75%       0.090000            21.000000             62.000000     0.997835   \n",
              "max       0.611000            72.000000            289.000000     1.003690   \n",
              "\n",
              "                pH    sulphates      alcohol      quality  \n",
              "count  1599.000000  1599.000000  1599.000000  1599.000000  \n",
              "mean      3.311113     0.658149    10.422983     5.636023  \n",
              "std       0.154386     0.169507     1.065668     0.807569  \n",
              "min       2.740000     0.330000     8.400000     3.000000  \n",
              "25%       3.210000     0.550000     9.500000     5.000000  \n",
              "50%       3.310000     0.620000    10.200000     6.000000  \n",
              "75%       3.400000     0.730000    11.100000     6.000000  \n",
              "max       4.010000     2.000000    14.900000     8.000000  "
            ],
            "text/html": [
              "\n",
              "  <div id=\"df-6b07e6de-a59c-42bc-9e20-43cd43ea73f4\">\n",
              "    <div class=\"colab-df-container\">\n",
              "      <div>\n",
              "<style scoped>\n",
              "    .dataframe tbody tr th:only-of-type {\n",
              "        vertical-align: middle;\n",
              "    }\n",
              "\n",
              "    .dataframe tbody tr th {\n",
              "        vertical-align: top;\n",
              "    }\n",
              "\n",
              "    .dataframe thead th {\n",
              "        text-align: right;\n",
              "    }\n",
              "</style>\n",
              "<table border=\"1\" class=\"dataframe\">\n",
              "  <thead>\n",
              "    <tr style=\"text-align: right;\">\n",
              "      <th></th>\n",
              "      <th>fixed acidity</th>\n",
              "      <th>volatile acidity</th>\n",
              "      <th>citric acid</th>\n",
              "      <th>residual sugar</th>\n",
              "      <th>chlorides</th>\n",
              "      <th>free sulfur dioxide</th>\n",
              "      <th>total sulfur dioxide</th>\n",
              "      <th>density</th>\n",
              "      <th>pH</th>\n",
              "      <th>sulphates</th>\n",
              "      <th>alcohol</th>\n",
              "      <th>quality</th>\n",
              "    </tr>\n",
              "  </thead>\n",
              "  <tbody>\n",
              "    <tr>\n",
              "      <th>count</th>\n",
              "      <td>1599.000000</td>\n",
              "      <td>1599.000000</td>\n",
              "      <td>1599.000000</td>\n",
              "      <td>1599.000000</td>\n",
              "      <td>1599.000000</td>\n",
              "      <td>1599.000000</td>\n",
              "      <td>1599.000000</td>\n",
              "      <td>1599.000000</td>\n",
              "      <td>1599.000000</td>\n",
              "      <td>1599.000000</td>\n",
              "      <td>1599.000000</td>\n",
              "      <td>1599.000000</td>\n",
              "    </tr>\n",
              "    <tr>\n",
              "      <th>mean</th>\n",
              "      <td>8.319637</td>\n",
              "      <td>0.527821</td>\n",
              "      <td>0.270976</td>\n",
              "      <td>2.538806</td>\n",
              "      <td>0.087467</td>\n",
              "      <td>15.874922</td>\n",
              "      <td>46.467792</td>\n",
              "      <td>0.996747</td>\n",
              "      <td>3.311113</td>\n",
              "      <td>0.658149</td>\n",
              "      <td>10.422983</td>\n",
              "      <td>5.636023</td>\n",
              "    </tr>\n",
              "    <tr>\n",
              "      <th>std</th>\n",
              "      <td>1.741096</td>\n",
              "      <td>0.179060</td>\n",
              "      <td>0.194801</td>\n",
              "      <td>1.409928</td>\n",
              "      <td>0.047065</td>\n",
              "      <td>10.460157</td>\n",
              "      <td>32.895324</td>\n",
              "      <td>0.001887</td>\n",
              "      <td>0.154386</td>\n",
              "      <td>0.169507</td>\n",
              "      <td>1.065668</td>\n",
              "      <td>0.807569</td>\n",
              "    </tr>\n",
              "    <tr>\n",
              "      <th>min</th>\n",
              "      <td>4.600000</td>\n",
              "      <td>0.120000</td>\n",
              "      <td>0.000000</td>\n",
              "      <td>0.900000</td>\n",
              "      <td>0.012000</td>\n",
              "      <td>1.000000</td>\n",
              "      <td>6.000000</td>\n",
              "      <td>0.990070</td>\n",
              "      <td>2.740000</td>\n",
              "      <td>0.330000</td>\n",
              "      <td>8.400000</td>\n",
              "      <td>3.000000</td>\n",
              "    </tr>\n",
              "    <tr>\n",
              "      <th>25%</th>\n",
              "      <td>7.100000</td>\n",
              "      <td>0.390000</td>\n",
              "      <td>0.090000</td>\n",
              "      <td>1.900000</td>\n",
              "      <td>0.070000</td>\n",
              "      <td>7.000000</td>\n",
              "      <td>22.000000</td>\n",
              "      <td>0.995600</td>\n",
              "      <td>3.210000</td>\n",
              "      <td>0.550000</td>\n",
              "      <td>9.500000</td>\n",
              "      <td>5.000000</td>\n",
              "    </tr>\n",
              "    <tr>\n",
              "      <th>50%</th>\n",
              "      <td>7.900000</td>\n",
              "      <td>0.520000</td>\n",
              "      <td>0.260000</td>\n",
              "      <td>2.200000</td>\n",
              "      <td>0.079000</td>\n",
              "      <td>14.000000</td>\n",
              "      <td>38.000000</td>\n",
              "      <td>0.996750</td>\n",
              "      <td>3.310000</td>\n",
              "      <td>0.620000</td>\n",
              "      <td>10.200000</td>\n",
              "      <td>6.000000</td>\n",
              "    </tr>\n",
              "    <tr>\n",
              "      <th>75%</th>\n",
              "      <td>9.200000</td>\n",
              "      <td>0.640000</td>\n",
              "      <td>0.420000</td>\n",
              "      <td>2.600000</td>\n",
              "      <td>0.090000</td>\n",
              "      <td>21.000000</td>\n",
              "      <td>62.000000</td>\n",
              "      <td>0.997835</td>\n",
              "      <td>3.400000</td>\n",
              "      <td>0.730000</td>\n",
              "      <td>11.100000</td>\n",
              "      <td>6.000000</td>\n",
              "    </tr>\n",
              "    <tr>\n",
              "      <th>max</th>\n",
              "      <td>15.900000</td>\n",
              "      <td>1.580000</td>\n",
              "      <td>1.000000</td>\n",
              "      <td>15.500000</td>\n",
              "      <td>0.611000</td>\n",
              "      <td>72.000000</td>\n",
              "      <td>289.000000</td>\n",
              "      <td>1.003690</td>\n",
              "      <td>4.010000</td>\n",
              "      <td>2.000000</td>\n",
              "      <td>14.900000</td>\n",
              "      <td>8.000000</td>\n",
              "    </tr>\n",
              "  </tbody>\n",
              "</table>\n",
              "</div>\n",
              "      <button class=\"colab-df-convert\" onclick=\"convertToInteractive('df-6b07e6de-a59c-42bc-9e20-43cd43ea73f4')\"\n",
              "              title=\"Convert this dataframe to an interactive table.\"\n",
              "              style=\"display:none;\">\n",
              "        \n",
              "  <svg xmlns=\"http://www.w3.org/2000/svg\" height=\"24px\"viewBox=\"0 0 24 24\"\n",
              "       width=\"24px\">\n",
              "    <path d=\"M0 0h24v24H0V0z\" fill=\"none\"/>\n",
              "    <path d=\"M18.56 5.44l.94 2.06.94-2.06 2.06-.94-2.06-.94-.94-2.06-.94 2.06-2.06.94zm-11 1L8.5 8.5l.94-2.06 2.06-.94-2.06-.94L8.5 2.5l-.94 2.06-2.06.94zm10 10l.94 2.06.94-2.06 2.06-.94-2.06-.94-.94-2.06-.94 2.06-2.06.94z\"/><path d=\"M17.41 7.96l-1.37-1.37c-.4-.4-.92-.59-1.43-.59-.52 0-1.04.2-1.43.59L10.3 9.45l-7.72 7.72c-.78.78-.78 2.05 0 2.83L4 21.41c.39.39.9.59 1.41.59.51 0 1.02-.2 1.41-.59l7.78-7.78 2.81-2.81c.8-.78.8-2.07 0-2.86zM5.41 20L4 18.59l7.72-7.72 1.47 1.35L5.41 20z\"/>\n",
              "  </svg>\n",
              "      </button>\n",
              "      \n",
              "  <style>\n",
              "    .colab-df-container {\n",
              "      display:flex;\n",
              "      flex-wrap:wrap;\n",
              "      gap: 12px;\n",
              "    }\n",
              "\n",
              "    .colab-df-convert {\n",
              "      background-color: #E8F0FE;\n",
              "      border: none;\n",
              "      border-radius: 50%;\n",
              "      cursor: pointer;\n",
              "      display: none;\n",
              "      fill: #1967D2;\n",
              "      height: 32px;\n",
              "      padding: 0 0 0 0;\n",
              "      width: 32px;\n",
              "    }\n",
              "\n",
              "    .colab-df-convert:hover {\n",
              "      background-color: #E2EBFA;\n",
              "      box-shadow: 0px 1px 2px rgba(60, 64, 67, 0.3), 0px 1px 3px 1px rgba(60, 64, 67, 0.15);\n",
              "      fill: #174EA6;\n",
              "    }\n",
              "\n",
              "    [theme=dark] .colab-df-convert {\n",
              "      background-color: #3B4455;\n",
              "      fill: #D2E3FC;\n",
              "    }\n",
              "\n",
              "    [theme=dark] .colab-df-convert:hover {\n",
              "      background-color: #434B5C;\n",
              "      box-shadow: 0px 1px 3px 1px rgba(0, 0, 0, 0.15);\n",
              "      filter: drop-shadow(0px 1px 2px rgba(0, 0, 0, 0.3));\n",
              "      fill: #FFFFFF;\n",
              "    }\n",
              "  </style>\n",
              "\n",
              "      <script>\n",
              "        const buttonEl =\n",
              "          document.querySelector('#df-6b07e6de-a59c-42bc-9e20-43cd43ea73f4 button.colab-df-convert');\n",
              "        buttonEl.style.display =\n",
              "          google.colab.kernel.accessAllowed ? 'block' : 'none';\n",
              "\n",
              "        async function convertToInteractive(key) {\n",
              "          const element = document.querySelector('#df-6b07e6de-a59c-42bc-9e20-43cd43ea73f4');\n",
              "          const dataTable =\n",
              "            await google.colab.kernel.invokeFunction('convertToInteractive',\n",
              "                                                     [key], {});\n",
              "          if (!dataTable) return;\n",
              "\n",
              "          const docLinkHtml = 'Like what you see? Visit the ' +\n",
              "            '<a target=\"_blank\" href=https://colab.research.google.com/notebooks/data_table.ipynb>data table notebook</a>'\n",
              "            + ' to learn more about interactive tables.';\n",
              "          element.innerHTML = '';\n",
              "          dataTable['output_type'] = 'display_data';\n",
              "          await google.colab.output.renderOutput(dataTable, element);\n",
              "          const docLink = document.createElement('div');\n",
              "          docLink.innerHTML = docLinkHtml;\n",
              "          element.appendChild(docLink);\n",
              "        }\n",
              "      </script>\n",
              "    </div>\n",
              "  </div>\n",
              "  "
            ]
          },
          "metadata": {},
          "execution_count": 32
        }
      ],
      "source": [
        "dataset.describe()"
      ]
    },
    {
      "cell_type": "markdown",
      "metadata": {
        "id": "sMGQoo4cI8iL"
      },
      "source": [
        "# Tỉ lệ missing ở các cột"
      ]
    },
    {
      "cell_type": "code",
      "execution_count": null,
      "metadata": {
        "colab": {
          "base_uri": "https://localhost:8080/",
          "height": 425
        },
        "id": "AsWRKytOI8iM",
        "outputId": "10c8c2b2-2175-4cc8-ccbc-6f7dcf62e04e"
      },
      "outputs": [
        {
          "output_type": "execute_result",
          "data": {
            "text/plain": [
              "                                    Column  Missing Per\n",
              "fixed acidity                fixed acidity          0.0\n",
              "volatile acidity          volatile acidity          0.0\n",
              "citric acid                    citric acid          0.0\n",
              "residual sugar              residual sugar          0.0\n",
              "chlorides                        chlorides          0.0\n",
              "free sulfur dioxide    free sulfur dioxide          0.0\n",
              "total sulfur dioxide  total sulfur dioxide          0.0\n",
              "density                            density          0.0\n",
              "pH                                      pH          0.0\n",
              "sulphates                        sulphates          0.0\n",
              "alcohol                            alcohol          0.0\n",
              "quality                            quality          0.0"
            ],
            "text/html": [
              "\n",
              "  <div id=\"df-cddc7d98-fe25-421a-81f1-226a778a246b\">\n",
              "    <div class=\"colab-df-container\">\n",
              "      <div>\n",
              "<style scoped>\n",
              "    .dataframe tbody tr th:only-of-type {\n",
              "        vertical-align: middle;\n",
              "    }\n",
              "\n",
              "    .dataframe tbody tr th {\n",
              "        vertical-align: top;\n",
              "    }\n",
              "\n",
              "    .dataframe thead th {\n",
              "        text-align: right;\n",
              "    }\n",
              "</style>\n",
              "<table border=\"1\" class=\"dataframe\">\n",
              "  <thead>\n",
              "    <tr style=\"text-align: right;\">\n",
              "      <th></th>\n",
              "      <th>Column</th>\n",
              "      <th>Missing Per</th>\n",
              "    </tr>\n",
              "  </thead>\n",
              "  <tbody>\n",
              "    <tr>\n",
              "      <th>fixed acidity</th>\n",
              "      <td>fixed acidity</td>\n",
              "      <td>0.0</td>\n",
              "    </tr>\n",
              "    <tr>\n",
              "      <th>volatile acidity</th>\n",
              "      <td>volatile acidity</td>\n",
              "      <td>0.0</td>\n",
              "    </tr>\n",
              "    <tr>\n",
              "      <th>citric acid</th>\n",
              "      <td>citric acid</td>\n",
              "      <td>0.0</td>\n",
              "    </tr>\n",
              "    <tr>\n",
              "      <th>residual sugar</th>\n",
              "      <td>residual sugar</td>\n",
              "      <td>0.0</td>\n",
              "    </tr>\n",
              "    <tr>\n",
              "      <th>chlorides</th>\n",
              "      <td>chlorides</td>\n",
              "      <td>0.0</td>\n",
              "    </tr>\n",
              "    <tr>\n",
              "      <th>free sulfur dioxide</th>\n",
              "      <td>free sulfur dioxide</td>\n",
              "      <td>0.0</td>\n",
              "    </tr>\n",
              "    <tr>\n",
              "      <th>total sulfur dioxide</th>\n",
              "      <td>total sulfur dioxide</td>\n",
              "      <td>0.0</td>\n",
              "    </tr>\n",
              "    <tr>\n",
              "      <th>density</th>\n",
              "      <td>density</td>\n",
              "      <td>0.0</td>\n",
              "    </tr>\n",
              "    <tr>\n",
              "      <th>pH</th>\n",
              "      <td>pH</td>\n",
              "      <td>0.0</td>\n",
              "    </tr>\n",
              "    <tr>\n",
              "      <th>sulphates</th>\n",
              "      <td>sulphates</td>\n",
              "      <td>0.0</td>\n",
              "    </tr>\n",
              "    <tr>\n",
              "      <th>alcohol</th>\n",
              "      <td>alcohol</td>\n",
              "      <td>0.0</td>\n",
              "    </tr>\n",
              "    <tr>\n",
              "      <th>quality</th>\n",
              "      <td>quality</td>\n",
              "      <td>0.0</td>\n",
              "    </tr>\n",
              "  </tbody>\n",
              "</table>\n",
              "</div>\n",
              "      <button class=\"colab-df-convert\" onclick=\"convertToInteractive('df-cddc7d98-fe25-421a-81f1-226a778a246b')\"\n",
              "              title=\"Convert this dataframe to an interactive table.\"\n",
              "              style=\"display:none;\">\n",
              "        \n",
              "  <svg xmlns=\"http://www.w3.org/2000/svg\" height=\"24px\"viewBox=\"0 0 24 24\"\n",
              "       width=\"24px\">\n",
              "    <path d=\"M0 0h24v24H0V0z\" fill=\"none\"/>\n",
              "    <path d=\"M18.56 5.44l.94 2.06.94-2.06 2.06-.94-2.06-.94-.94-2.06-.94 2.06-2.06.94zm-11 1L8.5 8.5l.94-2.06 2.06-.94-2.06-.94L8.5 2.5l-.94 2.06-2.06.94zm10 10l.94 2.06.94-2.06 2.06-.94-2.06-.94-.94-2.06-.94 2.06-2.06.94z\"/><path d=\"M17.41 7.96l-1.37-1.37c-.4-.4-.92-.59-1.43-.59-.52 0-1.04.2-1.43.59L10.3 9.45l-7.72 7.72c-.78.78-.78 2.05 0 2.83L4 21.41c.39.39.9.59 1.41.59.51 0 1.02-.2 1.41-.59l7.78-7.78 2.81-2.81c.8-.78.8-2.07 0-2.86zM5.41 20L4 18.59l7.72-7.72 1.47 1.35L5.41 20z\"/>\n",
              "  </svg>\n",
              "      </button>\n",
              "      \n",
              "  <style>\n",
              "    .colab-df-container {\n",
              "      display:flex;\n",
              "      flex-wrap:wrap;\n",
              "      gap: 12px;\n",
              "    }\n",
              "\n",
              "    .colab-df-convert {\n",
              "      background-color: #E8F0FE;\n",
              "      border: none;\n",
              "      border-radius: 50%;\n",
              "      cursor: pointer;\n",
              "      display: none;\n",
              "      fill: #1967D2;\n",
              "      height: 32px;\n",
              "      padding: 0 0 0 0;\n",
              "      width: 32px;\n",
              "    }\n",
              "\n",
              "    .colab-df-convert:hover {\n",
              "      background-color: #E2EBFA;\n",
              "      box-shadow: 0px 1px 2px rgba(60, 64, 67, 0.3), 0px 1px 3px 1px rgba(60, 64, 67, 0.15);\n",
              "      fill: #174EA6;\n",
              "    }\n",
              "\n",
              "    [theme=dark] .colab-df-convert {\n",
              "      background-color: #3B4455;\n",
              "      fill: #D2E3FC;\n",
              "    }\n",
              "\n",
              "    [theme=dark] .colab-df-convert:hover {\n",
              "      background-color: #434B5C;\n",
              "      box-shadow: 0px 1px 3px 1px rgba(0, 0, 0, 0.15);\n",
              "      filter: drop-shadow(0px 1px 2px rgba(0, 0, 0, 0.3));\n",
              "      fill: #FFFFFF;\n",
              "    }\n",
              "  </style>\n",
              "\n",
              "      <script>\n",
              "        const buttonEl =\n",
              "          document.querySelector('#df-cddc7d98-fe25-421a-81f1-226a778a246b button.colab-df-convert');\n",
              "        buttonEl.style.display =\n",
              "          google.colab.kernel.accessAllowed ? 'block' : 'none';\n",
              "\n",
              "        async function convertToInteractive(key) {\n",
              "          const element = document.querySelector('#df-cddc7d98-fe25-421a-81f1-226a778a246b');\n",
              "          const dataTable =\n",
              "            await google.colab.kernel.invokeFunction('convertToInteractive',\n",
              "                                                     [key], {});\n",
              "          if (!dataTable) return;\n",
              "\n",
              "          const docLinkHtml = 'Like what you see? Visit the ' +\n",
              "            '<a target=\"_blank\" href=https://colab.research.google.com/notebooks/data_table.ipynb>data table notebook</a>'\n",
              "            + ' to learn more about interactive tables.';\n",
              "          element.innerHTML = '';\n",
              "          dataTable['output_type'] = 'display_data';\n",
              "          await google.colab.output.renderOutput(dataTable, element);\n",
              "          const docLink = document.createElement('div');\n",
              "          docLink.innerHTML = docLinkHtml;\n",
              "          element.appendChild(docLink);\n",
              "        }\n",
              "      </script>\n",
              "    </div>\n",
              "  </div>\n",
              "  "
            ]
          },
          "metadata": {},
          "execution_count": 33
        }
      ],
      "source": [
        "missing_per = dataset.isnull().sum() * 100 / len(dataset)\n",
        "missing_df = pd.DataFrame({\"Column\": dataset.columns, \"Missing Per\": missing_per})\n",
        "missing_df"
      ]
    },
    {
      "cell_type": "markdown",
      "metadata": {
        "id": "BLBH9fbEI8iN"
      },
      "source": [
        "# Trực quan hóa thống kê ở một số cột"
      ]
    },
    {
      "cell_type": "code",
      "execution_count": null,
      "metadata": {
        "colab": {
          "base_uri": "https://localhost:8080/",
          "height": 296
        },
        "id": "OoyW2hJ-I8iN",
        "outputId": "e9639dc8-37c3-404c-e489-d939bf037e8a"
      },
      "outputs": [
        {
          "output_type": "execute_result",
          "data": {
            "text/plain": [
              "<matplotlib.lines.Line2D at 0x7f7fd4444ca0>"
            ]
          },
          "metadata": {},
          "execution_count": 34
        },
        {
          "output_type": "display_data",
          "data": {
            "text/plain": [
              "<Figure size 432x288 with 1 Axes>"
            ],
            "image/png": "[encoded data removed]"
          },
          "metadata": {
            "needs_background": "light"
          }
        }
      ],
      "source": [
        "sns.histplot(dataset, x = \"citric acid\",bins = 30, kde = True)\n",
        "plt.axvline(x = dataset[\"citric acid\"].median(), ls = '--', color = 'red')"
      ]
    },
    {
      "cell_type": "code",
      "execution_count": null,
      "metadata": {
        "colab": {
          "base_uri": "https://localhost:8080/",
          "height": 296
        },
        "id": "OpRnHKK6I8iO",
        "outputId": "6241ad86-fd3b-4370-8fc2-a7984b561aad"
      },
      "outputs": [
        {
          "output_type": "execute_result",
          "data": {
            "text/plain": [
              "<matplotlib.lines.Line2D at 0x7f7fd44901c0>"
            ]
          },
          "metadata": {},
          "execution_count": 35
        },
        {
          "output_type": "display_data",
          "data": {
            "text/plain": [
              "<Figure size 432x288 with 1 Axes>"
            ],
            "image/png": "[encoded data removed]"
          },
          "metadata": {
            "needs_background": "light"
          }
        }
      ],
      "source": [
        "sns.histplot(dataset, x = \"pH\", bins = 30, kde = True)\n",
        "plt.axvline(x = dataset.pH.median(), ls = '--', color = 'red')"
      ]
    },
    {
      "cell_type": "code",
      "execution_count": null,
      "metadata": {
        "colab": {
          "base_uri": "https://localhost:8080/",
          "height": 282
        },
        "id": "FoTXbUZyI8iP",
        "outputId": "f83b1c4f-ab3b-4f18-f6b3-8bd21e88d9c3"
      },
      "outputs": [
        {
          "output_type": "execute_result",
          "data": {
            "text/plain": [
              "<Axes: >"
            ]
          },
          "metadata": {},
          "execution_count": 36
        },
        {
          "output_type": "display_data",
          "data": {
            "text/plain": [
              "<Figure size 432x288 with 1 Axes>"
            ],
            "image/png": "[encoded data removed]"
          },
          "metadata": {
            "needs_background": "light"
          }
        }
      ],
      "source": [
        "sns.boxplot(dataset[\"free sulfur dioxide\"], orient = \"h\", color = 'green')"
      ]
    },
    {
      "cell_type": "code",
      "execution_count": null,
      "metadata": {
        "colab": {
          "base_uri": "https://localhost:8080/",
          "height": 282
        },
        "id": "7is0jqENI8iQ",
        "outputId": "fc06db4d-7625-4207-b3c1-97cadb438c43"
      },
      "outputs": [
        {
          "output_type": "execute_result",
          "data": {
            "text/plain": [
              "<Axes: >"
            ]
          },
          "metadata": {},
          "execution_count": 37
        },
        {
          "output_type": "display_data",
          "data": {
            "text/plain": [
              "<Figure size 432x288 with 1 Axes>"
            ],
            "image/png": "[encoded data removed]"
          },
          "metadata": {
            "needs_background": "light"
          }
        }
      ],
      "source": [
        "sns.boxplot(dataset[\"alcohol\"],orient = 'v')"
      ]
    },
    {
      "cell_type": "markdown",
      "metadata": {
        "id": "rpkmIS3BI8iQ"
      },
      "source": [
        "# Tương quan giữa các biến"
      ]
    },
    {
      "cell_type": "code",
      "execution_count": null,
      "metadata": {
        "colab": {
          "base_uri": "https://localhost:8080/",
          "height": 479
        },
        "id": "u0JC_rIsI8iR",
        "outputId": "a0d38292-288f-41f4-fbe2-2b3559450be1"
      },
      "outputs": [
        {
          "output_type": "execute_result",
          "data": {
            "text/plain": [
              "<Axes: >"
            ]
          },
          "metadata": {},
          "execution_count": 38
        },
        {
          "output_type": "display_data",
          "data": {
            "text/plain": [
              "<Figure size 864x432 with 2 Axes>"
            ],
            "image/png": "[encoded data removed]"
          },
          "metadata": {
            "needs_background": "light"
          }
        }
      ],
      "source": [
        "plt.figure(figsize = (12,6))\n",
        "sns.heatmap(dataset.corr(),cmap = \"BrBG\", fmt= \".2f\", linewidths= 2, annot= True)"
      ]
    },
    {
      "cell_type": "markdown",
      "metadata": {
        "id": "mOEso7AWI8iR"
      },
      "source": [
        "# Tương quan giữa 2 biến density và fixed acidity"
      ]
    },
    {
      "cell_type": "code",
      "execution_count": null,
      "metadata": {
        "colab": {
          "base_uri": "https://localhost:8080/",
          "height": 296
        },
        "id": "jegvAkUuI8iS",
        "outputId": "d34546d1-602f-41de-fc44-dc163c6d4d9a"
      },
      "outputs": [
        {
          "output_type": "execute_result",
          "data": {
            "text/plain": [
              "<Axes: xlabel='density', ylabel='fixed acidity'>"
            ]
          },
          "metadata": {},
          "execution_count": 39
        },
        {
          "output_type": "display_data",
          "data": {
            "text/plain": [
              "<Figure size 432x288 with 1 Axes>"
            ],
            "image/png": "[encoded data removed]"
          },
          "metadata": {
            "needs_background": "light"
          }
        }
      ],
      "source": [
        "sns.regplot(data = dataset, x = \"density\", y = \"fixed acidity\")"
      ]
    },
    {
      "cell_type": "code",
      "execution_count": null,
      "metadata": {
        "colab": {
          "base_uri": "https://localhost:8080/",
          "height": 296
        },
        "id": "9n8lZQPeI8iT",
        "outputId": "c9f5e130-2ce7-4261-e5af-67b43c5d017e"
      },
      "outputs": [
        {
          "output_type": "execute_result",
          "data": {
            "text/plain": [
              "<Axes: xlabel='density', ylabel='fixed acidity'>"
            ]
          },
          "metadata": {},
          "execution_count": 40
        },
        {
          "output_type": "display_data",
          "data": {
            "text/plain": [
              "<Figure size 432x288 with 1 Axes>"
            ],
            "image/png": "[encoded data removed]"
          },
          "metadata": {
            "needs_background": "light"
          }
        }
      ],
      "source": [
        "sns.scatterplot(data =  dataset, x = \"density\", y = \"fixed acidity\",)"
      ]
    },
    {
      "cell_type": "markdown",
      "metadata": {
        "id": "Xp8rLgwmI8iT"
      },
      "source": [
        "# Tương quan hai biến fixed acidity và volatile acidity"
      ]
    },
    {
      "cell_type": "code",
      "execution_count": null,
      "metadata": {
        "colab": {
          "base_uri": "https://localhost:8080/",
          "height": 279
        },
        "id": "GO10An1eI8iU",
        "outputId": "84718e02-5e3c-48d9-c132-e9430d3151b4"
      },
      "outputs": [
        {
          "output_type": "display_data",
          "data": {
            "text/plain": [
              "<Figure size 432x288 with 1 Axes>"
            ],
            "image/png": "[encoded data removed]"
          },
          "metadata": {
            "needs_background": "light"
          }
        }
      ],
      "source": [
        "sns.lineplot(x=dataset[\"fixed acidity\"],y=dataset[\"volatile acidity\"])\n",
        "plt.show()"
      ]
    },
    {
      "cell_type": "markdown",
      "metadata": {
        "id": "7My4VlN0I8iU"
      },
      "source": [
        "# Tương quan giữa 2 biến chorides và sulphates"
      ]
    },
    {
      "cell_type": "code",
      "execution_count": null,
      "metadata": {
        "colab": {
          "base_uri": "https://localhost:8080/",
          "height": 296
        },
        "id": "07DKkZvXI8iU",
        "outputId": "8bdbe12d-31d3-4182-b5f7-aa8d2d48586c"
      },
      "outputs": [
        {
          "output_type": "execute_result",
          "data": {
            "text/plain": [
              "<Axes: xlabel='alcohol', ylabel='sulphates'>"
            ]
          },
          "metadata": {},
          "execution_count": 42
        },
        {
          "output_type": "display_data",
          "data": {
            "text/plain": [
              "<Figure size 432x288 with 1 Axes>"
            ],
            "image/png": "[encoded data removed]"
          },
          "metadata": {
            "needs_background": "light"
          }
        }
      ],
      "source": [
        "sns.regplot(data = dataset, x = \"alcohol\", y = \"sulphates\")"
      ]
    },
    {
      "cell_type": "markdown",
      "metadata": {
        "id": "HxWjOuz9I8iV"
      },
      "source": [
        "# Tính covariance"
      ]
    },
    {
      "cell_type": "code",
      "execution_count": null,
      "metadata": {
        "id": "Dp9ys2OLI8iW"
      },
      "outputs": [],
      "source": [
        "\n",
        "import scipy.stats as stats\n",
        "#df = dataset.apply(stats.zscore)\n",
        "\n",
        "#plt.figure(figsize=(12,6))\n",
        "#sns.heatmap(df.cov(), cmap =\"Blues\", fmt=\".2f\", annot=True)"
      ]
    },
    {
      "cell_type": "markdown",
      "metadata": {
        "id": "XzKqjT0vI8iW"
      },
      "source": [
        "# **Tiền xử lý**\n",
        "- Loại bỏ các dòng trùng nhau.\n",
        "- Xử lý outliers.\n",
        "- Loại bỏ các cột tỉ lệ với nhau để giảm chiều dữ liệu.\n",
        "- Scale lại tập dữ liệu.\n"
      ]
    },
    {
      "cell_type": "markdown",
      "metadata": {
        "id": "Qi3GdKo0I8iW"
      },
      "source": [
        "# Loại bỏ các dòng trùng nhau"
      ]
    },
    {
      "cell_type": "code",
      "execution_count": null,
      "metadata": {
        "colab": {
          "base_uri": "https://localhost:8080/"
        },
        "id": "gOsSZoYmI8iX",
        "outputId": "a587aba0-246c-4428-dfb7-b214b62d63bd"
      },
      "outputs": [
        {
          "output_type": "stream",
          "name": "stdout",
          "text": [
            "Số lượng các dòng lặp lại trong tập dữ liệu:  240\n",
            "Drop duplicated data successful!\n"
          ]
        },
        {
          "output_type": "execute_result",
          "data": {
            "text/plain": [
              "(1359, 13)"
            ]
          },
          "metadata": {},
          "execution_count": 44
        }
      ],
      "source": [
        "print(\"Số lượng các dòng lặp lại trong tập dữ liệu: \", dataset.duplicated().sum())\n",
        "\n",
        "dataset = dataset.drop_duplicates()\n",
        "print(\"Drop duplicated data successful!\")\n",
        "dataset = dataset.reset_index()\n",
        "dataset.shape"
      ]
    },
    {
      "cell_type": "markdown",
      "metadata": {
        "id": "gBPoLCvJI8iX"
      },
      "source": [
        "# Xử lý outliers"
      ]
    },
    {
      "cell_type": "code",
      "execution_count": null,
      "metadata": {
        "colab": {
          "base_uri": "https://localhost:8080/",
          "height": 522
        },
        "id": "8oS9MYgeI8iY",
        "outputId": "233a02b5-e96b-4e5b-ff60-ad0e697e74b6"
      },
      "outputs": [
        {
          "output_type": "execute_result",
          "data": {
            "text/plain": [
              "      index  fixed acidity  volatile acidity  citric acid  residual sugar  \\\n",
              "0         0            7.4             0.700         0.00             1.9   \n",
              "1         1            7.8             0.880         0.00             2.6   \n",
              "2         2            7.8             0.760         0.04             2.3   \n",
              "3         3           11.2             0.280         0.56             1.9   \n",
              "4         5            7.4             0.660         0.00             1.8   \n",
              "...     ...            ...               ...          ...             ...   \n",
              "1354   1593            6.8             0.620         0.08             1.9   \n",
              "1355   1594            6.2             0.600         0.08             2.0   \n",
              "1356   1595            5.9             0.550         0.10             2.2   \n",
              "1357   1597            5.9             0.645         0.12             2.0   \n",
              "1358   1598            6.0             0.310         0.47             3.6   \n",
              "\n",
              "      chlorides  free sulfur dioxide  total sulfur dioxide  density    pH  \\\n",
              "0         0.076                 11.0                  34.0  0.99780  3.51   \n",
              "1         0.098                 25.0                  67.0  0.99680  3.20   \n",
              "2         0.092                 15.0                  54.0  0.99700  3.26   \n",
              "3         0.075                 17.0                  60.0  0.99800  3.16   \n",
              "4         0.075                 13.0                  40.0  0.99780  3.51   \n",
              "...         ...                  ...                   ...      ...   ...   \n",
              "1354      0.068                 28.0                  38.0  0.99651  3.42   \n",
              "1355      0.090                 32.0                  44.0  0.99490  3.45   \n",
              "1356      0.062                 39.0                  51.0  0.99512  3.52   \n",
              "1357      0.075                 32.0                  44.0  0.99547  3.57   \n",
              "1358      0.067                 18.0                  42.0  0.99549  3.39   \n",
              "\n",
              "      sulphates  alcohol  quality  \n",
              "0          0.56      9.4        5  \n",
              "1          0.68      9.8        5  \n",
              "2          0.65      9.8        5  \n",
              "3          0.58      9.8        6  \n",
              "4          0.56      9.4        5  \n",
              "...         ...      ...      ...  \n",
              "1354       0.82      9.5        6  \n",
              "1355       0.58     10.5        5  \n",
              "1356       0.76     11.2        6  \n",
              "1357       0.71     10.2        5  \n",
              "1358       0.66     11.0        6  \n",
              "\n",
              "[1359 rows x 13 columns]"
            ],
            "text/html": [
              "\n",
              "  <div id=\"df-0715cc2a-9732-4dcb-a5cc-7188904a0a36\">\n",
              "    <div class=\"colab-df-container\">\n",
              "      <div>\n",
              "<style scoped>\n",
              "    .dataframe tbody tr th:only-of-type {\n",
              "        vertical-align: middle;\n",
              "    }\n",
              "\n",
              "    .dataframe tbody tr th {\n",
              "        vertical-align: top;\n",
              "    }\n",
              "\n",
              "    .dataframe thead th {\n",
              "        text-align: right;\n",
              "    }\n",
              "</style>\n",
              "<table border=\"1\" class=\"dataframe\">\n",
              "  <thead>\n",
              "    <tr style=\"text-align: right;\">\n",
              "      <th></th>\n",
              "      <th>index</th>\n",
              "      <th>fixed acidity</th>\n",
              "      <th>volatile acidity</th>\n",
              "      <th>citric acid</th>\n",
              "      <th>residual sugar</th>\n",
              "      <th>chlorides</th>\n",
              "      <th>free sulfur dioxide</th>\n",
              "      <th>total sulfur dioxide</th>\n",
              "      <th>density</th>\n",
              "      <th>pH</th>\n",
              "      <th>sulphates</th>\n",
              "      <th>alcohol</th>\n",
              "      <th>quality</th>\n",
              "    </tr>\n",
              "  </thead>\n",
              "  <tbody>\n",
              "    <tr>\n",
              "      <th>0</th>\n",
              "      <td>0</td>\n",
              "      <td>7.4</td>\n",
              "      <td>0.700</td>\n",
              "      <td>0.00</td>\n",
              "      <td>1.9</td>\n",
              "      <td>0.076</td>\n",
              "      <td>11.0</td>\n",
              "      <td>34.0</td>\n",
              "      <td>0.99780</td>\n",
              "      <td>3.51</td>\n",
              "      <td>0.56</td>\n",
              "      <td>9.4</td>\n",
              "      <td>5</td>\n",
              "    </tr>\n",
              "    <tr>\n",
              "      <th>1</th>\n",
              "      <td>1</td>\n",
              "      <td>7.8</td>\n",
              "      <td>0.880</td>\n",
              "      <td>0.00</td>\n",
              "      <td>2.6</td>\n",
              "      <td>0.098</td>\n",
              "      <td>25.0</td>\n",
              "      <td>67.0</td>\n",
              "      <td>0.99680</td>\n",
              "      <td>3.20</td>\n",
              "      <td>0.68</td>\n",
              "      <td>9.8</td>\n",
              "      <td>5</td>\n",
              "    </tr>\n",
              "    <tr>\n",
              "      <th>2</th>\n",
              "      <td>2</td>\n",
              "      <td>7.8</td>\n",
              "      <td>0.760</td>\n",
              "      <td>0.04</td>\n",
              "      <td>2.3</td>\n",
              "      <td>0.092</td>\n",
              "      <td>15.0</td>\n",
              "      <td>54.0</td>\n",
              "      <td>0.99700</td>\n",
              "      <td>3.26</td>\n",
              "      <td>0.65</td>\n",
              "      <td>9.8</td>\n",
              "      <td>5</td>\n",
              "    </tr>\n",
              "    <tr>\n",
              "      <th>3</th>\n",
              "      <td>3</td>\n",
              "      <td>11.2</td>\n",
              "      <td>0.280</td>\n",
              "      <td>0.56</td>\n",
              "      <td>1.9</td>\n",
              "      <td>0.075</td>\n",
              "      <td>17.0</td>\n",
              "      <td>60.0</td>\n",
              "      <td>0.99800</td>\n",
              "      <td>3.16</td>\n",
              "      <td>0.58</td>\n",
              "      <td>9.8</td>\n",
              "      <td>6</td>\n",
              "    </tr>\n",
              "    <tr>\n",
              "      <th>4</th>\n",
              "      <td>5</td>\n",
              "      <td>7.4</td>\n",
              "      <td>0.660</td>\n",
              "      <td>0.00</td>\n",
              "      <td>1.8</td>\n",
              "      <td>0.075</td>\n",
              "      <td>13.0</td>\n",
              "      <td>40.0</td>\n",
              "      <td>0.99780</td>\n",
              "      <td>3.51</td>\n",
              "      <td>0.56</td>\n",
              "      <td>9.4</td>\n",
              "      <td>5</td>\n",
              "    </tr>\n",
              "    <tr>\n",
              "      <th>...</th>\n",
              "      <td>...</td>\n",
              "      <td>...</td>\n",
              "      <td>...</td>\n",
              "      <td>...</td>\n",
              "      <td>...</td>\n",
              "      <td>...</td>\n",
              "      <td>...</td>\n",
              "      <td>...</td>\n",
              "      <td>...</td>\n",
              "      <td>...</td>\n",
              "      <td>...</td>\n",
              "      <td>...</td>\n",
              "      <td>...</td>\n",
              "    </tr>\n",
              "    <tr>\n",
              "      <th>1354</th>\n",
              "      <td>1593</td>\n",
              "      <td>6.8</td>\n",
              "      <td>0.620</td>\n",
              "      <td>0.08</td>\n",
              "      <td>1.9</td>\n",
              "      <td>0.068</td>\n",
              "      <td>28.0</td>\n",
              "      <td>38.0</td>\n",
              "      <td>0.99651</td>\n",
              "      <td>3.42</td>\n",
              "      <td>0.82</td>\n",
              "      <td>9.5</td>\n",
              "      <td>6</td>\n",
              "    </tr>\n",
              "    <tr>\n",
              "      <th>1355</th>\n",
              "      <td>1594</td>\n",
              "      <td>6.2</td>\n",
              "      <td>0.600</td>\n",
              "      <td>0.08</td>\n",
              "      <td>2.0</td>\n",
              "      <td>0.090</td>\n",
              "      <td>32.0</td>\n",
              "      <td>44.0</td>\n",
              "      <td>0.99490</td>\n",
              "      <td>3.45</td>\n",
              "      <td>0.58</td>\n",
              "      <td>10.5</td>\n",
              "      <td>5</td>\n",
              "    </tr>\n",
              "    <tr>\n",
              "      <th>1356</th>\n",
              "      <td>1595</td>\n",
              "      <td>5.9</td>\n",
              "      <td>0.550</td>\n",
              "      <td>0.10</td>\n",
              "      <td>2.2</td>\n",
              "      <td>0.062</td>\n",
              "      <td>39.0</td>\n",
              "      <td>51.0</td>\n",
              "      <td>0.99512</td>\n",
              "      <td>3.52</td>\n",
              "      <td>0.76</td>\n",
              "      <td>11.2</td>\n",
              "      <td>6</td>\n",
              "    </tr>\n",
              "    <tr>\n",
              "      <th>1357</th>\n",
              "      <td>1597</td>\n",
              "      <td>5.9</td>\n",
              "      <td>0.645</td>\n",
              "      <td>0.12</td>\n",
              "      <td>2.0</td>\n",
              "      <td>0.075</td>\n",
              "      <td>32.0</td>\n",
              "      <td>44.0</td>\n",
              "      <td>0.99547</td>\n",
              "      <td>3.57</td>\n",
              "      <td>0.71</td>\n",
              "      <td>10.2</td>\n",
              "      <td>5</td>\n",
              "    </tr>\n",
              "    <tr>\n",
              "      <th>1358</th>\n",
              "      <td>1598</td>\n",
              "      <td>6.0</td>\n",
              "      <td>0.310</td>\n",
              "      <td>0.47</td>\n",
              "      <td>3.6</td>\n",
              "      <td>0.067</td>\n",
              "      <td>18.0</td>\n",
              "      <td>42.0</td>\n",
              "      <td>0.99549</td>\n",
              "      <td>3.39</td>\n",
              "      <td>0.66</td>\n",
              "      <td>11.0</td>\n",
              "      <td>6</td>\n",
              "    </tr>\n",
              "  </tbody>\n",
              "</table>\n",
              "<p>1359 rows × 13 columns</p>\n",
              "</div>\n",
              "      <button class=\"colab-df-convert\" onclick=\"convertToInteractive('df-0715cc2a-9732-4dcb-a5cc-7188904a0a36')\"\n",
              "              title=\"Convert this dataframe to an interactive table.\"\n",
              "              style=\"display:none;\">\n",
              "        \n",
              "  <svg xmlns=\"http://www.w3.org/2000/svg\" height=\"24px\"viewBox=\"0 0 24 24\"\n",
              "       width=\"24px\">\n",
              "    <path d=\"M0 0h24v24H0V0z\" fill=\"none\"/>\n",
              "    <path d=\"M18.56 5.44l.94 2.06.94-2.06 2.06-.94-2.06-.94-.94-2.06-.94 2.06-2.06.94zm-11 1L8.5 8.5l.94-2.06 2.06-.94-2.06-.94L8.5 2.5l-.94 2.06-2.06.94zm10 10l.94 2.06.94-2.06 2.06-.94-2.06-.94-.94-2.06-.94 2.06-2.06.94z\"/><path d=\"M17.41 7.96l-1.37-1.37c-.4-.4-.92-.59-1.43-.59-.52 0-1.04.2-1.43.59L10.3 9.45l-7.72 7.72c-.78.78-.78 2.05 0 2.83L4 21.41c.39.39.9.59 1.41.59.51 0 1.02-.2 1.41-.59l7.78-7.78 2.81-2.81c.8-.78.8-2.07 0-2.86zM5.41 20L4 18.59l7.72-7.72 1.47 1.35L5.41 20z\"/>\n",
              "  </svg>\n",
              "      </button>\n",
              "      \n",
              "  <style>\n",
              "    .colab-df-container {\n",
              "      display:flex;\n",
              "      flex-wrap:wrap;\n",
              "      gap: 12px;\n",
              "    }\n",
              "\n",
              "    .colab-df-convert {\n",
              "      background-color: #E8F0FE;\n",
              "      border: none;\n",
              "      border-radius: 50%;\n",
              "      cursor: pointer;\n",
              "      display: none;\n",
              "      fill: #1967D2;\n",
              "      height: 32px;\n",
              "      padding: 0 0 0 0;\n",
              "      width: 32px;\n",
              "    }\n",
              "\n",
              "    .colab-df-convert:hover {\n",
              "      background-color: #E2EBFA;\n",
              "      box-shadow: 0px 1px 2px rgba(60, 64, 67, 0.3), 0px 1px 3px 1px rgba(60, 64, 67, 0.15);\n",
              "      fill: #174EA6;\n",
              "    }\n",
              "\n",
              "    [theme=dark] .colab-df-convert {\n",
              "      background-color: #3B4455;\n",
              "      fill: #D2E3FC;\n",
              "    }\n",
              "\n",
              "    [theme=dark] .colab-df-convert:hover {\n",
              "      background-color: #434B5C;\n",
              "      box-shadow: 0px 1px 3px 1px rgba(0, 0, 0, 0.15);\n",
              "      filter: drop-shadow(0px 1px 2px rgba(0, 0, 0, 0.3));\n",
              "      fill: #FFFFFF;\n",
              "    }\n",
              "  </style>\n",
              "\n",
              "      <script>\n",
              "        const buttonEl =\n",
              "          document.querySelector('#df-0715cc2a-9732-4dcb-a5cc-7188904a0a36 button.colab-df-convert');\n",
              "        buttonEl.style.display =\n",
              "          google.colab.kernel.accessAllowed ? 'block' : 'none';\n",
              "\n",
              "        async function convertToInteractive(key) {\n",
              "          const element = document.querySelector('#df-0715cc2a-9732-4dcb-a5cc-7188904a0a36');\n",
              "          const dataTable =\n",
              "            await google.colab.kernel.invokeFunction('convertToInteractive',\n",
              "                                                     [key], {});\n",
              "          if (!dataTable) return;\n",
              "\n",
              "          const docLinkHtml = 'Like what you see? Visit the ' +\n",
              "            '<a target=\"_blank\" href=https://colab.research.google.com/notebooks/data_table.ipynb>data table notebook</a>'\n",
              "            + ' to learn more about interactive tables.';\n",
              "          element.innerHTML = '';\n",
              "          dataTable['output_type'] = 'display_data';\n",
              "          await google.colab.output.renderOutput(dataTable, element);\n",
              "          const docLink = document.createElement('div');\n",
              "          docLink.innerHTML = docLinkHtml;\n",
              "          element.appendChild(docLink);\n",
              "        }\n",
              "      </script>\n",
              "    </div>\n",
              "  </div>\n",
              "  "
            ]
          },
          "metadata": {},
          "execution_count": 45
        }
      ],
      "source": [
        "import numpy as np\n",
        "def winsorize(df):\n",
        "    for column in df.columns:\n",
        "        # Calculate the first and third quartiles\n",
        "        q1 = df[column].quantile(0.25)\n",
        "        q3 = df[column].quantile(0.75)\n",
        "        # Calculate the interquartile range\n",
        "        iqr_range = q3 - q1\n",
        "        # Define the upper and lower bounds for winsorization\n",
        "        upper_cap = q3 + 2.5*iqr_range\n",
        "        lower_cap = q1 - 2.5*iqr_range\n",
        "        \n",
        "        # Winsorize the values in the specified column\n",
        "        df[column] = np.clip(df[column], lower_cap, upper_cap)\n",
        "        \n",
        "    return df\n",
        "\n",
        "df_combined_dedup = winsorize(dataset)\n",
        "df_combined_dedup\n"
      ]
    },
    {
      "cell_type": "markdown",
      "metadata": {
        "id": "32rXmJU3I8iY"
      },
      "source": [
        "# Scale lại tập dữ liệu với zscore\n"
      ]
    },
    {
      "cell_type": "code",
      "execution_count": null,
      "metadata": {
        "colab": {
          "base_uri": "https://localhost:8080/",
          "height": 522
        },
        "id": "B7FzqAazI8iY",
        "outputId": "cd3cd7b9-41f7-4752-b956-f20e46e971e1"
      },
      "outputs": [
        {
          "output_type": "execute_result",
          "data": {
            "text/plain": [
              "         index  fixed acidity  volatile acidity  citric acid  residual sugar  \\\n",
              "0    -1.703948      -0.526804          0.941714    -1.393258       -0.648044   \n",
              "1    -1.701799      -0.294389          1.933864    -1.393258        0.300904   \n",
              "2    -1.699649      -0.294389          1.272431    -1.188617       -0.105788   \n",
              "3    -1.697500       1.681143         -1.373300     1.471711       -0.648044   \n",
              "4    -1.693201      -0.526804          0.721237    -1.393258       -0.783608   \n",
              "...        ...            ...               ...          ...             ...   \n",
              "1354  1.720315      -0.875427          0.500759    -0.983977       -0.648044   \n",
              "1355  1.722464      -1.224051          0.390520    -0.983977       -0.512480   \n",
              "1356  1.724614      -1.398362          0.114923    -0.881656       -0.241352   \n",
              "1357  1.728913      -1.398362          0.638558    -0.779336       -0.512480   \n",
              "1358  1.731062      -1.340258         -1.207942     1.011270        1.656545   \n",
              "\n",
              "      chlorides  free sulfur dioxide  total sulfur dioxide   density  \\\n",
              "0     -0.300207            -0.471617             -0.389800  0.584398   \n",
              "1      0.729931             0.885664              0.626883  0.048886   \n",
              "2      0.448984            -0.083822              0.226372  0.155988   \n",
              "3     -0.347032             0.110075              0.411223  0.691501   \n",
              "4     -0.347032            -0.277720             -0.204949  0.584398   \n",
              "...         ...                  ...                   ...       ...   \n",
              "1354  -0.674803             1.176511             -0.266566 -0.106413   \n",
              "1355   0.355335             1.564305             -0.081714 -0.968588   \n",
              "1356  -0.955749             2.242946              0.133946 -0.850776   \n",
              "1357  -0.347032             1.564305             -0.081714 -0.663346   \n",
              "1358  -0.721627             0.207024             -0.143331 -0.652636   \n",
              "\n",
              "            pH  sulphates   alcohol  \n",
              "0     1.301380  -0.625879 -0.954374  \n",
              "1    -0.711242   0.166762 -0.584575  \n",
              "2    -0.321702  -0.031398 -0.584575  \n",
              "3    -0.970935  -0.493773 -0.584575  \n",
              "4     1.301380  -0.625879 -0.954374  \n",
              "...        ...        ...       ...  \n",
              "1354  0.717070   1.091510 -0.861924  \n",
              "1355  0.911840  -0.493773  0.062574  \n",
              "1356  1.366303   0.695189  0.709723  \n",
              "1357  1.690920   0.364922 -0.214775  \n",
              "1358  0.522301   0.034655  0.524824  \n",
              "\n",
              "[1359 rows x 12 columns]"
            ],
            "text/html": [
              "\n",
              "  <div id=\"df-9527a5dc-b8ad-453d-b155-69d33cd42a9d\">\n",
              "    <div class=\"colab-df-container\">\n",
              "      <div>\n",
              "<style scoped>\n",
              "    .dataframe tbody tr th:only-of-type {\n",
              "        vertical-align: middle;\n",
              "    }\n",
              "\n",
              "    .dataframe tbody tr th {\n",
              "        vertical-align: top;\n",
              "    }\n",
              "\n",
              "    .dataframe thead th {\n",
              "        text-align: right;\n",
              "    }\n",
              "</style>\n",
              "<table border=\"1\" class=\"dataframe\">\n",
              "  <thead>\n",
              "    <tr style=\"text-align: right;\">\n",
              "      <th></th>\n",
              "      <th>index</th>\n",
              "      <th>fixed acidity</th>\n",
              "      <th>volatile acidity</th>\n",
              "      <th>citric acid</th>\n",
              "      <th>residual sugar</th>\n",
              "      <th>chlorides</th>\n",
              "      <th>free sulfur dioxide</th>\n",
              "      <th>total sulfur dioxide</th>\n",
              "      <th>density</th>\n",
              "      <th>pH</th>\n",
              "      <th>sulphates</th>\n",
              "      <th>alcohol</th>\n",
              "    </tr>\n",
              "  </thead>\n",
              "  <tbody>\n",
              "    <tr>\n",
              "      <th>0</th>\n",
              "      <td>-1.703948</td>\n",
              "      <td>-0.526804</td>\n",
              "      <td>0.941714</td>\n",
              "      <td>-1.393258</td>\n",
              "      <td>-0.648044</td>\n",
              "      <td>-0.300207</td>\n",
              "      <td>-0.471617</td>\n",
              "      <td>-0.389800</td>\n",
              "      <td>0.584398</td>\n",
              "      <td>1.301380</td>\n",
              "      <td>-0.625879</td>\n",
              "      <td>-0.954374</td>\n",
              "    </tr>\n",
              "    <tr>\n",
              "      <th>1</th>\n",
              "      <td>-1.701799</td>\n",
              "      <td>-0.294389</td>\n",
              "      <td>1.933864</td>\n",
              "      <td>-1.393258</td>\n",
              "      <td>0.300904</td>\n",
              "      <td>0.729931</td>\n",
              "      <td>0.885664</td>\n",
              "      <td>0.626883</td>\n",
              "      <td>0.048886</td>\n",
              "      <td>-0.711242</td>\n",
              "      <td>0.166762</td>\n",
              "      <td>-0.584575</td>\n",
              "    </tr>\n",
              "    <tr>\n",
              "      <th>2</th>\n",
              "      <td>-1.699649</td>\n",
              "      <td>-0.294389</td>\n",
              "      <td>1.272431</td>\n",
              "      <td>-1.188617</td>\n",
              "      <td>-0.105788</td>\n",
              "      <td>0.448984</td>\n",
              "      <td>-0.083822</td>\n",
              "      <td>0.226372</td>\n",
              "      <td>0.155988</td>\n",
              "      <td>-0.321702</td>\n",
              "      <td>-0.031398</td>\n",
              "      <td>-0.584575</td>\n",
              "    </tr>\n",
              "    <tr>\n",
              "      <th>3</th>\n",
              "      <td>-1.697500</td>\n",
              "      <td>1.681143</td>\n",
              "      <td>-1.373300</td>\n",
              "      <td>1.471711</td>\n",
              "      <td>-0.648044</td>\n",
              "      <td>-0.347032</td>\n",
              "      <td>0.110075</td>\n",
              "      <td>0.411223</td>\n",
              "      <td>0.691501</td>\n",
              "      <td>-0.970935</td>\n",
              "      <td>-0.493773</td>\n",
              "      <td>-0.584575</td>\n",
              "    </tr>\n",
              "    <tr>\n",
              "      <th>4</th>\n",
              "      <td>-1.693201</td>\n",
              "      <td>-0.526804</td>\n",
              "      <td>0.721237</td>\n",
              "      <td>-1.393258</td>\n",
              "      <td>-0.783608</td>\n",
              "      <td>-0.347032</td>\n",
              "      <td>-0.277720</td>\n",
              "      <td>-0.204949</td>\n",
              "      <td>0.584398</td>\n",
              "      <td>1.301380</td>\n",
              "      <td>-0.625879</td>\n",
              "      <td>-0.954374</td>\n",
              "    </tr>\n",
              "    <tr>\n",
              "      <th>...</th>\n",
              "      <td>...</td>\n",
              "      <td>...</td>\n",
              "      <td>...</td>\n",
              "      <td>...</td>\n",
              "      <td>...</td>\n",
              "      <td>...</td>\n",
              "      <td>...</td>\n",
              "      <td>...</td>\n",
              "      <td>...</td>\n",
              "      <td>...</td>\n",
              "      <td>...</td>\n",
              "      <td>...</td>\n",
              "    </tr>\n",
              "    <tr>\n",
              "      <th>1354</th>\n",
              "      <td>1.720315</td>\n",
              "      <td>-0.875427</td>\n",
              "      <td>0.500759</td>\n",
              "      <td>-0.983977</td>\n",
              "      <td>-0.648044</td>\n",
              "      <td>-0.674803</td>\n",
              "      <td>1.176511</td>\n",
              "      <td>-0.266566</td>\n",
              "      <td>-0.106413</td>\n",
              "      <td>0.717070</td>\n",
              "      <td>1.091510</td>\n",
              "      <td>-0.861924</td>\n",
              "    </tr>\n",
              "    <tr>\n",
              "      <th>1355</th>\n",
              "      <td>1.722464</td>\n",
              "      <td>-1.224051</td>\n",
              "      <td>0.390520</td>\n",
              "      <td>-0.983977</td>\n",
              "      <td>-0.512480</td>\n",
              "      <td>0.355335</td>\n",
              "      <td>1.564305</td>\n",
              "      <td>-0.081714</td>\n",
              "      <td>-0.968588</td>\n",
              "      <td>0.911840</td>\n",
              "      <td>-0.493773</td>\n",
              "      <td>0.062574</td>\n",
              "    </tr>\n",
              "    <tr>\n",
              "      <th>1356</th>\n",
              "      <td>1.724614</td>\n",
              "      <td>-1.398362</td>\n",
              "      <td>0.114923</td>\n",
              "      <td>-0.881656</td>\n",
              "      <td>-0.241352</td>\n",
              "      <td>-0.955749</td>\n",
              "      <td>2.242946</td>\n",
              "      <td>0.133946</td>\n",
              "      <td>-0.850776</td>\n",
              "      <td>1.366303</td>\n",
              "      <td>0.695189</td>\n",
              "      <td>0.709723</td>\n",
              "    </tr>\n",
              "    <tr>\n",
              "      <th>1357</th>\n",
              "      <td>1.728913</td>\n",
              "      <td>-1.398362</td>\n",
              "      <td>0.638558</td>\n",
              "      <td>-0.779336</td>\n",
              "      <td>-0.512480</td>\n",
              "      <td>-0.347032</td>\n",
              "      <td>1.564305</td>\n",
              "      <td>-0.081714</td>\n",
              "      <td>-0.663346</td>\n",
              "      <td>1.690920</td>\n",
              "      <td>0.364922</td>\n",
              "      <td>-0.214775</td>\n",
              "    </tr>\n",
              "    <tr>\n",
              "      <th>1358</th>\n",
              "      <td>1.731062</td>\n",
              "      <td>-1.340258</td>\n",
              "      <td>-1.207942</td>\n",
              "      <td>1.011270</td>\n",
              "      <td>1.656545</td>\n",
              "      <td>-0.721627</td>\n",
              "      <td>0.207024</td>\n",
              "      <td>-0.143331</td>\n",
              "      <td>-0.652636</td>\n",
              "      <td>0.522301</td>\n",
              "      <td>0.034655</td>\n",
              "      <td>0.524824</td>\n",
              "    </tr>\n",
              "  </tbody>\n",
              "</table>\n",
              "<p>1359 rows × 12 columns</p>\n",
              "</div>\n",
              "      <button class=\"colab-df-convert\" onclick=\"convertToInteractive('df-9527a5dc-b8ad-453d-b155-69d33cd42a9d')\"\n",
              "              title=\"Convert this dataframe to an interactive table.\"\n",
              "              style=\"display:none;\">\n",
              "        \n",
              "  <svg xmlns=\"http://www.w3.org/2000/svg\" height=\"24px\"viewBox=\"0 0 24 24\"\n",
              "       width=\"24px\">\n",
              "    <path d=\"M0 0h24v24H0V0z\" fill=\"none\"/>\n",
              "    <path d=\"M18.56 5.44l.94 2.06.94-2.06 2.06-.94-2.06-.94-.94-2.06-.94 2.06-2.06.94zm-11 1L8.5 8.5l.94-2.06 2.06-.94-2.06-.94L8.5 2.5l-.94 2.06-2.06.94zm10 10l.94 2.06.94-2.06 2.06-.94-2.06-.94-.94-2.06-.94 2.06-2.06.94z\"/><path d=\"M17.41 7.96l-1.37-1.37c-.4-.4-.92-.59-1.43-.59-.52 0-1.04.2-1.43.59L10.3 9.45l-7.72 7.72c-.78.78-.78 2.05 0 2.83L4 21.41c.39.39.9.59 1.41.59.51 0 1.02-.2 1.41-.59l7.78-7.78 2.81-2.81c.8-.78.8-2.07 0-2.86zM5.41 20L4 18.59l7.72-7.72 1.47 1.35L5.41 20z\"/>\n",
              "  </svg>\n",
              "      </button>\n",
              "      \n",
              "  <style>\n",
              "    .colab-df-container {\n",
              "      display:flex;\n",
              "      flex-wrap:wrap;\n",
              "      gap: 12px;\n",
              "    }\n",
              "\n",
              "    .colab-df-convert {\n",
              "      background-color: #E8F0FE;\n",
              "      border: none;\n",
              "      border-radius: 50%;\n",
              "      cursor: pointer;\n",
              "      display: none;\n",
              "      fill: #1967D2;\n",
              "      height: 32px;\n",
              "      padding: 0 0 0 0;\n",
              "      width: 32px;\n",
              "    }\n",
              "\n",
              "    .colab-df-convert:hover {\n",
              "      background-color: #E2EBFA;\n",
              "      box-shadow: 0px 1px 2px rgba(60, 64, 67, 0.3), 0px 1px 3px 1px rgba(60, 64, 67, 0.15);\n",
              "      fill: #174EA6;\n",
              "    }\n",
              "\n",
              "    [theme=dark] .colab-df-convert {\n",
              "      background-color: #3B4455;\n",
              "      fill: #D2E3FC;\n",
              "    }\n",
              "\n",
              "    [theme=dark] .colab-df-convert:hover {\n",
              "      background-color: #434B5C;\n",
              "      box-shadow: 0px 1px 3px 1px rgba(0, 0, 0, 0.15);\n",
              "      filter: drop-shadow(0px 1px 2px rgba(0, 0, 0, 0.3));\n",
              "      fill: #FFFFFF;\n",
              "    }\n",
              "  </style>\n",
              "\n",
              "      <script>\n",
              "        const buttonEl =\n",
              "          document.querySelector('#df-9527a5dc-b8ad-453d-b155-69d33cd42a9d button.colab-df-convert');\n",
              "        buttonEl.style.display =\n",
              "          google.colab.kernel.accessAllowed ? 'block' : 'none';\n",
              "\n",
              "        async function convertToInteractive(key) {\n",
              "          const element = document.querySelector('#df-9527a5dc-b8ad-453d-b155-69d33cd42a9d');\n",
              "          const dataTable =\n",
              "            await google.colab.kernel.invokeFunction('convertToInteractive',\n",
              "                                                     [key], {});\n",
              "          if (!dataTable) return;\n",
              "\n",
              "          const docLinkHtml = 'Like what you see? Visit the ' +\n",
              "            '<a target=\"_blank\" href=https://colab.research.google.com/notebooks/data_table.ipynb>data table notebook</a>'\n",
              "            + ' to learn more about interactive tables.';\n",
              "          element.innerHTML = '';\n",
              "          dataTable['output_type'] = 'display_data';\n",
              "          await google.colab.output.renderOutput(dataTable, element);\n",
              "          const docLink = document.createElement('div');\n",
              "          docLink.innerHTML = docLinkHtml;\n",
              "          element.appendChild(docLink);\n",
              "        }\n",
              "      </script>\n",
              "    </div>\n",
              "  </div>\n",
              "  "
            ]
          },
          "metadata": {},
          "execution_count": 46
        }
      ],
      "source": [
        "import scipy.stats as stats\n",
        "scale_data = df_combined_dedup.drop(columns=\"quality\", axis=1)\n",
        "scale_data = scale_data.apply(stats.zscore)\n",
        "scale_data"
      ]
    },
    {
      "cell_type": "markdown",
      "metadata": {
        "id": "GW9DHWOKI8iZ"
      },
      "source": [
        "# Loại bỏ các biến có tỉ lệ với nhau để giảm chiều dữ liệu"
      ]
    },
    {
      "cell_type": "code",
      "execution_count": null,
      "metadata": {
        "colab": {
          "base_uri": "https://localhost:8080/",
          "height": 479
        },
        "id": "aVm7ufhfI8iZ",
        "outputId": "675f825e-72b1-4abe-a05d-4c671c2237a3"
      },
      "outputs": [
        {
          "output_type": "execute_result",
          "data": {
            "text/plain": [
              "<Axes: >"
            ]
          },
          "metadata": {},
          "execution_count": 47
        },
        {
          "output_type": "display_data",
          "data": {
            "text/plain": [
              "<Figure size 864x432 with 2 Axes>"
            ],
            "image/png": "[encoded data removed]"
          },
          "metadata": {
            "needs_background": "light"
          }
        }
      ],
      "source": [
        "plt.figure(figsize = (12,6))\n",
        "sns.heatmap(dataset.corr(),cmap = \"BrBG\", fmt= \".2f\", linewidths= 2, annot= True)"
      ]
    },
    {
      "cell_type": "markdown",
      "metadata": {
        "id": "oqslPQ1AI8ia"
      },
      "source": [
        "- free sulfur dioxide tỉ lệ với total sulfur dioxide --> loại bỏ total sulfur dioxide\n",
        "- fixed acidtity tỉ lệ với citric acid --> loại bỏ fixed acidity\n",
        "- residual sugar tỉ lệ với density --> loại bỏ density  \n",
        "Có biến bị loại bỏ có tương quan thấp với quailty và tỉ lệ với các cột còn lại."
      ]
    },
    {
      "cell_type": "code",
      "execution_count": null,
      "metadata": {
        "colab": {
          "base_uri": "https://localhost:8080/",
          "height": 522
        },
        "id": "Mqz7co1EI8ia",
        "outputId": "e2153c73-4e17-442b-b085-be8852825907"
      },
      "outputs": [
        {
          "output_type": "execute_result",
          "data": {
            "text/plain": [
              "         index  volatile acidity  citric acid  residual sugar  chlorides  \\\n",
              "0    -1.703948          0.941714    -1.393258       -0.648044  -0.300207   \n",
              "1    -1.701799          1.933864    -1.393258        0.300904   0.729931   \n",
              "2    -1.699649          1.272431    -1.188617       -0.105788   0.448984   \n",
              "3    -1.697500         -1.373300     1.471711       -0.648044  -0.347032   \n",
              "4    -1.693201          0.721237    -1.393258       -0.783608  -0.347032   \n",
              "...        ...               ...          ...             ...        ...   \n",
              "1354  1.720315          0.500759    -0.983977       -0.648044  -0.674803   \n",
              "1355  1.722464          0.390520    -0.983977       -0.512480   0.355335   \n",
              "1356  1.724614          0.114923    -0.881656       -0.241352  -0.955749   \n",
              "1357  1.728913          0.638558    -0.779336       -0.512480  -0.347032   \n",
              "1358  1.731062         -1.207942     1.011270        1.656545  -0.721627   \n",
              "\n",
              "      free sulfur dioxide        pH  sulphates   alcohol  quality  \n",
              "0               -0.471617  1.301380  -0.625879 -0.954374        5  \n",
              "1                0.885664 -0.711242   0.166762 -0.584575        5  \n",
              "2               -0.083822 -0.321702  -0.031398 -0.584575        5  \n",
              "3                0.110075 -0.970935  -0.493773 -0.584575        6  \n",
              "4               -0.277720  1.301380  -0.625879 -0.954374        5  \n",
              "...                   ...       ...        ...       ...      ...  \n",
              "1354             1.176511  0.717070   1.091510 -0.861924        6  \n",
              "1355             1.564305  0.911840  -0.493773  0.062574        5  \n",
              "1356             2.242946  1.366303   0.695189  0.709723        6  \n",
              "1357             1.564305  1.690920   0.364922 -0.214775        5  \n",
              "1358             0.207024  0.522301   0.034655  0.524824        6  \n",
              "\n",
              "[1359 rows x 10 columns]"
            ],
            "text/html": [
              "\n",
              "  <div id=\"df-ddea386a-b47f-4526-8248-384e8a78cc9d\">\n",
              "    <div class=\"colab-df-container\">\n",
              "      <div>\n",
              "<style scoped>\n",
              "    .dataframe tbody tr th:only-of-type {\n",
              "        vertical-align: middle;\n",
              "    }\n",
              "\n",
              "    .dataframe tbody tr th {\n",
              "        vertical-align: top;\n",
              "    }\n",
              "\n",
              "    .dataframe thead th {\n",
              "        text-align: right;\n",
              "    }\n",
              "</style>\n",
              "<table border=\"1\" class=\"dataframe\">\n",
              "  <thead>\n",
              "    <tr style=\"text-align: right;\">\n",
              "      <th></th>\n",
              "      <th>index</th>\n",
              "      <th>volatile acidity</th>\n",
              "      <th>citric acid</th>\n",
              "      <th>residual sugar</th>\n",
              "      <th>chlorides</th>\n",
              "      <th>free sulfur dioxide</th>\n",
              "      <th>pH</th>\n",
              "      <th>sulphates</th>\n",
              "      <th>alcohol</th>\n",
              "      <th>quality</th>\n",
              "    </tr>\n",
              "  </thead>\n",
              "  <tbody>\n",
              "    <tr>\n",
              "      <th>0</th>\n",
              "      <td>-1.703948</td>\n",
              "      <td>0.941714</td>\n",
              "      <td>-1.393258</td>\n",
              "      <td>-0.648044</td>\n",
              "      <td>-0.300207</td>\n",
              "      <td>-0.471617</td>\n",
              "      <td>1.301380</td>\n",
              "      <td>-0.625879</td>\n",
              "      <td>-0.954374</td>\n",
              "      <td>5</td>\n",
              "    </tr>\n",
              "    <tr>\n",
              "      <th>1</th>\n",
              "      <td>-1.701799</td>\n",
              "      <td>1.933864</td>\n",
              "      <td>-1.393258</td>\n",
              "      <td>0.300904</td>\n",
              "      <td>0.729931</td>\n",
              "      <td>0.885664</td>\n",
              "      <td>-0.711242</td>\n",
              "      <td>0.166762</td>\n",
              "      <td>-0.584575</td>\n",
              "      <td>5</td>\n",
              "    </tr>\n",
              "    <tr>\n",
              "      <th>2</th>\n",
              "      <td>-1.699649</td>\n",
              "      <td>1.272431</td>\n",
              "      <td>-1.188617</td>\n",
              "      <td>-0.105788</td>\n",
              "      <td>0.448984</td>\n",
              "      <td>-0.083822</td>\n",
              "      <td>-0.321702</td>\n",
              "      <td>-0.031398</td>\n",
              "      <td>-0.584575</td>\n",
              "      <td>5</td>\n",
              "    </tr>\n",
              "    <tr>\n",
              "      <th>3</th>\n",
              "      <td>-1.697500</td>\n",
              "      <td>-1.373300</td>\n",
              "      <td>1.471711</td>\n",
              "      <td>-0.648044</td>\n",
              "      <td>-0.347032</td>\n",
              "      <td>0.110075</td>\n",
              "      <td>-0.970935</td>\n",
              "      <td>-0.493773</td>\n",
              "      <td>-0.584575</td>\n",
              "      <td>6</td>\n",
              "    </tr>\n",
              "    <tr>\n",
              "      <th>4</th>\n",
              "      <td>-1.693201</td>\n",
              "      <td>0.721237</td>\n",
              "      <td>-1.393258</td>\n",
              "      <td>-0.783608</td>\n",
              "      <td>-0.347032</td>\n",
              "      <td>-0.277720</td>\n",
              "      <td>1.301380</td>\n",
              "      <td>-0.625879</td>\n",
              "      <td>-0.954374</td>\n",
              "      <td>5</td>\n",
              "    </tr>\n",
              "    <tr>\n",
              "      <th>...</th>\n",
              "      <td>...</td>\n",
              "      <td>...</td>\n",
              "      <td>...</td>\n",
              "      <td>...</td>\n",
              "      <td>...</td>\n",
              "      <td>...</td>\n",
              "      <td>...</td>\n",
              "      <td>...</td>\n",
              "      <td>...</td>\n",
              "      <td>...</td>\n",
              "    </tr>\n",
              "    <tr>\n",
              "      <th>1354</th>\n",
              "      <td>1.720315</td>\n",
              "      <td>0.500759</td>\n",
              "      <td>-0.983977</td>\n",
              "      <td>-0.648044</td>\n",
              "      <td>-0.674803</td>\n",
              "      <td>1.176511</td>\n",
              "      <td>0.717070</td>\n",
              "      <td>1.091510</td>\n",
              "      <td>-0.861924</td>\n",
              "      <td>6</td>\n",
              "    </tr>\n",
              "    <tr>\n",
              "      <th>1355</th>\n",
              "      <td>1.722464</td>\n",
              "      <td>0.390520</td>\n",
              "      <td>-0.983977</td>\n",
              "      <td>-0.512480</td>\n",
              "      <td>0.355335</td>\n",
              "      <td>1.564305</td>\n",
              "      <td>0.911840</td>\n",
              "      <td>-0.493773</td>\n",
              "      <td>0.062574</td>\n",
              "      <td>5</td>\n",
              "    </tr>\n",
              "    <tr>\n",
              "      <th>1356</th>\n",
              "      <td>1.724614</td>\n",
              "      <td>0.114923</td>\n",
              "      <td>-0.881656</td>\n",
              "      <td>-0.241352</td>\n",
              "      <td>-0.955749</td>\n",
              "      <td>2.242946</td>\n",
              "      <td>1.366303</td>\n",
              "      <td>0.695189</td>\n",
              "      <td>0.709723</td>\n",
              "      <td>6</td>\n",
              "    </tr>\n",
              "    <tr>\n",
              "      <th>1357</th>\n",
              "      <td>1.728913</td>\n",
              "      <td>0.638558</td>\n",
              "      <td>-0.779336</td>\n",
              "      <td>-0.512480</td>\n",
              "      <td>-0.347032</td>\n",
              "      <td>1.564305</td>\n",
              "      <td>1.690920</td>\n",
              "      <td>0.364922</td>\n",
              "      <td>-0.214775</td>\n",
              "      <td>5</td>\n",
              "    </tr>\n",
              "    <tr>\n",
              "      <th>1358</th>\n",
              "      <td>1.731062</td>\n",
              "      <td>-1.207942</td>\n",
              "      <td>1.011270</td>\n",
              "      <td>1.656545</td>\n",
              "      <td>-0.721627</td>\n",
              "      <td>0.207024</td>\n",
              "      <td>0.522301</td>\n",
              "      <td>0.034655</td>\n",
              "      <td>0.524824</td>\n",
              "      <td>6</td>\n",
              "    </tr>\n",
              "  </tbody>\n",
              "</table>\n",
              "<p>1359 rows × 10 columns</p>\n",
              "</div>\n",
              "      <button class=\"colab-df-convert\" onclick=\"convertToInteractive('df-ddea386a-b47f-4526-8248-384e8a78cc9d')\"\n",
              "              title=\"Convert this dataframe to an interactive table.\"\n",
              "              style=\"display:none;\">\n",
              "        \n",
              "  <svg xmlns=\"http://www.w3.org/2000/svg\" height=\"24px\"viewBox=\"0 0 24 24\"\n",
              "       width=\"24px\">\n",
              "    <path d=\"M0 0h24v24H0V0z\" fill=\"none\"/>\n",
              "    <path d=\"M18.56 5.44l.94 2.06.94-2.06 2.06-.94-2.06-.94-.94-2.06-.94 2.06-2.06.94zm-11 1L8.5 8.5l.94-2.06 2.06-.94-2.06-.94L8.5 2.5l-.94 2.06-2.06.94zm10 10l.94 2.06.94-2.06 2.06-.94-2.06-.94-.94-2.06-.94 2.06-2.06.94z\"/><path d=\"M17.41 7.96l-1.37-1.37c-.4-.4-.92-.59-1.43-.59-.52 0-1.04.2-1.43.59L10.3 9.45l-7.72 7.72c-.78.78-.78 2.05 0 2.83L4 21.41c.39.39.9.59 1.41.59.51 0 1.02-.2 1.41-.59l7.78-7.78 2.81-2.81c.8-.78.8-2.07 0-2.86zM5.41 20L4 18.59l7.72-7.72 1.47 1.35L5.41 20z\"/>\n",
              "  </svg>\n",
              "      </button>\n",
              "      \n",
              "  <style>\n",
              "    .colab-df-container {\n",
              "      display:flex;\n",
              "      flex-wrap:wrap;\n",
              "      gap: 12px;\n",
              "    }\n",
              "\n",
              "    .colab-df-convert {\n",
              "      background-color: #E8F0FE;\n",
              "      border: none;\n",
              "      border-radius: 50%;\n",
              "      cursor: pointer;\n",
              "      display: none;\n",
              "      fill: #1967D2;\n",
              "      height: 32px;\n",
              "      padding: 0 0 0 0;\n",
              "      width: 32px;\n",
              "    }\n",
              "\n",
              "    .colab-df-convert:hover {\n",
              "      background-color: #E2EBFA;\n",
              "      box-shadow: 0px 1px 2px rgba(60, 64, 67, 0.3), 0px 1px 3px 1px rgba(60, 64, 67, 0.15);\n",
              "      fill: #174EA6;\n",
              "    }\n",
              "\n",
              "    [theme=dark] .colab-df-convert {\n",
              "      background-color: #3B4455;\n",
              "      fill: #D2E3FC;\n",
              "    }\n",
              "\n",
              "    [theme=dark] .colab-df-convert:hover {\n",
              "      background-color: #434B5C;\n",
              "      box-shadow: 0px 1px 3px 1px rgba(0, 0, 0, 0.15);\n",
              "      filter: drop-shadow(0px 1px 2px rgba(0, 0, 0, 0.3));\n",
              "      fill: #FFFFFF;\n",
              "    }\n",
              "  </style>\n",
              "\n",
              "      <script>\n",
              "        const buttonEl =\n",
              "          document.querySelector('#df-ddea386a-b47f-4526-8248-384e8a78cc9d button.colab-df-convert');\n",
              "        buttonEl.style.display =\n",
              "          google.colab.kernel.accessAllowed ? 'block' : 'none';\n",
              "\n",
              "        async function convertToInteractive(key) {\n",
              "          const element = document.querySelector('#df-ddea386a-b47f-4526-8248-384e8a78cc9d');\n",
              "          const dataTable =\n",
              "            await google.colab.kernel.invokeFunction('convertToInteractive',\n",
              "                                                     [key], {});\n",
              "          if (!dataTable) return;\n",
              "\n",
              "          const docLinkHtml = 'Like what you see? Visit the ' +\n",
              "            '<a target=\"_blank\" href=https://colab.research.google.com/notebooks/data_table.ipynb>data table notebook</a>'\n",
              "            + ' to learn more about interactive tables.';\n",
              "          element.innerHTML = '';\n",
              "          dataTable['output_type'] = 'display_data';\n",
              "          await google.colab.output.renderOutput(dataTable, element);\n",
              "          const docLink = document.createElement('div');\n",
              "          docLink.innerHTML = docLinkHtml;\n",
              "          element.appendChild(docLink);\n",
              "        }\n",
              "      </script>\n",
              "    </div>\n",
              "  </div>\n",
              "  "
            ]
          },
          "metadata": {},
          "execution_count": 48
        }
      ],
      "source": [
        "col = [\"total sulfur dioxide\", \"fixed acidity\", \"density\"]\n",
        "scale_data = scale_data.drop(columns = col, axis=1)\n",
        "scale_data.join(df_combined_dedup[\"quality\"])\n"
      ]
    },
    {
      "cell_type": "markdown",
      "source": [
        "# **Mô Hình**"
      ],
      "metadata": {
        "id": "p4EXqWwFQGqT"
      }
    },
    {
      "cell_type": "code",
      "execution_count": null,
      "metadata": {
        "id": "azykRlKQI8ib",
        "colab": {
          "base_uri": "https://localhost:8080/",
          "height": 626
        },
        "outputId": "5327ed61-91c8-488f-f366-3ed138d07a6b"
      },
      "outputs": [
        {
          "output_type": "stream",
          "name": "stderr",
          "text": [
            "<ipython-input-49-511b21fc1166>:6: SettingWithCopyWarning: \n",
            "A value is trying to be set on a copy of a slice from a DataFrame.\n",
            "Try using .loc[row_indexer,col_indexer] = value instead\n",
            "\n",
            "See the caveats in the documentation: https://pandas.pydata.org/pandas-docs/stable/user_guide/indexing.html#returning-a-view-versus-a-copy\n",
            "  data['quality'] = np.where(data['quality'] >= 6, 1, 0)\n"
          ]
        },
        {
          "output_type": "execute_result",
          "data": {
            "text/plain": [
              "      fixed acidity  volatile acidity  citric acid  chlorides  \\\n",
              "0               7.4             0.700         0.00      0.076   \n",
              "1               7.8             0.880         0.00      0.098   \n",
              "2               7.8             0.760         0.04      0.092   \n",
              "3              11.2             0.280         0.56      0.075   \n",
              "4               7.4             0.660         0.00      0.075   \n",
              "...             ...               ...          ...        ...   \n",
              "1354            6.8             0.620         0.08      0.068   \n",
              "1355            6.2             0.600         0.08      0.090   \n",
              "1356            5.9             0.550         0.10      0.062   \n",
              "1357            5.9             0.645         0.12      0.075   \n",
              "1358            6.0             0.310         0.47      0.067   \n",
              "\n",
              "      free sulfur dioxide  total sulfur dioxide  density    pH  sulphates  \\\n",
              "0                    11.0                  34.0  0.99780  3.51       0.56   \n",
              "1                    25.0                  67.0  0.99680  3.20       0.68   \n",
              "2                    15.0                  54.0  0.99700  3.26       0.65   \n",
              "3                    17.0                  60.0  0.99800  3.16       0.58   \n",
              "4                    13.0                  40.0  0.99780  3.51       0.56   \n",
              "...                   ...                   ...      ...   ...        ...   \n",
              "1354                 28.0                  38.0  0.99651  3.42       0.82   \n",
              "1355                 32.0                  44.0  0.99490  3.45       0.58   \n",
              "1356                 39.0                  51.0  0.99512  3.52       0.76   \n",
              "1357                 32.0                  44.0  0.99547  3.57       0.71   \n",
              "1358                 18.0                  42.0  0.99549  3.39       0.66   \n",
              "\n",
              "      alcohol  quality  \n",
              "0         9.4        0  \n",
              "1         9.8        0  \n",
              "2         9.8        0  \n",
              "3         9.8        1  \n",
              "4         9.4        0  \n",
              "...       ...      ...  \n",
              "1354      9.5        1  \n",
              "1355     10.5        0  \n",
              "1356     11.2        1  \n",
              "1357     10.2        0  \n",
              "1358     11.0        1  \n",
              "\n",
              "[1359 rows x 11 columns]"
            ],
            "text/html": [
              "\n",
              "  <div id=\"df-2a9ca890-e7be-4753-9953-7d408b161b38\">\n",
              "    <div class=\"colab-df-container\">\n",
              "      <div>\n",
              "<style scoped>\n",
              "    .dataframe tbody tr th:only-of-type {\n",
              "        vertical-align: middle;\n",
              "    }\n",
              "\n",
              "    .dataframe tbody tr th {\n",
              "        vertical-align: top;\n",
              "    }\n",
              "\n",
              "    .dataframe thead th {\n",
              "        text-align: right;\n",
              "    }\n",
              "</style>\n",
              "<table border=\"1\" class=\"dataframe\">\n",
              "  <thead>\n",
              "    <tr style=\"text-align: right;\">\n",
              "      <th></th>\n",
              "      <th>fixed acidity</th>\n",
              "      <th>volatile acidity</th>\n",
              "      <th>citric acid</th>\n",
              "      <th>chlorides</th>\n",
              "      <th>free sulfur dioxide</th>\n",
              "      <th>total sulfur dioxide</th>\n",
              "      <th>density</th>\n",
              "      <th>pH</th>\n",
              "      <th>sulphates</th>\n",
              "      <th>alcohol</th>\n",
              "      <th>quality</th>\n",
              "    </tr>\n",
              "  </thead>\n",
              "  <tbody>\n",
              "    <tr>\n",
              "      <th>0</th>\n",
              "      <td>7.4</td>\n",
              "      <td>0.700</td>\n",
              "      <td>0.00</td>\n",
              "      <td>0.076</td>\n",
              "      <td>11.0</td>\n",
              "      <td>34.0</td>\n",
              "      <td>0.99780</td>\n",
              "      <td>3.51</td>\n",
              "      <td>0.56</td>\n",
              "      <td>9.4</td>\n",
              "      <td>0</td>\n",
              "    </tr>\n",
              "    <tr>\n",
              "      <th>1</th>\n",
              "      <td>7.8</td>\n",
              "      <td>0.880</td>\n",
              "      <td>0.00</td>\n",
              "      <td>0.098</td>\n",
              "      <td>25.0</td>\n",
              "      <td>67.0</td>\n",
              "      <td>0.99680</td>\n",
              "      <td>3.20</td>\n",
              "      <td>0.68</td>\n",
              "      <td>9.8</td>\n",
              "      <td>0</td>\n",
              "    </tr>\n",
              "    <tr>\n",
              "      <th>2</th>\n",
              "      <td>7.8</td>\n",
              "      <td>0.760</td>\n",
              "      <td>0.04</td>\n",
              "      <td>0.092</td>\n",
              "      <td>15.0</td>\n",
              "      <td>54.0</td>\n",
              "      <td>0.99700</td>\n",
              "      <td>3.26</td>\n",
              "      <td>0.65</td>\n",
              "      <td>9.8</td>\n",
              "      <td>0</td>\n",
              "    </tr>\n",
              "    <tr>\n",
              "      <th>3</th>\n",
              "      <td>11.2</td>\n",
              "      <td>0.280</td>\n",
              "      <td>0.56</td>\n",
              "      <td>0.075</td>\n",
              "      <td>17.0</td>\n",
              "      <td>60.0</td>\n",
              "      <td>0.99800</td>\n",
              "      <td>3.16</td>\n",
              "      <td>0.58</td>\n",
              "      <td>9.8</td>\n",
              "      <td>1</td>\n",
              "    </tr>\n",
              "    <tr>\n",
              "      <th>4</th>\n",
              "      <td>7.4</td>\n",
              "      <td>0.660</td>\n",
              "      <td>0.00</td>\n",
              "      <td>0.075</td>\n",
              "      <td>13.0</td>\n",
              "      <td>40.0</td>\n",
              "      <td>0.99780</td>\n",
              "      <td>3.51</td>\n",
              "      <td>0.56</td>\n",
              "      <td>9.4</td>\n",
              "      <td>0</td>\n",
              "    </tr>\n",
              "    <tr>\n",
              "      <th>...</th>\n",
              "      <td>...</td>\n",
              "      <td>...</td>\n",
              "      <td>...</td>\n",
              "      <td>...</td>\n",
              "      <td>...</td>\n",
              "      <td>...</td>\n",
              "      <td>...</td>\n",
              "      <td>...</td>\n",
              "      <td>...</td>\n",
              "      <td>...</td>\n",
              "      <td>...</td>\n",
              "    </tr>\n",
              "    <tr>\n",
              "      <th>1354</th>\n",
              "      <td>6.8</td>\n",
              "      <td>0.620</td>\n",
              "      <td>0.08</td>\n",
              "      <td>0.068</td>\n",
              "      <td>28.0</td>\n",
              "      <td>38.0</td>\n",
              "      <td>0.99651</td>\n",
              "      <td>3.42</td>\n",
              "      <td>0.82</td>\n",
              "      <td>9.5</td>\n",
              "      <td>1</td>\n",
              "    </tr>\n",
              "    <tr>\n",
              "      <th>1355</th>\n",
              "      <td>6.2</td>\n",
              "      <td>0.600</td>\n",
              "      <td>0.08</td>\n",
              "      <td>0.090</td>\n",
              "      <td>32.0</td>\n",
              "      <td>44.0</td>\n",
              "      <td>0.99490</td>\n",
              "      <td>3.45</td>\n",
              "      <td>0.58</td>\n",
              "      <td>10.5</td>\n",
              "      <td>0</td>\n",
              "    </tr>\n",
              "    <tr>\n",
              "      <th>1356</th>\n",
              "      <td>5.9</td>\n",
              "      <td>0.550</td>\n",
              "      <td>0.10</td>\n",
              "      <td>0.062</td>\n",
              "      <td>39.0</td>\n",
              "      <td>51.0</td>\n",
              "      <td>0.99512</td>\n",
              "      <td>3.52</td>\n",
              "      <td>0.76</td>\n",
              "      <td>11.2</td>\n",
              "      <td>1</td>\n",
              "    </tr>\n",
              "    <tr>\n",
              "      <th>1357</th>\n",
              "      <td>5.9</td>\n",
              "      <td>0.645</td>\n",
              "      <td>0.12</td>\n",
              "      <td>0.075</td>\n",
              "      <td>32.0</td>\n",
              "      <td>44.0</td>\n",
              "      <td>0.99547</td>\n",
              "      <td>3.57</td>\n",
              "      <td>0.71</td>\n",
              "      <td>10.2</td>\n",
              "      <td>0</td>\n",
              "    </tr>\n",
              "    <tr>\n",
              "      <th>1358</th>\n",
              "      <td>6.0</td>\n",
              "      <td>0.310</td>\n",
              "      <td>0.47</td>\n",
              "      <td>0.067</td>\n",
              "      <td>18.0</td>\n",
              "      <td>42.0</td>\n",
              "      <td>0.99549</td>\n",
              "      <td>3.39</td>\n",
              "      <td>0.66</td>\n",
              "      <td>11.0</td>\n",
              "      <td>1</td>\n",
              "    </tr>\n",
              "  </tbody>\n",
              "</table>\n",
              "<p>1359 rows × 11 columns</p>\n",
              "</div>\n",
              "      <button class=\"colab-df-convert\" onclick=\"convertToInteractive('df-2a9ca890-e7be-4753-9953-7d408b161b38')\"\n",
              "              title=\"Convert this dataframe to an interactive table.\"\n",
              "              style=\"display:none;\">\n",
              "        \n",
              "  <svg xmlns=\"http://www.w3.org/2000/svg\" height=\"24px\"viewBox=\"0 0 24 24\"\n",
              "       width=\"24px\">\n",
              "    <path d=\"M0 0h24v24H0V0z\" fill=\"none\"/>\n",
              "    <path d=\"M18.56 5.44l.94 2.06.94-2.06 2.06-.94-2.06-.94-.94-2.06-.94 2.06-2.06.94zm-11 1L8.5 8.5l.94-2.06 2.06-.94-2.06-.94L8.5 2.5l-.94 2.06-2.06.94zm10 10l.94 2.06.94-2.06 2.06-.94-2.06-.94-.94-2.06-.94 2.06-2.06.94z\"/><path d=\"M17.41 7.96l-1.37-1.37c-.4-.4-.92-.59-1.43-.59-.52 0-1.04.2-1.43.59L10.3 9.45l-7.72 7.72c-.78.78-.78 2.05 0 2.83L4 21.41c.39.39.9.59 1.41.59.51 0 1.02-.2 1.41-.59l7.78-7.78 2.81-2.81c.8-.78.8-2.07 0-2.86zM5.41 20L4 18.59l7.72-7.72 1.47 1.35L5.41 20z\"/>\n",
              "  </svg>\n",
              "      </button>\n",
              "      \n",
              "  <style>\n",
              "    .colab-df-container {\n",
              "      display:flex;\n",
              "      flex-wrap:wrap;\n",
              "      gap: 12px;\n",
              "    }\n",
              "\n",
              "    .colab-df-convert {\n",
              "      background-color: #E8F0FE;\n",
              "      border: none;\n",
              "      border-radius: 50%;\n",
              "      cursor: pointer;\n",
              "      display: none;\n",
              "      fill: #1967D2;\n",
              "      height: 32px;\n",
              "      padding: 0 0 0 0;\n",
              "      width: 32px;\n",
              "    }\n",
              "\n",
              "    .colab-df-convert:hover {\n",
              "      background-color: #E2EBFA;\n",
              "      box-shadow: 0px 1px 2px rgba(60, 64, 67, 0.3), 0px 1px 3px 1px rgba(60, 64, 67, 0.15);\n",
              "      fill: #174EA6;\n",
              "    }\n",
              "\n",
              "    [theme=dark] .colab-df-convert {\n",
              "      background-color: #3B4455;\n",
              "      fill: #D2E3FC;\n",
              "    }\n",
              "\n",
              "    [theme=dark] .colab-df-convert:hover {\n",
              "      background-color: #434B5C;\n",
              "      box-shadow: 0px 1px 3px 1px rgba(0, 0, 0, 0.15);\n",
              "      filter: drop-shadow(0px 1px 2px rgba(0, 0, 0, 0.3));\n",
              "      fill: #FFFFFF;\n",
              "    }\n",
              "  </style>\n",
              "\n",
              "      <script>\n",
              "        const buttonEl =\n",
              "          document.querySelector('#df-2a9ca890-e7be-4753-9953-7d408b161b38 button.colab-df-convert');\n",
              "        buttonEl.style.display =\n",
              "          google.colab.kernel.accessAllowed ? 'block' : 'none';\n",
              "\n",
              "        async function convertToInteractive(key) {\n",
              "          const element = document.querySelector('#df-2a9ca890-e7be-4753-9953-7d408b161b38');\n",
              "          const dataTable =\n",
              "            await google.colab.kernel.invokeFunction('convertToInteractive',\n",
              "                                                     [key], {});\n",
              "          if (!dataTable) return;\n",
              "\n",
              "          const docLinkHtml = 'Like what you see? Visit the ' +\n",
              "            '<a target=\"_blank\" href=https://colab.research.google.com/notebooks/data_table.ipynb>data table notebook</a>'\n",
              "            + ' to learn more about interactive tables.';\n",
              "          element.innerHTML = '';\n",
              "          dataTable['output_type'] = 'display_data';\n",
              "          await google.colab.output.renderOutput(dataTable, element);\n",
              "          const docLink = document.createElement('div');\n",
              "          docLink.innerHTML = docLinkHtml;\n",
              "          element.appendChild(docLink);\n",
              "        }\n",
              "      </script>\n",
              "    </div>\n",
              "  </div>\n",
              "  "
            ]
          },
          "metadata": {},
          "execution_count": 49
        }
      ],
      "source": [
        "features = ['fixed acidity', 'volatile acidity', 'citric acid', 'chlorides',\n",
        "                     'free sulfur dioxide', 'total sulfur dioxide', 'density', 'pH',\n",
        "                     'sulphates', 'alcohol','quality']\n",
        "\n",
        "data = dataset[features]\n",
        "data['quality'] = np.where(data['quality'] >= 6, 1, 0)\n",
        "data\n"
      ]
    },
    {
      "cell_type": "code",
      "source": [
        "from sklearn.model_selection import train_test_split\n",
        "from sklearn.preprocessing import StandardScaler\n",
        "\n",
        "\n",
        "\n",
        "X = data.drop('quality', axis = 1)\n",
        "y = data['quality']\n",
        "\n",
        "\n",
        "# Splitting the data into train and test sets to use in models\n",
        "X_tr,X_t,y_train,y_test=train_test_split(X,y,test_size= 0.2, random_state= 42)\n",
        "scaler=StandardScaler()\n",
        "X_train = scaler.fit_transform(X_tr)\n",
        "X_test = scaler.fit_transform(X_t)"
      ],
      "metadata": {
        "id": "Xrtqf7VeP4_z"
      },
      "execution_count": null,
      "outputs": []
    },
    {
      "cell_type": "markdown",
      "source": [
        "- Bài toán đặt ra là dự đoán chất lượng của rượu vang dựa trên các yếu tố cho trước.\n",
        "- Ta sẽ encoding nhãn quality thành 0 và 1 với điều kiện là quality > 6 thì là 1 còn lại là 0.\n",
        "- Khi đó bài toán cần làm là phân biệt hai loại nhãn dựa trên các đặt trưng cho trước.\n",
        "- Thuật toán được đề xuất để giải quyết bài toán trên là: Hồi quy logistic, cây quyết định và phân loại với K nearest neighbors."
      ],
      "metadata": {
        "id": "o49_KNHpXCxp"
      }
    },
    {
      "cell_type": "markdown",
      "source": [
        "#Một số phương pháp đánh giá cho classification model (supervised learning):\n"
      ],
      "metadata": {
        "id": "bL3vWW_s_Rfq"
      }
    },
    {
      "cell_type": "markdown",
      "source": [
        "- Sử dụng các chỉ số như accuracy, precision, recall.\n",
        "- Dùng confusion matrix để đánh giá kết quả sâu hơn.\n"
      ],
      "metadata": {
        "id": "JGMpdtEkAz7l"
      }
    },
    {
      "cell_type": "markdown",
      "source": [
        "# Mô hình hồi quy logistic"
      ],
      "metadata": {
        "id": "KBeOLHEJQye9"
      }
    },
    {
      "cell_type": "code",
      "source": [
        "from sklearn.linear_model import LogisticRegression\n",
        "from sklearn.model_selection import GridSearchCV\n",
        "from sklearn.metrics import accuracy_score,f1_score, precision_score, recall_score, classification_report, confusion_matrix\n",
        "model = LogisticRegression()\n",
        "model.fit(X_train,y_train)\n",
        "y_pred=model.predict(X_test)\n",
        "y_prob=model.predict_proba(X_test)\n",
        "accuracy=np.round(round(accuracy_score(y_test,y_pred),3)*100,2)\n",
        "precision=np.round(round(precision_score(y_test,y_pred,average='weighted'),3)*100,2)\n",
        "recall=np.round(round(recall_score(y_test,y_pred,average='weighted'),3)*100,2)\n",
        "f1_sc = np.round(round(f1_score(y_test,y_pred),3)*100,2)\n",
        "\n",
        "print('Accuracy of the model:', accuracy,\"%\")\n",
        "print('Precision of the model:', precision,\"%\")\n",
        "print('Recall of the model:', recall,\"%\")\n",
        "print('F1 score of the model:', f1_sc,\"%\")\n",
        "\n",
        "conf_matrix = confusion_matrix(y_true=y_test, y_pred=y_pred)\n",
        "fig, ax = plt.subplots(figsize=(5, 5))\n",
        "ax.matshow(conf_matrix, cmap=plt.cm.Oranges, alpha=0.3)\n",
        "for i in range(conf_matrix.shape[0]):\n",
        "    for j in range(conf_matrix.shape[1]):\n",
        "        ax.text(x=j, y=i,s=conf_matrix[i, j], va='center', ha='center', size='xx-large')\n",
        " \n",
        "plt.xlabel('Predictions', fontsize=18)\n",
        "plt.ylabel('Actuals', fontsize=18)\n",
        "plt.title('Confusion Matrix', fontsize=18)\n",
        "plt.show()"
      ],
      "metadata": {
        "colab": {
          "base_uri": "https://localhost:8080/",
          "height": 434
        },
        "id": "g5qQHkXAQLpW",
        "outputId": "4e77aca3-c26b-431c-b7f9-480170357512"
      },
      "execution_count": null,
      "outputs": [
        {
          "output_type": "stream",
          "name": "stdout",
          "text": [
            "Accuracy of the model: 76.8 %\n",
            "Precision of the model: 76.9 %\n",
            "Recall of the model: 76.8 %\n",
            "F1 score of the model: 77.7 %\n"
          ]
        },
        {
          "output_type": "display_data",
          "data": {
            "text/plain": [
              "<Figure size 360x360 with 1 Axes>"
            ],
            "image/png": "[encoded data removed]"
          },
          "metadata": {
            "needs_background": "light"
          }
        }
      ]
    },
    {
      "cell_type": "code",
      "source": [
        "from sklearn.metrics import roc_auc_score, roc_curve\n",
        "\n",
        "model_roc_curve = roc_auc_score(y_test, y_pred)\n",
        "fpr, tpr, thresholds = roc_curve(y_test,y_pred)\n",
        "plt.figure()\n",
        "plt.plot(fpr,tpr, label = 'Logistic Regression (area = %0.2f)' % model_roc_curve)\n",
        "plt.plot([0,1],[0,1],'r--')\n",
        "plt.xlim([0.0,1.0])\n",
        "plt.ylim([0.0,1.05])\n",
        "plt.xlabel('False Positive Rate')\n",
        "plt.ylabel('True Positive Rate')\n",
        "plt.title('Receiver operating characteristic')\n",
        "plt.legend(loc = 'lower right')\n",
        "plt.show()"
      ],
      "metadata": {
        "colab": {
          "base_uri": "https://localhost:8080/",
          "height": 295
        },
        "id": "vza2sfpFap6N",
        "outputId": "991df742-68d1-4b41-d8b8-88b59f28f310"
      },
      "execution_count": null,
      "outputs": [
        {
          "output_type": "display_data",
          "data": {
            "text/plain": [
              "<Figure size 432x288 with 1 Axes>"
            ],
            "image/png": "[encoded data removed]"
          },
          "metadata": {
            "needs_background": "light"
          }
        }
      ]
    },
    {
      "cell_type": "markdown",
      "source": [
        "# Mô hình Knn"
      ],
      "metadata": {
        "id": "pi4bxTXyT41y"
      }
    },
    {
      "cell_type": "code",
      "source": [
        "from sklearn.neighbors import KNeighborsClassifier\n",
        "\n",
        "\n",
        "model = KNeighborsClassifier()\n",
        "model.fit(X_train,y_train)\n",
        "\n",
        "y_pred=model.predict(X_test)\n",
        "y_prob=model.predict_proba(X_test)\n",
        "accuracy=np.round(round(accuracy_score(y_test,y_pred),3)*100,2)\n",
        "precision=np.round(round(precision_score(y_test,y_pred,average='weighted'),3)*100,2)\n",
        "recall=np.round(round(recall_score(y_test,y_pred,average='weighted'),3)*100,2)\n",
        "f1_sc = np.round(round(f1_score(y_test,y_pred),3)*100,2)\n",
        "    \n",
        "print('Accuracy of the model:', accuracy,\"%\")\n",
        "print('Precision of the model:', precision,\"%\")\n",
        "print('Recall of the model:', recall,\"%\")\n",
        "print('F1 score of the model:', f1_sc,\"%\")\n",
        "\n",
        "conf_matrix = confusion_matrix(y_true=y_test, y_pred=y_pred)\n",
        "fig, ax = plt.subplots(figsize=(5, 5))\n",
        "ax.matshow(conf_matrix, cmap=plt.cm.Oranges, alpha=0.3)\n",
        "for i in range(conf_matrix.shape[0]):\n",
        "    for j in range(conf_matrix.shape[1]):\n",
        "        ax.text(x=j, y=i,s=conf_matrix[i, j], va='center', ha='center', size='xx-large')\n",
        " \n",
        "plt.xlabel('Predictions', fontsize=18)\n",
        "plt.ylabel('Actuals', fontsize=18)\n",
        "plt.title('Confusion Matrix', fontsize=18)\n",
        "plt.show()"
      ],
      "metadata": {
        "colab": {
          "base_uri": "https://localhost:8080/",
          "height": 434
        },
        "id": "zgcZXTP7RhZF",
        "outputId": "a7dd0e6e-3459-4a2c-80d3-a4d2fb331ce0"
      },
      "execution_count": null,
      "outputs": [
        {
          "output_type": "stream",
          "name": "stdout",
          "text": [
            "Accuracy of the model: 71.7 %\n",
            "Precision of the model: 71.7 %\n",
            "Recall of the model: 71.7 %\n",
            "F1 score of the model: 72.6 %\n"
          ]
        },
        {
          "output_type": "display_data",
          "data": {
            "text/plain": [
              "<Figure size 360x360 with 1 Axes>"
            ],
            "image/png": "[encoded data removed]"
          },
          "metadata": {
            "needs_background": "light"
          }
        }
      ]
    },
    {
      "cell_type": "code",
      "source": [
        "from sklearn.metrics import roc_auc_score, roc_curve\n",
        "\n",
        "model_roc_curve = roc_auc_score(y_test, y_pred)\n",
        "fpr, tpr, thresholds = roc_curve(y_test,y_pred)\n",
        "plt.figure()\n",
        "plt.plot(fpr,tpr, label = 'Logistic Regression (area = %0.2f)' % model_roc_curve)\n",
        "plt.plot([0,1],[0,1],'r--')\n",
        "plt.xlim([0.0,1.0])\n",
        "plt.ylim([0.0,1.05])\n",
        "plt.xlabel('False Positive Rate')\n",
        "plt.ylabel('True Positive Rate')\n",
        "plt.title('Receiver operating characteristic')\n",
        "plt.legend(loc = 'lower right')\n",
        "plt.show()"
      ],
      "metadata": {
        "colab": {
          "base_uri": "https://localhost:8080/",
          "height": 295
        },
        "id": "eXWO0SfBc4_O",
        "outputId": "92a6f0f4-3ba9-4244-9b33-fb7ae963775a"
      },
      "execution_count": null,
      "outputs": [
        {
          "output_type": "display_data",
          "data": {
            "text/plain": [
              "<Figure size 432x288 with 1 Axes>"
            ],
            "image/png": "[encoded data removed]"
          },
          "metadata": {
            "needs_background": "light"
          }
        }
      ]
    },
    {
      "cell_type": "markdown",
      "source": [
        "# Mô hình cây quyết định Decision Tree"
      ],
      "metadata": {
        "id": "f5juxtZIYnFi"
      }
    },
    {
      "cell_type": "code",
      "source": [
        "from sklearn.tree import DecisionTreeClassifier\n",
        "\n",
        "model= DecisionTreeClassifier(random_state=42)\n",
        "model.fit(X_train,y_train)\n",
        "\n",
        "y_pred=model.predict(X_test)\n",
        "y_prob=model.predict_proba(X_test)\n",
        "accuracy=np.round(round(accuracy_score(y_test,y_pred),3)*100,2)\n",
        "precision=np.round(round(precision_score(y_test,y_pred,average='weighted'),3)*100,2)\n",
        "recall=np.round(round(recall_score(y_test,y_pred,average='weighted'),3)*100,2)\n",
        "f1_sc = np.round(round(f1_score(y_test,y_pred),3)*100,2)\n",
        "  \n",
        "print('Accuracy of the model:', accuracy,\"%\")\n",
        "print('Precision of the model:', precision,\"%\")\n",
        "print('Recall of the model:', recall,\"%\")\n",
        "print('F1 score of the model:', f1_sc,\"%\")\n",
        "\n",
        "conf_matrix = confusion_matrix(y_true=y_test, y_pred=y_pred)\n",
        "fig, ax = plt.subplots(figsize=(5, 5))\n",
        "ax.matshow(conf_matrix, cmap=plt.cm.Oranges, alpha=0.3)\n",
        "for i in range(conf_matrix.shape[0]):\n",
        "    for j in range(conf_matrix.shape[1]):\n",
        "        ax.text(x=j, y=i,s=conf_matrix[i, j], va='center', ha='center', size='xx-large')\n",
        " \n",
        "plt.xlabel('Predictions', fontsize=18)\n",
        "plt.ylabel('Actuals', fontsize=18)\n",
        "plt.title('Confusion Matrix', fontsize=18)\n",
        "plt.show()"
      ],
      "metadata": {
        "colab": {
          "base_uri": "https://localhost:8080/",
          "height": 434
        },
        "id": "REUlCCjVYYOi",
        "outputId": "5fe4506d-9d35-435b-fc76-fc4117ec520c"
      },
      "execution_count": null,
      "outputs": [
        {
          "output_type": "stream",
          "name": "stdout",
          "text": [
            "Accuracy of the model: 76.1 %\n",
            "Precision of the model: 76.2 %\n",
            "Recall of the model: 76.1 %\n",
            "F1 score of the model: 75.5 %\n"
          ]
        },
        {
          "output_type": "display_data",
          "data": {
            "text/plain": [
              "<Figure size 360x360 with 1 Axes>"
            ],
            "image/png": "[encoded data removed]"
          },
          "metadata": {
            "needs_background": "light"
          }
        }
      ]
    },
    {
      "cell_type": "code",
      "source": [
        "from sklearn.metrics import roc_auc_score, roc_curve\n",
        "\n",
        "model_roc_curve = roc_auc_score(y_test, y_pred)\n",
        "fpr, tpr, thresholds = roc_curve(y_test,y_pred)\n",
        "plt.figure()\n",
        "plt.plot(fpr,tpr, label = 'Logistic Regression (area = %0.2f)' % model_roc_curve)\n",
        "plt.plot([0,1],[0,1],'r--')\n",
        "plt.xlim([0.0,1.0])\n",
        "plt.ylim([0.0,1.05])\n",
        "plt.xlabel('False Positive Rate')\n",
        "plt.ylabel('True Positive Rate')\n",
        "plt.title('Receiver operating characteristic')\n",
        "plt.legend(loc = 'lower right')\n",
        "plt.show()"
      ],
      "metadata": {
        "colab": {
          "base_uri": "https://localhost:8080/",
          "height": 295
        },
        "id": "Q88AAA9jdAu5",
        "outputId": "f1c6b0b2-74a9-4c4c-e21d-4a4b23d440f3"
      },
      "execution_count": null,
      "outputs": [
        {
          "output_type": "display_data",
          "data": {
            "text/plain": [
              "<Figure size 432x288 with 1 Axes>"
            ],
            "image/png": "[encoded data removed]"
          },
          "metadata": {
            "needs_background": "light"
          }
        }
      ]
    },
    {
      "cell_type": "markdown",
      "source": [
        "# Overfitting"
      ],
      "metadata": {
        "id": "PJpeFLcIeNd_"
      }
    },
    {
      "cell_type": "markdown",
      "source": [
        "**Định nghĩa**\n",
        "- Là tình trạng mô hình dự đoán cho kết quả rất tốt trên tập dữ liệu huấn luyện nhưng lại cho kết quả không như mong muốn như vậy với tập dữ liệu mới.\n",
        "- Đây có thể được hiểu đơn giản là những đặc trưng của tập dữ liệu huấn luyện không thể khái quát được cho các bộ dữ liệu sau này nên xảy ra tình trạng độ chính xác khi dự đoán thấp dù ta thu được kết quả huấn luyện tốt.   "
      ],
      "metadata": {
        "id": "IzB5Mm1Bev0e"
      }
    },
    {
      "cell_type": "markdown",
      "source": [
        "**Nguyên nhân**\n",
        "- Dữ liệu dùng để huấn luyện quá nhỏ không khái quát được hết các đặc trưng.\n",
        "- Phương sai quá cao.\n",
        "- Mô hình dự đoán có độ phức tạp lớn.\n",
        "- Còn tồn tại nhiễu trong tập dữ liệu huấn luyện."
      ],
      "metadata": {
        "id": "eRzCSNOLf9HQ"
      }
    },
    {
      "cell_type": "markdown",
      "source": [
        "**Cách khắc phục**\n",
        "- Thu thập thêm dữ liệu cho mô hình làm phong phú thêm các đặc trưng của dữ liệu giúp cho model dự đoán tốt hơn.\n",
        "- Làm giảm độ phức tạp của mô hình: sử dụng một mô hình đơn giản hơn sẽ giúp giảm overfitting, đặc biệt là với những mô hình học sâu có quá nhiều lớp.\n",
        "- Sử dụng chuẩn hóa Regularization: Kỹ thuật này được hiểu đơn giản là thêm vào hàm loss một đại lượng giúp tối ưu mô hình bằng cách giảm hàm loss. Có 2 phương pháp chính là L1 và L2:\n",
        "  + L1: còn gọi là hồi quy Lasso. \n",
        "  + L2: hồi quy Ridge. \n",
        "- Early stopping: Khi huấn luyện mô hình, tới một lúc nào đó loss của tập train giảm và loss của tập test bắt đầu tăng trở lại thì đây được xác định là overfitting. Do đó ta có thể dừng huấn luyện sớm để tránh hao tốn tài nguyên và vướng phải overfitting."
      ],
      "metadata": {
        "id": "7hnqtmWGgfD2"
      }
    },
    {
      "cell_type": "markdown",
      "source": [
        "# Cải thiện mô hình mà không cần thay đổi cấu trúc và các thông số:\n",
        "- Thu thập thêm dữ liệu để khái quát thêm các đặc trưng.\n",
        "- Xử lý các đặc trưng (Feature Engineering): \n",
        "+ Chuyển đổi các thuộc tính: Scale lại các cột dữ liệu, thay đổi phân phối bằng cách giảm độ lệch của dữ liệu bằng các phương pháp như căn bậc hai, nghịch đảo,...\n",
        "+ Tạo ra các thuộc tính mới bằng cách tách từ các thuộc tính cũ hoặc kết hợp hai hay nhiều thuộc tính để tạo ra thuộc tính mới.\n",
        "- Lựa chọn các thuộc tính quan trọng: Tìm hiểu sâu về lĩnh vực của bài toán đặt ra để tìm ra các thuộc tính quan trọng ảnh hưởng lớn đến mô hình. Sau đó sử dụng thống kê mô tả và trực quan để giúp cho việc lựa chọn thuộc tính tốt hơn. Ngoài ra, nếu có quá nhiều thuộc tính thì ta có thể suy nghĩ đến việc giảm chiều dữ liệu với PCA.\n"
      ],
      "metadata": {
        "id": "JWx6-6GYz5Zi"
      }
    }
  ],
  "metadata": {
    "kernelspec": {
      "display_name": "Python 3.9.12 ('base')",
      "language": "python",
      "name": "python3"
    },
    "language_info": {
      "codemirror_mode": {
        "name": "ipython",
        "version": 3
      },
      "file_extension": ".py",
      "mimetype": "text/x-python",
      "name": "python",
      "nbconvert_exporter": "python",
      "pygments_lexer": "ipython3",
      "version": "3.9.12"
    },
    "orig_nbformat": 4,
    "vscode": {
      "interpreter": {
        "hash": "a1cdd5ee0df61234d9ee07cef809a61d471c0421e097830348eeb1f72bede8e6"
      }
    },
    "colab": {
      "provenance": []
    }
  },
  "nbformat": 4,
  "nbformat_minor": 0
}